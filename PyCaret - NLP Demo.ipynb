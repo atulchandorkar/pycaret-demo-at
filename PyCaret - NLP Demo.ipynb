{
 "cells": [
  {
   "cell_type": "markdown",
   "metadata": {},
   "source": [
    "# Installation"
   ]
  },
  {
   "cell_type": "code",
   "execution_count": null,
   "metadata": {},
   "outputs": [],
   "source": [
    "# run this cell to install pycaret in Google Colab\n",
    "# !pip install pycaret"
   ]
  },
  {
   "cell_type": "code",
   "execution_count": 1,
   "metadata": {},
   "outputs": [],
   "source": [
    "# If you are using Jupyter notebook, you can pip install pycaret using jupyter notebook or command line\n",
    "# pip install pycaret"
   ]
  },
  {
   "cell_type": "code",
   "execution_count": 2,
   "metadata": {},
   "outputs": [
    {
     "name": "stdout",
     "output_type": "stream",
     "text": [
      "1.0.0\n"
     ]
    }
   ],
   "source": [
    "from pycaret.utils import version\n",
    "version()"
   ]
  },
  {
   "cell_type": "code",
   "execution_count": null,
   "metadata": {},
   "outputs": [],
   "source": [
    "# only run this cell if you are using google colab\n",
    "# from pycaret.utils import enable_colab\n",
    "# enable_colab()"
   ]
  },
  {
   "cell_type": "markdown",
   "metadata": {},
   "source": [
    "# 1. Importing Dataset"
   ]
  },
  {
   "cell_type": "code",
   "execution_count": 3,
   "metadata": {},
   "outputs": [
    {
     "data": {
      "text/html": [
       "<div>\n",
       "<style scoped>\n",
       "    .dataframe tbody tr th:only-of-type {\n",
       "        vertical-align: middle;\n",
       "    }\n",
       "\n",
       "    .dataframe tbody tr th {\n",
       "        vertical-align: top;\n",
       "    }\n",
       "\n",
       "    .dataframe thead th {\n",
       "        text-align: right;\n",
       "    }\n",
       "</style>\n",
       "<table border=\"1\" class=\"dataframe\">\n",
       "  <thead>\n",
       "    <tr style=\"text-align: right;\">\n",
       "      <th></th>\n",
       "      <th>country</th>\n",
       "      <th>en</th>\n",
       "      <th>gender</th>\n",
       "      <th>loan_amount</th>\n",
       "      <th>nonpayment</th>\n",
       "      <th>sector</th>\n",
       "      <th>status</th>\n",
       "    </tr>\n",
       "  </thead>\n",
       "  <tbody>\n",
       "    <tr>\n",
       "      <td>0</td>\n",
       "      <td>Dominican Republic</td>\n",
       "      <td>\"Banco Esperanza\" is a group of 10 women looki...</td>\n",
       "      <td>F</td>\n",
       "      <td>1225</td>\n",
       "      <td>partner</td>\n",
       "      <td>Retail</td>\n",
       "      <td>0</td>\n",
       "    </tr>\n",
       "    <tr>\n",
       "      <td>1</td>\n",
       "      <td>Dominican Republic</td>\n",
       "      <td>\"Caminemos Hacia Adelante\" or \"Walking Forward...</td>\n",
       "      <td>F</td>\n",
       "      <td>1975</td>\n",
       "      <td>lender</td>\n",
       "      <td>Clothing</td>\n",
       "      <td>0</td>\n",
       "    </tr>\n",
       "    <tr>\n",
       "      <td>2</td>\n",
       "      <td>Dominican Republic</td>\n",
       "      <td>\"Creciendo Por La Union\" is a group of 10 peop...</td>\n",
       "      <td>F</td>\n",
       "      <td>2175</td>\n",
       "      <td>partner</td>\n",
       "      <td>Clothing</td>\n",
       "      <td>0</td>\n",
       "    </tr>\n",
       "    <tr>\n",
       "      <td>3</td>\n",
       "      <td>Dominican Republic</td>\n",
       "      <td>\"Cristo Vive\" (\"Christ lives\" is a group of 10...</td>\n",
       "      <td>F</td>\n",
       "      <td>1425</td>\n",
       "      <td>partner</td>\n",
       "      <td>Clothing</td>\n",
       "      <td>0</td>\n",
       "    </tr>\n",
       "    <tr>\n",
       "      <td>4</td>\n",
       "      <td>Dominican Republic</td>\n",
       "      <td>\"Cristo Vive\" is a large group of 35 people, 2...</td>\n",
       "      <td>F</td>\n",
       "      <td>4025</td>\n",
       "      <td>partner</td>\n",
       "      <td>Food</td>\n",
       "      <td>0</td>\n",
       "    </tr>\n",
       "  </tbody>\n",
       "</table>\n",
       "</div>"
      ],
      "text/plain": [
       "              country                                                 en  \\\n",
       "0  Dominican Republic  \"Banco Esperanza\" is a group of 10 women looki...   \n",
       "1  Dominican Republic  \"Caminemos Hacia Adelante\" or \"Walking Forward...   \n",
       "2  Dominican Republic  \"Creciendo Por La Union\" is a group of 10 peop...   \n",
       "3  Dominican Republic  \"Cristo Vive\" (\"Christ lives\" is a group of 10...   \n",
       "4  Dominican Republic  \"Cristo Vive\" is a large group of 35 people, 2...   \n",
       "\n",
       "  gender  loan_amount nonpayment    sector  status  \n",
       "0      F         1225    partner    Retail       0  \n",
       "1      F         1975     lender  Clothing       0  \n",
       "2      F         2175    partner  Clothing       0  \n",
       "3      F         1425    partner  Clothing       0  \n",
       "4      F         4025    partner      Food       0  "
      ]
     },
     "metadata": {},
     "output_type": "display_data"
    }
   ],
   "source": [
    "from pycaret.datasets import get_data\n",
    "data = get_data('kiva')"
   ]
  },
  {
   "cell_type": "code",
   "execution_count": 4,
   "metadata": {},
   "outputs": [
    {
     "data": {
      "text/plain": [
       "'\"Banco Esperanza\" is a group of 10 women looking to receive a small loan. Each of them has taken out a very small loan already, so this would be their second. With this loan the group is going to try and expand their small businesses and start generating more income. <P>\\r\\n\\r\\nEduviges is the group representative and leader of the group. Eduviges has a lot on the line because she has 6 children that she has to take care of. She told me that those children are the reason she wants to be successful. She wants to be able to provide a different life for them and show them that they can be successful as well. <P>\\r\\n\\r\\nEduviges has a very small business selling shoes and Avon products. She plans to expand using this loan and dreams of success. The whole group is ready for this new challenge and are on the road to bettering their lives. On behalf of Eduviges, the group, and Esperanza International--------- Thank you for your support!!!!'"
      ]
     },
     "execution_count": 4,
     "metadata": {},
     "output_type": "execute_result"
    }
   ],
   "source": [
    "data.en[0]"
   ]
  },
  {
   "cell_type": "code",
   "execution_count": 5,
   "metadata": {},
   "outputs": [],
   "source": [
    "data = data.head(1000)"
   ]
  },
  {
   "cell_type": "markdown",
   "metadata": {},
   "source": [
    "# 2. Setting up Environment"
   ]
  },
  {
   "cell_type": "code",
   "execution_count": 6,
   "metadata": {},
   "outputs": [
    {
     "data": {
      "text/html": [
       "<style  type=\"text/css\" >\n",
       "</style><table id=\"T_cfdbbeca_a434_11ea_990a_5076af549583\" ><thead>    <tr>        <th class=\"col_heading level0 col0\" >Description</th>        <th class=\"col_heading level0 col1\" >Value</th>    </tr></thead><tbody>\n",
       "                <tr>\n",
       "                                <td id=\"T_cfdbbeca_a434_11ea_990a_5076af549583row0_col0\" class=\"data row0 col0\" >session_id</td>\n",
       "                        <td id=\"T_cfdbbeca_a434_11ea_990a_5076af549583row0_col1\" class=\"data row0 col1\" >786</td>\n",
       "            </tr>\n",
       "            <tr>\n",
       "                                <td id=\"T_cfdbbeca_a434_11ea_990a_5076af549583row1_col0\" class=\"data row1 col0\" ># Documents</td>\n",
       "                        <td id=\"T_cfdbbeca_a434_11ea_990a_5076af549583row1_col1\" class=\"data row1 col1\" >1000</td>\n",
       "            </tr>\n",
       "            <tr>\n",
       "                                <td id=\"T_cfdbbeca_a434_11ea_990a_5076af549583row2_col0\" class=\"data row2 col0\" >Vocab Size</td>\n",
       "                        <td id=\"T_cfdbbeca_a434_11ea_990a_5076af549583row2_col1\" class=\"data row2 col1\" >3870</td>\n",
       "            </tr>\n",
       "            <tr>\n",
       "                                <td id=\"T_cfdbbeca_a434_11ea_990a_5076af549583row3_col0\" class=\"data row3 col0\" >Custom Stopwords</td>\n",
       "                        <td id=\"T_cfdbbeca_a434_11ea_990a_5076af549583row3_col1\" class=\"data row3 col1\" >False</td>\n",
       "            </tr>\n",
       "    </tbody></table>"
      ],
      "text/plain": [
       "<pandas.io.formats.style.Styler at 0x2583e81bd48>"
      ]
     },
     "metadata": {},
     "output_type": "display_data"
    }
   ],
   "source": [
    "from pycaret.nlp import *\n",
    "nlp1 = setup(data, target='en', session_id=786)"
   ]
  },
  {
   "cell_type": "markdown",
   "metadata": {},
   "source": [
    "# 3. Train Topic Model"
   ]
  },
  {
   "cell_type": "code",
   "execution_count": 7,
   "metadata": {},
   "outputs": [],
   "source": [
    "lda = create_model('lda')"
   ]
  },
  {
   "cell_type": "code",
   "execution_count": 8,
   "metadata": {},
   "outputs": [
    {
     "name": "stdout",
     "output_type": "stream",
     "text": [
      "LdaModel(num_terms=3870, num_topics=4, decay=0.5, chunksize=100)\n"
     ]
    }
   ],
   "source": [
    "print(lda)"
   ]
  },
  {
   "cell_type": "code",
   "execution_count": 9,
   "metadata": {},
   "outputs": [],
   "source": [
    "nmf = create_model('nmf')"
   ]
  },
  {
   "cell_type": "code",
   "execution_count": 10,
   "metadata": {},
   "outputs": [
    {
     "name": "stdout",
     "output_type": "stream",
     "text": [
      "NMF(alpha=0.0, beta_loss='frobenius', init='nndsvd', l1_ratio=0.0, max_iter=200,\n",
      "    n_components=4, random_state=786, shuffle=False, solver='cd', tol=0.0001,\n",
      "    verbose=0)\n"
     ]
    }
   ],
   "source": [
    "print(nmf)"
   ]
  },
  {
   "cell_type": "markdown",
   "metadata": {},
   "source": [
    "# 4. Analyze Trained Model"
   ]
  },
  {
   "cell_type": "code",
   "execution_count": 11,
   "metadata": {},
   "outputs": [
    {
     "data": {
      "text/html": [
       "        <script type=\"text/javascript\">\n",
       "        window.PlotlyConfig = {MathJaxConfig: 'local'};\n",
       "        if (window.MathJax) {MathJax.Hub.Config({SVG: {font: \"STIX-Web\"}});}\n",
       "        if (typeof require !== 'undefined') {\n",
       "        require.undef(\"plotly\");\n",
       "        requirejs.config({\n",
       "            paths: {\n",
       "                'plotly': ['https://cdn.plot.ly/plotly-latest.min']\n",
       "            }\n",
       "        });\n",
       "        require(['plotly'], function(Plotly) {\n",
       "            window._Plotly = Plotly;\n",
       "        });\n",
       "        }\n",
       "        </script>\n",
       "        "
      ]
     },
     "metadata": {},
     "output_type": "display_data"
    },
    {
     "data": {
      "application/vnd.plotly.v1+json": {
       "config": {
        "linkText": "Export to plot.ly",
        "plotlyServerURL": "https://plot.ly",
        "showLink": true
       },
       "data": [
        {
         "marker": {
          "color": "rgba(255, 153, 51, 0.6)",
          "line": {
           "color": "rgba(255, 153, 51, 1.0)",
           "width": 1
          }
         },
         "name": "count",
         "orientation": "v",
         "text": "",
         "type": "bar",
         "x": [
          "business",
          "loan",
          "sell",
          "child",
          "year",
          "group",
          "small",
          "buy",
          "community",
          "live",
          "woman",
          "old",
          "family",
          "store",
          "clothing",
          "hope",
          "support",
          "entrepreneur",
          "start",
          "work",
          "good",
          "make",
          "help",
          "product",
          "able",
          "husband",
          "go",
          "member",
          "use",
          "say",
          "new",
          "purchase",
          "people",
          "school",
          "also",
          "well",
          "mother",
          "want",
          "life",
          "customer",
          "order",
          "increase",
          "income",
          "hard",
          "run",
          "provide",
          "thank",
          "request",
          "would",
          "money",
          "take",
          "food",
          "need",
          "first",
          "operate",
          "grow",
          "keep",
          "receive",
          "continue",
          "expand",
          "age",
          "plan",
          "time",
          "home",
          "house",
          "explain",
          "large",
          "improve",
          "dream",
          "day",
          "allow",
          "currently",
          "future",
          "profit",
          "education",
          "young",
          "shoe",
          "daughter",
          "son",
          "offer",
          "clothe",
          "attend",
          "together",
          "invest",
          "ago",
          "grocery",
          "get",
          "inventory",
          "enough",
          "like",
          "item",
          "pay",
          "sale",
          "lot",
          "many",
          "capital",
          "neighborhood",
          "boy",
          "give",
          "single"
         ],
         "y": [
          1852,
          1812,
          1225,
          1104,
          930,
          842,
          754,
          698,
          647,
          604,
          561,
          551,
          543,
          528,
          512,
          487,
          475,
          473,
          455,
          438,
          432,
          426,
          426,
          423,
          391,
          382,
          363,
          357,
          357,
          355,
          350,
          335,
          332,
          331,
          327,
          323,
          323,
          322,
          306,
          299,
          280,
          277,
          277,
          267,
          264,
          262,
          257,
          257,
          246,
          242,
          240,
          240,
          226,
          224,
          219,
          216,
          216,
          210,
          210,
          210,
          209,
          207,
          203,
          197,
          187,
          186,
          182,
          179,
          175,
          173,
          170,
          163,
          159,
          157,
          156,
          156,
          153,
          151,
          148,
          147,
          144,
          144,
          144,
          142,
          141,
          140,
          139,
          136,
          131,
          131,
          131,
          130,
          130,
          126,
          122,
          120,
          119,
          117,
          116,
          114
         ]
        }
       ],
       "layout": {
        "legend": {
         "bgcolor": "#F5F6F9",
         "font": {
          "color": "#4D5663"
         }
        },
        "paper_bgcolor": "#F5F6F9",
        "plot_bgcolor": "#F5F6F9",
        "template": {
         "data": {
          "bar": [
           {
            "error_x": {
             "color": "#2a3f5f"
            },
            "error_y": {
             "color": "#2a3f5f"
            },
            "marker": {
             "line": {
              "color": "#E5ECF6",
              "width": 0.5
             }
            },
            "type": "bar"
           }
          ],
          "barpolar": [
           {
            "marker": {
             "line": {
              "color": "#E5ECF6",
              "width": 0.5
             }
            },
            "type": "barpolar"
           }
          ],
          "carpet": [
           {
            "aaxis": {
             "endlinecolor": "#2a3f5f",
             "gridcolor": "white",
             "linecolor": "white",
             "minorgridcolor": "white",
             "startlinecolor": "#2a3f5f"
            },
            "baxis": {
             "endlinecolor": "#2a3f5f",
             "gridcolor": "white",
             "linecolor": "white",
             "minorgridcolor": "white",
             "startlinecolor": "#2a3f5f"
            },
            "type": "carpet"
           }
          ],
          "choropleth": [
           {
            "colorbar": {
             "outlinewidth": 0,
             "ticks": ""
            },
            "type": "choropleth"
           }
          ],
          "contour": [
           {
            "colorbar": {
             "outlinewidth": 0,
             "ticks": ""
            },
            "colorscale": [
             [
              0,
              "#0d0887"
             ],
             [
              0.1111111111111111,
              "#46039f"
             ],
             [
              0.2222222222222222,
              "#7201a8"
             ],
             [
              0.3333333333333333,
              "#9c179e"
             ],
             [
              0.4444444444444444,
              "#bd3786"
             ],
             [
              0.5555555555555556,
              "#d8576b"
             ],
             [
              0.6666666666666666,
              "#ed7953"
             ],
             [
              0.7777777777777778,
              "#fb9f3a"
             ],
             [
              0.8888888888888888,
              "#fdca26"
             ],
             [
              1,
              "#f0f921"
             ]
            ],
            "type": "contour"
           }
          ],
          "contourcarpet": [
           {
            "colorbar": {
             "outlinewidth": 0,
             "ticks": ""
            },
            "type": "contourcarpet"
           }
          ],
          "heatmap": [
           {
            "colorbar": {
             "outlinewidth": 0,
             "ticks": ""
            },
            "colorscale": [
             [
              0,
              "#0d0887"
             ],
             [
              0.1111111111111111,
              "#46039f"
             ],
             [
              0.2222222222222222,
              "#7201a8"
             ],
             [
              0.3333333333333333,
              "#9c179e"
             ],
             [
              0.4444444444444444,
              "#bd3786"
             ],
             [
              0.5555555555555556,
              "#d8576b"
             ],
             [
              0.6666666666666666,
              "#ed7953"
             ],
             [
              0.7777777777777778,
              "#fb9f3a"
             ],
             [
              0.8888888888888888,
              "#fdca26"
             ],
             [
              1,
              "#f0f921"
             ]
            ],
            "type": "heatmap"
           }
          ],
          "heatmapgl": [
           {
            "colorbar": {
             "outlinewidth": 0,
             "ticks": ""
            },
            "colorscale": [
             [
              0,
              "#0d0887"
             ],
             [
              0.1111111111111111,
              "#46039f"
             ],
             [
              0.2222222222222222,
              "#7201a8"
             ],
             [
              0.3333333333333333,
              "#9c179e"
             ],
             [
              0.4444444444444444,
              "#bd3786"
             ],
             [
              0.5555555555555556,
              "#d8576b"
             ],
             [
              0.6666666666666666,
              "#ed7953"
             ],
             [
              0.7777777777777778,
              "#fb9f3a"
             ],
             [
              0.8888888888888888,
              "#fdca26"
             ],
             [
              1,
              "#f0f921"
             ]
            ],
            "type": "heatmapgl"
           }
          ],
          "histogram": [
           {
            "marker": {
             "colorbar": {
              "outlinewidth": 0,
              "ticks": ""
             }
            },
            "type": "histogram"
           }
          ],
          "histogram2d": [
           {
            "colorbar": {
             "outlinewidth": 0,
             "ticks": ""
            },
            "colorscale": [
             [
              0,
              "#0d0887"
             ],
             [
              0.1111111111111111,
              "#46039f"
             ],
             [
              0.2222222222222222,
              "#7201a8"
             ],
             [
              0.3333333333333333,
              "#9c179e"
             ],
             [
              0.4444444444444444,
              "#bd3786"
             ],
             [
              0.5555555555555556,
              "#d8576b"
             ],
             [
              0.6666666666666666,
              "#ed7953"
             ],
             [
              0.7777777777777778,
              "#fb9f3a"
             ],
             [
              0.8888888888888888,
              "#fdca26"
             ],
             [
              1,
              "#f0f921"
             ]
            ],
            "type": "histogram2d"
           }
          ],
          "histogram2dcontour": [
           {
            "colorbar": {
             "outlinewidth": 0,
             "ticks": ""
            },
            "colorscale": [
             [
              0,
              "#0d0887"
             ],
             [
              0.1111111111111111,
              "#46039f"
             ],
             [
              0.2222222222222222,
              "#7201a8"
             ],
             [
              0.3333333333333333,
              "#9c179e"
             ],
             [
              0.4444444444444444,
              "#bd3786"
             ],
             [
              0.5555555555555556,
              "#d8576b"
             ],
             [
              0.6666666666666666,
              "#ed7953"
             ],
             [
              0.7777777777777778,
              "#fb9f3a"
             ],
             [
              0.8888888888888888,
              "#fdca26"
             ],
             [
              1,
              "#f0f921"
             ]
            ],
            "type": "histogram2dcontour"
           }
          ],
          "mesh3d": [
           {
            "colorbar": {
             "outlinewidth": 0,
             "ticks": ""
            },
            "type": "mesh3d"
           }
          ],
          "parcoords": [
           {
            "line": {
             "colorbar": {
              "outlinewidth": 0,
              "ticks": ""
             }
            },
            "type": "parcoords"
           }
          ],
          "pie": [
           {
            "automargin": true,
            "type": "pie"
           }
          ],
          "scatter": [
           {
            "marker": {
             "colorbar": {
              "outlinewidth": 0,
              "ticks": ""
             }
            },
            "type": "scatter"
           }
          ],
          "scatter3d": [
           {
            "line": {
             "colorbar": {
              "outlinewidth": 0,
              "ticks": ""
             }
            },
            "marker": {
             "colorbar": {
              "outlinewidth": 0,
              "ticks": ""
             }
            },
            "type": "scatter3d"
           }
          ],
          "scattercarpet": [
           {
            "marker": {
             "colorbar": {
              "outlinewidth": 0,
              "ticks": ""
             }
            },
            "type": "scattercarpet"
           }
          ],
          "scattergeo": [
           {
            "marker": {
             "colorbar": {
              "outlinewidth": 0,
              "ticks": ""
             }
            },
            "type": "scattergeo"
           }
          ],
          "scattergl": [
           {
            "marker": {
             "colorbar": {
              "outlinewidth": 0,
              "ticks": ""
             }
            },
            "type": "scattergl"
           }
          ],
          "scattermapbox": [
           {
            "marker": {
             "colorbar": {
              "outlinewidth": 0,
              "ticks": ""
             }
            },
            "type": "scattermapbox"
           }
          ],
          "scatterpolar": [
           {
            "marker": {
             "colorbar": {
              "outlinewidth": 0,
              "ticks": ""
             }
            },
            "type": "scatterpolar"
           }
          ],
          "scatterpolargl": [
           {
            "marker": {
             "colorbar": {
              "outlinewidth": 0,
              "ticks": ""
             }
            },
            "type": "scatterpolargl"
           }
          ],
          "scatterternary": [
           {
            "marker": {
             "colorbar": {
              "outlinewidth": 0,
              "ticks": ""
             }
            },
            "type": "scatterternary"
           }
          ],
          "surface": [
           {
            "colorbar": {
             "outlinewidth": 0,
             "ticks": ""
            },
            "colorscale": [
             [
              0,
              "#0d0887"
             ],
             [
              0.1111111111111111,
              "#46039f"
             ],
             [
              0.2222222222222222,
              "#7201a8"
             ],
             [
              0.3333333333333333,
              "#9c179e"
             ],
             [
              0.4444444444444444,
              "#bd3786"
             ],
             [
              0.5555555555555556,
              "#d8576b"
             ],
             [
              0.6666666666666666,
              "#ed7953"
             ],
             [
              0.7777777777777778,
              "#fb9f3a"
             ],
             [
              0.8888888888888888,
              "#fdca26"
             ],
             [
              1,
              "#f0f921"
             ]
            ],
            "type": "surface"
           }
          ],
          "table": [
           {
            "cells": {
             "fill": {
              "color": "#EBF0F8"
             },
             "line": {
              "color": "white"
             }
            },
            "header": {
             "fill": {
              "color": "#C8D4E3"
             },
             "line": {
              "color": "white"
             }
            },
            "type": "table"
           }
          ]
         },
         "layout": {
          "annotationdefaults": {
           "arrowcolor": "#2a3f5f",
           "arrowhead": 0,
           "arrowwidth": 1
          },
          "coloraxis": {
           "colorbar": {
            "outlinewidth": 0,
            "ticks": ""
           }
          },
          "colorscale": {
           "diverging": [
            [
             0,
             "#8e0152"
            ],
            [
             0.1,
             "#c51b7d"
            ],
            [
             0.2,
             "#de77ae"
            ],
            [
             0.3,
             "#f1b6da"
            ],
            [
             0.4,
             "#fde0ef"
            ],
            [
             0.5,
             "#f7f7f7"
            ],
            [
             0.6,
             "#e6f5d0"
            ],
            [
             0.7,
             "#b8e186"
            ],
            [
             0.8,
             "#7fbc41"
            ],
            [
             0.9,
             "#4d9221"
            ],
            [
             1,
             "#276419"
            ]
           ],
           "sequential": [
            [
             0,
             "#0d0887"
            ],
            [
             0.1111111111111111,
             "#46039f"
            ],
            [
             0.2222222222222222,
             "#7201a8"
            ],
            [
             0.3333333333333333,
             "#9c179e"
            ],
            [
             0.4444444444444444,
             "#bd3786"
            ],
            [
             0.5555555555555556,
             "#d8576b"
            ],
            [
             0.6666666666666666,
             "#ed7953"
            ],
            [
             0.7777777777777778,
             "#fb9f3a"
            ],
            [
             0.8888888888888888,
             "#fdca26"
            ],
            [
             1,
             "#f0f921"
            ]
           ],
           "sequentialminus": [
            [
             0,
             "#0d0887"
            ],
            [
             0.1111111111111111,
             "#46039f"
            ],
            [
             0.2222222222222222,
             "#7201a8"
            ],
            [
             0.3333333333333333,
             "#9c179e"
            ],
            [
             0.4444444444444444,
             "#bd3786"
            ],
            [
             0.5555555555555556,
             "#d8576b"
            ],
            [
             0.6666666666666666,
             "#ed7953"
            ],
            [
             0.7777777777777778,
             "#fb9f3a"
            ],
            [
             0.8888888888888888,
             "#fdca26"
            ],
            [
             1,
             "#f0f921"
            ]
           ]
          },
          "colorway": [
           "#636efa",
           "#EF553B",
           "#00cc96",
           "#ab63fa",
           "#FFA15A",
           "#19d3f3",
           "#FF6692",
           "#B6E880",
           "#FF97FF",
           "#FECB52"
          ],
          "font": {
           "color": "#2a3f5f"
          },
          "geo": {
           "bgcolor": "white",
           "lakecolor": "white",
           "landcolor": "#E5ECF6",
           "showlakes": true,
           "showland": true,
           "subunitcolor": "white"
          },
          "hoverlabel": {
           "align": "left"
          },
          "hovermode": "closest",
          "mapbox": {
           "style": "light"
          },
          "paper_bgcolor": "white",
          "plot_bgcolor": "#E5ECF6",
          "polar": {
           "angularaxis": {
            "gridcolor": "white",
            "linecolor": "white",
            "ticks": ""
           },
           "bgcolor": "#E5ECF6",
           "radialaxis": {
            "gridcolor": "white",
            "linecolor": "white",
            "ticks": ""
           }
          },
          "scene": {
           "xaxis": {
            "backgroundcolor": "#E5ECF6",
            "gridcolor": "white",
            "gridwidth": 2,
            "linecolor": "white",
            "showbackground": true,
            "ticks": "",
            "zerolinecolor": "white"
           },
           "yaxis": {
            "backgroundcolor": "#E5ECF6",
            "gridcolor": "white",
            "gridwidth": 2,
            "linecolor": "white",
            "showbackground": true,
            "ticks": "",
            "zerolinecolor": "white"
           },
           "zaxis": {
            "backgroundcolor": "#E5ECF6",
            "gridcolor": "white",
            "gridwidth": 2,
            "linecolor": "white",
            "showbackground": true,
            "ticks": "",
            "zerolinecolor": "white"
           }
          },
          "shapedefaults": {
           "line": {
            "color": "#2a3f5f"
           }
          },
          "ternary": {
           "aaxis": {
            "gridcolor": "white",
            "linecolor": "white",
            "ticks": ""
           },
           "baxis": {
            "gridcolor": "white",
            "linecolor": "white",
            "ticks": ""
           },
           "bgcolor": "#E5ECF6",
           "caxis": {
            "gridcolor": "white",
            "linecolor": "white",
            "ticks": ""
           }
          },
          "title": {
           "x": 0.05
          },
          "xaxis": {
           "automargin": true,
           "gridcolor": "white",
           "linecolor": "white",
           "ticks": "",
           "title": {
            "standoff": 15
           },
           "zerolinecolor": "white",
           "zerolinewidth": 2
          },
          "yaxis": {
           "automargin": true,
           "gridcolor": "white",
           "linecolor": "white",
           "ticks": "",
           "title": {
            "standoff": 15
           },
           "zerolinecolor": "white",
           "zerolinewidth": 2
          }
         }
        },
        "title": {
         "font": {
          "color": "#4D5663"
         },
         "text": "Top 100 words after removing stop words"
        },
        "xaxis": {
         "gridcolor": "#E1E5ED",
         "linecolor": "black",
         "showgrid": true,
         "tickfont": {
          "color": "#4D5663"
         },
         "title": {
          "font": {
           "color": "#4D5663"
          },
          "text": ""
         },
         "zerolinecolor": "#E1E5ED"
        },
        "yaxis": {
         "gridcolor": "#E1E5ED",
         "linecolor": "black",
         "showgrid": true,
         "tickfont": {
          "color": "#4D5663"
         },
         "title": {
          "font": {
           "color": "#4D5663"
          },
          "text": "Count"
         },
         "zerolinecolor": "#E1E5ED"
        }
       }
      },
      "text/html": [
       "<div>\n",
       "        \n",
       "        \n",
       "            <div id=\"5ba31dc1-5420-4839-94c6-0bcfca85bf09\" class=\"plotly-graph-div\" style=\"height:525px; width:100%;\"></div>\n",
       "            <script type=\"text/javascript\">\n",
       "                require([\"plotly\"], function(Plotly) {\n",
       "                    window.PLOTLYENV=window.PLOTLYENV || {};\n",
       "                    window.PLOTLYENV.BASE_URL='https://plot.ly';\n",
       "                    \n",
       "                if (document.getElementById(\"5ba31dc1-5420-4839-94c6-0bcfca85bf09\")) {\n",
       "                    Plotly.newPlot(\n",
       "                        '5ba31dc1-5420-4839-94c6-0bcfca85bf09',\n",
       "                        [{\"marker\": {\"color\": \"rgba(255, 153, 51, 0.6)\", \"line\": {\"color\": \"rgba(255, 153, 51, 1.0)\", \"width\": 1}}, \"name\": \"count\", \"orientation\": \"v\", \"text\": \"\", \"type\": \"bar\", \"x\": [\"business\", \"loan\", \"sell\", \"child\", \"year\", \"group\", \"small\", \"buy\", \"community\", \"live\", \"woman\", \"old\", \"family\", \"store\", \"clothing\", \"hope\", \"support\", \"entrepreneur\", \"start\", \"work\", \"good\", \"make\", \"help\", \"product\", \"able\", \"husband\", \"go\", \"member\", \"use\", \"say\", \"new\", \"purchase\", \"people\", \"school\", \"also\", \"well\", \"mother\", \"want\", \"life\", \"customer\", \"order\", \"increase\", \"income\", \"hard\", \"run\", \"provide\", \"thank\", \"request\", \"would\", \"money\", \"take\", \"food\", \"need\", \"first\", \"operate\", \"grow\", \"keep\", \"receive\", \"continue\", \"expand\", \"age\", \"plan\", \"time\", \"home\", \"house\", \"explain\", \"large\", \"improve\", \"dream\", \"day\", \"allow\", \"currently\", \"future\", \"profit\", \"education\", \"young\", \"shoe\", \"daughter\", \"son\", \"offer\", \"clothe\", \"attend\", \"together\", \"invest\", \"ago\", \"grocery\", \"get\", \"inventory\", \"enough\", \"like\", \"item\", \"pay\", \"sale\", \"lot\", \"many\", \"capital\", \"neighborhood\", \"boy\", \"give\", \"single\"], \"y\": [1852, 1812, 1225, 1104, 930, 842, 754, 698, 647, 604, 561, 551, 543, 528, 512, 487, 475, 473, 455, 438, 432, 426, 426, 423, 391, 382, 363, 357, 357, 355, 350, 335, 332, 331, 327, 323, 323, 322, 306, 299, 280, 277, 277, 267, 264, 262, 257, 257, 246, 242, 240, 240, 226, 224, 219, 216, 216, 210, 210, 210, 209, 207, 203, 197, 187, 186, 182, 179, 175, 173, 170, 163, 159, 157, 156, 156, 153, 151, 148, 147, 144, 144, 144, 142, 141, 140, 139, 136, 131, 131, 131, 130, 130, 126, 122, 120, 119, 117, 116, 114]}],\n",
       "                        {\"legend\": {\"bgcolor\": \"#F5F6F9\", \"font\": {\"color\": \"#4D5663\"}}, \"paper_bgcolor\": \"#F5F6F9\", \"plot_bgcolor\": \"#F5F6F9\", \"template\": {\"data\": {\"bar\": [{\"error_x\": {\"color\": \"#2a3f5f\"}, \"error_y\": {\"color\": \"#2a3f5f\"}, \"marker\": {\"line\": {\"color\": \"#E5ECF6\", \"width\": 0.5}}, \"type\": \"bar\"}], \"barpolar\": [{\"marker\": {\"line\": {\"color\": \"#E5ECF6\", \"width\": 0.5}}, \"type\": \"barpolar\"}], \"carpet\": [{\"aaxis\": {\"endlinecolor\": \"#2a3f5f\", \"gridcolor\": \"white\", \"linecolor\": \"white\", \"minorgridcolor\": \"white\", \"startlinecolor\": \"#2a3f5f\"}, \"baxis\": {\"endlinecolor\": \"#2a3f5f\", \"gridcolor\": \"white\", \"linecolor\": \"white\", \"minorgridcolor\": \"white\", \"startlinecolor\": \"#2a3f5f\"}, \"type\": \"carpet\"}], \"choropleth\": [{\"colorbar\": {\"outlinewidth\": 0, \"ticks\": \"\"}, \"type\": \"choropleth\"}], \"contour\": [{\"colorbar\": {\"outlinewidth\": 0, \"ticks\": \"\"}, \"colorscale\": [[0.0, \"#0d0887\"], [0.1111111111111111, \"#46039f\"], [0.2222222222222222, \"#7201a8\"], [0.3333333333333333, \"#9c179e\"], [0.4444444444444444, \"#bd3786\"], [0.5555555555555556, \"#d8576b\"], [0.6666666666666666, \"#ed7953\"], [0.7777777777777778, \"#fb9f3a\"], [0.8888888888888888, \"#fdca26\"], [1.0, \"#f0f921\"]], \"type\": \"contour\"}], \"contourcarpet\": [{\"colorbar\": {\"outlinewidth\": 0, \"ticks\": \"\"}, \"type\": \"contourcarpet\"}], \"heatmap\": [{\"colorbar\": {\"outlinewidth\": 0, \"ticks\": \"\"}, \"colorscale\": [[0.0, \"#0d0887\"], [0.1111111111111111, \"#46039f\"], [0.2222222222222222, \"#7201a8\"], [0.3333333333333333, \"#9c179e\"], [0.4444444444444444, \"#bd3786\"], [0.5555555555555556, \"#d8576b\"], [0.6666666666666666, \"#ed7953\"], [0.7777777777777778, \"#fb9f3a\"], [0.8888888888888888, \"#fdca26\"], [1.0, \"#f0f921\"]], \"type\": \"heatmap\"}], \"heatmapgl\": [{\"colorbar\": {\"outlinewidth\": 0, \"ticks\": \"\"}, \"colorscale\": [[0.0, \"#0d0887\"], [0.1111111111111111, \"#46039f\"], [0.2222222222222222, \"#7201a8\"], [0.3333333333333333, \"#9c179e\"], [0.4444444444444444, \"#bd3786\"], [0.5555555555555556, \"#d8576b\"], [0.6666666666666666, \"#ed7953\"], [0.7777777777777778, \"#fb9f3a\"], [0.8888888888888888, \"#fdca26\"], [1.0, \"#f0f921\"]], \"type\": \"heatmapgl\"}], \"histogram\": [{\"marker\": {\"colorbar\": {\"outlinewidth\": 0, \"ticks\": \"\"}}, \"type\": \"histogram\"}], \"histogram2d\": [{\"colorbar\": {\"outlinewidth\": 0, \"ticks\": \"\"}, \"colorscale\": [[0.0, \"#0d0887\"], [0.1111111111111111, \"#46039f\"], [0.2222222222222222, \"#7201a8\"], [0.3333333333333333, \"#9c179e\"], [0.4444444444444444, \"#bd3786\"], [0.5555555555555556, \"#d8576b\"], [0.6666666666666666, \"#ed7953\"], [0.7777777777777778, \"#fb9f3a\"], [0.8888888888888888, \"#fdca26\"], [1.0, \"#f0f921\"]], \"type\": \"histogram2d\"}], \"histogram2dcontour\": [{\"colorbar\": {\"outlinewidth\": 0, \"ticks\": \"\"}, \"colorscale\": [[0.0, \"#0d0887\"], [0.1111111111111111, \"#46039f\"], [0.2222222222222222, \"#7201a8\"], [0.3333333333333333, \"#9c179e\"], [0.4444444444444444, \"#bd3786\"], [0.5555555555555556, \"#d8576b\"], [0.6666666666666666, \"#ed7953\"], [0.7777777777777778, \"#fb9f3a\"], [0.8888888888888888, \"#fdca26\"], [1.0, \"#f0f921\"]], \"type\": \"histogram2dcontour\"}], \"mesh3d\": [{\"colorbar\": {\"outlinewidth\": 0, \"ticks\": \"\"}, \"type\": \"mesh3d\"}], \"parcoords\": [{\"line\": {\"colorbar\": {\"outlinewidth\": 0, \"ticks\": \"\"}}, \"type\": \"parcoords\"}], \"pie\": [{\"automargin\": true, \"type\": \"pie\"}], \"scatter\": [{\"marker\": {\"colorbar\": {\"outlinewidth\": 0, \"ticks\": \"\"}}, \"type\": \"scatter\"}], \"scatter3d\": [{\"line\": {\"colorbar\": {\"outlinewidth\": 0, \"ticks\": \"\"}}, \"marker\": {\"colorbar\": {\"outlinewidth\": 0, \"ticks\": \"\"}}, \"type\": \"scatter3d\"}], \"scattercarpet\": [{\"marker\": {\"colorbar\": {\"outlinewidth\": 0, \"ticks\": \"\"}}, \"type\": \"scattercarpet\"}], \"scattergeo\": [{\"marker\": {\"colorbar\": {\"outlinewidth\": 0, \"ticks\": \"\"}}, \"type\": \"scattergeo\"}], \"scattergl\": [{\"marker\": {\"colorbar\": {\"outlinewidth\": 0, \"ticks\": \"\"}}, \"type\": \"scattergl\"}], \"scattermapbox\": [{\"marker\": {\"colorbar\": {\"outlinewidth\": 0, \"ticks\": \"\"}}, \"type\": \"scattermapbox\"}], \"scatterpolar\": [{\"marker\": {\"colorbar\": {\"outlinewidth\": 0, \"ticks\": \"\"}}, \"type\": \"scatterpolar\"}], \"scatterpolargl\": [{\"marker\": {\"colorbar\": {\"outlinewidth\": 0, \"ticks\": \"\"}}, \"type\": \"scatterpolargl\"}], \"scatterternary\": [{\"marker\": {\"colorbar\": {\"outlinewidth\": 0, \"ticks\": \"\"}}, \"type\": \"scatterternary\"}], \"surface\": [{\"colorbar\": {\"outlinewidth\": 0, \"ticks\": \"\"}, \"colorscale\": [[0.0, \"#0d0887\"], [0.1111111111111111, \"#46039f\"], [0.2222222222222222, \"#7201a8\"], [0.3333333333333333, \"#9c179e\"], [0.4444444444444444, \"#bd3786\"], [0.5555555555555556, \"#d8576b\"], [0.6666666666666666, \"#ed7953\"], [0.7777777777777778, \"#fb9f3a\"], [0.8888888888888888, \"#fdca26\"], [1.0, \"#f0f921\"]], \"type\": \"surface\"}], \"table\": [{\"cells\": {\"fill\": {\"color\": \"#EBF0F8\"}, \"line\": {\"color\": \"white\"}}, \"header\": {\"fill\": {\"color\": \"#C8D4E3\"}, \"line\": {\"color\": \"white\"}}, \"type\": \"table\"}]}, \"layout\": {\"annotationdefaults\": {\"arrowcolor\": \"#2a3f5f\", \"arrowhead\": 0, \"arrowwidth\": 1}, \"coloraxis\": {\"colorbar\": {\"outlinewidth\": 0, \"ticks\": \"\"}}, \"colorscale\": {\"diverging\": [[0, \"#8e0152\"], [0.1, \"#c51b7d\"], [0.2, \"#de77ae\"], [0.3, \"#f1b6da\"], [0.4, \"#fde0ef\"], [0.5, \"#f7f7f7\"], [0.6, \"#e6f5d0\"], [0.7, \"#b8e186\"], [0.8, \"#7fbc41\"], [0.9, \"#4d9221\"], [1, \"#276419\"]], \"sequential\": [[0.0, \"#0d0887\"], [0.1111111111111111, \"#46039f\"], [0.2222222222222222, \"#7201a8\"], [0.3333333333333333, \"#9c179e\"], [0.4444444444444444, \"#bd3786\"], [0.5555555555555556, \"#d8576b\"], [0.6666666666666666, \"#ed7953\"], [0.7777777777777778, \"#fb9f3a\"], [0.8888888888888888, \"#fdca26\"], [1.0, \"#f0f921\"]], \"sequentialminus\": [[0.0, \"#0d0887\"], [0.1111111111111111, \"#46039f\"], [0.2222222222222222, \"#7201a8\"], [0.3333333333333333, \"#9c179e\"], [0.4444444444444444, \"#bd3786\"], [0.5555555555555556, \"#d8576b\"], [0.6666666666666666, \"#ed7953\"], [0.7777777777777778, \"#fb9f3a\"], [0.8888888888888888, \"#fdca26\"], [1.0, \"#f0f921\"]]}, \"colorway\": [\"#636efa\", \"#EF553B\", \"#00cc96\", \"#ab63fa\", \"#FFA15A\", \"#19d3f3\", \"#FF6692\", \"#B6E880\", \"#FF97FF\", \"#FECB52\"], \"font\": {\"color\": \"#2a3f5f\"}, \"geo\": {\"bgcolor\": \"white\", \"lakecolor\": \"white\", \"landcolor\": \"#E5ECF6\", \"showlakes\": true, \"showland\": true, \"subunitcolor\": \"white\"}, \"hoverlabel\": {\"align\": \"left\"}, \"hovermode\": \"closest\", \"mapbox\": {\"style\": \"light\"}, \"paper_bgcolor\": \"white\", \"plot_bgcolor\": \"#E5ECF6\", \"polar\": {\"angularaxis\": {\"gridcolor\": \"white\", \"linecolor\": \"white\", \"ticks\": \"\"}, \"bgcolor\": \"#E5ECF6\", \"radialaxis\": {\"gridcolor\": \"white\", \"linecolor\": \"white\", \"ticks\": \"\"}}, \"scene\": {\"xaxis\": {\"backgroundcolor\": \"#E5ECF6\", \"gridcolor\": \"white\", \"gridwidth\": 2, \"linecolor\": \"white\", \"showbackground\": true, \"ticks\": \"\", \"zerolinecolor\": \"white\"}, \"yaxis\": {\"backgroundcolor\": \"#E5ECF6\", \"gridcolor\": \"white\", \"gridwidth\": 2, \"linecolor\": \"white\", \"showbackground\": true, \"ticks\": \"\", \"zerolinecolor\": \"white\"}, \"zaxis\": {\"backgroundcolor\": \"#E5ECF6\", \"gridcolor\": \"white\", \"gridwidth\": 2, \"linecolor\": \"white\", \"showbackground\": true, \"ticks\": \"\", \"zerolinecolor\": \"white\"}}, \"shapedefaults\": {\"line\": {\"color\": \"#2a3f5f\"}}, \"ternary\": {\"aaxis\": {\"gridcolor\": \"white\", \"linecolor\": \"white\", \"ticks\": \"\"}, \"baxis\": {\"gridcolor\": \"white\", \"linecolor\": \"white\", \"ticks\": \"\"}, \"bgcolor\": \"#E5ECF6\", \"caxis\": {\"gridcolor\": \"white\", \"linecolor\": \"white\", \"ticks\": \"\"}}, \"title\": {\"x\": 0.05}, \"xaxis\": {\"automargin\": true, \"gridcolor\": \"white\", \"linecolor\": \"white\", \"ticks\": \"\", \"title\": {\"standoff\": 15}, \"zerolinecolor\": \"white\", \"zerolinewidth\": 2}, \"yaxis\": {\"automargin\": true, \"gridcolor\": \"white\", \"linecolor\": \"white\", \"ticks\": \"\", \"title\": {\"standoff\": 15}, \"zerolinecolor\": \"white\", \"zerolinewidth\": 2}}}, \"title\": {\"font\": {\"color\": \"#4D5663\"}, \"text\": \"Top 100 words after removing stop words\"}, \"xaxis\": {\"gridcolor\": \"#E1E5ED\", \"linecolor\": \"black\", \"showgrid\": true, \"tickfont\": {\"color\": \"#4D5663\"}, \"title\": {\"font\": {\"color\": \"#4D5663\"}, \"text\": \"\"}, \"zerolinecolor\": \"#E1E5ED\"}, \"yaxis\": {\"gridcolor\": \"#E1E5ED\", \"linecolor\": \"black\", \"showgrid\": true, \"tickfont\": {\"color\": \"#4D5663\"}, \"title\": {\"font\": {\"color\": \"#4D5663\"}, \"text\": \"Count\"}, \"zerolinecolor\": \"#E1E5ED\"}},\n",
       "                        {\"showLink\": true, \"linkText\": \"Export to plot.ly\", \"plotlyServerURL\": \"https://plot.ly\", \"responsive\": true}\n",
       "                    ).then(function(){\n",
       "                            \n",
       "var gd = document.getElementById('5ba31dc1-5420-4839-94c6-0bcfca85bf09');\n",
       "var x = new MutationObserver(function (mutations, observer) {{\n",
       "        var display = window.getComputedStyle(gd).display;\n",
       "        if (!display || display === 'none') {{\n",
       "            console.log([gd, 'removed!']);\n",
       "            Plotly.purge(gd);\n",
       "            observer.disconnect();\n",
       "        }}\n",
       "}});\n",
       "\n",
       "// Listen for the removal of the full notebook cells\n",
       "var notebookContainer = gd.closest('#notebook-container');\n",
       "if (notebookContainer) {{\n",
       "    x.observe(notebookContainer, {childList: true});\n",
       "}}\n",
       "\n",
       "// Listen for the clearing of the current output cell\n",
       "var outputEl = gd.closest('.output');\n",
       "if (outputEl) {{\n",
       "    x.observe(outputEl, {childList: true});\n",
       "}}\n",
       "\n",
       "                        })\n",
       "                };\n",
       "                });\n",
       "            </script>\n",
       "        </div>"
      ]
     },
     "metadata": {},
     "output_type": "display_data"
    }
   ],
   "source": [
    "plot_model()"
   ]
  },
  {
   "cell_type": "code",
   "execution_count": 12,
   "metadata": {},
   "outputs": [
    {
     "data": {
      "text/html": [
       "        <script type=\"text/javascript\">\n",
       "        window.PlotlyConfig = {MathJaxConfig: 'local'};\n",
       "        if (window.MathJax) {MathJax.Hub.Config({SVG: {font: \"STIX-Web\"}});}\n",
       "        if (typeof require !== 'undefined') {\n",
       "        require.undef(\"plotly\");\n",
       "        requirejs.config({\n",
       "            paths: {\n",
       "                'plotly': ['https://cdn.plot.ly/plotly-latest.min']\n",
       "            }\n",
       "        });\n",
       "        require(['plotly'], function(Plotly) {\n",
       "            window._Plotly = Plotly;\n",
       "        });\n",
       "        }\n",
       "        </script>\n",
       "        "
      ]
     },
     "metadata": {},
     "output_type": "display_data"
    },
    {
     "data": {
      "application/vnd.plotly.v1+json": {
       "config": {
        "linkText": "Export to plot.ly",
        "plotlyServerURL": "https://plot.ly",
        "showLink": true
       },
       "data": [
        {
         "marker": {
          "color": "rgba(255, 153, 51, 0.6)",
          "line": {
           "color": "rgba(255, 153, 51, 1.0)",
           "width": 1
          }
         },
         "name": "count",
         "orientation": "v",
         "text": "",
         "type": "bar",
         "x": [
          "loan",
          "business",
          "group",
          "sell",
          "child",
          "member",
          "small",
          "live",
          "community",
          "buy",
          "able",
          "support",
          "year",
          "woman",
          "family",
          "store",
          "hope",
          "help",
          "thank",
          "go",
          "make",
          "old",
          "clothing",
          "use",
          "age",
          "also",
          "work",
          "provide",
          "would",
          "life",
          "home",
          "well",
          "product",
          "together",
          "first",
          "expand",
          "want",
          "grow",
          "food",
          "note",
          "large",
          "take",
          "purchase",
          "continue",
          "receive",
          "house",
          "behalf",
          "entrepreneur",
          "town",
          "people",
          "profit",
          "day",
          "mother",
          "start",
          "dream",
          "new",
          "future",
          "call",
          "husband",
          "need",
          "share",
          "like",
          "time",
          "improve",
          "sale",
          "good",
          "pay",
          "say",
          "run",
          "money",
          "increase",
          "school",
          "include",
          "hard",
          "item",
          "clothe",
          "person",
          "invest",
          "order",
          "come",
          "allow",
          "coordinator",
          "currently",
          "part",
          "education",
          "shoe",
          "see",
          "young",
          "plan",
          "next",
          "bank_hope_solidarity",
          "supply",
          "grandchild",
          "many",
          "raise",
          "shop",
          "open",
          "merchandise",
          "training_course",
          "second"
         ],
         "y": [
          764,
          588,
          576,
          349,
          330,
          236,
          235,
          220,
          195,
          187,
          182,
          177,
          171,
          164,
          159,
          157,
          156,
          151,
          150,
          143,
          141,
          133,
          132,
          130,
          112,
          112,
          107,
          105,
          97,
          96,
          95,
          94,
          93,
          90,
          89,
          87,
          87,
          85,
          84,
          82,
          81,
          81,
          80,
          80,
          80,
          79,
          76,
          74,
          72,
          71,
          70,
          68,
          68,
          67,
          66,
          66,
          65,
          65,
          64,
          63,
          63,
          60,
          59,
          59,
          58,
          58,
          57,
          55,
          55,
          55,
          52,
          51,
          50,
          47,
          46,
          45,
          45,
          45,
          44,
          44,
          44,
          44,
          43,
          42,
          41,
          39,
          39,
          39,
          38,
          38,
          38,
          38,
          38,
          37,
          37,
          37,
          37,
          36,
          35,
          34
         ]
        }
       ],
       "layout": {
        "legend": {
         "bgcolor": "#F5F6F9",
         "font": {
          "color": "#4D5663"
         }
        },
        "paper_bgcolor": "#F5F6F9",
        "plot_bgcolor": "#F5F6F9",
        "template": {
         "data": {
          "bar": [
           {
            "error_x": {
             "color": "#2a3f5f"
            },
            "error_y": {
             "color": "#2a3f5f"
            },
            "marker": {
             "line": {
              "color": "#E5ECF6",
              "width": 0.5
             }
            },
            "type": "bar"
           }
          ],
          "barpolar": [
           {
            "marker": {
             "line": {
              "color": "#E5ECF6",
              "width": 0.5
             }
            },
            "type": "barpolar"
           }
          ],
          "carpet": [
           {
            "aaxis": {
             "endlinecolor": "#2a3f5f",
             "gridcolor": "white",
             "linecolor": "white",
             "minorgridcolor": "white",
             "startlinecolor": "#2a3f5f"
            },
            "baxis": {
             "endlinecolor": "#2a3f5f",
             "gridcolor": "white",
             "linecolor": "white",
             "minorgridcolor": "white",
             "startlinecolor": "#2a3f5f"
            },
            "type": "carpet"
           }
          ],
          "choropleth": [
           {
            "colorbar": {
             "outlinewidth": 0,
             "ticks": ""
            },
            "type": "choropleth"
           }
          ],
          "contour": [
           {
            "colorbar": {
             "outlinewidth": 0,
             "ticks": ""
            },
            "colorscale": [
             [
              0,
              "#0d0887"
             ],
             [
              0.1111111111111111,
              "#46039f"
             ],
             [
              0.2222222222222222,
              "#7201a8"
             ],
             [
              0.3333333333333333,
              "#9c179e"
             ],
             [
              0.4444444444444444,
              "#bd3786"
             ],
             [
              0.5555555555555556,
              "#d8576b"
             ],
             [
              0.6666666666666666,
              "#ed7953"
             ],
             [
              0.7777777777777778,
              "#fb9f3a"
             ],
             [
              0.8888888888888888,
              "#fdca26"
             ],
             [
              1,
              "#f0f921"
             ]
            ],
            "type": "contour"
           }
          ],
          "contourcarpet": [
           {
            "colorbar": {
             "outlinewidth": 0,
             "ticks": ""
            },
            "type": "contourcarpet"
           }
          ],
          "heatmap": [
           {
            "colorbar": {
             "outlinewidth": 0,
             "ticks": ""
            },
            "colorscale": [
             [
              0,
              "#0d0887"
             ],
             [
              0.1111111111111111,
              "#46039f"
             ],
             [
              0.2222222222222222,
              "#7201a8"
             ],
             [
              0.3333333333333333,
              "#9c179e"
             ],
             [
              0.4444444444444444,
              "#bd3786"
             ],
             [
              0.5555555555555556,
              "#d8576b"
             ],
             [
              0.6666666666666666,
              "#ed7953"
             ],
             [
              0.7777777777777778,
              "#fb9f3a"
             ],
             [
              0.8888888888888888,
              "#fdca26"
             ],
             [
              1,
              "#f0f921"
             ]
            ],
            "type": "heatmap"
           }
          ],
          "heatmapgl": [
           {
            "colorbar": {
             "outlinewidth": 0,
             "ticks": ""
            },
            "colorscale": [
             [
              0,
              "#0d0887"
             ],
             [
              0.1111111111111111,
              "#46039f"
             ],
             [
              0.2222222222222222,
              "#7201a8"
             ],
             [
              0.3333333333333333,
              "#9c179e"
             ],
             [
              0.4444444444444444,
              "#bd3786"
             ],
             [
              0.5555555555555556,
              "#d8576b"
             ],
             [
              0.6666666666666666,
              "#ed7953"
             ],
             [
              0.7777777777777778,
              "#fb9f3a"
             ],
             [
              0.8888888888888888,
              "#fdca26"
             ],
             [
              1,
              "#f0f921"
             ]
            ],
            "type": "heatmapgl"
           }
          ],
          "histogram": [
           {
            "marker": {
             "colorbar": {
              "outlinewidth": 0,
              "ticks": ""
             }
            },
            "type": "histogram"
           }
          ],
          "histogram2d": [
           {
            "colorbar": {
             "outlinewidth": 0,
             "ticks": ""
            },
            "colorscale": [
             [
              0,
              "#0d0887"
             ],
             [
              0.1111111111111111,
              "#46039f"
             ],
             [
              0.2222222222222222,
              "#7201a8"
             ],
             [
              0.3333333333333333,
              "#9c179e"
             ],
             [
              0.4444444444444444,
              "#bd3786"
             ],
             [
              0.5555555555555556,
              "#d8576b"
             ],
             [
              0.6666666666666666,
              "#ed7953"
             ],
             [
              0.7777777777777778,
              "#fb9f3a"
             ],
             [
              0.8888888888888888,
              "#fdca26"
             ],
             [
              1,
              "#f0f921"
             ]
            ],
            "type": "histogram2d"
           }
          ],
          "histogram2dcontour": [
           {
            "colorbar": {
             "outlinewidth": 0,
             "ticks": ""
            },
            "colorscale": [
             [
              0,
              "#0d0887"
             ],
             [
              0.1111111111111111,
              "#46039f"
             ],
             [
              0.2222222222222222,
              "#7201a8"
             ],
             [
              0.3333333333333333,
              "#9c179e"
             ],
             [
              0.4444444444444444,
              "#bd3786"
             ],
             [
              0.5555555555555556,
              "#d8576b"
             ],
             [
              0.6666666666666666,
              "#ed7953"
             ],
             [
              0.7777777777777778,
              "#fb9f3a"
             ],
             [
              0.8888888888888888,
              "#fdca26"
             ],
             [
              1,
              "#f0f921"
             ]
            ],
            "type": "histogram2dcontour"
           }
          ],
          "mesh3d": [
           {
            "colorbar": {
             "outlinewidth": 0,
             "ticks": ""
            },
            "type": "mesh3d"
           }
          ],
          "parcoords": [
           {
            "line": {
             "colorbar": {
              "outlinewidth": 0,
              "ticks": ""
             }
            },
            "type": "parcoords"
           }
          ],
          "pie": [
           {
            "automargin": true,
            "type": "pie"
           }
          ],
          "scatter": [
           {
            "marker": {
             "colorbar": {
              "outlinewidth": 0,
              "ticks": ""
             }
            },
            "type": "scatter"
           }
          ],
          "scatter3d": [
           {
            "line": {
             "colorbar": {
              "outlinewidth": 0,
              "ticks": ""
             }
            },
            "marker": {
             "colorbar": {
              "outlinewidth": 0,
              "ticks": ""
             }
            },
            "type": "scatter3d"
           }
          ],
          "scattercarpet": [
           {
            "marker": {
             "colorbar": {
              "outlinewidth": 0,
              "ticks": ""
             }
            },
            "type": "scattercarpet"
           }
          ],
          "scattergeo": [
           {
            "marker": {
             "colorbar": {
              "outlinewidth": 0,
              "ticks": ""
             }
            },
            "type": "scattergeo"
           }
          ],
          "scattergl": [
           {
            "marker": {
             "colorbar": {
              "outlinewidth": 0,
              "ticks": ""
             }
            },
            "type": "scattergl"
           }
          ],
          "scattermapbox": [
           {
            "marker": {
             "colorbar": {
              "outlinewidth": 0,
              "ticks": ""
             }
            },
            "type": "scattermapbox"
           }
          ],
          "scatterpolar": [
           {
            "marker": {
             "colorbar": {
              "outlinewidth": 0,
              "ticks": ""
             }
            },
            "type": "scatterpolar"
           }
          ],
          "scatterpolargl": [
           {
            "marker": {
             "colorbar": {
              "outlinewidth": 0,
              "ticks": ""
             }
            },
            "type": "scatterpolargl"
           }
          ],
          "scatterternary": [
           {
            "marker": {
             "colorbar": {
              "outlinewidth": 0,
              "ticks": ""
             }
            },
            "type": "scatterternary"
           }
          ],
          "surface": [
           {
            "colorbar": {
             "outlinewidth": 0,
             "ticks": ""
            },
            "colorscale": [
             [
              0,
              "#0d0887"
             ],
             [
              0.1111111111111111,
              "#46039f"
             ],
             [
              0.2222222222222222,
              "#7201a8"
             ],
             [
              0.3333333333333333,
              "#9c179e"
             ],
             [
              0.4444444444444444,
              "#bd3786"
             ],
             [
              0.5555555555555556,
              "#d8576b"
             ],
             [
              0.6666666666666666,
              "#ed7953"
             ],
             [
              0.7777777777777778,
              "#fb9f3a"
             ],
             [
              0.8888888888888888,
              "#fdca26"
             ],
             [
              1,
              "#f0f921"
             ]
            ],
            "type": "surface"
           }
          ],
          "table": [
           {
            "cells": {
             "fill": {
              "color": "#EBF0F8"
             },
             "line": {
              "color": "white"
             }
            },
            "header": {
             "fill": {
              "color": "#C8D4E3"
             },
             "line": {
              "color": "white"
             }
            },
            "type": "table"
           }
          ]
         },
         "layout": {
          "annotationdefaults": {
           "arrowcolor": "#2a3f5f",
           "arrowhead": 0,
           "arrowwidth": 1
          },
          "coloraxis": {
           "colorbar": {
            "outlinewidth": 0,
            "ticks": ""
           }
          },
          "colorscale": {
           "diverging": [
            [
             0,
             "#8e0152"
            ],
            [
             0.1,
             "#c51b7d"
            ],
            [
             0.2,
             "#de77ae"
            ],
            [
             0.3,
             "#f1b6da"
            ],
            [
             0.4,
             "#fde0ef"
            ],
            [
             0.5,
             "#f7f7f7"
            ],
            [
             0.6,
             "#e6f5d0"
            ],
            [
             0.7,
             "#b8e186"
            ],
            [
             0.8,
             "#7fbc41"
            ],
            [
             0.9,
             "#4d9221"
            ],
            [
             1,
             "#276419"
            ]
           ],
           "sequential": [
            [
             0,
             "#0d0887"
            ],
            [
             0.1111111111111111,
             "#46039f"
            ],
            [
             0.2222222222222222,
             "#7201a8"
            ],
            [
             0.3333333333333333,
             "#9c179e"
            ],
            [
             0.4444444444444444,
             "#bd3786"
            ],
            [
             0.5555555555555556,
             "#d8576b"
            ],
            [
             0.6666666666666666,
             "#ed7953"
            ],
            [
             0.7777777777777778,
             "#fb9f3a"
            ],
            [
             0.8888888888888888,
             "#fdca26"
            ],
            [
             1,
             "#f0f921"
            ]
           ],
           "sequentialminus": [
            [
             0,
             "#0d0887"
            ],
            [
             0.1111111111111111,
             "#46039f"
            ],
            [
             0.2222222222222222,
             "#7201a8"
            ],
            [
             0.3333333333333333,
             "#9c179e"
            ],
            [
             0.4444444444444444,
             "#bd3786"
            ],
            [
             0.5555555555555556,
             "#d8576b"
            ],
            [
             0.6666666666666666,
             "#ed7953"
            ],
            [
             0.7777777777777778,
             "#fb9f3a"
            ],
            [
             0.8888888888888888,
             "#fdca26"
            ],
            [
             1,
             "#f0f921"
            ]
           ]
          },
          "colorway": [
           "#636efa",
           "#EF553B",
           "#00cc96",
           "#ab63fa",
           "#FFA15A",
           "#19d3f3",
           "#FF6692",
           "#B6E880",
           "#FF97FF",
           "#FECB52"
          ],
          "font": {
           "color": "#2a3f5f"
          },
          "geo": {
           "bgcolor": "white",
           "lakecolor": "white",
           "landcolor": "#E5ECF6",
           "showlakes": true,
           "showland": true,
           "subunitcolor": "white"
          },
          "hoverlabel": {
           "align": "left"
          },
          "hovermode": "closest",
          "mapbox": {
           "style": "light"
          },
          "paper_bgcolor": "white",
          "plot_bgcolor": "#E5ECF6",
          "polar": {
           "angularaxis": {
            "gridcolor": "white",
            "linecolor": "white",
            "ticks": ""
           },
           "bgcolor": "#E5ECF6",
           "radialaxis": {
            "gridcolor": "white",
            "linecolor": "white",
            "ticks": ""
           }
          },
          "scene": {
           "xaxis": {
            "backgroundcolor": "#E5ECF6",
            "gridcolor": "white",
            "gridwidth": 2,
            "linecolor": "white",
            "showbackground": true,
            "ticks": "",
            "zerolinecolor": "white"
           },
           "yaxis": {
            "backgroundcolor": "#E5ECF6",
            "gridcolor": "white",
            "gridwidth": 2,
            "linecolor": "white",
            "showbackground": true,
            "ticks": "",
            "zerolinecolor": "white"
           },
           "zaxis": {
            "backgroundcolor": "#E5ECF6",
            "gridcolor": "white",
            "gridwidth": 2,
            "linecolor": "white",
            "showbackground": true,
            "ticks": "",
            "zerolinecolor": "white"
           }
          },
          "shapedefaults": {
           "line": {
            "color": "#2a3f5f"
           }
          },
          "ternary": {
           "aaxis": {
            "gridcolor": "white",
            "linecolor": "white",
            "ticks": ""
           },
           "baxis": {
            "gridcolor": "white",
            "linecolor": "white",
            "ticks": ""
           },
           "bgcolor": "#E5ECF6",
           "caxis": {
            "gridcolor": "white",
            "linecolor": "white",
            "ticks": ""
           }
          },
          "title": {
           "x": 0.05
          },
          "xaxis": {
           "automargin": true,
           "gridcolor": "white",
           "linecolor": "white",
           "ticks": "",
           "title": {
            "standoff": 15
           },
           "zerolinecolor": "white",
           "zerolinewidth": 2
          },
          "yaxis": {
           "automargin": true,
           "gridcolor": "white",
           "linecolor": "white",
           "ticks": "",
           "title": {
            "standoff": 15
           },
           "zerolinecolor": "white",
           "zerolinewidth": 2
          }
         }
        },
        "title": {
         "font": {
          "color": "#4D5663"
         },
         "text": "Topic 0: Top 100 words after removing stop words"
        },
        "xaxis": {
         "gridcolor": "#E1E5ED",
         "linecolor": "black",
         "showgrid": true,
         "tickfont": {
          "color": "#4D5663"
         },
         "title": {
          "font": {
           "color": "#4D5663"
          },
          "text": ""
         },
         "zerolinecolor": "#E1E5ED"
        },
        "yaxis": {
         "gridcolor": "#E1E5ED",
         "linecolor": "black",
         "showgrid": true,
         "tickfont": {
          "color": "#4D5663"
         },
         "title": {
          "font": {
           "color": "#4D5663"
          },
          "text": "Count"
         },
         "zerolinecolor": "#E1E5ED"
        }
       }
      },
      "text/html": [
       "<div>\n",
       "        \n",
       "        \n",
       "            <div id=\"86c146e3-59a6-4c22-b697-0ec5253aadb9\" class=\"plotly-graph-div\" style=\"height:525px; width:100%;\"></div>\n",
       "            <script type=\"text/javascript\">\n",
       "                require([\"plotly\"], function(Plotly) {\n",
       "                    window.PLOTLYENV=window.PLOTLYENV || {};\n",
       "                    window.PLOTLYENV.BASE_URL='https://plot.ly';\n",
       "                    \n",
       "                if (document.getElementById(\"86c146e3-59a6-4c22-b697-0ec5253aadb9\")) {\n",
       "                    Plotly.newPlot(\n",
       "                        '86c146e3-59a6-4c22-b697-0ec5253aadb9',\n",
       "                        [{\"marker\": {\"color\": \"rgba(255, 153, 51, 0.6)\", \"line\": {\"color\": \"rgba(255, 153, 51, 1.0)\", \"width\": 1}}, \"name\": \"count\", \"orientation\": \"v\", \"text\": \"\", \"type\": \"bar\", \"x\": [\"loan\", \"business\", \"group\", \"sell\", \"child\", \"member\", \"small\", \"live\", \"community\", \"buy\", \"able\", \"support\", \"year\", \"woman\", \"family\", \"store\", \"hope\", \"help\", \"thank\", \"go\", \"make\", \"old\", \"clothing\", \"use\", \"age\", \"also\", \"work\", \"provide\", \"would\", \"life\", \"home\", \"well\", \"product\", \"together\", \"first\", \"expand\", \"want\", \"grow\", \"food\", \"note\", \"large\", \"take\", \"purchase\", \"continue\", \"receive\", \"house\", \"behalf\", \"entrepreneur\", \"town\", \"people\", \"profit\", \"day\", \"mother\", \"start\", \"dream\", \"new\", \"future\", \"call\", \"husband\", \"need\", \"share\", \"like\", \"time\", \"improve\", \"sale\", \"good\", \"pay\", \"say\", \"run\", \"money\", \"increase\", \"school\", \"include\", \"hard\", \"item\", \"clothe\", \"person\", \"invest\", \"order\", \"come\", \"allow\", \"coordinator\", \"currently\", \"part\", \"education\", \"shoe\", \"see\", \"young\", \"plan\", \"next\", \"bank_hope_solidarity\", \"supply\", \"grandchild\", \"many\", \"raise\", \"shop\", \"open\", \"merchandise\", \"training_course\", \"second\"], \"y\": [764, 588, 576, 349, 330, 236, 235, 220, 195, 187, 182, 177, 171, 164, 159, 157, 156, 151, 150, 143, 141, 133, 132, 130, 112, 112, 107, 105, 97, 96, 95, 94, 93, 90, 89, 87, 87, 85, 84, 82, 81, 81, 80, 80, 80, 79, 76, 74, 72, 71, 70, 68, 68, 67, 66, 66, 65, 65, 64, 63, 63, 60, 59, 59, 58, 58, 57, 55, 55, 55, 52, 51, 50, 47, 46, 45, 45, 45, 44, 44, 44, 44, 43, 42, 41, 39, 39, 39, 38, 38, 38, 38, 38, 37, 37, 37, 37, 36, 35, 34]}],\n",
       "                        {\"legend\": {\"bgcolor\": \"#F5F6F9\", \"font\": {\"color\": \"#4D5663\"}}, \"paper_bgcolor\": \"#F5F6F9\", \"plot_bgcolor\": \"#F5F6F9\", \"template\": {\"data\": {\"bar\": [{\"error_x\": {\"color\": \"#2a3f5f\"}, \"error_y\": {\"color\": \"#2a3f5f\"}, \"marker\": {\"line\": {\"color\": \"#E5ECF6\", \"width\": 0.5}}, \"type\": \"bar\"}], \"barpolar\": [{\"marker\": {\"line\": {\"color\": \"#E5ECF6\", \"width\": 0.5}}, \"type\": \"barpolar\"}], \"carpet\": [{\"aaxis\": {\"endlinecolor\": \"#2a3f5f\", \"gridcolor\": \"white\", \"linecolor\": \"white\", \"minorgridcolor\": \"white\", \"startlinecolor\": \"#2a3f5f\"}, \"baxis\": {\"endlinecolor\": \"#2a3f5f\", \"gridcolor\": \"white\", \"linecolor\": \"white\", \"minorgridcolor\": \"white\", \"startlinecolor\": \"#2a3f5f\"}, \"type\": \"carpet\"}], \"choropleth\": [{\"colorbar\": {\"outlinewidth\": 0, \"ticks\": \"\"}, \"type\": \"choropleth\"}], \"contour\": [{\"colorbar\": {\"outlinewidth\": 0, \"ticks\": \"\"}, \"colorscale\": [[0.0, \"#0d0887\"], [0.1111111111111111, \"#46039f\"], [0.2222222222222222, \"#7201a8\"], [0.3333333333333333, \"#9c179e\"], [0.4444444444444444, \"#bd3786\"], [0.5555555555555556, \"#d8576b\"], [0.6666666666666666, \"#ed7953\"], [0.7777777777777778, \"#fb9f3a\"], [0.8888888888888888, \"#fdca26\"], [1.0, \"#f0f921\"]], \"type\": \"contour\"}], \"contourcarpet\": [{\"colorbar\": {\"outlinewidth\": 0, \"ticks\": \"\"}, \"type\": \"contourcarpet\"}], \"heatmap\": [{\"colorbar\": {\"outlinewidth\": 0, \"ticks\": \"\"}, \"colorscale\": [[0.0, \"#0d0887\"], [0.1111111111111111, \"#46039f\"], [0.2222222222222222, \"#7201a8\"], [0.3333333333333333, \"#9c179e\"], [0.4444444444444444, \"#bd3786\"], [0.5555555555555556, \"#d8576b\"], [0.6666666666666666, \"#ed7953\"], [0.7777777777777778, \"#fb9f3a\"], [0.8888888888888888, \"#fdca26\"], [1.0, \"#f0f921\"]], \"type\": \"heatmap\"}], \"heatmapgl\": [{\"colorbar\": {\"outlinewidth\": 0, \"ticks\": \"\"}, \"colorscale\": [[0.0, \"#0d0887\"], [0.1111111111111111, \"#46039f\"], [0.2222222222222222, \"#7201a8\"], [0.3333333333333333, \"#9c179e\"], [0.4444444444444444, \"#bd3786\"], [0.5555555555555556, \"#d8576b\"], [0.6666666666666666, \"#ed7953\"], [0.7777777777777778, \"#fb9f3a\"], [0.8888888888888888, \"#fdca26\"], [1.0, \"#f0f921\"]], \"type\": \"heatmapgl\"}], \"histogram\": [{\"marker\": {\"colorbar\": {\"outlinewidth\": 0, \"ticks\": \"\"}}, \"type\": \"histogram\"}], \"histogram2d\": [{\"colorbar\": {\"outlinewidth\": 0, \"ticks\": \"\"}, \"colorscale\": [[0.0, \"#0d0887\"], [0.1111111111111111, \"#46039f\"], [0.2222222222222222, \"#7201a8\"], [0.3333333333333333, \"#9c179e\"], [0.4444444444444444, \"#bd3786\"], [0.5555555555555556, \"#d8576b\"], [0.6666666666666666, \"#ed7953\"], [0.7777777777777778, \"#fb9f3a\"], [0.8888888888888888, \"#fdca26\"], [1.0, \"#f0f921\"]], \"type\": \"histogram2d\"}], \"histogram2dcontour\": [{\"colorbar\": {\"outlinewidth\": 0, \"ticks\": \"\"}, \"colorscale\": [[0.0, \"#0d0887\"], [0.1111111111111111, \"#46039f\"], [0.2222222222222222, \"#7201a8\"], [0.3333333333333333, \"#9c179e\"], [0.4444444444444444, \"#bd3786\"], [0.5555555555555556, \"#d8576b\"], [0.6666666666666666, \"#ed7953\"], [0.7777777777777778, \"#fb9f3a\"], [0.8888888888888888, \"#fdca26\"], [1.0, \"#f0f921\"]], \"type\": \"histogram2dcontour\"}], \"mesh3d\": [{\"colorbar\": {\"outlinewidth\": 0, \"ticks\": \"\"}, \"type\": \"mesh3d\"}], \"parcoords\": [{\"line\": {\"colorbar\": {\"outlinewidth\": 0, \"ticks\": \"\"}}, \"type\": \"parcoords\"}], \"pie\": [{\"automargin\": true, \"type\": \"pie\"}], \"scatter\": [{\"marker\": {\"colorbar\": {\"outlinewidth\": 0, \"ticks\": \"\"}}, \"type\": \"scatter\"}], \"scatter3d\": [{\"line\": {\"colorbar\": {\"outlinewidth\": 0, \"ticks\": \"\"}}, \"marker\": {\"colorbar\": {\"outlinewidth\": 0, \"ticks\": \"\"}}, \"type\": \"scatter3d\"}], \"scattercarpet\": [{\"marker\": {\"colorbar\": {\"outlinewidth\": 0, \"ticks\": \"\"}}, \"type\": \"scattercarpet\"}], \"scattergeo\": [{\"marker\": {\"colorbar\": {\"outlinewidth\": 0, \"ticks\": \"\"}}, \"type\": \"scattergeo\"}], \"scattergl\": [{\"marker\": {\"colorbar\": {\"outlinewidth\": 0, \"ticks\": \"\"}}, \"type\": \"scattergl\"}], \"scattermapbox\": [{\"marker\": {\"colorbar\": {\"outlinewidth\": 0, \"ticks\": \"\"}}, \"type\": \"scattermapbox\"}], \"scatterpolar\": [{\"marker\": {\"colorbar\": {\"outlinewidth\": 0, \"ticks\": \"\"}}, \"type\": \"scatterpolar\"}], \"scatterpolargl\": [{\"marker\": {\"colorbar\": {\"outlinewidth\": 0, \"ticks\": \"\"}}, \"type\": \"scatterpolargl\"}], \"scatterternary\": [{\"marker\": {\"colorbar\": {\"outlinewidth\": 0, \"ticks\": \"\"}}, \"type\": \"scatterternary\"}], \"surface\": [{\"colorbar\": {\"outlinewidth\": 0, \"ticks\": \"\"}, \"colorscale\": [[0.0, \"#0d0887\"], [0.1111111111111111, \"#46039f\"], [0.2222222222222222, \"#7201a8\"], [0.3333333333333333, \"#9c179e\"], [0.4444444444444444, \"#bd3786\"], [0.5555555555555556, \"#d8576b\"], [0.6666666666666666, \"#ed7953\"], [0.7777777777777778, \"#fb9f3a\"], [0.8888888888888888, \"#fdca26\"], [1.0, \"#f0f921\"]], \"type\": \"surface\"}], \"table\": [{\"cells\": {\"fill\": {\"color\": \"#EBF0F8\"}, \"line\": {\"color\": \"white\"}}, \"header\": {\"fill\": {\"color\": \"#C8D4E3\"}, \"line\": {\"color\": \"white\"}}, \"type\": \"table\"}]}, \"layout\": {\"annotationdefaults\": {\"arrowcolor\": \"#2a3f5f\", \"arrowhead\": 0, \"arrowwidth\": 1}, \"coloraxis\": {\"colorbar\": {\"outlinewidth\": 0, \"ticks\": \"\"}}, \"colorscale\": {\"diverging\": [[0, \"#8e0152\"], [0.1, \"#c51b7d\"], [0.2, \"#de77ae\"], [0.3, \"#f1b6da\"], [0.4, \"#fde0ef\"], [0.5, \"#f7f7f7\"], [0.6, \"#e6f5d0\"], [0.7, \"#b8e186\"], [0.8, \"#7fbc41\"], [0.9, \"#4d9221\"], [1, \"#276419\"]], \"sequential\": [[0.0, \"#0d0887\"], [0.1111111111111111, \"#46039f\"], [0.2222222222222222, \"#7201a8\"], [0.3333333333333333, \"#9c179e\"], [0.4444444444444444, \"#bd3786\"], [0.5555555555555556, \"#d8576b\"], [0.6666666666666666, \"#ed7953\"], [0.7777777777777778, \"#fb9f3a\"], [0.8888888888888888, \"#fdca26\"], [1.0, \"#f0f921\"]], \"sequentialminus\": [[0.0, \"#0d0887\"], [0.1111111111111111, \"#46039f\"], [0.2222222222222222, \"#7201a8\"], [0.3333333333333333, \"#9c179e\"], [0.4444444444444444, \"#bd3786\"], [0.5555555555555556, \"#d8576b\"], [0.6666666666666666, \"#ed7953\"], [0.7777777777777778, \"#fb9f3a\"], [0.8888888888888888, \"#fdca26\"], [1.0, \"#f0f921\"]]}, \"colorway\": [\"#636efa\", \"#EF553B\", \"#00cc96\", \"#ab63fa\", \"#FFA15A\", \"#19d3f3\", \"#FF6692\", \"#B6E880\", \"#FF97FF\", \"#FECB52\"], \"font\": {\"color\": \"#2a3f5f\"}, \"geo\": {\"bgcolor\": \"white\", \"lakecolor\": \"white\", \"landcolor\": \"#E5ECF6\", \"showlakes\": true, \"showland\": true, \"subunitcolor\": \"white\"}, \"hoverlabel\": {\"align\": \"left\"}, \"hovermode\": \"closest\", \"mapbox\": {\"style\": \"light\"}, \"paper_bgcolor\": \"white\", \"plot_bgcolor\": \"#E5ECF6\", \"polar\": {\"angularaxis\": {\"gridcolor\": \"white\", \"linecolor\": \"white\", \"ticks\": \"\"}, \"bgcolor\": \"#E5ECF6\", \"radialaxis\": {\"gridcolor\": \"white\", \"linecolor\": \"white\", \"ticks\": \"\"}}, \"scene\": {\"xaxis\": {\"backgroundcolor\": \"#E5ECF6\", \"gridcolor\": \"white\", \"gridwidth\": 2, \"linecolor\": \"white\", \"showbackground\": true, \"ticks\": \"\", \"zerolinecolor\": \"white\"}, \"yaxis\": {\"backgroundcolor\": \"#E5ECF6\", \"gridcolor\": \"white\", \"gridwidth\": 2, \"linecolor\": \"white\", \"showbackground\": true, \"ticks\": \"\", \"zerolinecolor\": \"white\"}, \"zaxis\": {\"backgroundcolor\": \"#E5ECF6\", \"gridcolor\": \"white\", \"gridwidth\": 2, \"linecolor\": \"white\", \"showbackground\": true, \"ticks\": \"\", \"zerolinecolor\": \"white\"}}, \"shapedefaults\": {\"line\": {\"color\": \"#2a3f5f\"}}, \"ternary\": {\"aaxis\": {\"gridcolor\": \"white\", \"linecolor\": \"white\", \"ticks\": \"\"}, \"baxis\": {\"gridcolor\": \"white\", \"linecolor\": \"white\", \"ticks\": \"\"}, \"bgcolor\": \"#E5ECF6\", \"caxis\": {\"gridcolor\": \"white\", \"linecolor\": \"white\", \"ticks\": \"\"}}, \"title\": {\"x\": 0.05}, \"xaxis\": {\"automargin\": true, \"gridcolor\": \"white\", \"linecolor\": \"white\", \"ticks\": \"\", \"title\": {\"standoff\": 15}, \"zerolinecolor\": \"white\", \"zerolinewidth\": 2}, \"yaxis\": {\"automargin\": true, \"gridcolor\": \"white\", \"linecolor\": \"white\", \"ticks\": \"\", \"title\": {\"standoff\": 15}, \"zerolinecolor\": \"white\", \"zerolinewidth\": 2}}}, \"title\": {\"font\": {\"color\": \"#4D5663\"}, \"text\": \"Topic 0: Top 100 words after removing stop words\"}, \"xaxis\": {\"gridcolor\": \"#E1E5ED\", \"linecolor\": \"black\", \"showgrid\": true, \"tickfont\": {\"color\": \"#4D5663\"}, \"title\": {\"font\": {\"color\": \"#4D5663\"}, \"text\": \"\"}, \"zerolinecolor\": \"#E1E5ED\"}, \"yaxis\": {\"gridcolor\": \"#E1E5ED\", \"linecolor\": \"black\", \"showgrid\": true, \"tickfont\": {\"color\": \"#4D5663\"}, \"title\": {\"font\": {\"color\": \"#4D5663\"}, \"text\": \"Count\"}, \"zerolinecolor\": \"#E1E5ED\"}},\n",
       "                        {\"showLink\": true, \"linkText\": \"Export to plot.ly\", \"plotlyServerURL\": \"https://plot.ly\", \"responsive\": true}\n",
       "                    ).then(function(){\n",
       "                            \n",
       "var gd = document.getElementById('86c146e3-59a6-4c22-b697-0ec5253aadb9');\n",
       "var x = new MutationObserver(function (mutations, observer) {{\n",
       "        var display = window.getComputedStyle(gd).display;\n",
       "        if (!display || display === 'none') {{\n",
       "            console.log([gd, 'removed!']);\n",
       "            Plotly.purge(gd);\n",
       "            observer.disconnect();\n",
       "        }}\n",
       "}});\n",
       "\n",
       "// Listen for the removal of the full notebook cells\n",
       "var notebookContainer = gd.closest('#notebook-container');\n",
       "if (notebookContainer) {{\n",
       "    x.observe(notebookContainer, {childList: true});\n",
       "}}\n",
       "\n",
       "// Listen for the clearing of the current output cell\n",
       "var outputEl = gd.closest('.output');\n",
       "if (outputEl) {{\n",
       "    x.observe(outputEl, {childList: true});\n",
       "}}\n",
       "\n",
       "                        })\n",
       "                };\n",
       "                });\n",
       "            </script>\n",
       "        </div>"
      ]
     },
     "metadata": {},
     "output_type": "display_data"
    }
   ],
   "source": [
    "plot_model(lda)"
   ]
  },
  {
   "cell_type": "code",
   "execution_count": 13,
   "metadata": {},
   "outputs": [
    {
     "data": {
      "text/html": [
       "        <script type=\"text/javascript\">\n",
       "        window.PlotlyConfig = {MathJaxConfig: 'local'};\n",
       "        if (window.MathJax) {MathJax.Hub.Config({SVG: {font: \"STIX-Web\"}});}\n",
       "        if (typeof require !== 'undefined') {\n",
       "        require.undef(\"plotly\");\n",
       "        requirejs.config({\n",
       "            paths: {\n",
       "                'plotly': ['https://cdn.plot.ly/plotly-latest.min']\n",
       "            }\n",
       "        });\n",
       "        require(['plotly'], function(Plotly) {\n",
       "            window._Plotly = Plotly;\n",
       "        });\n",
       "        }\n",
       "        </script>\n",
       "        "
      ]
     },
     "metadata": {},
     "output_type": "display_data"
    },
    {
     "data": {
      "application/vnd.plotly.v1+json": {
       "config": {
        "plotlyServerURL": "https://plot.ly"
       },
       "data": [
        {
         "hoverlabel": {
          "namelength": 0
         },
         "hovertemplate": "Dominant_Topic=Topic 0<br>0=%{x}<br>1=%{y}<br>2=%{z}",
         "legendgroup": "Dominant_Topic=Topic 0",
         "marker": {
          "color": "#636efa",
          "opacity": 0.7,
          "symbol": "circle"
         },
         "mode": "markers",
         "name": "Dominant_Topic=Topic 0",
         "scene": "scene",
         "showlegend": true,
         "type": "scatter3d",
         "x": [
          0.509924054145813,
          -3.1948118209838867,
          -3.6725430488586426,
          0.22821027040481567,
          -4.293271064758301,
          -3.1693196296691895,
          -5.1926493644714355,
          -1.080970048904419,
          -3.461036205291748,
          -2.117798328399658,
          -1.974952220916748,
          -3.308950901031494,
          0.7203124761581421,
          1.6578702926635742,
          -1.0465370416641235,
          -5.571745872497559,
          -3.625227928161621,
          -2.6337296962738037,
          -1.4817787408828735,
          -2.970963716506958,
          -5.994202613830566,
          -4.978179931640625,
          -5.143514633178711,
          -1.0654315948486328,
          1.3627333641052246,
          -4.981442451477051,
          0.9439240097999573,
          -5.54210901260376,
          -1.8391451835632324,
          -2.9992470741271973,
          -5.413427352905273,
          -3.9385790824890137,
          -2.965902090072632,
          -2.987617015838623,
          -5.3578338623046875,
          -1.7693439722061157,
          -3.337726354598999,
          -3.5390613079071045,
          -6.183692932128906,
          -2.0424258708953857,
          -6.124149799346924,
          -5.506053447723389,
          -1.4761208295822144,
          -3.808896064758301,
          -1.7218014001846313,
          -3.5114376544952393,
          -3.549863815307617,
          -5.294620037078857,
          -0.4222860038280487,
          -5.449119567871094,
          -3.348034143447876,
          -2.9893040657043457,
          -5.450638771057129,
          -5.167238235473633,
          -5.912467002868652,
          -6.090895175933838,
          -0.452744722366333,
          -4.951919078826904,
          -3.213961601257324,
          -4.981683731079102,
          -1.6758723258972168,
          -3.565711736679077,
          -4.318368911743164,
          -4.3297953605651855,
          -2.250598192214966,
          -3.247433662414551,
          -3.572435140609741,
          -3.4907917976379395,
          -3.309985399246216,
          -2.684711456298828,
          -4.2911601066589355,
          -5.522068977355957,
          -1.8784924745559692,
          0.3373381793498993,
          -5.005683422088623,
          -4.640517234802246,
          -3.1615309715270996,
          -4.375729084014893,
          -3.8770649433135986,
          -5.367837429046631,
          -2.4294686317443848,
          0.24971821904182434,
          -3.4876487255096436,
          -2.518749475479126,
          -1.148472785949707,
          -0.9882456660270691,
          -2.0025229454040527,
          -3.98205304145813,
          -6.199365615844727,
          -4.571135997772217,
          -1.8947644233703613,
          -4.56325101852417,
          -6.164239406585693,
          -3.297802209854126,
          -6.139647483825684,
          0.6083984375,
          -1.3191044330596924,
          -2.835526943206787,
          -5.310161113739014,
          -5.943295001983643,
          -0.7190449237823486,
          -1.4625697135925293,
          -0.49406108260154724,
          -1.4926787614822388,
          -5.865688800811768,
          -6.183584213256836,
          -3.936588764190674,
          1.7618805170059204,
          -1.8988170623779297,
          -5.200034141540527,
          -2.968221664428711,
          -1.5752297639846802,
          -6.142285346984863,
          -3.7405948638916016,
          -1.830515742301941,
          -5.948834419250488,
          -0.2625557780265808,
          -3.4350833892822266,
          -5.728453159332275,
          -1.2614377737045288,
          -1.6849924325942993,
          -2.834249258041382,
          -1.3862031698226929,
          -2.9937894344329834,
          -0.8821932673454285,
          1.2676060199737549,
          -1.5353474617004395,
          -0.47127291560173035,
          -3.325584650039673,
          -6.116941452026367,
          -6.192688465118408,
          1.086034893989563,
          -3.0294599533081055,
          -2.921553373336792,
          -6.049687385559082,
          -2.8689262866973877,
          -3.6750123500823975,
          -3.6064608097076416,
          -1.1446815729141235,
          -1.2162299156188965,
          -1.9232100248336792,
          1.2750555276870728,
          -0.5244265794754028,
          -0.32848986983299255,
          -2.891072988510132,
          -4.042660236358643,
          -6.068962574005127,
          -5.681503772735596,
          -3.276893138885498,
          -3.651660203933716,
          -1.5565820932388306,
          -3.609360933303833,
          -3.854649543762207,
          -3.1080360412597656,
          -0.43273594975471497,
          -6.122377395629883,
          -3.685018539428711,
          -0.9020431041717529,
          -5.375583648681641,
          -5.930418491363525,
          -4.535094738006592,
          -1.8154247999191284,
          -4.969320297241211,
          -3.3801510334014893,
          -4.301555156707764,
          -2.960404872894287,
          -1.598677396774292,
          -0.8482252955436707,
          -3.630053997039795,
          -4.604467868804932,
          -1.6946296691894531,
          -3.1321301460266113,
          -4.37380313873291,
          -2.1288158893585205,
          -1.2933683395385742,
          -4.80623197555542,
          -5.700012683868408,
          -4.917968273162842,
          -5.889827728271484,
          -5.016709804534912,
          -2.681562900543213,
          -3.0851147174835205,
          -5.350179195404053,
          -2.530784845352173,
          -2.421609401702881,
          1.5420308113098145,
          -0.21474316716194153,
          -6.1621246337890625,
          -0.6700402498245239,
          -3.0743279457092285,
          -2.8838071823120117,
          -3.7205381393432617,
          -3.2013068199157715,
          -1.3182942867279053,
          -3.6239213943481445,
          -3.0971486568450928,
          -3.3209383487701416,
          -3.4564871788024902,
          -6.083248615264893,
          -5.554121017456055,
          -5.263970375061035,
          -0.9991881847381592,
          -2.653749704360962,
          -2.9207818508148193,
          -6.199949264526367,
          -3.6279027462005615,
          -4.719553470611572,
          -3.544414520263672,
          -6.185243606567383,
          -3.3089349269866943,
          -2.548354148864746,
          -5.31121826171875,
          -4.3548054695129395,
          -3.7888619899749756,
          -5.841489315032959,
          -4.001952648162842,
          -5.253596305847168,
          -5.330343723297119,
          -3.8792407512664795,
          -1.599624752998352,
          -3.5490474700927734,
          -1.3709349632263184,
          -5.821114540100098,
          -1.5890414714813232,
          -5.915829181671143,
          -5.712443828582764,
          -3.0779550075531006,
          -3.4843175411224365,
          -6.016196250915527,
          -6.081608295440674,
          -4.101911544799805,
          -4.994894027709961,
          -2.7116847038269043,
          -3.507734537124634,
          -3.0393612384796143,
          -2.4289097785949707,
          -5.523563861846924,
          -4.206284999847412,
          -0.45421215891838074,
          -2.8631887435913086,
          -5.101898670196533,
          0.9590456485748291,
          -2.925398111343384,
          -1.6504542827606201,
          -5.65899658203125,
          -1.891178011894226,
          -2.6472370624542236,
          -4.3844146728515625,
          -4.000064373016357,
          -1.4017597436904907,
          -5.141384601593018,
          -6.049225330352783,
          -1.8273934125900269,
          -4.398016452789307,
          -6.122398376464844,
          -1.7564210891723633,
          -4.1370720863342285,
          -3.5601096153259277,
          -3.8232405185699463,
          -5.526054859161377,
          -2.0833399295806885,
          -6.03481388092041,
          -5.614145755767822,
          2.432924747467041,
          -6.087446689605713,
          -2.1684305667877197,
          -0.5548442602157593,
          -5.584491729736328,
          -1.1170258522033691,
          -6.242691516876221,
          -3.7105045318603516,
          -5.72049617767334,
          -0.4646991789340973,
          -3.8819425106048584,
          -3.4082703590393066,
          -5.225452899932861,
          -6.125617980957031
         ],
         "y": [
          3.903364658355713,
          6.905043601989746,
          7.532355785369873,
          6.182366371154785,
          12.784276962280273,
          9.425414085388184,
          6.195563793182373,
          2.951087713241577,
          12.493668556213379,
          9.640911102294922,
          1.7383770942687988,
          6.849090576171875,
          3.197805643081665,
          3.5447568893432617,
          6.294485569000244,
          9.713554382324219,
          6.515740871429443,
          9.127946853637695,
          4.4126458168029785,
          10.891438484191895,
          13.638171195983887,
          9.809216499328613,
          13.657840728759766,
          6.198507785797119,
          3.6767568588256836,
          13.649445533752441,
          3.4387004375457764,
          13.867215156555176,
          4.777748107910156,
          5.987452030181885,
          13.228116035461426,
          13.263555526733398,
          10.61383056640625,
          11.128936767578125,
          10.530071258544922,
          5.8224029541015625,
          6.2170538902282715,
          6.381825923919678,
          13.245267868041992,
          4.891019344329834,
          11.712467193603516,
          9.612927436828613,
          5.7020978927612305,
          6.900651931762695,
          6.250000953674316,
          12.13633918762207,
          11.091593742370605,
          13.639278411865234,
          9.662017822265625,
          9.50858211517334,
          11.748930931091309,
          10.21134090423584,
          9.421381950378418,
          8.904158592224121,
          13.431440353393555,
          13.632709503173828,
          9.732481002807617,
          8.95812702178955,
          9.26816463470459,
          8.572361946105957,
          6.651423454284668,
          12.064827919006348,
          7.8635101318359375,
          13.190315246582031,
          2.008864402770996,
          8.217013359069824,
          7.702297687530518,
          9.0385160446167,
          6.7905097007751465,
          7.962588310241699,
          8.963671684265137,
          10.587396621704102,
          8.649829864501953,
          3.6658143997192383,
          6.358207702636719,
          9.453681945800781,
          9.493022918701172,
          13.062697410583496,
          11.000669479370117,
          13.552488327026367,
          6.02857780456543,
          3.533647298812866,
          12.004758834838867,
          6.700465202331543,
          4.255063056945801,
          6.362059593200684,
          6.437290668487549,
          13.247210502624512,
          12.898221969604492,
          6.40352725982666,
          8.874627113342285,
          11.537790298461914,
          12.731730461120605,
          11.149060249328613,
          12.073118209838867,
          4.0479817390441895,
          7.296056270599365,
          10.159299850463867,
          10.285408020019531,
          10.583860397338867,
          6.9640936851501465,
          5.8425445556640625,
          6.022078037261963,
          6.095344066619873,
          13.531482696533203,
          12.744949340820312,
          13.260170936584473,
          2.937372922897339,
          9.48704719543457,
          10.74655532836914,
          9.827339172363281,
          8.254003524780273,
          11.739570617675781,
          7.949568748474121,
          6.461200714111328,
          13.673788070678711,
          0.9416709542274475,
          6.447937965393066,
          13.831181526184082,
          6.778481960296631,
          4.74300479888916,
          9.516511917114258,
          4.999107837677002,
          5.966972351074219,
          3.990276575088501,
          3.0250473022460938,
          6.573894500732422,
          6.697237491607666,
          11.53488540649414,
          11.678898811340332,
          11.46406364440918,
          3.3635966777801514,
          6.78661584854126,
          5.582701683044434,
          10.922733306884766,
          6.327519416809082,
          9.203725814819336,
          6.396117210388184,
          7.2451395988464355,
          5.303676128387451,
          9.29238510131836,
          3.8415348529815674,
          3.7581191062927246,
          6.047520160675049,
          6.57766580581665,
          6.1577348709106445,
          11.021803855895996,
          12.903314590454102,
          9.293967247009277,
          11.807458877563477,
          1.8380863666534424,
          8.568501472473145,
          8.003192901611328,
          9.593294143676758,
          6.640542507171631,
          13.432961463928223,
          6.809671878814697,
          6.287045478820801,
          12.507149696350098,
          11.180036544799805,
          13.413300514221191,
          4.729727745056152,
          8.584271430969238,
          10.928055763244629,
          7.5238037109375,
          10.104085922241211,
          4.4874372482299805,
          3.1059226989746094,
          6.774909496307373,
          13.445283889770508,
          6.192972660064697,
          5.834144592285156,
          7.615928649902344,
          9.818950653076172,
          4.329975128173828,
          8.908082008361816,
          13.926115036010742,
          13.40963077545166,
          13.839622497558594,
          13.67135238647461,
          5.236923694610596,
          5.777567386627197,
          9.419472694396973,
          1.1833837032318115,
          8.124845504760742,
          3.338479995727539,
          3.67083740234375,
          12.45496940612793,
          3.1529033184051514,
          10.734437942504883,
          6.025628089904785,
          12.637544631958008,
          6.362639427185059,
          8.109447479248047,
          12.63568115234375,
          7.109918594360352,
          6.080075740814209,
          10.05627155303955,
          13.534318923950195,
          13.880655288696289,
          11.316402435302734,
          7.18741512298584,
          6.154043197631836,
          5.178963661193848,
          13.310402870178223,
          11.236933708190918,
          8.724438667297363,
          6.588494300842285,
          13.090571403503418,
          6.0542893409729,
          1.2944220304489136,
          9.222140312194824,
          13.326177597045898,
          6.823791980743408,
          13.766792297363281,
          12.728550910949707,
          9.094690322875977,
          9.282194137573242,
          6.865169525146484,
          8.41774845123291,
          7.858499050140381,
          5.575427055358887,
          12.803954124450684,
          9.249963760375977,
          10.587721824645996,
          10.025487899780273,
          11.121593475341797,
          7.77604866027832,
          11.030466079711914,
          11.037310600280762,
          8.85813045501709,
          9.898357391357422,
          5.341523170471191,
          9.156063079833984,
          8.878658294677734,
          5.885705947875977,
          11.592450141906738,
          12.951312065124512,
          9.764304161071777,
          6.696178436279297,
          8.946191787719727,
          3.239677906036377,
          5.856881141662598,
          9.283272743225098,
          13.882662773132324,
          4.788406848907471,
          6.084667205810547,
          13.30090618133545,
          7.042560577392578,
          6.148494243621826,
          11.582015037536621,
          13.683204650878906,
          5.774341106414795,
          9.431451797485352,
          13.43293571472168,
          9.131600379943848,
          10.92428207397461,
          7.321628093719482,
          6.783664226531982,
          10.388322830200195,
          5.019257068634033,
          11.43156623840332,
          10.323108673095703,
          4.216457843780518,
          11.668682098388672,
          8.723713874816895,
          6.754339694976807,
          13.910110473632812,
          4.694277763366699,
          11.965893745422363,
          11.523338317871094,
          11.62610149383545,
          9.700794219970703,
          8.746805191040039,
          6.191851615905762,
          13.37496280670166,
          11.225459098815918
         ],
         "z": [
          -5.977935314178467,
          -4.661407470703125,
          -3.2972617149353027,
          -9.086935043334961,
          -9.626419067382812,
          -7.995390892028809,
          -0.5398545861244202,
          -3.795954942703247,
          -6.2024431228637695,
          -4.6106438636779785,
          -3.6219398975372314,
          -3.8666207790374756,
          -4.268533706665039,
          -6.894590377807617,
          -6.639382362365723,
          -1.6867883205413818,
          -0.5068131685256958,
          -4.323030948638916,
          -1.1900475025177002,
          -7.320370197296143,
          -7.303887367248535,
          -5.074140548706055,
          -9.321760177612305,
          -6.860543251037598,
          -6.675595760345459,
          -9.724752426147461,
          -5.489810943603516,
          -8.71976089477539,
          -1.1912670135498047,
          -1.7710787057876587,
          -7.093922138214111,
          -11.677459716796875,
          -9.704980850219727,
          -7.802770614624023,
          -5.132623195648193,
          -6.079373359680176,
          -0.8145432472229004,
          0.5518790483474731,
          -6.348870754241943,
          -0.6411688327789307,
          -4.394466400146484,
          -1.650286078453064,
          -5.092982769012451,
          -1.5703853368759155,
          -6.7403364181518555,
          -10.814008712768555,
          -9.115026473999023,
          -8.921979904174805,
          -4.774600982666016,
          -1.5851305723190308,
          -10.572722434997559,
          -7.333159923553467,
          -1.3848737478256226,
          -1.0469979047775269,
          -7.103906631469727,
          -7.09260892868042,
          -4.844616413116455,
          -1.9299535751342773,
          -7.760433197021484,
          -0.801960825920105,
          -4.58766508102417,
          -10.552041053771973,
          -1.8943967819213867,
          -10.56748104095459,
          -3.8559181690216064,
          -4.570614337921143,
          -5.094942569732666,
          -7.034862518310547,
          -3.6173157691955566,
          -9.738231658935547,
          -2.9014341831207275,
          -2.915940046310425,
          -9.339421272277832,
          -4.858027935028076,
          -0.49380728602409363,
          -5.394076824188232,
          -8.082503318786621,
          -10.201446533203125,
          -8.457270622253418,
          -8.569596290588379,
          -4.903423309326172,
          -4.365893840789795,
          -10.651026725769043,
          -4.421919345855713,
          -2.3941426277160645,
          -6.9274821281433105,
          -6.805088520050049,
          -11.5392427444458,
          -5.83815336227417,
          -0.46729686856269836,
          -9.398316383361816,
          -7.786569595336914,
          -5.689462661743164,
          -9.74820613861084,
          -4.818575382232666,
          -6.307758808135986,
          -8.545503616333008,
          -9.394325256347656,
          -4.853262901306152,
          -2.6635422706604004,
          -5.698999404907227,
          -6.663233280181885,
          -7.77899169921875,
          -6.993414878845215,
          -7.438024520874023,
          -5.6453962326049805,
          -11.676830291748047,
          -5.9290008544921875,
          -10.045068740844727,
          -3.1619222164154053,
          -8.555503845214844,
          -9.188393592834473,
          -4.348089694976807,
          -4.993781566619873,
          -4.784572601318359,
          -7.412393093109131,
          -4.534519672393799,
          -1.7275958061218262,
          -8.203845977783203,
          -8.043697357177734,
          -2.031374931335449,
          -8.586750984191895,
          -4.809969425201416,
          -1.6779377460479736,
          -2.3476274013519287,
          -5.528084754943848,
          -7.534856796264648,
          -8.870217323303223,
          -10.284847259521484,
          -4.331131935119629,
          -3.764194965362549,
          -5.74512243270874,
          -5.025238037109375,
          0.822041928768158,
          -3.0801620483398438,
          -4.261366367340088,
          -6.927826404571533,
          0.05819201096892357,
          -8.753743171691895,
          -6.019192695617676,
          -4.187735557556152,
          -6.804701328277588,
          -3.095486640930176,
          -8.163186073303223,
          -4.878227233886719,
          0.2129228115081787,
          -3.232896089553833,
          -5.779928207397461,
          -6.717507362365723,
          -9.932136535644531,
          -3.588951349258423,
          -5.824582099914551,
          -3.344860792160034,
          -8.289019584655762,
          -8.846031188964844,
          -6.734663009643555,
          -1.8661550283432007,
          -6.762805461883545,
          -7.335719585418701,
          -4.020966529846191,
          -10.44039249420166,
          -1.046925663948059,
          -0.9521691799163818,
          -9.242173194885254,
          -0.15712283551692963,
          -9.097965240478516,
          -0.939127504825592,
          -3.9271433353424072,
          -2.005302906036377,
          -10.318915367126465,
          -6.892894268035889,
          0.7482305765151978,
          -0.26717284321784973,
          -4.896547317504883,
          -1.8570868968963623,
          -2.419583320617676,
          -8.452281951904297,
          -9.432933807373047,
          -7.820430755615234,
          -9.67568588256836,
          0.90627521276474,
          0.8017823100090027,
          -1.6713546514511108,
          -3.4384689331054688,
          -9.614748001098633,
          -6.522536754608154,
          -3.7923574447631836,
          -5.275986194610596,
          -3.6345014572143555,
          -9.618033409118652,
          -2.7652416229248047,
          -5.835531234741211,
          -2.5924010276794434,
          -9.321538925170898,
          -6.05867338180542,
          -5.617063522338867,
          0.7111523747444153,
          -8.18688678741455,
          -6.96259880065918,
          -8.716621398925781,
          -6.422093391418457,
          -8.808215141296387,
          -4.467841625213623,
          0.8133249282836914,
          -6.422980785369873,
          -9.153870582580566,
          -2.256737232208252,
          -1.751672625541687,
          -6.125998020172119,
          0.6636887192726135,
          -3.457404136657715,
          -1.3557279109954834,
          -10.74370002746582,
          -1.3622071743011475,
          -7.793379306793213,
          -10.595725059509277,
          -1.2396973371505737,
          -1.4308733940124512,
          0.20950353145599365,
          -4.048194885253906,
          -5.5949482917785645,
          -6.361715793609619,
          -6.734663963317871,
          -3.743967294692993,
          -2.7002875804901123,
          -2.010669708251953,
          -10.210413932800293,
          -5.659632205963135,
          -3.366793632507324,
          -3.2292020320892334,
          -5.721480369567871,
          -5.2022013664245605,
          0.8188461065292358,
          -7.134519577026367,
          -7.699778079986572,
          -4.569085597991943,
          -6.099697589874268,
          -10.45466136932373,
          -4.87697172164917,
          -5.384204387664795,
          -1.4387357234954834,
          -5.335505485534668,
          -1.3836606740951538,
          -3.826118230819702,
          -8.463648796081543,
          -0.9432774782180786,
          -4.408199310302734,
          -10.593998908996582,
          0.09675709903240204,
          -7.185154438018799,
          -6.9216790199279785,
          -7.230750560760498,
          -5.830058574676514,
          -2.7982308864593506,
          -6.73457670211792,
          -9.818624496459961,
          -7.795156002044678,
          -4.001799583435059,
          0.27393534779548645,
          -2.6305482387542725,
          -1.2146482467651367,
          -4.289124965667725,
          -2.4804651737213135,
          -9.201850891113281,
          -4.398139953613281,
          -8.788649559020996,
          -8.837080001831055,
          -8.698201179504395,
          -4.68027925491333,
          -4.440109729766846,
          -9.375094413757324,
          -4.302903175354004,
          -4.8005781173706055,
          -6.0117058753967285,
          0.6369604468345642,
          -6.691083908081055,
          -3.478330135345459
         ]
        },
        {
         "hoverlabel": {
          "namelength": 0
         },
         "hovertemplate": "Dominant_Topic=Topic 1<br>0=%{x}<br>1=%{y}<br>2=%{z}",
         "legendgroup": "Dominant_Topic=Topic 1",
         "marker": {
          "color": "#EF553B",
          "opacity": 0.7,
          "symbol": "circle"
         },
         "mode": "markers",
         "name": "Dominant_Topic=Topic 1",
         "scene": "scene",
         "showlegend": true,
         "type": "scatter3d",
         "x": [
          5.965169429779053,
          2.84356951713562,
          -8.676977157592773,
          2.4556760787963867,
          0.511185884475708,
          5.205171585083008,
          3.859092950820923,
          -1.397864818572998,
          -0.2890947461128235,
          5.4167022705078125,
          4.68767786026001,
          -2.589310646057129,
          -0.4475516378879547,
          5.307047367095947,
          2.178194522857666,
          2.998464345932007,
          3.120353937149048,
          0.45514267683029175,
          -0.17857646942138672,
          6.082779407501221,
          4.9225335121154785,
          3.1420772075653076,
          7.107419967651367,
          -0.028858808800578117,
          6.028358459472656,
          1.4495537281036377,
          -1.497745156288147,
          -0.20442691445350647,
          -1.3496006727218628,
          3.2850229740142822,
          -0.304634690284729,
          3.771481990814209,
          7.542266845703125,
          1.3831299543380737,
          1.5148391723632812,
          -7.7923784255981445,
          -11.134702682495117,
          -1.026855230331421,
          2.5487027168273926,
          0.815192699432373,
          -7.78128719329834,
          2.3139727115631104,
          0.5697447657585144,
          2.8926758766174316,
          5.192225456237793,
          2.238945484161377,
          3.2250280380249023,
          5.9075703620910645,
          -1.0412907600402832,
          -1.041279673576355,
          -0.5032477974891663,
          -0.5814207792282104,
          0.6645417809486389,
          5.965348720550537,
          -1.1419864892959595,
          1.3383598327636719,
          3.43204665184021,
          -1.0769388675689697,
          0.8567563891410828,
          5.033192157745361,
          6.173500061035156,
          0.34641706943511963,
          6.3238983154296875,
          -0.5153467655181885,
          -0.8151570558547974,
          -0.9160178899765015,
          7.036774635314941,
          -4.347568988800049,
          0.23599572479724884,
          6.5229082107543945,
          -0.2671932578086853,
          0.7777119874954224,
          1.7007479667663574,
          -0.8589126467704773,
          2.1171929836273193,
          6.236855506896973,
          1.0079798698425293,
          1.5227079391479492,
          -3.7476370334625244,
          0.8781347274780273,
          1.645592451095581,
          -0.42705240845680237,
          -1.0771093368530273,
          3.3391528129577637,
          6.897307872772217,
          6.752788543701172,
          6.993954658508301,
          -7.529554843902588,
          4.033283710479736,
          -0.20813493430614471,
          6.9274749755859375,
          3.876978874206543,
          1.370883822441101,
          6.6958699226379395,
          -2.558156967163086,
          4.087988376617432,
          -9.624696731567383,
          -1.536400556564331,
          -0.9585359692573547,
          7.461915969848633,
          6.839758396148682,
          -11.363814353942871,
          -7.628271102905273,
          2.7303619384765625,
          3.282092332839966,
          -5.585650444030762,
          2.1170027256011963,
          6.316108226776123,
          5.371456623077393,
          -0.8701286911964417,
          -2.479557752609253,
          -8.40909194946289,
          -3.6508796215057373,
          -1.7916284799575806,
          2.12778902053833,
          -1.5990761518478394,
          -0.24505746364593506,
          1.2802327871322632,
          -0.2902107834815979,
          -0.546836793422699,
          -11.066889762878418,
          -3.2168445587158203,
          3.160330057144165,
          2.6603176593780518,
          -5.628261566162109,
          3.0490832328796387,
          -1.1324436664581299,
          -3.3879079818725586,
          5.873344898223877,
          -3.1912004947662354,
          5.671964645385742,
          6.111680507659912,
          -5.6378092765808105,
          2.2345824241638184,
          -1.1399420499801636,
          6.464414119720459,
          3.0538089275360107,
          -0.08908095955848694,
          -1.157590627670288,
          0.09625550359487534,
          0.4852256774902344,
          -4.042220115661621,
          -1.7462354898452759,
          0.26884809136390686,
          6.921669006347656,
          1.0450369119644165,
          6.505500316619873,
          7.567171096801758,
          3.0961718559265137,
          5.424812316894531,
          1.3325096368789673,
          -1.268744707107544,
          1.2431482076644897,
          5.280662536621094,
          2.1013877391815186,
          7.077695369720459,
          1.737159252166748,
          0.8054034113883972,
          -1.2221741676330566,
          -10.59882640838623,
          -1.2005586624145508,
          0.032089944928884506,
          1.6782854795455933,
          -8.60422420501709,
          0.2500925660133362,
          0.12689772248268127,
          -0.4311751425266266,
          -1.551321029663086,
          0.35136091709136963,
          -1.27482008934021,
          -1.747662901878357,
          4.045106410980225,
          7.604220390319824,
          -1.1445882320404053,
          1.3062129020690918,
          -3.9810047149658203,
          -0.38830962777137756,
          0.839164137840271,
          1.3917187452316284,
          -9.233433723449707,
          3.6267597675323486,
          -2.5230283737182617,
          5.533059120178223,
          -0.7835809588432312,
          -0.09382800757884979,
          5.117943286895752,
          -2.172534704208374,
          -1.5137206315994263,
          -1.1704894304275513,
          -2.9774281978607178,
          1.5049951076507568,
          4.2302374839782715,
          2.279409408569336,
          -1.0811327695846558,
          4.801270484924316,
          1.6603667736053467,
          1.5943801403045654,
          2.92647123336792,
          3.360211133956909,
          5.446022987365723,
          -6.63518762588501,
          -0.7950332164764404,
          -1.910902976989746,
          5.815645694732666,
          -1.2326797246932983,
          -0.7461584210395813,
          2.520883083343506,
          1.2959661483764648,
          7.216897010803223,
          -7.216048717498779,
          7.0287580490112305,
          1.4608718156814575,
          -8.77774715423584,
          -1.942159652709961,
          -5.561155319213867,
          6.212852478027344,
          2.2889626026153564,
          7.071381568908691,
          2.9897232055664062,
          -3.57330584526062,
          -11.477334022521973,
          1.9453696012496948,
          -10.966902732849121,
          5.210511684417725,
          2.4218764305114746,
          6.40904426574707,
          0.18680304288864136,
          -0.1671624481678009,
          -3.6558146476745605,
          1.7175590991973877,
          0.5587510466575623,
          0.026799099519848824,
          0.7395689487457275,
          5.111674785614014,
          -6.418208599090576,
          -10.705681800842285,
          6.127399444580078,
          0.5395918488502502,
          0.35601261258125305,
          7.069110870361328,
          -1.9852279424667358,
          -1.2878721952438354,
          3.6088693141937256,
          6.430653095245361,
          -0.8251939415931702,
          -1.554469347000122,
          3.9388463497161865,
          1.3019499778747559,
          1.8611496686935425,
          -0.37174171209335327,
          3.871218681335449,
          -0.04589735344052315,
          4.7367024421691895,
          -1.574097752571106,
          -1.58809494972229,
          2.815124988555908,
          2.188107490539551,
          5.314393520355225,
          -1.142457365989685,
          3.3174009323120117,
          2.1826975345611572,
          0.726179838180542,
          -8.456047058105469,
          -1.1112538576126099,
          0.3267742991447449,
          3.499624252319336,
          -8.19251823425293,
          -0.7099876999855042,
          -3.13124418258667,
          -1.6749217510223389,
          -1.9001933336257935,
          -8.726237297058105,
          -11.543352127075195,
          2.470879316329956,
          -1.862967610359192,
          4.376131057739258,
          -2.3223671913146973,
          1.644255518913269,
          7.594408988952637,
          -1.540718674659729,
          0.0929444432258606,
          -0.06908921897411346,
          1.7080774307250977,
          -0.6324338316917419,
          3.858792304992676,
          -2.645407199859619,
          -0.25861847400665283,
          5.189240455627441,
          1.2197811603546143,
          1.6109836101531982,
          -2.4851620197296143,
          2.8121583461761475,
          6.6683831214904785,
          6.662209510803223,
          -8.563817977905273,
          -11.821240425109863,
          0.7760415077209473,
          -0.8966897130012512,
          -0.8047100305557251,
          -10.491839408874512,
          -1.1668964624404907,
          2.54927396774292,
          -0.547939121723175,
          -0.20600813627243042,
          -3.3682143688201904,
          6.242372989654541,
          5.354464054107666,
          6.787363052368164,
          -3.0654208660125732,
          0.6090689301490784,
          -1.1764839887619019,
          -0.6360381245613098,
          0.6424646377563477,
          2.391042947769165,
          -0.9744293689727783,
          5.5357794761657715,
          3.633298873901367,
          5.526392936706543,
          -3.7094287872314453,
          5.796759605407715,
          -11.81897258758545,
          0.9550134539604187,
          5.665737628936768,
          -0.004598598927259445,
          2.548018455505371,
          3.2147974967956543,
          -1.4607279300689697,
          7.563931941986084,
          -0.452549010515213,
          3.234743356704712,
          3.276296854019165,
          -11.216659545898438,
          5.9272613525390625,
          1.3070870637893677,
          3.759833812713623,
          0.4917686879634857,
          3.634754180908203,
          -3.8526854515075684,
          7.52907657623291,
          -2.7692177295684814,
          7.6598968505859375,
          6.4718756675720215,
          6.950830459594727,
          3.299173593521118,
          6.2991414070129395,
          3.5161056518554688,
          -1.7532283067703247,
          5.19771671295166,
          1.9004476070404053,
          2.7267258167266846,
          3.793926239013672,
          -0.25912100076675415,
          -0.23369869589805603,
          1.9815118312835693,
          6.750741958618164,
          -0.31347256898880005,
          -0.6884748339653015,
          1.829313039779663,
          -0.2733640968799591,
          -1.507413625717163,
          1.6968367099761963,
          0.16089573502540588,
          6.542322158813477,
          -0.3081502616405487,
          2.726397752761841,
          6.890448570251465,
          1.6394879817962646,
          6.141078948974609,
          -0.6435455679893494,
          0.921165943145752,
          4.823707103729248,
          -0.22106897830963135,
          6.514176368713379,
          -5.112977504730225,
          -2.273813486099243,
          6.272843360900879,
          0.28213784098625183,
          2.7444045543670654,
          -3.2464051246643066,
          7.096712589263916,
          1.0449399948120117,
          1.1906710863113403,
          -1.1987428665161133,
          3.969331741333008,
          -0.6907264590263367,
          2.2312119007110596,
          1.331615686416626,
          1.4764355421066284,
          4.328884124755859,
          0.7650554776191711,
          -2.0035934448242188,
          6.608163833618164,
          0.8096765279769897,
          5.829732418060303,
          3.4362170696258545,
          2.29872989654541,
          -0.15890085697174072,
          -1.9210567474365234,
          0.563530683517456,
          -1.9356309175491333,
          -1.1324081420898438,
          -1.9180799722671509,
          5.915444850921631,
          7.234258651733398,
          2.7830705642700195,
          -0.01970473863184452,
          -0.8671540021896362,
          -1.080948829650879,
          1.1400774717330933,
          6.549187660217285,
          3.4889121055603027,
          6.601125240325928,
          -10.704880714416504,
          0.8927223086357117,
          5.803518295288086,
          2.105142116546631,
          -0.39739876985549927,
          1.9956403970718384,
          -9.39436149597168,
          -0.727905809879303,
          -8.17144775390625,
          -9.638931274414062,
          1.7144697904586792,
          5.489091873168945,
          2.1659083366394043,
          -1.1451244354248047,
          -0.5386562943458557,
          -2.8673999309539795,
          -7.492125511169434,
          -1.9774811267852783,
          0.16665388643741608,
          -0.7928261160850525,
          3.924368381500244,
          -0.5349155068397522,
          -3.7787926197052,
          3.0668904781341553,
          -1.2225866317749023,
          2.4988722801208496,
          -8.711679458618164,
          0.4834289848804474,
          -7.639158248901367,
          -0.2038307636976242,
          -9.992916107177734,
          5.513691425323486,
          -3.1402692794799805,
          -1.8774608373641968,
          2.7223153114318848,
          3.228576183319092,
          -0.4688640534877777,
          3.0890586376190186,
          -10.104925155639648,
          5.254075050354004,
          -0.7211419939994812,
          -4.592372417449951,
          -0.2146146595478058,
          -11.23453140258789,
          5.355998992919922,
          -0.5361485481262207,
          4.876368522644043,
          -0.7413797378540039,
          3.674980878829956,
          0.8781283497810364,
          -8.273548126220703,
          0.5964368581771851,
          -0.36605921387672424,
          0.32594171166419983,
          1.2569109201431274,
          0.2125793844461441,
          0.5558934211730957,
          1.1639182567596436,
          4.717756748199463,
          -1.4316577911376953,
          6.42825174331665,
          7.199399471282959,
          2.1643271446228027,
          -1.273067593574524,
          4.171417236328125,
          1.5099945068359375,
          -1.6455192565917969,
          -1.7328187227249146,
          1.0847053527832031,
          1.5605672597885132,
          -4.884483814239502,
          6.967658042907715,
          -5.965580463409424,
          -1.4700626134872437,
          0.45042702555656433,
          -0.4899637997150421,
          -0.2159455567598343,
          -2.2697768211364746,
          -0.947275698184967,
          -0.5459623336791992,
          -10.014872550964355,
          -10.154239654541016,
          2.578009843826294,
          -3.491377592086792,
          -2.821394205093384,
          -1.306293249130249,
          -0.5273305773735046,
          -7.096641540527344,
          3.2439074516296387,
          7.595016956329346,
          -1.3158259391784668,
          -2.0850541591644287,
          -0.17368635535240173,
          -1.5509577989578247,
          2.064042568206787,
          -9.891519546508789,
          -1.350982666015625,
          -6.551646709442139,
          5.689132213592529,
          -4.525900840759277,
          -2.0696277618408203,
          1.1751855611801147,
          -0.7933986783027649,
          -0.18773427605628967,
          -4.19730281829834,
          -0.6009494662284851,
          6.484838008880615,
          -1.3303651809692383,
          1.6344188451766968,
          -0.5951151847839355,
          4.820193290710449,
          -1.9467289447784424,
          4.0637407302856445,
          4.459606170654297,
          -2.9521448612213135,
          7.528195858001709,
          -0.5182980895042419,
          -2.165391206741333,
          -3.8653626441955566,
          1.0173763036727905,
          -0.5891458988189697,
          -1.1242743730545044,
          3.6909067630767822,
          0.041264817118644714,
          -3.6564881801605225,
          4.312922954559326,
          -7.754476547241211,
          -1.24661386013031,
          2.805436134338379,
          -1.601602554321289,
          -0.6015676259994507,
          5.551162242889404,
          1.2133969068527222,
          6.159425258636475,
          2.958549737930298,
          -1.0377604961395264,
          0.10791163891553879,
          7.517251014709473,
          2.5665242671966553,
          0.19279956817626953,
          7.0925612449646,
          4.202956676483154,
          0.0998801738023758,
          4.5604248046875,
          7.037324905395508,
          3.6474061012268066,
          -1.1612581014633179,
          -2.8483784198760986,
          -0.21491262316703796,
          0.50239098072052,
          2.413320779800415,
          2.094316244125366,
          1.8260859251022339,
          7.132175445556641,
          0.16012047231197357,
          4.124673843383789,
          -4.156586647033691,
          4.151350021362305,
          -6.631556510925293,
          6.367102146148682,
          6.094462871551514,
          0.2767121493816376,
          -3.4824583530426025,
          -0.2898058593273163,
          -2.289311408996582,
          -1.2287564277648926,
          -1.5196723937988281,
          -0.5200148224830627,
          -0.09432647377252579,
          3.3847663402557373,
          3.267887830734253,
          -3.6492273807525635,
          2.1296286582946777,
          4.960424423217773,
          3.7319700717926025,
          1.8073736429214478,
          -6.046135425567627,
          7.232105255126953,
          -1.4255955219268799,
          7.137684345245361,
          1.493755578994751,
          5.6146626472473145,
          -2.5326175689697266,
          7.154228687286377,
          6.593379497528076,
          5.424103736877441,
          6.586187839508057,
          6.358716011047363,
          2.9403069019317627,
          0.10469937324523926,
          6.969820499420166,
          3.0430219173431396,
          7.184103488922119,
          -1.2323682308197021,
          0.5106026530265808,
          0.33922770619392395,
          6.665065288543701
         ],
         "y": [
          -5.970538139343262,
          -4.238379001617432,
          -5.928732395172119,
          -7.2391510009765625,
          -5.454877853393555,
          -6.005611896514893,
          -4.452340126037598,
          -8.203401565551758,
          -1.0053592920303345,
          -5.793108940124512,
          -6.2273054122924805,
          -6.79929780960083,
          -1.505363941192627,
          -1.2076581716537476,
          -1.1144742965698242,
          -7.420524597167969,
          -7.1732988357543945,
          -4.041707992553711,
          -5.631962299346924,
          -3.4922702312469482,
          -3.4524617195129395,
          -6.955256938934326,
          -4.972500801086426,
          -7.175573348999023,
          -5.930864334106445,
          -4.675663471221924,
          0.16515564918518066,
          -7.161805629730225,
          -2.241835594177246,
          -5.095957279205322,
          0.8787481188774109,
          -5.1543354988098145,
          -4.932270050048828,
          -4.856454849243164,
          -0.9467871189117432,
          -5.672159671783447,
          -5.720911979675293,
          -1.9585565328598022,
          -7.167757511138916,
          1.439452886581421,
          -5.606114387512207,
          -7.416893482208252,
          -5.825007438659668,
          0.7599690556526184,
          -6.025049686431885,
          -3.903388261795044,
          -4.8823418617248535,
          -2.0990664958953857,
          -6.3408732414245605,
          -6.340856075286865,
          -1.6745429039001465,
          -1.9153058528900146,
          -0.9708897471427917,
          -5.944457530975342,
          -7.079407691955566,
          -2.9704697132110596,
          -6.3986616134643555,
          -2.9889025688171387,
          -7.130448341369629,
          -5.996469020843506,
          -2.9895260334014893,
          0.0383588969707489,
          -4.616232395172119,
          -1.1631044149398804,
          3.5612802505493164,
          -7.006385326385498,
          -4.749080657958984,
          -7.706988334655762,
          -7.109999179840088,
          -1.605123519897461,
          -0.8884291648864746,
          -7.824777603149414,
          -5.316160202026367,
          2.4681336879730225,
          -7.165106296539307,
          -2.2394838333129883,
          -7.530808925628662,
          -2.8435614109039307,
          -4.306933403015137,
          -1.3552331924438477,
          -4.347825050354004,
          -7.177089214324951,
          -6.989490509033203,
          -6.2299885749816895,
          -3.5670888423919678,
          -3.1003835201263428,
          -4.92542839050293,
          -5.967065811157227,
          -2.5463783740997314,
          -2.1166422367095947,
          -3.619039297103882,
          -4.851135730743408,
          -4.748722553253174,
          -3.049940824508667,
          -6.453543186187744,
          -6.970108985900879,
          -5.849882125854492,
          -3.9540750980377197,
          -7.815934658050537,
          -4.675760269165039,
          -3.358260154724121,
          -6.027046203613281,
          -5.995676517486572,
          -7.518985748291016,
          -7.235525608062744,
          -5.7755818367004395,
          -0.5972676873207092,
          -4.281181335449219,
          -6.202930927276611,
          -6.893587589263916,
          -8.498987197875977,
          -5.979012489318848,
          -7.896241188049316,
          -8.520552635192871,
          -7.405913352966309,
          -8.465977668762207,
          -0.6879646182060242,
          -1.682895302772522,
          -1.150414228439331,
          -1.3643214702606201,
          -5.844709396362305,
          -8.30728816986084,
          -7.149385452270508,
          0.7004213929176331,
          -5.401078701019287,
          -7.18083381652832,
          0.02380743995308876,
          -8.194156646728516,
          -1.9291777610778809,
          -4.511765956878662,
          -0.8745409250259399,
          -5.848724365234375,
          -5.694262981414795,
          -3.6179287433624268,
          3.7956008911132812,
          -5.785815715789795,
          -6.115076541900635,
          0.7362471222877502,
          -6.760590553283691,
          -4.020164966583252,
          -2.995378255844116,
          -7.9363508224487305,
          -8.451406478881836,
          -2.3790037631988525,
          -5.497499942779541,
          -1.2765095233917236,
          -5.788657188415527,
          -5.352505207061768,
          -7.175139427185059,
          -3.4498727321624756,
          -3.4430012702941895,
          -7.95680046081543,
          -7.61560583114624,
          -6.270693778991699,
          1.3325692415237427,
          -3.3827576637268066,
          1.9363843202590942,
          -7.7817864418029785,
          -7.2770209312438965,
          -5.730263710021973,
          -7.765109062194824,
          -7.097918510437012,
          -7.148289680480957,
          -6.0320143699646,
          -5.6252031326293945,
          -7.260766506195068,
          -1.5364048480987549,
          -8.3951416015625,
          -4.0053510665893555,
          3.2986602783203125,
          -3.935389518737793,
          -2.039017677307129,
          -5.219667434692383,
          -0.5552202463150024,
          2.078765630722046,
          -7.803638935089111,
          -0.9667448401451111,
          -7.142474174499512,
          -2.335224151611328,
          -5.846370697021484,
          -7.111510276794434,
          -8.451606750488281,
          -6.016565799713135,
          -5.950159549713135,
          -1.547202706336975,
          -5.751246452331543,
          -8.563284873962402,
          -2.4382030963897705,
          3.1457302570343018,
          -4.171832084655762,
          -7.525540828704834,
          -2.235414505004883,
          -5.806751728057861,
          2.963667869567871,
          -5.772590637207031,
          -2.8165526390075684,
          -4.7994818687438965,
          -6.046838760375977,
          -3.267127513885498,
          -6.201330184936523,
          -5.709621906280518,
          -2.5595436096191406,
          -6.673364639282227,
          -3.804560899734497,
          -8.018281936645508,
          -6.951807498931885,
          1.622020959854126,
          -3.1924874782562256,
          -4.518762588500977,
          -5.672530651092529,
          -3.556976556777954,
          -1.9077470302581787,
          -5.874830722808838,
          -8.550349235534668,
          -5.682202339172363,
          -4.297970294952393,
          -7.222958087921143,
          -5.535754203796387,
          -4.988326072692871,
          -5.154630661010742,
          -5.9299139976501465,
          -3.30596661567688,
          -6.110611915588379,
          -6.321305274963379,
          -2.9938087463378906,
          -5.227547645568848,
          -4.039219856262207,
          -0.542425811290741,
          -8.10205078125,
          -1.794877529144287,
          -7.828793048858643,
          -8.217034339904785,
          0.5678101181983948,
          -6.292533874511719,
          -5.7158050537109375,
          -6.032344818115234,
          -5.9818878173828125,
          3.145909547805786,
          -8.068239212036133,
          -5.586487770080566,
          -4.72129487991333,
          -7.972259044647217,
          -6.783477783203125,
          -5.628040790557861,
          -5.965755462646484,
          -2.6602721214294434,
          -7.023530006408691,
          -0.8632500171661377,
          -7.447648525238037,
          -0.8831461071968079,
          0.6835971474647522,
          -6.870039463043213,
          -6.658840179443359,
          -0.7645803689956665,
          -8.407148361206055,
          0.7851908802986145,
          -7.359796524047852,
          -6.247627258300781,
          -7.12816047668457,
          -5.743988037109375,
          -4.07938289642334,
          1.9923593997955322,
          -5.633632183074951,
          -0.1428283005952835,
          3.264402151107788,
          -6.898730754852295,
          -6.094384670257568,
          -2.294196367263794,
          -3.96536922454834,
          -8.461830139160156,
          -8.543883323669434,
          -5.674293041229248,
          -5.810791015625,
          -7.174951553344727,
          -8.536556243896484,
          -6.570680141448975,
          -3.659308433532715,
          -3.335049867630005,
          -5.37516450881958,
          -0.18431198596954346,
          -7.153100967407227,
          -8.275263786315918,
          -2.646637439727783,
          -8.325913429260254,
          -5.730240345001221,
          -4.379181861877441,
          -7.398519039154053,
          -6.349432945251465,
          -7.132603645324707,
          1.2985471487045288,
          -8.552277565002441,
          -7.164938926696777,
          -4.218148708343506,
          -4.864792346954346,
          -5.798618316650391,
          -5.846767902374268,
          0.2075948864221573,
          -2.714020252227783,
          2.342632293701172,
          -5.968252658843994,
          -8.271636009216309,
          -5.250239849090576,
          -4.152124881744385,
          -0.6756920218467712,
          -8.21739673614502,
          -5.840343475341797,
          -6.270665645599365,
          -3.8531413078308105,
          -4.254358291625977,
          0.9400049448013306,
          -2.147951126098633,
          1.917776346206665,
          -8.01955509185791,
          -5.113668918609619,
          -8.37690544128418,
          -3.4055447578430176,
          -7.101168632507324,
          -6.1459269523620605,
          -4.3439836502075195,
          -6.126072406768799,
          -5.851596832275391,
          0.13416898250579834,
          -1.9596593379974365,
          -6.065536022186279,
          -3.4191415309906006,
          -4.401858806610107,
          -0.8603623509407043,
          -4.925495147705078,
          3.3104214668273926,
          -6.27056884765625,
          -6.154860496520996,
          -5.855710506439209,
          -5.704955577850342,
          1.9309711456298828,
          -4.359530925750732,
          -8.11648941040039,
          -7.160995960235596,
          -4.328915596008301,
          -5.341211318969727,
          -8.36702823638916,
          -5.171762466430664,
          -5.78424072265625,
          -5.621595859527588,
          -6.151558876037598,
          -1.9772411584854126,
          -3.544379949569702,
          -3.192626476287842,
          -6.352647304534912,
          -7.132302761077881,
          -7.156519412994385,
          -4.691308975219727,
          -1.4308135509490967,
          -7.133639812469482,
          2.1040971279144287,
          -4.555619239807129,
          -0.8318654298782349,
          -6.61780309677124,
          -7.37028694152832,
          -6.821163177490234,
          -6.780939102172852,
          -3.131812334060669,
          -7.077227592468262,
          -5.784475326538086,
          0.7310808897018433,
          -5.805168628692627,
          -2.9247617721557617,
          -1.8815549612045288,
          -3.8268563747406006,
          1.9321067333221436,
          -4.590543746948242,
          -6.503903865814209,
          -7.135193824768066,
          -5.746260166168213,
          -5.613369464874268,
          -6.545432090759277,
          -3.2602882385253906,
          -6.951496124267578,
          -7.5155463218688965,
          -4.168435573577881,
          -5.5418267250061035,
          0.1134088933467865,
          1.3011174201965332,
          3.232476234436035,
          0.6596052646636963,
          -1.3321951627731323,
          -1.039299726486206,
          2.4710853099823,
          -0.16800735890865326,
          -6.8698577880859375,
          -7.843942642211914,
          -6.654962062835693,
          -2.8468520641326904,
          -2.7628040313720703,
          -5.8398118019104,
          -6.542977809906006,
          -5.658642292022705,
          -2.135305404663086,
          4.252375602722168,
          -1.961855173110962,
          4.2384443283081055,
          4.0176897048950195,
          4.252511978149414,
          -6.006216049194336,
          -5.489589691162109,
          1.4800697565078735,
          2.401718854904175,
          3.485347270965576,
          3.7768852710723877,
          0.06473726034164429,
          -2.8113765716552734,
          -6.863856315612793,
          -2.989424705505371,
          -5.670381546020508,
          -0.18419687449932098,
          -1.6226935386657715,
          2.037182092666626,
          1.1978877782821655,
          1.8885440826416016,
          -5.939363956451416,
          -2.3762362003326416,
          -5.918822765350342,
          -5.925661087036133,
          -7.544389724731445,
          -6.050051212310791,
          -7.390167236328125,
          -7.770206451416016,
          -1.1904454231262207,
          -3.8380286693573,
          -5.884527683258057,
          -6.668691158294678,
          -7.234775543212891,
          3.149174451828003,
          -7.03159761428833,
          1.6415579319000244,
          -5.494954586029053,
          -6.510964393615723,
          -6.763101100921631,
          -7.316547870635986,
          -5.598078727722168,
          0.1891884058713913,
          -5.640722274780273,
          -1.6198177337646484,
          -5.757115364074707,
          -6.106837749481201,
          -6.2386908531188965,
          0.6725463271141052,
          1.009157419204712,
          -4.282649517059326,
          -5.775294303894043,
          -6.198746204376221,
          -5.8224287033081055,
          -6.354918956756592,
          2.1297898292541504,
          -7.7267937660217285,
          -2.2080154418945312,
          -5.780034065246582,
          -3.0781662464141846,
          -6.278079032897949,
          -6.216843128204346,
          2.1743695735931396,
          -6.792628765106201,
          1.0256898403167725,
          -5.290197849273682,
          -4.29953670501709,
          -7.242275714874268,
          -6.956768989562988,
          -1.2939754724502563,
          2.4119439125061035,
          -5.391454219818115,
          2.6570990085601807,
          -6.451313018798828,
          -2.544482707977295,
          -1.7869971990585327,
          -5.390057563781738,
          -2.958346128463745,
          3.3661563396453857,
          -4.339211940765381,
          -3.420254707336426,
          0.3240736424922943,
          -2.775984764099121,
          -4.99671745300293,
          -1.4282584190368652,
          -4.652132511138916,
          -4.2214674949646,
          -5.67618465423584,
          -0.8920662999153137,
          -5.983514785766602,
          -8.28951358795166,
          0.4244305193424225,
          -8.507929801940918,
          2.7207376956939697,
          -7.172678470611572,
          -5.82266902923584,
          -5.9987969398498535,
          -5.17537260055542,
          -4.268405437469482,
          -3.90791654586792,
          -2.326791524887085,
          -6.834315776824951,
          -5.751092433929443,
          0.8498491048812866,
          -5.101743698120117,
          -8.13365650177002,
          4.745505332946777,
          -2.958014488220215,
          -2.489408016204834,
          -7.269527912139893,
          -5.8176164627075195,
          3.8837192058563232,
          -5.689409255981445,
          -6.155425548553467,
          -7.636388778686523,
          -6.609222888946533,
          -5.036837577819824,
          3.8647220134735107,
          -3.3909225463867188,
          -7.702624797821045,
          -1.8980129957199097,
          -1.5866572856903076,
          3.4205548763275146,
          -7.162634372711182,
          -1.7382868528366089,
          -4.456895351409912,
          -6.680899620056152,
          -6.990756511688232,
          -3.5680696964263916,
          -8.35971450805664,
          -4.897953510284424,
          -8.29262638092041,
          -6.592256546020508,
          -7.006293296813965,
          -7.737584590911865,
          -1.2396785020828247,
          -6.700111389160156,
          -1.9657371044158936,
          -1.1800119876861572,
          -7.882197856903076,
          -4.636712551116943,
          -5.630350112915039,
          -7.980050563812256,
          -6.0667243003845215,
          -8.426305770874023,
          -5.926156044006348,
          -3.2915616035461426,
          2.8057565689086914,
          -5.956711769104004,
          -6.9037981033325195,
          -3.0437653064727783,
          -4.784013271331787,
          -5.243006706237793,
          -7.166933059692383,
          -7.066049098968506,
          -3.336155414581299,
          -6.93062162399292,
          -6.393318176269531,
          -6.747217178344727,
          -3.883580207824707,
          -6.175318241119385,
          -6.8390278816223145,
          -6.333871841430664,
          3.5306568145751953,
          2.2110109329223633,
          1.3702585697174072,
          1.6861034631729126,
          -7.157005310058594,
          -5.525514602661133,
          -0.18461288511753082,
          -6.966941833496094,
          -7.884950637817383,
          -6.950241565704346,
          -5.7024383544921875,
          -2.0766549110412598,
          -1.378092646598816,
          -4.013755798339844,
          -8.161404609680176,
          -0.761665403842926,
          -4.868435859680176,
          -7.189486026763916,
          0.06138893961906433,
          -6.630128383636475,
          -8.16278076171875,
          -6.820216655731201,
          -6.822948932647705,
          -8.11639404296875,
          -1.0797899961471558,
          -6.526729583740234,
          -6.780129909515381,
          -7.171648979187012,
          -5.657342910766602,
          -5.47686243057251,
          -2.3831117153167725,
          -3.542100191116333,
          -4.08595609664917,
          -5.736540794372559,
          -8.491111755371094,
          -3.5624210834503174,
          -3.1119799613952637,
          -3.5756614208221436,
          -5.7407989501953125,
          -1.7334927320480347,
          -5.915663242340088,
          -8.075820922851562,
          -4.3412957191467285,
          -4.184463977813721,
          -4.0214409828186035,
          -7.859476566314697,
          -0.6998199820518494,
          -4.039268970489502,
          -5.755153656005859
         ],
         "z": [
          7.985342025756836,
          -1.952003002166748,
          11.91610336303711,
          5.554268836975098,
          -0.5352368950843811,
          2.306549072265625,
          7.559671878814697,
          4.279173374176025,
          5.7776641845703125,
          1.9117265939712524,
          4.858985900878906,
          13.257091522216797,
          6.232626438140869,
          -2.6326518058776855,
          1.6465507745742798,
          10.803897857666016,
          11.974788665771484,
          9.171594619750977,
          -1.016715168952942,
          -1.8363558053970337,
          -2.794391393661499,
          4.292933464050293,
          1.6600149869918823,
          2.077507734298706,
          7.814337730407715,
          -1.6527503728866577,
          -2.913210391998291,
          14.221575736999512,
          8.69747543334961,
          -0.4889964163303375,
          2.662747621536255,
          0.02236500382423401,
          2.0900533199310303,
          7.525888442993164,
          3.1999704837799072,
          11.96408462524414,
          11.742791175842285,
          8.120407104492188,
          12.49929428100586,
          0.14982053637504578,
          12.345417976379395,
          8.400066375732422,
          0.11716784536838531,
          -3.1597516536712646,
          2.359351396560669,
          -2.4075167179107666,
          -0.8959535956382751,
          -2.1518521308898926,
          -0.0075405738316476345,
          -0.007569835055619478,
          5.236364364624023,
          4.784196853637695,
          4.6909589767456055,
          7.887823581695557,
          1.5057294368743896,
          7.117040634155273,
          2.4748382568359375,
          9.149304389953613,
          13.58237075805664,
          2.1439244747161865,
          -2.789740562438965,
          -3.89493989944458,
          5.290005207061768,
          6.787683010101318,
          -0.45673027634620667,
          14.12171459197998,
          1.146721601486206,
          9.638161659240723,
          13.887266159057617,
          -5.068023681640625,
          2.6080398559570312,
          6.8576579093933105,
          7.323845386505127,
          2.0091097354888916,
          12.66500473022461,
          -3.2264997959136963,
          7.523292541503906,
          6.818020343780518,
          10.932806968688965,
          4.03953742980957,
          -2.1133017539978027,
          14.156648635864258,
          14.111420631408691,
          1.9901834726333618,
          -0.9835765361785889,
          -2.0810728073120117,
          1.4663347005844116,
          12.20263671875,
          -1.5094842910766602,
          1.8211766481399536,
          -0.6062012314796448,
          -0.41014954447746277,
          7.479735851287842,
          -2.164808750152588,
          13.834537506103516,
          10.778116226196289,
          11.834458351135254,
          10.02224063873291,
          3.144129991531372,
          1.2670254707336426,
          -1.4791748523712158,
          11.63308334350586,
          12.177335739135742,
          10.645462989807129,
          11.506879806518555,
          12.266057968139648,
          1.6859204769134521,
          -0.2990212142467499,
          8.919644355773926,
          14.204439163208008,
          7.643491744995117,
          12.353843688964844,
          9.058745384216309,
          6.054677963256836,
          5.378095626831055,
          5.787717819213867,
          5.917354583740234,
          -3.585529327392578,
          2.595054864883423,
          6.7802534103393555,
          11.416227340698242,
          8.408037185668945,
          12.064088821411133,
          -1.9940927028656006,
          11.97569751739502,
          12.003726959228516,
          -3.5006260871887207,
          8.644842147827148,
          -2.459284543991089,
          11.061697959899902,
          -4.7497477531433105,
          7.433191776275635,
          12.189082145690918,
          -2.687729597091675,
          -0.2050304263830185,
          6.912040710449219,
          1.6605041027069092,
          2.4861514568328857,
          0.887877881526947,
          9.371796607971191,
          7.847222328186035,
          9.268411636352539,
          7.636760234832764,
          6.799322128295898,
          3.2357423305511475,
          4.697118759155273,
          3.828275203704834,
          3.8955795764923096,
          11.992412567138672,
          -2.527236223220825,
          2.2734131813049316,
          3.383389949798584,
          6.884344100952148,
          5.579375743865967,
          -4.3788604736328125,
          1.881835699081421,
          -2.9368479251861572,
          6.884885787963867,
          1.84449303150177,
          11.481995582580566,
          2.8996500968933105,
          13.817610740661621,
          13.097225189208984,
          12.01817798614502,
          -0.32659024000167847,
          2.28503680229187,
          6.3781256675720215,
          5.1791229248046875,
          9.136892318725586,
          1.664139747619629,
          10.048115730285645,
          -1.1322393417358398,
          3.3021490573883057,
          -2.7413418292999268,
          -2.115164041519165,
          9.330900192260742,
          6.4225263595581055,
          13.546285629272461,
          3.167999744415283,
          11.922049522399902,
          11.614422798156738,
          7.844357967376709,
          8.376307487487793,
          -0.7695848941802979,
          1.174485445022583,
          1.581339716911316,
          6.888821125030518,
          8.981080055236816,
          1.6346313953399658,
          10.635168075561523,
          6.710346221923828,
          -1.2460741996765137,
          6.927177429199219,
          1.777994155883789,
          7.92476749420166,
          6.675601482391357,
          -1.5360404253005981,
          1.5490317344665527,
          -2.7236945629119873,
          8.92929458618164,
          12.34494686126709,
          5.640346527099609,
          14.05471420288086,
          -1.5091238021850586,
          3.635795831680298,
          14.200764656066895,
          -5.035734176635742,
          2.2945556640625,
          3.579257011413574,
          12.272241592407227,
          1.4749559164047241,
          3.6998379230499268,
          12.134162902832031,
          6.239575386047363,
          12.172823905944824,
          -0.3520912528038025,
          5.995644569396973,
          5.177525520324707,
          -0.8270260691642761,
          11.755101203918457,
          11.654606819152832,
          7.08832311630249,
          11.68399715423584,
          9.276627540588379,
          -3.1673905849456787,
          1.5316046476364136,
          9.33315658569336,
          3.4886553287506104,
          8.891888618469238,
          4.610997676849365,
          5.068418502807617,
          12.60123348236084,
          -4.405848979949951,
          6.436827182769775,
          12.333477020263672,
          11.626799583435059,
          7.935576915740967,
          -3.6257500648498535,
          12.688658714294434,
          5.380495071411133,
          9.575117111206055,
          3.415855646133423,
          5.4886908531188965,
          2.8958582878112793,
          -0.8034974932670593,
          9.161748886108398,
          11.491861343383789,
          3.5558414459228516,
          5.8960137367248535,
          6.326749801635742,
          -4.600485801696777,
          14.426305770874023,
          10.271772384643555,
          -2.238844156265259,
          5.189312934875488,
          -3.500164747238159,
          7.931571006774902,
          6.674506664276123,
          1.5990463495254517,
          0.9098555445671082,
          -2.31878924369812,
          -0.6065216660499573,
          11.862081527709961,
          -2.982401132583618,
          -3.5782787799835205,
          8.491073608398438,
          12.142963409423828,
          6.049947261810303,
          10.546154022216797,
          5.5034871101379395,
          6.3333611488342285,
          12.135854721069336,
          11.621191024780273,
          6.148902416229248,
          6.200751304626465,
          5.010487079620361,
          10.045737266540527,
          7.273189544677734,
          3.947213649749756,
          -2.7055630683898926,
          13.970529556274414,
          12.54793643951416,
          6.364306449890137,
          7.846855640411377,
          6.417433738708496,
          10.0955228805542,
          2.412813901901245,
          9.353170394897461,
          13.354159355163574,
          -1.3238826990127563,
          7.370003700256348,
          12.317011833190918,
          -0.11085090041160583,
          1.1198315620422363,
          11.796306610107422,
          11.868575096130371,
          -4.19405460357666,
          5.502264022827148,
          2.063333034515381,
          11.693941116333008,
          4.973781585693359,
          -0.52235347032547,
          9.927909851074219,
          5.830206394195557,
          8.61229133605957,
          3.3830087184906006,
          5.070715427398682,
          -0.5051236152648926,
          10.695786476135254,
          1.2604246139526367,
          8.45057487487793,
          2.22224760055542,
          12.613945960998535,
          -0.8438864946365356,
          7.772524833679199,
          -2.521235466003418,
          11.678977966308594,
          7.539501667022705,
          10.949347496032715,
          8.594088554382324,
          11.873584747314453,
          2.025355100631714,
          -1.91189444065094,
          0.3644632399082184,
          6.925618648529053,
          -1.5987424850463867,
          -2.3669850826263428,
          1.9924393892288208,
          -0.9042413830757141,
          2.0755512714385986,
          1.791210412979126,
          11.799113273620605,
          7.355964183807373,
          -1.763588547706604,
          7.4785614013671875,
          12.53528118133545,
          11.214576721191406,
          10.96761417388916,
          3.9135687351226807,
          8.140954971313477,
          2.969705581665039,
          4.465920448303223,
          5.671436786651611,
          6.160067081451416,
          -4.42301082611084,
          -2.05666184425354,
          9.561841011047363,
          9.364751815795898,
          13.072369575500488,
          12.438790321350098,
          -0.932371199131012,
          -3.1770248413085938,
          1.9410651922225952,
          -5.145761013031006,
          4.643819808959961,
          -3.211740255355835,
          0.9593870043754578,
          6.5364990234375,
          14.213030815124512,
          14.131648063659668,
          -3.3290133476257324,
          13.83400821685791,
          6.868875503540039,
          2.4356272220611572,
          0.9243696928024292,
          1.9726914167404175,
          3.678863763809204,
          -1.2259000539779663,
          2.221785068511963,
          7.906161308288574,
          9.708853721618652,
          1.9430670738220215,
          6.690832138061523,
          12.087912559509277,
          13.967564582824707,
          -1.7814834117889404,
          14.148335456848145,
          10.574018478393555,
          10.707159996032715,
          5.181023120880127,
          -3.92223858833313,
          -0.728357195854187,
          1.5918989181518555,
          -4.735779285430908,
          -2.9178125858306885,
          1.570827603340149,
          -3.443791389465332,
          1.9251660108566284,
          10.821578025817871,
          6.711816310882568,
          13.95775032043457,
          -2.672485113143921,
          2.451650381088257,
          2.567626476287842,
          2.900131940841675,
          0.37870800495147705,
          1.7425435781478882,
          1.0113731622695923,
          5.794064044952393,
          1.3608678579330444,
          -1.012559175491333,
          0.7966182231903076,
          8.152772903442383,
          4.828580379486084,
          -4.996161460876465,
          0.3418286442756653,
          -0.030162746086716652,
          -0.23589611053466797,
          1.946670651435852,
          -2.655489683151245,
          4.6060638427734375,
          -1.8981828689575195,
          11.409975051879883,
          -3.9227781295776367,
          -2.9799914360046387,
          -4.62102746963501,
          2.507988452911377,
          -3.710573196411133,
          11.93026065826416,
          5.841949939727783,
          12.39297866821289,
          11.887123107910156,
          5.560994625091553,
          8.584495544433594,
          5.402570724487305,
          2.9368321895599365,
          6.851924419403076,
          10.378117561340332,
          12.375515937805176,
          13.989715576171875,
          2.2522149085998535,
          0.6855866312980652,
          11.463232040405273,
          2.317412853240967,
          12.067163467407227,
          2.5860273838043213,
          14.271506309509277,
          8.32420825958252,
          12.112401962280273,
          2.0636370182037354,
          12.346169471740723,
          6.9191694259643555,
          11.678781509399414,
          3.246685743331909,
          13.599839210510254,
          -3.21303653717041,
          -3.0538153648376465,
          -1.774174451828003,
          -0.9332130551338196,
          1.879010558128357,
          11.694589614868164,
          9.417755126953125,
          2.1522557735443115,
          9.770064353942871,
          1.8138108253479004,
          11.454432487487793,
          -3.3442914485931396,
          0.6136472225189209,
          7.419713020324707,
          2.140169382095337,
          4.414796829223633,
          0.7003990411758423,
          11.89823055267334,
          8.127034187316895,
          2.0819127559661865,
          14.167423248291016,
          4.370806694030762,
          -0.2552829682826996,
          -0.9131763577461243,
          -3.597010374069214,
          5.6167683601379395,
          9.00833511352539,
          -4.673018932342529,
          4.570630073547363,
          -3.2714478969573975,
          1.5100511312484741,
          6.921148300170898,
          2.064321279525757,
          -2.919764995574951,
          9.317259788513184,
          -1.2514408826828003,
          4.088587760925293,
          11.364526748657227,
          0.15710453689098358,
          12.23621654510498,
          -2.3582770824432373,
          0.39727094769477844,
          7.827367782592773,
          3.014108419418335,
          7.511122703552246,
          1.8510165214538574,
          14.083560943603516,
          11.71816349029541,
          11.828963279724121,
          -0.6652919054031372,
          10.840496063232422,
          10.386894226074219,
          8.734593391418457,
          14.132689476013184,
          12.320621490478516,
          -3.8063955307006836,
          2.8000142574310303,
          4.060948371887207,
          0.30151376128196716,
          1.5878454446792603,
          9.040647506713867,
          6.604503631591797,
          11.743492126464844,
          0.10020335018634796,
          12.324056625366211,
          5.0508880615234375,
          9.81335163116455,
          14.028108596801758,
          7.538222789764404,
          -2.0703837871551514,
          1.4692624807357788,
          9.546916961669922,
          7.621303081512451,
          -5.052279472351074,
          1.556942105293274,
          13.070982933044434,
          7.4090657234191895,
          6.532253265380859,
          13.977337837219238,
          11.110856056213379,
          -2.59814715385437,
          8.214011192321777,
          1.9774278402328491,
          7.7785325050354,
          13.88142204284668,
          9.736809730529785,
          7.336533546447754,
          -3.0141875743865967,
          0.7938602566719055,
          -1.0306249856948853,
          1.9328038692474365,
          9.070601463317871,
          -0.7810046076774597,
          11.967672348022461,
          3.4697883129119873,
          1.5296941995620728,
          5.329381465911865,
          -0.650465190410614,
          -2.766879081726074,
          -4.276838302612305,
          7.842123985290527,
          3.7467005252838135,
          5.473390102386475,
          10.690170288085938,
          3.567380666732788,
          8.01014232635498,
          13.988785743713379,
          2.307100296020508,
          11.083877563476562,
          0.967905580997467,
          10.488112449645996,
          -0.33523881435394287,
          1.9256548881530762,
          1.0432305335998535,
          13.683815956115723,
          -2.9582717418670654,
          -0.5294989943504333,
          -4.777034282684326,
          -3.3096306324005127,
          13.022266387939453,
          4.007913112640381,
          1.9635521173477173,
          11.26611614227295,
          9.379643440246582,
          11.020591735839844,
          12.340666770935059,
          -4.221828460693359,
          -4.612948894500732,
          8.660806655883789,
          8.73247241973877,
          6.071346282958984,
          9.570302963256836,
          1.6731042861938477,
          -2.9040591716766357,
          1.065993070602417,
          7.749038219451904,
          3.9635586738586426,
          6.027663230895996,
          8.876245498657227,
          1.6838665008544922,
          9.887694358825684,
          5.031320095062256,
          12.96401596069336,
          12.234868049621582,
          4.770328521728516,
          8.876705169677734,
          2.7184953689575195,
          -2.2431302070617676,
          1.9469237327575684,
          7.6930389404296875,
          2.264388084411621,
          -2.201432943344116,
          -2.1371517181396484,
          6.615559101104736,
          -4.822299480438232,
          1.2250820398330688,
          7.583452224731445,
          0.3986106812953949,
          -1.9589002132415771,
          0.9493147730827332,
          3.1229333877563477,
          3.621062755584717,
          9.233474731445312,
          5.127937316894531
         ]
        },
        {
         "hoverlabel": {
          "namelength": 0
         },
         "hovertemplate": "Dominant_Topic=Topic 2<br>0=%{x}<br>1=%{y}<br>2=%{z}",
         "legendgroup": "Dominant_Topic=Topic 2",
         "marker": {
          "color": "#00cc96",
          "opacity": 0.7,
          "symbol": "circle"
         },
         "mode": "markers",
         "name": "Dominant_Topic=Topic 2",
         "scene": "scene",
         "showlegend": true,
         "type": "scatter3d",
         "x": [
          5.4125542640686035,
          5.501795768737793,
          5.803729057312012,
          6.0325493812561035,
          5.394687652587891,
          3.185553789138794,
          5.637722015380859,
          5.814875602722168,
          4.805591106414795,
          5.777103424072266,
          6.648129940032959,
          6.284611701965332,
          3.899244785308838,
          4.629558563232422,
          4.100362777709961,
          5.548309326171875,
          5.975069999694824,
          8.061765670776367,
          3.874056816101074,
          4.403064250946045,
          3.891920328140259,
          2.455425500869751,
          5.474453449249268,
          5.048116683959961,
          7.145053863525391,
          4.088202953338623,
          6.730199337005615,
          3.8804421424865723,
          5.353918075561523,
          3.5670855045318604,
          7.35764741897583,
          4.896750450134277,
          5.166223049163818,
          7.623707294464111,
          3.919271945953369,
          5.180717468261719,
          6.359649658203125,
          5.4746551513671875,
          5.75717830657959,
          4.832006454467773,
          4.150080680847168,
          3.585963010787964,
          4.3737640380859375,
          2.6888225078582764,
          6.393637657165527,
          6.79024600982666,
          5.233519554138184,
          5.263079643249512,
          6.359477996826172,
          2.7369730472564697,
          6.2031097412109375,
          6.347782135009766,
          7.201359748840332,
          5.515544891357422,
          5.343245983123779,
          6.401059627532959,
          6.361448764801025,
          2.033440351486206,
          7.359278678894043,
          6.3394775390625,
          5.354890823364258,
          6.077844619750977,
          6.2594499588012695,
          8.07328987121582,
          6.016289710998535,
          1.2047462463378906,
          8.088194847106934,
          6.23814582824707,
          2.214874029159546,
          7.867898464202881,
          3.3638226985931396,
          4.786289691925049,
          4.303988456726074,
          8.004347801208496,
          4.0360822677612305,
          7.0792236328125,
          4.01107931137085,
          3.9233322143554688,
          7.230298042297363,
          3.73776912689209,
          7.88956880569458,
          4.8081278800964355,
          3.2604880332946777,
          3.44722580909729,
          5.6405768394470215,
          1.9722795486450195,
          8.007019996643066,
          3.943809747695923,
          3.902315139770508,
          3.608628988265991,
          2.512746572494507,
          1.3736567497253418,
          7.993075847625732,
          2.7185540199279785,
          6.865923881530762,
          4.5590314865112305,
          7.752211570739746,
          3.1535892486572266,
          4.857433319091797,
          7.993401050567627,
          2.9885811805725098,
          6.37470006942749,
          2.5390713214874268,
          5.197343349456787,
          3.852205753326416,
          7.943045616149902,
          5.887686252593994,
          6.344337463378906,
          6.117660999298096,
          1.3798109292984009,
          4.3358540534973145,
          6.214015007019043
         ],
         "y": [
          0.17899522185325623,
          2.555490732192993,
          2.0649216175079346,
          2.225717544555664,
          0.744823157787323,
          3.634270668029785,
          1.9810988903045654,
          2.0892815589904785,
          2.9451980590820312,
          -0.4573909640312195,
          1.7415939569473267,
          1.486371636390686,
          3.2082223892211914,
          1.4576890468597412,
          3.470621347427368,
          1.7874369621276855,
          2.1922836303710938,
          0.4589904546737671,
          3.4393794536590576,
          2.749263048171997,
          3.4985849857330322,
          3.8341848850250244,
          2.0936520099639893,
          2.285029172897339,
          1.2362971305847168,
          3.441801071166992,
          1.6603305339813232,
          3.4268267154693604,
          1.8433728218078613,
          3.044308662414551,
          1.143481731414795,
          2.8692591190338135,
          2.8602302074432373,
          0.621613085269928,
          3.4374923706054688,
          0.8094902634620667,
          1.9954499006271362,
          2.2749276161193848,
          1.7907966375350952,
          2.6810011863708496,
          3.395730495452881,
          3.773646593093872,
          3.386367082595825,
          4.1200432777404785,
          -1.4984850883483887,
          1.1941301822662354,
          2.4728198051452637,
          2.656148672103882,
          1.8832019567489624,
          3.8517777919769287,
          1.91761314868927,
          -0.9508970379829407,
          1.3301252126693726,
          1.8002331256866455,
          -0.11322739720344543,
          -1.5017704963684082,
          -1.3677538633346558,
          2.3415122032165527,
          1.20681893825531,
          1.5693368911743164,
          0.09343639761209488,
          -1.2312827110290527,
          -0.4331918954849243,
          0.5743573904037476,
          -0.642778217792511,
          -2.447835922241211,
          0.5916662812232971,
          -1.6708194017410278,
          3.520176649093628,
          0.6453173160552979,
          1.359628677368164,
          2.319434404373169,
          1.382465124130249,
          0.4962940216064453,
          0.9247923493385315,
          1.2683755159378052,
          1.6874868869781494,
          1.8584482669830322,
          1.2356141805648804,
          1.1382888555526733,
          0.6868155002593994,
          1.413409948348999,
          1.7039304971694946,
          3.192599296569824,
          1.2672699689865112,
          3.4090332984924316,
          -0.06225993484258652,
          0.8481340408325195,
          1.8543379306793213,
          1.3555537462234497,
          3.780069589614868,
          -2.131110429763794,
          0.6582186222076416,
          1.8377314805984497,
          1.599725365638733,
          1.1693661212921143,
          0.5890508890151978,
          3.448404550552368,
          2.4768929481506348,
          0.1634351909160614,
          2.0207972526550293,
          -1.377608060836792,
          1.8935014009475708,
          -1.3333332538604736,
          1.4303890466690063,
          0.2908804416656494,
          -0.8153297901153564,
          -1.3196941614151,
          -0.540854275226593,
          -2.4559435844421387,
          1.6219799518585205,
          1.6699432134628296
         ],
         "z": [
          -6.670490741729736,
          -11.844782829284668,
          -11.446235656738281,
          -12.355788230895996,
          -7.78692626953125,
          -9.398998260498047,
          -10.881556510925293,
          -11.530183792114258,
          -11.134605407714844,
          -6.03377103805542,
          -12.763080596923828,
          -11.324502944946289,
          -9.841586112976074,
          -7.7227325439453125,
          -10.768144607543945,
          -10.274720191955566,
          -12.137617111206055,
          -13.52641487121582,
          -10.25712776184082,
          -9.884848594665527,
          -10.410815238952637,
          -8.562599182128906,
          -10.7490873336792,
          -10.238056182861328,
          -12.884129524230957,
          -10.681239128112793,
          -12.785571098327637,
          -10.24392032623291,
          -9.967660903930664,
          -8.910628318786621,
          -13.21546745300293,
          -11.168442726135254,
          -11.759601593017578,
          -12.73904037475586,
          -10.338984489440918,
          -7.540699005126953,
          -12.629016876220703,
          -11.14845085144043,
          -10.74729061126709,
          -10.613335609436035,
          -10.712214469909668,
          -10.393620491027832,
          -11.166311264038086,
          -9.463231086730957,
          -5.23414421081543,
          -11.911508560180664,
          -11.037293434143066,
          -11.517379760742188,
          -12.376455307006836,
          -9.04539680480957,
          -12.07373046875,
          -6.095889568328857,
          -13.234379768371582,
          -10.225611686706543,
          -5.895089149475098,
          -5.251626014709473,
          -5.468122959136963,
          -5.313077449798584,
          -13.362211227416992,
          -11.637036323547363,
          -6.358573913574219,
          -5.707404136657715,
          -6.972416877746582,
          -13.833109855651855,
          -6.149738788604736,
          -3.8014819622039795,
          -13.915307998657227,
          -5.283992290496826,
          -7.65568208694458,
          -13.427457809448242,
          -5.498758792877197,
          -9.773877143859863,
          -6.9762067794799805,
          -13.458332061767578,
          -5.6630048751831055,
          -12.796257972717285,
          -7.053255081176758,
          -7.223342418670654,
          -13.09397029876709,
          -5.491550445556641,
          -13.594080924987793,
          -7.979496002197266,
          -5.920526504516602,
          -8.991999626159668,
          -9.396668434143066,
          -7.092550277709961,
          -12.21420955657959,
          -5.218882083892822,
          -7.184687614440918,
          -5.758209705352783,
          -8.558989524841309,
          -3.905593156814575,
          -13.80731201171875,
          -5.398953437805176,
          -12.98786449432373,
          -7.022781848907471,
          -13.00113296508789,
          -8.986607551574707,
          -10.238283157348633,
          -12.67901611328125,
          -6.093287467956543,
          -5.248109340667725,
          -5.199965000152588,
          -6.733340740203857,
          -6.30181360244751,
          -12.830506324768066,
          -5.398927688598633,
          -5.619389057159424,
          -6.563779830932617,
          -3.832113265991211,
          -7.497661590576172,
          -11.556632995605469
         ]
        },
        {
         "hoverlabel": {
          "namelength": 0
         },
         "hovertemplate": "Dominant_Topic=Topic 3<br>0=%{x}<br>1=%{y}<br>2=%{z}",
         "legendgroup": "Dominant_Topic=Topic 3",
         "marker": {
          "color": "#ab63fa",
          "opacity": 0.7,
          "symbol": "circle"
         },
         "mode": "markers",
         "name": "Dominant_Topic=Topic 3",
         "scene": "scene",
         "showlegend": true,
         "type": "scatter3d",
         "x": [
          0.8548039793968201,
          0.9128249287605286
         ],
         "y": [
          -3.0253186225891113,
          -2.746624231338501
         ],
         "z": [
          -3.5739858150482178,
          -3.66487717628479
         ]
        }
       ],
       "layout": {
        "height": 800,
        "legend": {
         "tracegroupgap": 0
        },
        "scene": {
         "domain": {
          "x": [
           0,
           1
          ],
          "y": [
           0,
           1
          ]
         },
         "xaxis": {
          "title": {
           "text": "0"
          }
         },
         "yaxis": {
          "title": {
           "text": "1"
          }
         },
         "zaxis": {
          "title": {
           "text": "2"
          }
         }
        },
        "template": {
         "data": {
          "bar": [
           {
            "error_x": {
             "color": "#2a3f5f"
            },
            "error_y": {
             "color": "#2a3f5f"
            },
            "marker": {
             "line": {
              "color": "#E5ECF6",
              "width": 0.5
             }
            },
            "type": "bar"
           }
          ],
          "barpolar": [
           {
            "marker": {
             "line": {
              "color": "#E5ECF6",
              "width": 0.5
             }
            },
            "type": "barpolar"
           }
          ],
          "carpet": [
           {
            "aaxis": {
             "endlinecolor": "#2a3f5f",
             "gridcolor": "white",
             "linecolor": "white",
             "minorgridcolor": "white",
             "startlinecolor": "#2a3f5f"
            },
            "baxis": {
             "endlinecolor": "#2a3f5f",
             "gridcolor": "white",
             "linecolor": "white",
             "minorgridcolor": "white",
             "startlinecolor": "#2a3f5f"
            },
            "type": "carpet"
           }
          ],
          "choropleth": [
           {
            "colorbar": {
             "outlinewidth": 0,
             "ticks": ""
            },
            "type": "choropleth"
           }
          ],
          "contour": [
           {
            "colorbar": {
             "outlinewidth": 0,
             "ticks": ""
            },
            "colorscale": [
             [
              0,
              "#0d0887"
             ],
             [
              0.1111111111111111,
              "#46039f"
             ],
             [
              0.2222222222222222,
              "#7201a8"
             ],
             [
              0.3333333333333333,
              "#9c179e"
             ],
             [
              0.4444444444444444,
              "#bd3786"
             ],
             [
              0.5555555555555556,
              "#d8576b"
             ],
             [
              0.6666666666666666,
              "#ed7953"
             ],
             [
              0.7777777777777778,
              "#fb9f3a"
             ],
             [
              0.8888888888888888,
              "#fdca26"
             ],
             [
              1,
              "#f0f921"
             ]
            ],
            "type": "contour"
           }
          ],
          "contourcarpet": [
           {
            "colorbar": {
             "outlinewidth": 0,
             "ticks": ""
            },
            "type": "contourcarpet"
           }
          ],
          "heatmap": [
           {
            "colorbar": {
             "outlinewidth": 0,
             "ticks": ""
            },
            "colorscale": [
             [
              0,
              "#0d0887"
             ],
             [
              0.1111111111111111,
              "#46039f"
             ],
             [
              0.2222222222222222,
              "#7201a8"
             ],
             [
              0.3333333333333333,
              "#9c179e"
             ],
             [
              0.4444444444444444,
              "#bd3786"
             ],
             [
              0.5555555555555556,
              "#d8576b"
             ],
             [
              0.6666666666666666,
              "#ed7953"
             ],
             [
              0.7777777777777778,
              "#fb9f3a"
             ],
             [
              0.8888888888888888,
              "#fdca26"
             ],
             [
              1,
              "#f0f921"
             ]
            ],
            "type": "heatmap"
           }
          ],
          "heatmapgl": [
           {
            "colorbar": {
             "outlinewidth": 0,
             "ticks": ""
            },
            "colorscale": [
             [
              0,
              "#0d0887"
             ],
             [
              0.1111111111111111,
              "#46039f"
             ],
             [
              0.2222222222222222,
              "#7201a8"
             ],
             [
              0.3333333333333333,
              "#9c179e"
             ],
             [
              0.4444444444444444,
              "#bd3786"
             ],
             [
              0.5555555555555556,
              "#d8576b"
             ],
             [
              0.6666666666666666,
              "#ed7953"
             ],
             [
              0.7777777777777778,
              "#fb9f3a"
             ],
             [
              0.8888888888888888,
              "#fdca26"
             ],
             [
              1,
              "#f0f921"
             ]
            ],
            "type": "heatmapgl"
           }
          ],
          "histogram": [
           {
            "marker": {
             "colorbar": {
              "outlinewidth": 0,
              "ticks": ""
             }
            },
            "type": "histogram"
           }
          ],
          "histogram2d": [
           {
            "colorbar": {
             "outlinewidth": 0,
             "ticks": ""
            },
            "colorscale": [
             [
              0,
              "#0d0887"
             ],
             [
              0.1111111111111111,
              "#46039f"
             ],
             [
              0.2222222222222222,
              "#7201a8"
             ],
             [
              0.3333333333333333,
              "#9c179e"
             ],
             [
              0.4444444444444444,
              "#bd3786"
             ],
             [
              0.5555555555555556,
              "#d8576b"
             ],
             [
              0.6666666666666666,
              "#ed7953"
             ],
             [
              0.7777777777777778,
              "#fb9f3a"
             ],
             [
              0.8888888888888888,
              "#fdca26"
             ],
             [
              1,
              "#f0f921"
             ]
            ],
            "type": "histogram2d"
           }
          ],
          "histogram2dcontour": [
           {
            "colorbar": {
             "outlinewidth": 0,
             "ticks": ""
            },
            "colorscale": [
             [
              0,
              "#0d0887"
             ],
             [
              0.1111111111111111,
              "#46039f"
             ],
             [
              0.2222222222222222,
              "#7201a8"
             ],
             [
              0.3333333333333333,
              "#9c179e"
             ],
             [
              0.4444444444444444,
              "#bd3786"
             ],
             [
              0.5555555555555556,
              "#d8576b"
             ],
             [
              0.6666666666666666,
              "#ed7953"
             ],
             [
              0.7777777777777778,
              "#fb9f3a"
             ],
             [
              0.8888888888888888,
              "#fdca26"
             ],
             [
              1,
              "#f0f921"
             ]
            ],
            "type": "histogram2dcontour"
           }
          ],
          "mesh3d": [
           {
            "colorbar": {
             "outlinewidth": 0,
             "ticks": ""
            },
            "type": "mesh3d"
           }
          ],
          "parcoords": [
           {
            "line": {
             "colorbar": {
              "outlinewidth": 0,
              "ticks": ""
             }
            },
            "type": "parcoords"
           }
          ],
          "pie": [
           {
            "automargin": true,
            "type": "pie"
           }
          ],
          "scatter": [
           {
            "marker": {
             "colorbar": {
              "outlinewidth": 0,
              "ticks": ""
             }
            },
            "type": "scatter"
           }
          ],
          "scatter3d": [
           {
            "line": {
             "colorbar": {
              "outlinewidth": 0,
              "ticks": ""
             }
            },
            "marker": {
             "colorbar": {
              "outlinewidth": 0,
              "ticks": ""
             }
            },
            "type": "scatter3d"
           }
          ],
          "scattercarpet": [
           {
            "marker": {
             "colorbar": {
              "outlinewidth": 0,
              "ticks": ""
             }
            },
            "type": "scattercarpet"
           }
          ],
          "scattergeo": [
           {
            "marker": {
             "colorbar": {
              "outlinewidth": 0,
              "ticks": ""
             }
            },
            "type": "scattergeo"
           }
          ],
          "scattergl": [
           {
            "marker": {
             "colorbar": {
              "outlinewidth": 0,
              "ticks": ""
             }
            },
            "type": "scattergl"
           }
          ],
          "scattermapbox": [
           {
            "marker": {
             "colorbar": {
              "outlinewidth": 0,
              "ticks": ""
             }
            },
            "type": "scattermapbox"
           }
          ],
          "scatterpolar": [
           {
            "marker": {
             "colorbar": {
              "outlinewidth": 0,
              "ticks": ""
             }
            },
            "type": "scatterpolar"
           }
          ],
          "scatterpolargl": [
           {
            "marker": {
             "colorbar": {
              "outlinewidth": 0,
              "ticks": ""
             }
            },
            "type": "scatterpolargl"
           }
          ],
          "scatterternary": [
           {
            "marker": {
             "colorbar": {
              "outlinewidth": 0,
              "ticks": ""
             }
            },
            "type": "scatterternary"
           }
          ],
          "surface": [
           {
            "colorbar": {
             "outlinewidth": 0,
             "ticks": ""
            },
            "colorscale": [
             [
              0,
              "#0d0887"
             ],
             [
              0.1111111111111111,
              "#46039f"
             ],
             [
              0.2222222222222222,
              "#7201a8"
             ],
             [
              0.3333333333333333,
              "#9c179e"
             ],
             [
              0.4444444444444444,
              "#bd3786"
             ],
             [
              0.5555555555555556,
              "#d8576b"
             ],
             [
              0.6666666666666666,
              "#ed7953"
             ],
             [
              0.7777777777777778,
              "#fb9f3a"
             ],
             [
              0.8888888888888888,
              "#fdca26"
             ],
             [
              1,
              "#f0f921"
             ]
            ],
            "type": "surface"
           }
          ],
          "table": [
           {
            "cells": {
             "fill": {
              "color": "#EBF0F8"
             },
             "line": {
              "color": "white"
             }
            },
            "header": {
             "fill": {
              "color": "#C8D4E3"
             },
             "line": {
              "color": "white"
             }
            },
            "type": "table"
           }
          ]
         },
         "layout": {
          "annotationdefaults": {
           "arrowcolor": "#2a3f5f",
           "arrowhead": 0,
           "arrowwidth": 1
          },
          "coloraxis": {
           "colorbar": {
            "outlinewidth": 0,
            "ticks": ""
           }
          },
          "colorscale": {
           "diverging": [
            [
             0,
             "#8e0152"
            ],
            [
             0.1,
             "#c51b7d"
            ],
            [
             0.2,
             "#de77ae"
            ],
            [
             0.3,
             "#f1b6da"
            ],
            [
             0.4,
             "#fde0ef"
            ],
            [
             0.5,
             "#f7f7f7"
            ],
            [
             0.6,
             "#e6f5d0"
            ],
            [
             0.7,
             "#b8e186"
            ],
            [
             0.8,
             "#7fbc41"
            ],
            [
             0.9,
             "#4d9221"
            ],
            [
             1,
             "#276419"
            ]
           ],
           "sequential": [
            [
             0,
             "#0d0887"
            ],
            [
             0.1111111111111111,
             "#46039f"
            ],
            [
             0.2222222222222222,
             "#7201a8"
            ],
            [
             0.3333333333333333,
             "#9c179e"
            ],
            [
             0.4444444444444444,
             "#bd3786"
            ],
            [
             0.5555555555555556,
             "#d8576b"
            ],
            [
             0.6666666666666666,
             "#ed7953"
            ],
            [
             0.7777777777777778,
             "#fb9f3a"
            ],
            [
             0.8888888888888888,
             "#fdca26"
            ],
            [
             1,
             "#f0f921"
            ]
           ],
           "sequentialminus": [
            [
             0,
             "#0d0887"
            ],
            [
             0.1111111111111111,
             "#46039f"
            ],
            [
             0.2222222222222222,
             "#7201a8"
            ],
            [
             0.3333333333333333,
             "#9c179e"
            ],
            [
             0.4444444444444444,
             "#bd3786"
            ],
            [
             0.5555555555555556,
             "#d8576b"
            ],
            [
             0.6666666666666666,
             "#ed7953"
            ],
            [
             0.7777777777777778,
             "#fb9f3a"
            ],
            [
             0.8888888888888888,
             "#fdca26"
            ],
            [
             1,
             "#f0f921"
            ]
           ]
          },
          "colorway": [
           "#636efa",
           "#EF553B",
           "#00cc96",
           "#ab63fa",
           "#FFA15A",
           "#19d3f3",
           "#FF6692",
           "#B6E880",
           "#FF97FF",
           "#FECB52"
          ],
          "font": {
           "color": "#2a3f5f"
          },
          "geo": {
           "bgcolor": "white",
           "lakecolor": "white",
           "landcolor": "#E5ECF6",
           "showlakes": true,
           "showland": true,
           "subunitcolor": "white"
          },
          "hoverlabel": {
           "align": "left"
          },
          "hovermode": "closest",
          "mapbox": {
           "style": "light"
          },
          "paper_bgcolor": "white",
          "plot_bgcolor": "#E5ECF6",
          "polar": {
           "angularaxis": {
            "gridcolor": "white",
            "linecolor": "white",
            "ticks": ""
           },
           "bgcolor": "#E5ECF6",
           "radialaxis": {
            "gridcolor": "white",
            "linecolor": "white",
            "ticks": ""
           }
          },
          "scene": {
           "xaxis": {
            "backgroundcolor": "#E5ECF6",
            "gridcolor": "white",
            "gridwidth": 2,
            "linecolor": "white",
            "showbackground": true,
            "ticks": "",
            "zerolinecolor": "white"
           },
           "yaxis": {
            "backgroundcolor": "#E5ECF6",
            "gridcolor": "white",
            "gridwidth": 2,
            "linecolor": "white",
            "showbackground": true,
            "ticks": "",
            "zerolinecolor": "white"
           },
           "zaxis": {
            "backgroundcolor": "#E5ECF6",
            "gridcolor": "white",
            "gridwidth": 2,
            "linecolor": "white",
            "showbackground": true,
            "ticks": "",
            "zerolinecolor": "white"
           }
          },
          "shapedefaults": {
           "line": {
            "color": "#2a3f5f"
           }
          },
          "ternary": {
           "aaxis": {
            "gridcolor": "white",
            "linecolor": "white",
            "ticks": ""
           },
           "baxis": {
            "gridcolor": "white",
            "linecolor": "white",
            "ticks": ""
           },
           "bgcolor": "#E5ECF6",
           "caxis": {
            "gridcolor": "white",
            "linecolor": "white",
            "ticks": ""
           }
          },
          "title": {
           "x": 0.05
          },
          "xaxis": {
           "automargin": true,
           "gridcolor": "white",
           "linecolor": "white",
           "ticks": "",
           "title": {
            "standoff": 15
           },
           "zerolinecolor": "white",
           "zerolinewidth": 2
          },
          "yaxis": {
           "automargin": true,
           "gridcolor": "white",
           "linecolor": "white",
           "ticks": "",
           "title": {
            "standoff": 15
           },
           "zerolinecolor": "white",
           "zerolinewidth": 2
          }
         }
        },
        "title": {
         "text": "3d TSNE Plot for Topic Model"
        },
        "width": 900
       }
      },
      "text/html": [
       "<div>\n",
       "        \n",
       "        \n",
       "            <div id=\"3a63d646-9d12-4170-b778-d847d9ab04e1\" class=\"plotly-graph-div\" style=\"height:800px; width:900px;\"></div>\n",
       "            <script type=\"text/javascript\">\n",
       "                require([\"plotly\"], function(Plotly) {\n",
       "                    window.PLOTLYENV=window.PLOTLYENV || {};\n",
       "                    \n",
       "                if (document.getElementById(\"3a63d646-9d12-4170-b778-d847d9ab04e1\")) {\n",
       "                    Plotly.newPlot(\n",
       "                        '3a63d646-9d12-4170-b778-d847d9ab04e1',\n",
       "                        [{\"hoverlabel\": {\"namelength\": 0}, \"hovertemplate\": \"Dominant_Topic=Topic 0<br>0=%{x}<br>1=%{y}<br>2=%{z}\", \"legendgroup\": \"Dominant_Topic=Topic 0\", \"marker\": {\"color\": \"#636efa\", \"opacity\": 0.7, \"symbol\": \"circle\"}, \"mode\": \"markers\", \"name\": \"Dominant_Topic=Topic 0\", \"scene\": \"scene\", \"showlegend\": true, \"type\": \"scatter3d\", \"x\": [0.509924054145813, -3.1948118209838867, -3.6725430488586426, 0.22821027040481567, -4.293271064758301, -3.1693196296691895, -5.1926493644714355, -1.080970048904419, -3.461036205291748, -2.117798328399658, -1.974952220916748, -3.308950901031494, 0.7203124761581421, 1.6578702926635742, -1.0465370416641235, -5.571745872497559, -3.625227928161621, -2.6337296962738037, -1.4817787408828735, -2.970963716506958, -5.994202613830566, -4.978179931640625, -5.143514633178711, -1.0654315948486328, 1.3627333641052246, -4.981442451477051, 0.9439240097999573, -5.54210901260376, -1.8391451835632324, -2.9992470741271973, -5.413427352905273, -3.9385790824890137, -2.965902090072632, -2.987617015838623, -5.3578338623046875, -1.7693439722061157, -3.337726354598999, -3.5390613079071045, -6.183692932128906, -2.0424258708953857, -6.124149799346924, -5.506053447723389, -1.4761208295822144, -3.808896064758301, -1.7218014001846313, -3.5114376544952393, -3.549863815307617, -5.294620037078857, -0.4222860038280487, -5.449119567871094, -3.348034143447876, -2.9893040657043457, -5.450638771057129, -5.167238235473633, -5.912467002868652, -6.090895175933838, -0.452744722366333, -4.951919078826904, -3.213961601257324, -4.981683731079102, -1.6758723258972168, -3.565711736679077, -4.318368911743164, -4.3297953605651855, -2.250598192214966, -3.247433662414551, -3.572435140609741, -3.4907917976379395, -3.309985399246216, -2.684711456298828, -4.2911601066589355, -5.522068977355957, -1.8784924745559692, 0.3373381793498993, -5.005683422088623, -4.640517234802246, -3.1615309715270996, -4.375729084014893, -3.8770649433135986, -5.367837429046631, -2.4294686317443848, 0.24971821904182434, -3.4876487255096436, -2.518749475479126, -1.148472785949707, -0.9882456660270691, -2.0025229454040527, -3.98205304145813, -6.199365615844727, -4.571135997772217, -1.8947644233703613, -4.56325101852417, -6.164239406585693, -3.297802209854126, -6.139647483825684, 0.6083984375, -1.3191044330596924, -2.835526943206787, -5.310161113739014, -5.943295001983643, -0.7190449237823486, -1.4625697135925293, -0.49406108260154724, -1.4926787614822388, -5.865688800811768, -6.183584213256836, -3.936588764190674, 1.7618805170059204, -1.8988170623779297, -5.200034141540527, -2.968221664428711, -1.5752297639846802, -6.142285346984863, -3.7405948638916016, -1.830515742301941, -5.948834419250488, -0.2625557780265808, -3.4350833892822266, -5.728453159332275, -1.2614377737045288, -1.6849924325942993, -2.834249258041382, -1.3862031698226929, -2.9937894344329834, -0.8821932673454285, 1.2676060199737549, -1.5353474617004395, -0.47127291560173035, -3.325584650039673, -6.116941452026367, -6.192688465118408, 1.086034893989563, -3.0294599533081055, -2.921553373336792, -6.049687385559082, -2.8689262866973877, -3.6750123500823975, -3.6064608097076416, -1.1446815729141235, -1.2162299156188965, -1.9232100248336792, 1.2750555276870728, -0.5244265794754028, -0.32848986983299255, -2.891072988510132, -4.042660236358643, -6.068962574005127, -5.681503772735596, -3.276893138885498, -3.651660203933716, -1.5565820932388306, -3.609360933303833, -3.854649543762207, -3.1080360412597656, -0.43273594975471497, -6.122377395629883, -3.685018539428711, -0.9020431041717529, -5.375583648681641, -5.930418491363525, -4.535094738006592, -1.8154247999191284, -4.969320297241211, -3.3801510334014893, -4.301555156707764, -2.960404872894287, -1.598677396774292, -0.8482252955436707, -3.630053997039795, -4.604467868804932, -1.6946296691894531, -3.1321301460266113, -4.37380313873291, -2.1288158893585205, -1.2933683395385742, -4.80623197555542, -5.700012683868408, -4.917968273162842, -5.889827728271484, -5.016709804534912, -2.681562900543213, -3.0851147174835205, -5.350179195404053, -2.530784845352173, -2.421609401702881, 1.5420308113098145, -0.21474316716194153, -6.1621246337890625, -0.6700402498245239, -3.0743279457092285, -2.8838071823120117, -3.7205381393432617, -3.2013068199157715, -1.3182942867279053, -3.6239213943481445, -3.0971486568450928, -3.3209383487701416, -3.4564871788024902, -6.083248615264893, -5.554121017456055, -5.263970375061035, -0.9991881847381592, -2.653749704360962, -2.9207818508148193, -6.199949264526367, -3.6279027462005615, -4.719553470611572, -3.544414520263672, -6.185243606567383, -3.3089349269866943, -2.548354148864746, -5.31121826171875, -4.3548054695129395, -3.7888619899749756, -5.841489315032959, -4.001952648162842, -5.253596305847168, -5.330343723297119, -3.8792407512664795, -1.599624752998352, -3.5490474700927734, -1.3709349632263184, -5.821114540100098, -1.5890414714813232, -5.915829181671143, -5.712443828582764, -3.0779550075531006, -3.4843175411224365, -6.016196250915527, -6.081608295440674, -4.101911544799805, -4.994894027709961, -2.7116847038269043, -3.507734537124634, -3.0393612384796143, -2.4289097785949707, -5.523563861846924, -4.206284999847412, -0.45421215891838074, -2.8631887435913086, -5.101898670196533, 0.9590456485748291, -2.925398111343384, -1.6504542827606201, -5.65899658203125, -1.891178011894226, -2.6472370624542236, -4.3844146728515625, -4.000064373016357, -1.4017597436904907, -5.141384601593018, -6.049225330352783, -1.8273934125900269, -4.398016452789307, -6.122398376464844, -1.7564210891723633, -4.1370720863342285, -3.5601096153259277, -3.8232405185699463, -5.526054859161377, -2.0833399295806885, -6.03481388092041, -5.614145755767822, 2.432924747467041, -6.087446689605713, -2.1684305667877197, -0.5548442602157593, -5.584491729736328, -1.1170258522033691, -6.242691516876221, -3.7105045318603516, -5.72049617767334, -0.4646991789340973, -3.8819425106048584, -3.4082703590393066, -5.225452899932861, -6.125617980957031], \"y\": [3.903364658355713, 6.905043601989746, 7.532355785369873, 6.182366371154785, 12.784276962280273, 9.425414085388184, 6.195563793182373, 2.951087713241577, 12.493668556213379, 9.640911102294922, 1.7383770942687988, 6.849090576171875, 3.197805643081665, 3.5447568893432617, 6.294485569000244, 9.713554382324219, 6.515740871429443, 9.127946853637695, 4.4126458168029785, 10.891438484191895, 13.638171195983887, 9.809216499328613, 13.657840728759766, 6.198507785797119, 3.6767568588256836, 13.649445533752441, 3.4387004375457764, 13.867215156555176, 4.777748107910156, 5.987452030181885, 13.228116035461426, 13.263555526733398, 10.61383056640625, 11.128936767578125, 10.530071258544922, 5.8224029541015625, 6.2170538902282715, 6.381825923919678, 13.245267868041992, 4.891019344329834, 11.712467193603516, 9.612927436828613, 5.7020978927612305, 6.900651931762695, 6.250000953674316, 12.13633918762207, 11.091593742370605, 13.639278411865234, 9.662017822265625, 9.50858211517334, 11.748930931091309, 10.21134090423584, 9.421381950378418, 8.904158592224121, 13.431440353393555, 13.632709503173828, 9.732481002807617, 8.95812702178955, 9.26816463470459, 8.572361946105957, 6.651423454284668, 12.064827919006348, 7.8635101318359375, 13.190315246582031, 2.008864402770996, 8.217013359069824, 7.702297687530518, 9.0385160446167, 6.7905097007751465, 7.962588310241699, 8.963671684265137, 10.587396621704102, 8.649829864501953, 3.6658143997192383, 6.358207702636719, 9.453681945800781, 9.493022918701172, 13.062697410583496, 11.000669479370117, 13.552488327026367, 6.02857780456543, 3.533647298812866, 12.004758834838867, 6.700465202331543, 4.255063056945801, 6.362059593200684, 6.437290668487549, 13.247210502624512, 12.898221969604492, 6.40352725982666, 8.874627113342285, 11.537790298461914, 12.731730461120605, 11.149060249328613, 12.073118209838867, 4.0479817390441895, 7.296056270599365, 10.159299850463867, 10.285408020019531, 10.583860397338867, 6.9640936851501465, 5.8425445556640625, 6.022078037261963, 6.095344066619873, 13.531482696533203, 12.744949340820312, 13.260170936584473, 2.937372922897339, 9.48704719543457, 10.74655532836914, 9.827339172363281, 8.254003524780273, 11.739570617675781, 7.949568748474121, 6.461200714111328, 13.673788070678711, 0.9416709542274475, 6.447937965393066, 13.831181526184082, 6.778481960296631, 4.74300479888916, 9.516511917114258, 4.999107837677002, 5.966972351074219, 3.990276575088501, 3.0250473022460938, 6.573894500732422, 6.697237491607666, 11.53488540649414, 11.678898811340332, 11.46406364440918, 3.3635966777801514, 6.78661584854126, 5.582701683044434, 10.922733306884766, 6.327519416809082, 9.203725814819336, 6.396117210388184, 7.2451395988464355, 5.303676128387451, 9.29238510131836, 3.8415348529815674, 3.7581191062927246, 6.047520160675049, 6.57766580581665, 6.1577348709106445, 11.021803855895996, 12.903314590454102, 9.293967247009277, 11.807458877563477, 1.8380863666534424, 8.568501472473145, 8.003192901611328, 9.593294143676758, 6.640542507171631, 13.432961463928223, 6.809671878814697, 6.287045478820801, 12.507149696350098, 11.180036544799805, 13.413300514221191, 4.729727745056152, 8.584271430969238, 10.928055763244629, 7.5238037109375, 10.104085922241211, 4.4874372482299805, 3.1059226989746094, 6.774909496307373, 13.445283889770508, 6.192972660064697, 5.834144592285156, 7.615928649902344, 9.818950653076172, 4.329975128173828, 8.908082008361816, 13.926115036010742, 13.40963077545166, 13.839622497558594, 13.67135238647461, 5.236923694610596, 5.777567386627197, 9.419472694396973, 1.1833837032318115, 8.124845504760742, 3.338479995727539, 3.67083740234375, 12.45496940612793, 3.1529033184051514, 10.734437942504883, 6.025628089904785, 12.637544631958008, 6.362639427185059, 8.109447479248047, 12.63568115234375, 7.109918594360352, 6.080075740814209, 10.05627155303955, 13.534318923950195, 13.880655288696289, 11.316402435302734, 7.18741512298584, 6.154043197631836, 5.178963661193848, 13.310402870178223, 11.236933708190918, 8.724438667297363, 6.588494300842285, 13.090571403503418, 6.0542893409729, 1.2944220304489136, 9.222140312194824, 13.326177597045898, 6.823791980743408, 13.766792297363281, 12.728550910949707, 9.094690322875977, 9.282194137573242, 6.865169525146484, 8.41774845123291, 7.858499050140381, 5.575427055358887, 12.803954124450684, 9.249963760375977, 10.587721824645996, 10.025487899780273, 11.121593475341797, 7.77604866027832, 11.030466079711914, 11.037310600280762, 8.85813045501709, 9.898357391357422, 5.341523170471191, 9.156063079833984, 8.878658294677734, 5.885705947875977, 11.592450141906738, 12.951312065124512, 9.764304161071777, 6.696178436279297, 8.946191787719727, 3.239677906036377, 5.856881141662598, 9.283272743225098, 13.882662773132324, 4.788406848907471, 6.084667205810547, 13.30090618133545, 7.042560577392578, 6.148494243621826, 11.582015037536621, 13.683204650878906, 5.774341106414795, 9.431451797485352, 13.43293571472168, 9.131600379943848, 10.92428207397461, 7.321628093719482, 6.783664226531982, 10.388322830200195, 5.019257068634033, 11.43156623840332, 10.323108673095703, 4.216457843780518, 11.668682098388672, 8.723713874816895, 6.754339694976807, 13.910110473632812, 4.694277763366699, 11.965893745422363, 11.523338317871094, 11.62610149383545, 9.700794219970703, 8.746805191040039, 6.191851615905762, 13.37496280670166, 11.225459098815918], \"z\": [-5.977935314178467, -4.661407470703125, -3.2972617149353027, -9.086935043334961, -9.626419067382812, -7.995390892028809, -0.5398545861244202, -3.795954942703247, -6.2024431228637695, -4.6106438636779785, -3.6219398975372314, -3.8666207790374756, -4.268533706665039, -6.894590377807617, -6.639382362365723, -1.6867883205413818, -0.5068131685256958, -4.323030948638916, -1.1900475025177002, -7.320370197296143, -7.303887367248535, -5.074140548706055, -9.321760177612305, -6.860543251037598, -6.675595760345459, -9.724752426147461, -5.489810943603516, -8.71976089477539, -1.1912670135498047, -1.7710787057876587, -7.093922138214111, -11.677459716796875, -9.704980850219727, -7.802770614624023, -5.132623195648193, -6.079373359680176, -0.8145432472229004, 0.5518790483474731, -6.348870754241943, -0.6411688327789307, -4.394466400146484, -1.650286078453064, -5.092982769012451, -1.5703853368759155, -6.7403364181518555, -10.814008712768555, -9.115026473999023, -8.921979904174805, -4.774600982666016, -1.5851305723190308, -10.572722434997559, -7.333159923553467, -1.3848737478256226, -1.0469979047775269, -7.103906631469727, -7.09260892868042, -4.844616413116455, -1.9299535751342773, -7.760433197021484, -0.801960825920105, -4.58766508102417, -10.552041053771973, -1.8943967819213867, -10.56748104095459, -3.8559181690216064, -4.570614337921143, -5.094942569732666, -7.034862518310547, -3.6173157691955566, -9.738231658935547, -2.9014341831207275, -2.915940046310425, -9.339421272277832, -4.858027935028076, -0.49380728602409363, -5.394076824188232, -8.082503318786621, -10.201446533203125, -8.457270622253418, -8.569596290588379, -4.903423309326172, -4.365893840789795, -10.651026725769043, -4.421919345855713, -2.3941426277160645, -6.9274821281433105, -6.805088520050049, -11.5392427444458, -5.83815336227417, -0.46729686856269836, -9.398316383361816, -7.786569595336914, -5.689462661743164, -9.74820613861084, -4.818575382232666, -6.307758808135986, -8.545503616333008, -9.394325256347656, -4.853262901306152, -2.6635422706604004, -5.698999404907227, -6.663233280181885, -7.77899169921875, -6.993414878845215, -7.438024520874023, -5.6453962326049805, -11.676830291748047, -5.9290008544921875, -10.045068740844727, -3.1619222164154053, -8.555503845214844, -9.188393592834473, -4.348089694976807, -4.993781566619873, -4.784572601318359, -7.412393093109131, -4.534519672393799, -1.7275958061218262, -8.203845977783203, -8.043697357177734, -2.031374931335449, -8.586750984191895, -4.809969425201416, -1.6779377460479736, -2.3476274013519287, -5.528084754943848, -7.534856796264648, -8.870217323303223, -10.284847259521484, -4.331131935119629, -3.764194965362549, -5.74512243270874, -5.025238037109375, 0.822041928768158, -3.0801620483398438, -4.261366367340088, -6.927826404571533, 0.05819201096892357, -8.753743171691895, -6.019192695617676, -4.187735557556152, -6.804701328277588, -3.095486640930176, -8.163186073303223, -4.878227233886719, 0.2129228115081787, -3.232896089553833, -5.779928207397461, -6.717507362365723, -9.932136535644531, -3.588951349258423, -5.824582099914551, -3.344860792160034, -8.289019584655762, -8.846031188964844, -6.734663009643555, -1.8661550283432007, -6.762805461883545, -7.335719585418701, -4.020966529846191, -10.44039249420166, -1.046925663948059, -0.9521691799163818, -9.242173194885254, -0.15712283551692963, -9.097965240478516, -0.939127504825592, -3.9271433353424072, -2.005302906036377, -10.318915367126465, -6.892894268035889, 0.7482305765151978, -0.26717284321784973, -4.896547317504883, -1.8570868968963623, -2.419583320617676, -8.452281951904297, -9.432933807373047, -7.820430755615234, -9.67568588256836, 0.90627521276474, 0.8017823100090027, -1.6713546514511108, -3.4384689331054688, -9.614748001098633, -6.522536754608154, -3.7923574447631836, -5.275986194610596, -3.6345014572143555, -9.618033409118652, -2.7652416229248047, -5.835531234741211, -2.5924010276794434, -9.321538925170898, -6.05867338180542, -5.617063522338867, 0.7111523747444153, -8.18688678741455, -6.96259880065918, -8.716621398925781, -6.422093391418457, -8.808215141296387, -4.467841625213623, 0.8133249282836914, -6.422980785369873, -9.153870582580566, -2.256737232208252, -1.751672625541687, -6.125998020172119, 0.6636887192726135, -3.457404136657715, -1.3557279109954834, -10.74370002746582, -1.3622071743011475, -7.793379306793213, -10.595725059509277, -1.2396973371505737, -1.4308733940124512, 0.20950353145599365, -4.048194885253906, -5.5949482917785645, -6.361715793609619, -6.734663963317871, -3.743967294692993, -2.7002875804901123, -2.010669708251953, -10.210413932800293, -5.659632205963135, -3.366793632507324, -3.2292020320892334, -5.721480369567871, -5.2022013664245605, 0.8188461065292358, -7.134519577026367, -7.699778079986572, -4.569085597991943, -6.099697589874268, -10.45466136932373, -4.87697172164917, -5.384204387664795, -1.4387357234954834, -5.335505485534668, -1.3836606740951538, -3.826118230819702, -8.463648796081543, -0.9432774782180786, -4.408199310302734, -10.593998908996582, 0.09675709903240204, -7.185154438018799, -6.9216790199279785, -7.230750560760498, -5.830058574676514, -2.7982308864593506, -6.73457670211792, -9.818624496459961, -7.795156002044678, -4.001799583435059, 0.27393534779548645, -2.6305482387542725, -1.2146482467651367, -4.289124965667725, -2.4804651737213135, -9.201850891113281, -4.398139953613281, -8.788649559020996, -8.837080001831055, -8.698201179504395, -4.68027925491333, -4.440109729766846, -9.375094413757324, -4.302903175354004, -4.8005781173706055, -6.0117058753967285, 0.6369604468345642, -6.691083908081055, -3.478330135345459]}, {\"hoverlabel\": {\"namelength\": 0}, \"hovertemplate\": \"Dominant_Topic=Topic 1<br>0=%{x}<br>1=%{y}<br>2=%{z}\", \"legendgroup\": \"Dominant_Topic=Topic 1\", \"marker\": {\"color\": \"#EF553B\", \"opacity\": 0.7, \"symbol\": \"circle\"}, \"mode\": \"markers\", \"name\": \"Dominant_Topic=Topic 1\", \"scene\": \"scene\", \"showlegend\": true, \"type\": \"scatter3d\", \"x\": [5.965169429779053, 2.84356951713562, -8.676977157592773, 2.4556760787963867, 0.511185884475708, 5.205171585083008, 3.859092950820923, -1.397864818572998, -0.2890947461128235, 5.4167022705078125, 4.68767786026001, -2.589310646057129, -0.4475516378879547, 5.307047367095947, 2.178194522857666, 2.998464345932007, 3.120353937149048, 0.45514267683029175, -0.17857646942138672, 6.082779407501221, 4.9225335121154785, 3.1420772075653076, 7.107419967651367, -0.028858808800578117, 6.028358459472656, 1.4495537281036377, -1.497745156288147, -0.20442691445350647, -1.3496006727218628, 3.2850229740142822, -0.304634690284729, 3.771481990814209, 7.542266845703125, 1.3831299543380737, 1.5148391723632812, -7.7923784255981445, -11.134702682495117, -1.026855230331421, 2.5487027168273926, 0.815192699432373, -7.78128719329834, 2.3139727115631104, 0.5697447657585144, 2.8926758766174316, 5.192225456237793, 2.238945484161377, 3.2250280380249023, 5.9075703620910645, -1.0412907600402832, -1.041279673576355, -0.5032477974891663, -0.5814207792282104, 0.6645417809486389, 5.965348720550537, -1.1419864892959595, 1.3383598327636719, 3.43204665184021, -1.0769388675689697, 0.8567563891410828, 5.033192157745361, 6.173500061035156, 0.34641706943511963, 6.3238983154296875, -0.5153467655181885, -0.8151570558547974, -0.9160178899765015, 7.036774635314941, -4.347568988800049, 0.23599572479724884, 6.5229082107543945, -0.2671932578086853, 0.7777119874954224, 1.7007479667663574, -0.8589126467704773, 2.1171929836273193, 6.236855506896973, 1.0079798698425293, 1.5227079391479492, -3.7476370334625244, 0.8781347274780273, 1.645592451095581, -0.42705240845680237, -1.0771093368530273, 3.3391528129577637, 6.897307872772217, 6.752788543701172, 6.993954658508301, -7.529554843902588, 4.033283710479736, -0.20813493430614471, 6.9274749755859375, 3.876978874206543, 1.370883822441101, 6.6958699226379395, -2.558156967163086, 4.087988376617432, -9.624696731567383, -1.536400556564331, -0.9585359692573547, 7.461915969848633, 6.839758396148682, -11.363814353942871, -7.628271102905273, 2.7303619384765625, 3.282092332839966, -5.585650444030762, 2.1170027256011963, 6.316108226776123, 5.371456623077393, -0.8701286911964417, -2.479557752609253, -8.40909194946289, -3.6508796215057373, -1.7916284799575806, 2.12778902053833, -1.5990761518478394, -0.24505746364593506, 1.2802327871322632, -0.2902107834815979, -0.546836793422699, -11.066889762878418, -3.2168445587158203, 3.160330057144165, 2.6603176593780518, -5.628261566162109, 3.0490832328796387, -1.1324436664581299, -3.3879079818725586, 5.873344898223877, -3.1912004947662354, 5.671964645385742, 6.111680507659912, -5.6378092765808105, 2.2345824241638184, -1.1399420499801636, 6.464414119720459, 3.0538089275360107, -0.08908095955848694, -1.157590627670288, 0.09625550359487534, 0.4852256774902344, -4.042220115661621, -1.7462354898452759, 0.26884809136390686, 6.921669006347656, 1.0450369119644165, 6.505500316619873, 7.567171096801758, 3.0961718559265137, 5.424812316894531, 1.3325096368789673, -1.268744707107544, 1.2431482076644897, 5.280662536621094, 2.1013877391815186, 7.077695369720459, 1.737159252166748, 0.8054034113883972, -1.2221741676330566, -10.59882640838623, -1.2005586624145508, 0.032089944928884506, 1.6782854795455933, -8.60422420501709, 0.2500925660133362, 0.12689772248268127, -0.4311751425266266, -1.551321029663086, 0.35136091709136963, -1.27482008934021, -1.747662901878357, 4.045106410980225, 7.604220390319824, -1.1445882320404053, 1.3062129020690918, -3.9810047149658203, -0.38830962777137756, 0.839164137840271, 1.3917187452316284, -9.233433723449707, 3.6267597675323486, -2.5230283737182617, 5.533059120178223, -0.7835809588432312, -0.09382800757884979, 5.117943286895752, -2.172534704208374, -1.5137206315994263, -1.1704894304275513, -2.9774281978607178, 1.5049951076507568, 4.2302374839782715, 2.279409408569336, -1.0811327695846558, 4.801270484924316, 1.6603667736053467, 1.5943801403045654, 2.92647123336792, 3.360211133956909, 5.446022987365723, -6.63518762588501, -0.7950332164764404, -1.910902976989746, 5.815645694732666, -1.2326797246932983, -0.7461584210395813, 2.520883083343506, 1.2959661483764648, 7.216897010803223, -7.216048717498779, 7.0287580490112305, 1.4608718156814575, -8.77774715423584, -1.942159652709961, -5.561155319213867, 6.212852478027344, 2.2889626026153564, 7.071381568908691, 2.9897232055664062, -3.57330584526062, -11.477334022521973, 1.9453696012496948, -10.966902732849121, 5.210511684417725, 2.4218764305114746, 6.40904426574707, 0.18680304288864136, -0.1671624481678009, -3.6558146476745605, 1.7175590991973877, 0.5587510466575623, 0.026799099519848824, 0.7395689487457275, 5.111674785614014, -6.418208599090576, -10.705681800842285, 6.127399444580078, 0.5395918488502502, 0.35601261258125305, 7.069110870361328, -1.9852279424667358, -1.2878721952438354, 3.6088693141937256, 6.430653095245361, -0.8251939415931702, -1.554469347000122, 3.9388463497161865, 1.3019499778747559, 1.8611496686935425, -0.37174171209335327, 3.871218681335449, -0.04589735344052315, 4.7367024421691895, -1.574097752571106, -1.58809494972229, 2.815124988555908, 2.188107490539551, 5.314393520355225, -1.142457365989685, 3.3174009323120117, 2.1826975345611572, 0.726179838180542, -8.456047058105469, -1.1112538576126099, 0.3267742991447449, 3.499624252319336, -8.19251823425293, -0.7099876999855042, -3.13124418258667, -1.6749217510223389, -1.9001933336257935, -8.726237297058105, -11.543352127075195, 2.470879316329956, -1.862967610359192, 4.376131057739258, -2.3223671913146973, 1.644255518913269, 7.594408988952637, -1.540718674659729, 0.0929444432258606, -0.06908921897411346, 1.7080774307250977, -0.6324338316917419, 3.858792304992676, -2.645407199859619, -0.25861847400665283, 5.189240455627441, 1.2197811603546143, 1.6109836101531982, -2.4851620197296143, 2.8121583461761475, 6.6683831214904785, 6.662209510803223, -8.563817977905273, -11.821240425109863, 0.7760415077209473, -0.8966897130012512, -0.8047100305557251, -10.491839408874512, -1.1668964624404907, 2.54927396774292, -0.547939121723175, -0.20600813627243042, -3.3682143688201904, 6.242372989654541, 5.354464054107666, 6.787363052368164, -3.0654208660125732, 0.6090689301490784, -1.1764839887619019, -0.6360381245613098, 0.6424646377563477, 2.391042947769165, -0.9744293689727783, 5.5357794761657715, 3.633298873901367, 5.526392936706543, -3.7094287872314453, 5.796759605407715, -11.81897258758545, 0.9550134539604187, 5.665737628936768, -0.004598598927259445, 2.548018455505371, 3.2147974967956543, -1.4607279300689697, 7.563931941986084, -0.452549010515213, 3.234743356704712, 3.276296854019165, -11.216659545898438, 5.9272613525390625, 1.3070870637893677, 3.759833812713623, 0.4917686879634857, 3.634754180908203, -3.8526854515075684, 7.52907657623291, -2.7692177295684814, 7.6598968505859375, 6.4718756675720215, 6.950830459594727, 3.299173593521118, 6.2991414070129395, 3.5161056518554688, -1.7532283067703247, 5.19771671295166, 1.9004476070404053, 2.7267258167266846, 3.793926239013672, -0.25912100076675415, -0.23369869589805603, 1.9815118312835693, 6.750741958618164, -0.31347256898880005, -0.6884748339653015, 1.829313039779663, -0.2733640968799591, -1.507413625717163, 1.6968367099761963, 0.16089573502540588, 6.542322158813477, -0.3081502616405487, 2.726397752761841, 6.890448570251465, 1.6394879817962646, 6.141078948974609, -0.6435455679893494, 0.921165943145752, 4.823707103729248, -0.22106897830963135, 6.514176368713379, -5.112977504730225, -2.273813486099243, 6.272843360900879, 0.28213784098625183, 2.7444045543670654, -3.2464051246643066, 7.096712589263916, 1.0449399948120117, 1.1906710863113403, -1.1987428665161133, 3.969331741333008, -0.6907264590263367, 2.2312119007110596, 1.331615686416626, 1.4764355421066284, 4.328884124755859, 0.7650554776191711, -2.0035934448242188, 6.608163833618164, 0.8096765279769897, 5.829732418060303, 3.4362170696258545, 2.29872989654541, -0.15890085697174072, -1.9210567474365234, 0.563530683517456, -1.9356309175491333, -1.1324081420898438, -1.9180799722671509, 5.915444850921631, 7.234258651733398, 2.7830705642700195, -0.01970473863184452, -0.8671540021896362, -1.080948829650879, 1.1400774717330933, 6.549187660217285, 3.4889121055603027, 6.601125240325928, -10.704880714416504, 0.8927223086357117, 5.803518295288086, 2.105142116546631, -0.39739876985549927, 1.9956403970718384, -9.39436149597168, -0.727905809879303, -8.17144775390625, -9.638931274414062, 1.7144697904586792, 5.489091873168945, 2.1659083366394043, -1.1451244354248047, -0.5386562943458557, -2.8673999309539795, -7.492125511169434, -1.9774811267852783, 0.16665388643741608, -0.7928261160850525, 3.924368381500244, -0.5349155068397522, -3.7787926197052, 3.0668904781341553, -1.2225866317749023, 2.4988722801208496, -8.711679458618164, 0.4834289848804474, -7.639158248901367, -0.2038307636976242, -9.992916107177734, 5.513691425323486, -3.1402692794799805, -1.8774608373641968, 2.7223153114318848, 3.228576183319092, -0.4688640534877777, 3.0890586376190186, -10.104925155639648, 5.254075050354004, -0.7211419939994812, -4.592372417449951, -0.2146146595478058, -11.23453140258789, 5.355998992919922, -0.5361485481262207, 4.876368522644043, -0.7413797378540039, 3.674980878829956, 0.8781283497810364, -8.273548126220703, 0.5964368581771851, -0.36605921387672424, 0.32594171166419983, 1.2569109201431274, 0.2125793844461441, 0.5558934211730957, 1.1639182567596436, 4.717756748199463, -1.4316577911376953, 6.42825174331665, 7.199399471282959, 2.1643271446228027, -1.273067593574524, 4.171417236328125, 1.5099945068359375, -1.6455192565917969, -1.7328187227249146, 1.0847053527832031, 1.5605672597885132, -4.884483814239502, 6.967658042907715, -5.965580463409424, -1.4700626134872437, 0.45042702555656433, -0.4899637997150421, -0.2159455567598343, -2.2697768211364746, -0.947275698184967, -0.5459623336791992, -10.014872550964355, -10.154239654541016, 2.578009843826294, -3.491377592086792, -2.821394205093384, -1.306293249130249, -0.5273305773735046, -7.096641540527344, 3.2439074516296387, 7.595016956329346, -1.3158259391784668, -2.0850541591644287, -0.17368635535240173, -1.5509577989578247, 2.064042568206787, -9.891519546508789, -1.350982666015625, -6.551646709442139, 5.689132213592529, -4.525900840759277, -2.0696277618408203, 1.1751855611801147, -0.7933986783027649, -0.18773427605628967, -4.19730281829834, -0.6009494662284851, 6.484838008880615, -1.3303651809692383, 1.6344188451766968, -0.5951151847839355, 4.820193290710449, -1.9467289447784424, 4.0637407302856445, 4.459606170654297, -2.9521448612213135, 7.528195858001709, -0.5182980895042419, -2.165391206741333, -3.8653626441955566, 1.0173763036727905, -0.5891458988189697, -1.1242743730545044, 3.6909067630767822, 0.041264817118644714, -3.6564881801605225, 4.312922954559326, -7.754476547241211, -1.24661386013031, 2.805436134338379, -1.601602554321289, -0.6015676259994507, 5.551162242889404, 1.2133969068527222, 6.159425258636475, 2.958549737930298, -1.0377604961395264, 0.10791163891553879, 7.517251014709473, 2.5665242671966553, 0.19279956817626953, 7.0925612449646, 4.202956676483154, 0.0998801738023758, 4.5604248046875, 7.037324905395508, 3.6474061012268066, -1.1612581014633179, -2.8483784198760986, -0.21491262316703796, 0.50239098072052, 2.413320779800415, 2.094316244125366, 1.8260859251022339, 7.132175445556641, 0.16012047231197357, 4.124673843383789, -4.156586647033691, 4.151350021362305, -6.631556510925293, 6.367102146148682, 6.094462871551514, 0.2767121493816376, -3.4824583530426025, -0.2898058593273163, -2.289311408996582, -1.2287564277648926, -1.5196723937988281, -0.5200148224830627, -0.09432647377252579, 3.3847663402557373, 3.267887830734253, -3.6492273807525635, 2.1296286582946777, 4.960424423217773, 3.7319700717926025, 1.8073736429214478, -6.046135425567627, 7.232105255126953, -1.4255955219268799, 7.137684345245361, 1.493755578994751, 5.6146626472473145, -2.5326175689697266, 7.154228687286377, 6.593379497528076, 5.424103736877441, 6.586187839508057, 6.358716011047363, 2.9403069019317627, 0.10469937324523926, 6.969820499420166, 3.0430219173431396, 7.184103488922119, -1.2323682308197021, 0.5106026530265808, 0.33922770619392395, 6.665065288543701], \"y\": [-5.970538139343262, -4.238379001617432, -5.928732395172119, -7.2391510009765625, -5.454877853393555, -6.005611896514893, -4.452340126037598, -8.203401565551758, -1.0053592920303345, -5.793108940124512, -6.2273054122924805, -6.79929780960083, -1.505363941192627, -1.2076581716537476, -1.1144742965698242, -7.420524597167969, -7.1732988357543945, -4.041707992553711, -5.631962299346924, -3.4922702312469482, -3.4524617195129395, -6.955256938934326, -4.972500801086426, -7.175573348999023, -5.930864334106445, -4.675663471221924, 0.16515564918518066, -7.161805629730225, -2.241835594177246, -5.095957279205322, 0.8787481188774109, -5.1543354988098145, -4.932270050048828, -4.856454849243164, -0.9467871189117432, -5.672159671783447, -5.720911979675293, -1.9585565328598022, -7.167757511138916, 1.439452886581421, -5.606114387512207, -7.416893482208252, -5.825007438659668, 0.7599690556526184, -6.025049686431885, -3.903388261795044, -4.8823418617248535, -2.0990664958953857, -6.3408732414245605, -6.340856075286865, -1.6745429039001465, -1.9153058528900146, -0.9708897471427917, -5.944457530975342, -7.079407691955566, -2.9704697132110596, -6.3986616134643555, -2.9889025688171387, -7.130448341369629, -5.996469020843506, -2.9895260334014893, 0.0383588969707489, -4.616232395172119, -1.1631044149398804, 3.5612802505493164, -7.006385326385498, -4.749080657958984, -7.706988334655762, -7.109999179840088, -1.605123519897461, -0.8884291648864746, -7.824777603149414, -5.316160202026367, 2.4681336879730225, -7.165106296539307, -2.2394838333129883, -7.530808925628662, -2.8435614109039307, -4.306933403015137, -1.3552331924438477, -4.347825050354004, -7.177089214324951, -6.989490509033203, -6.2299885749816895, -3.5670888423919678, -3.1003835201263428, -4.92542839050293, -5.967065811157227, -2.5463783740997314, -2.1166422367095947, -3.619039297103882, -4.851135730743408, -4.748722553253174, -3.049940824508667, -6.453543186187744, -6.970108985900879, -5.849882125854492, -3.9540750980377197, -7.815934658050537, -4.675760269165039, -3.358260154724121, -6.027046203613281, -5.995676517486572, -7.518985748291016, -7.235525608062744, -5.7755818367004395, -0.5972676873207092, -4.281181335449219, -6.202930927276611, -6.893587589263916, -8.498987197875977, -5.979012489318848, -7.896241188049316, -8.520552635192871, -7.405913352966309, -8.465977668762207, -0.6879646182060242, -1.682895302772522, -1.150414228439331, -1.3643214702606201, -5.844709396362305, -8.30728816986084, -7.149385452270508, 0.7004213929176331, -5.401078701019287, -7.18083381652832, 0.02380743995308876, -8.194156646728516, -1.9291777610778809, -4.511765956878662, -0.8745409250259399, -5.848724365234375, -5.694262981414795, -3.6179287433624268, 3.7956008911132812, -5.785815715789795, -6.115076541900635, 0.7362471222877502, -6.760590553283691, -4.020164966583252, -2.995378255844116, -7.9363508224487305, -8.451406478881836, -2.3790037631988525, -5.497499942779541, -1.2765095233917236, -5.788657188415527, -5.352505207061768, -7.175139427185059, -3.4498727321624756, -3.4430012702941895, -7.95680046081543, -7.61560583114624, -6.270693778991699, 1.3325692415237427, -3.3827576637268066, 1.9363843202590942, -7.7817864418029785, -7.2770209312438965, -5.730263710021973, -7.765109062194824, -7.097918510437012, -7.148289680480957, -6.0320143699646, -5.6252031326293945, -7.260766506195068, -1.5364048480987549, -8.3951416015625, -4.0053510665893555, 3.2986602783203125, -3.935389518737793, -2.039017677307129, -5.219667434692383, -0.5552202463150024, 2.078765630722046, -7.803638935089111, -0.9667448401451111, -7.142474174499512, -2.335224151611328, -5.846370697021484, -7.111510276794434, -8.451606750488281, -6.016565799713135, -5.950159549713135, -1.547202706336975, -5.751246452331543, -8.563284873962402, -2.4382030963897705, 3.1457302570343018, -4.171832084655762, -7.525540828704834, -2.235414505004883, -5.806751728057861, 2.963667869567871, -5.772590637207031, -2.8165526390075684, -4.7994818687438965, -6.046838760375977, -3.267127513885498, -6.201330184936523, -5.709621906280518, -2.5595436096191406, -6.673364639282227, -3.804560899734497, -8.018281936645508, -6.951807498931885, 1.622020959854126, -3.1924874782562256, -4.518762588500977, -5.672530651092529, -3.556976556777954, -1.9077470302581787, -5.874830722808838, -8.550349235534668, -5.682202339172363, -4.297970294952393, -7.222958087921143, -5.535754203796387, -4.988326072692871, -5.154630661010742, -5.9299139976501465, -3.30596661567688, -6.110611915588379, -6.321305274963379, -2.9938087463378906, -5.227547645568848, -4.039219856262207, -0.542425811290741, -8.10205078125, -1.794877529144287, -7.828793048858643, -8.217034339904785, 0.5678101181983948, -6.292533874511719, -5.7158050537109375, -6.032344818115234, -5.9818878173828125, 3.145909547805786, -8.068239212036133, -5.586487770080566, -4.72129487991333, -7.972259044647217, -6.783477783203125, -5.628040790557861, -5.965755462646484, -2.6602721214294434, -7.023530006408691, -0.8632500171661377, -7.447648525238037, -0.8831461071968079, 0.6835971474647522, -6.870039463043213, -6.658840179443359, -0.7645803689956665, -8.407148361206055, 0.7851908802986145, -7.359796524047852, -6.247627258300781, -7.12816047668457, -5.743988037109375, -4.07938289642334, 1.9923593997955322, -5.633632183074951, -0.1428283005952835, 3.264402151107788, -6.898730754852295, -6.094384670257568, -2.294196367263794, -3.96536922454834, -8.461830139160156, -8.543883323669434, -5.674293041229248, -5.810791015625, -7.174951553344727, -8.536556243896484, -6.570680141448975, -3.659308433532715, -3.335049867630005, -5.37516450881958, -0.18431198596954346, -7.153100967407227, -8.275263786315918, -2.646637439727783, -8.325913429260254, -5.730240345001221, -4.379181861877441, -7.398519039154053, -6.349432945251465, -7.132603645324707, 1.2985471487045288, -8.552277565002441, -7.164938926696777, -4.218148708343506, -4.864792346954346, -5.798618316650391, -5.846767902374268, 0.2075948864221573, -2.714020252227783, 2.342632293701172, -5.968252658843994, -8.271636009216309, -5.250239849090576, -4.152124881744385, -0.6756920218467712, -8.21739673614502, -5.840343475341797, -6.270665645599365, -3.8531413078308105, -4.254358291625977, 0.9400049448013306, -2.147951126098633, 1.917776346206665, -8.01955509185791, -5.113668918609619, -8.37690544128418, -3.4055447578430176, -7.101168632507324, -6.1459269523620605, -4.3439836502075195, -6.126072406768799, -5.851596832275391, 0.13416898250579834, -1.9596593379974365, -6.065536022186279, -3.4191415309906006, -4.401858806610107, -0.8603623509407043, -4.925495147705078, 3.3104214668273926, -6.27056884765625, -6.154860496520996, -5.855710506439209, -5.704955577850342, 1.9309711456298828, -4.359530925750732, -8.11648941040039, -7.160995960235596, -4.328915596008301, -5.341211318969727, -8.36702823638916, -5.171762466430664, -5.78424072265625, -5.621595859527588, -6.151558876037598, -1.9772411584854126, -3.544379949569702, -3.192626476287842, -6.352647304534912, -7.132302761077881, -7.156519412994385, -4.691308975219727, -1.4308135509490967, -7.133639812469482, 2.1040971279144287, -4.555619239807129, -0.8318654298782349, -6.61780309677124, -7.37028694152832, -6.821163177490234, -6.780939102172852, -3.131812334060669, -7.077227592468262, -5.784475326538086, 0.7310808897018433, -5.805168628692627, -2.9247617721557617, -1.8815549612045288, -3.8268563747406006, 1.9321067333221436, -4.590543746948242, -6.503903865814209, -7.135193824768066, -5.746260166168213, -5.613369464874268, -6.545432090759277, -3.2602882385253906, -6.951496124267578, -7.5155463218688965, -4.168435573577881, -5.5418267250061035, 0.1134088933467865, 1.3011174201965332, 3.232476234436035, 0.6596052646636963, -1.3321951627731323, -1.039299726486206, 2.4710853099823, -0.16800735890865326, -6.8698577880859375, -7.843942642211914, -6.654962062835693, -2.8468520641326904, -2.7628040313720703, -5.8398118019104, -6.542977809906006, -5.658642292022705, -2.135305404663086, 4.252375602722168, -1.961855173110962, 4.2384443283081055, 4.0176897048950195, 4.252511978149414, -6.006216049194336, -5.489589691162109, 1.4800697565078735, 2.401718854904175, 3.485347270965576, 3.7768852710723877, 0.06473726034164429, -2.8113765716552734, -6.863856315612793, -2.989424705505371, -5.670381546020508, -0.18419687449932098, -1.6226935386657715, 2.037182092666626, 1.1978877782821655, 1.8885440826416016, -5.939363956451416, -2.3762362003326416, -5.918822765350342, -5.925661087036133, -7.544389724731445, -6.050051212310791, -7.390167236328125, -7.770206451416016, -1.1904454231262207, -3.8380286693573, -5.884527683258057, -6.668691158294678, -7.234775543212891, 3.149174451828003, -7.03159761428833, 1.6415579319000244, -5.494954586029053, -6.510964393615723, -6.763101100921631, -7.316547870635986, -5.598078727722168, 0.1891884058713913, -5.640722274780273, -1.6198177337646484, -5.757115364074707, -6.106837749481201, -6.2386908531188965, 0.6725463271141052, 1.009157419204712, -4.282649517059326, -5.775294303894043, -6.198746204376221, -5.8224287033081055, -6.354918956756592, 2.1297898292541504, -7.7267937660217285, -2.2080154418945312, -5.780034065246582, -3.0781662464141846, -6.278079032897949, -6.216843128204346, 2.1743695735931396, -6.792628765106201, 1.0256898403167725, -5.290197849273682, -4.29953670501709, -7.242275714874268, -6.956768989562988, -1.2939754724502563, 2.4119439125061035, -5.391454219818115, 2.6570990085601807, -6.451313018798828, -2.544482707977295, -1.7869971990585327, -5.390057563781738, -2.958346128463745, 3.3661563396453857, -4.339211940765381, -3.420254707336426, 0.3240736424922943, -2.775984764099121, -4.99671745300293, -1.4282584190368652, -4.652132511138916, -4.2214674949646, -5.67618465423584, -0.8920662999153137, -5.983514785766602, -8.28951358795166, 0.4244305193424225, -8.507929801940918, 2.7207376956939697, -7.172678470611572, -5.82266902923584, -5.9987969398498535, -5.17537260055542, -4.268405437469482, -3.90791654586792, -2.326791524887085, -6.834315776824951, -5.751092433929443, 0.8498491048812866, -5.101743698120117, -8.13365650177002, 4.745505332946777, -2.958014488220215, -2.489408016204834, -7.269527912139893, -5.8176164627075195, 3.8837192058563232, -5.689409255981445, -6.155425548553467, -7.636388778686523, -6.609222888946533, -5.036837577819824, 3.8647220134735107, -3.3909225463867188, -7.702624797821045, -1.8980129957199097, -1.5866572856903076, 3.4205548763275146, -7.162634372711182, -1.7382868528366089, -4.456895351409912, -6.680899620056152, -6.990756511688232, -3.5680696964263916, -8.35971450805664, -4.897953510284424, -8.29262638092041, -6.592256546020508, -7.006293296813965, -7.737584590911865, -1.2396785020828247, -6.700111389160156, -1.9657371044158936, -1.1800119876861572, -7.882197856903076, -4.636712551116943, -5.630350112915039, -7.980050563812256, -6.0667243003845215, -8.426305770874023, -5.926156044006348, -3.2915616035461426, 2.8057565689086914, -5.956711769104004, -6.9037981033325195, -3.0437653064727783, -4.784013271331787, -5.243006706237793, -7.166933059692383, -7.066049098968506, -3.336155414581299, -6.93062162399292, -6.393318176269531, -6.747217178344727, -3.883580207824707, -6.175318241119385, -6.8390278816223145, -6.333871841430664, 3.5306568145751953, 2.2110109329223633, 1.3702585697174072, 1.6861034631729126, -7.157005310058594, -5.525514602661133, -0.18461288511753082, -6.966941833496094, -7.884950637817383, -6.950241565704346, -5.7024383544921875, -2.0766549110412598, -1.378092646598816, -4.013755798339844, -8.161404609680176, -0.761665403842926, -4.868435859680176, -7.189486026763916, 0.06138893961906433, -6.630128383636475, -8.16278076171875, -6.820216655731201, -6.822948932647705, -8.11639404296875, -1.0797899961471558, -6.526729583740234, -6.780129909515381, -7.171648979187012, -5.657342910766602, -5.47686243057251, -2.3831117153167725, -3.542100191116333, -4.08595609664917, -5.736540794372559, -8.491111755371094, -3.5624210834503174, -3.1119799613952637, -3.5756614208221436, -5.7407989501953125, -1.7334927320480347, -5.915663242340088, -8.075820922851562, -4.3412957191467285, -4.184463977813721, -4.0214409828186035, -7.859476566314697, -0.6998199820518494, -4.039268970489502, -5.755153656005859], \"z\": [7.985342025756836, -1.952003002166748, 11.91610336303711, 5.554268836975098, -0.5352368950843811, 2.306549072265625, 7.559671878814697, 4.279173374176025, 5.7776641845703125, 1.9117265939712524, 4.858985900878906, 13.257091522216797, 6.232626438140869, -2.6326518058776855, 1.6465507745742798, 10.803897857666016, 11.974788665771484, 9.171594619750977, -1.016715168952942, -1.8363558053970337, -2.794391393661499, 4.292933464050293, 1.6600149869918823, 2.077507734298706, 7.814337730407715, -1.6527503728866577, -2.913210391998291, 14.221575736999512, 8.69747543334961, -0.4889964163303375, 2.662747621536255, 0.02236500382423401, 2.0900533199310303, 7.525888442993164, 3.1999704837799072, 11.96408462524414, 11.742791175842285, 8.120407104492188, 12.49929428100586, 0.14982053637504578, 12.345417976379395, 8.400066375732422, 0.11716784536838531, -3.1597516536712646, 2.359351396560669, -2.4075167179107666, -0.8959535956382751, -2.1518521308898926, -0.0075405738316476345, -0.007569835055619478, 5.236364364624023, 4.784196853637695, 4.6909589767456055, 7.887823581695557, 1.5057294368743896, 7.117040634155273, 2.4748382568359375, 9.149304389953613, 13.58237075805664, 2.1439244747161865, -2.789740562438965, -3.89493989944458, 5.290005207061768, 6.787683010101318, -0.45673027634620667, 14.12171459197998, 1.146721601486206, 9.638161659240723, 13.887266159057617, -5.068023681640625, 2.6080398559570312, 6.8576579093933105, 7.323845386505127, 2.0091097354888916, 12.66500473022461, -3.2264997959136963, 7.523292541503906, 6.818020343780518, 10.932806968688965, 4.03953742980957, -2.1133017539978027, 14.156648635864258, 14.111420631408691, 1.9901834726333618, -0.9835765361785889, -2.0810728073120117, 1.4663347005844116, 12.20263671875, -1.5094842910766602, 1.8211766481399536, -0.6062012314796448, -0.41014954447746277, 7.479735851287842, -2.164808750152588, 13.834537506103516, 10.778116226196289, 11.834458351135254, 10.02224063873291, 3.144129991531372, 1.2670254707336426, -1.4791748523712158, 11.63308334350586, 12.177335739135742, 10.645462989807129, 11.506879806518555, 12.266057968139648, 1.6859204769134521, -0.2990212142467499, 8.919644355773926, 14.204439163208008, 7.643491744995117, 12.353843688964844, 9.058745384216309, 6.054677963256836, 5.378095626831055, 5.787717819213867, 5.917354583740234, -3.585529327392578, 2.595054864883423, 6.7802534103393555, 11.416227340698242, 8.408037185668945, 12.064088821411133, -1.9940927028656006, 11.97569751739502, 12.003726959228516, -3.5006260871887207, 8.644842147827148, -2.459284543991089, 11.061697959899902, -4.7497477531433105, 7.433191776275635, 12.189082145690918, -2.687729597091675, -0.2050304263830185, 6.912040710449219, 1.6605041027069092, 2.4861514568328857, 0.887877881526947, 9.371796607971191, 7.847222328186035, 9.268411636352539, 7.636760234832764, 6.799322128295898, 3.2357423305511475, 4.697118759155273, 3.828275203704834, 3.8955795764923096, 11.992412567138672, -2.527236223220825, 2.2734131813049316, 3.383389949798584, 6.884344100952148, 5.579375743865967, -4.3788604736328125, 1.881835699081421, -2.9368479251861572, 6.884885787963867, 1.84449303150177, 11.481995582580566, 2.8996500968933105, 13.817610740661621, 13.097225189208984, 12.01817798614502, -0.32659024000167847, 2.28503680229187, 6.3781256675720215, 5.1791229248046875, 9.136892318725586, 1.664139747619629, 10.048115730285645, -1.1322393417358398, 3.3021490573883057, -2.7413418292999268, -2.115164041519165, 9.330900192260742, 6.4225263595581055, 13.546285629272461, 3.167999744415283, 11.922049522399902, 11.614422798156738, 7.844357967376709, 8.376307487487793, -0.7695848941802979, 1.174485445022583, 1.581339716911316, 6.888821125030518, 8.981080055236816, 1.6346313953399658, 10.635168075561523, 6.710346221923828, -1.2460741996765137, 6.927177429199219, 1.777994155883789, 7.92476749420166, 6.675601482391357, -1.5360404253005981, 1.5490317344665527, -2.7236945629119873, 8.92929458618164, 12.34494686126709, 5.640346527099609, 14.05471420288086, -1.5091238021850586, 3.635795831680298, 14.200764656066895, -5.035734176635742, 2.2945556640625, 3.579257011413574, 12.272241592407227, 1.4749559164047241, 3.6998379230499268, 12.134162902832031, 6.239575386047363, 12.172823905944824, -0.3520912528038025, 5.995644569396973, 5.177525520324707, -0.8270260691642761, 11.755101203918457, 11.654606819152832, 7.08832311630249, 11.68399715423584, 9.276627540588379, -3.1673905849456787, 1.5316046476364136, 9.33315658569336, 3.4886553287506104, 8.891888618469238, 4.610997676849365, 5.068418502807617, 12.60123348236084, -4.405848979949951, 6.436827182769775, 12.333477020263672, 11.626799583435059, 7.935576915740967, -3.6257500648498535, 12.688658714294434, 5.380495071411133, 9.575117111206055, 3.415855646133423, 5.4886908531188965, 2.8958582878112793, -0.8034974932670593, 9.161748886108398, 11.491861343383789, 3.5558414459228516, 5.8960137367248535, 6.326749801635742, -4.600485801696777, 14.426305770874023, 10.271772384643555, -2.238844156265259, 5.189312934875488, -3.500164747238159, 7.931571006774902, 6.674506664276123, 1.5990463495254517, 0.9098555445671082, -2.31878924369812, -0.6065216660499573, 11.862081527709961, -2.982401132583618, -3.5782787799835205, 8.491073608398438, 12.142963409423828, 6.049947261810303, 10.546154022216797, 5.5034871101379395, 6.3333611488342285, 12.135854721069336, 11.621191024780273, 6.148902416229248, 6.200751304626465, 5.010487079620361, 10.045737266540527, 7.273189544677734, 3.947213649749756, -2.7055630683898926, 13.970529556274414, 12.54793643951416, 6.364306449890137, 7.846855640411377, 6.417433738708496, 10.0955228805542, 2.412813901901245, 9.353170394897461, 13.354159355163574, -1.3238826990127563, 7.370003700256348, 12.317011833190918, -0.11085090041160583, 1.1198315620422363, 11.796306610107422, 11.868575096130371, -4.19405460357666, 5.502264022827148, 2.063333034515381, 11.693941116333008, 4.973781585693359, -0.52235347032547, 9.927909851074219, 5.830206394195557, 8.61229133605957, 3.3830087184906006, 5.070715427398682, -0.5051236152648926, 10.695786476135254, 1.2604246139526367, 8.45057487487793, 2.22224760055542, 12.613945960998535, -0.8438864946365356, 7.772524833679199, -2.521235466003418, 11.678977966308594, 7.539501667022705, 10.949347496032715, 8.594088554382324, 11.873584747314453, 2.025355100631714, -1.91189444065094, 0.3644632399082184, 6.925618648529053, -1.5987424850463867, -2.3669850826263428, 1.9924393892288208, -0.9042413830757141, 2.0755512714385986, 1.791210412979126, 11.799113273620605, 7.355964183807373, -1.763588547706604, 7.4785614013671875, 12.53528118133545, 11.214576721191406, 10.96761417388916, 3.9135687351226807, 8.140954971313477, 2.969705581665039, 4.465920448303223, 5.671436786651611, 6.160067081451416, -4.42301082611084, -2.05666184425354, 9.561841011047363, 9.364751815795898, 13.072369575500488, 12.438790321350098, -0.932371199131012, -3.1770248413085938, 1.9410651922225952, -5.145761013031006, 4.643819808959961, -3.211740255355835, 0.9593870043754578, 6.5364990234375, 14.213030815124512, 14.131648063659668, -3.3290133476257324, 13.83400821685791, 6.868875503540039, 2.4356272220611572, 0.9243696928024292, 1.9726914167404175, 3.678863763809204, -1.2259000539779663, 2.221785068511963, 7.906161308288574, 9.708853721618652, 1.9430670738220215, 6.690832138061523, 12.087912559509277, 13.967564582824707, -1.7814834117889404, 14.148335456848145, 10.574018478393555, 10.707159996032715, 5.181023120880127, -3.92223858833313, -0.728357195854187, 1.5918989181518555, -4.735779285430908, -2.9178125858306885, 1.570827603340149, -3.443791389465332, 1.9251660108566284, 10.821578025817871, 6.711816310882568, 13.95775032043457, -2.672485113143921, 2.451650381088257, 2.567626476287842, 2.900131940841675, 0.37870800495147705, 1.7425435781478882, 1.0113731622695923, 5.794064044952393, 1.3608678579330444, -1.012559175491333, 0.7966182231903076, 8.152772903442383, 4.828580379486084, -4.996161460876465, 0.3418286442756653, -0.030162746086716652, -0.23589611053466797, 1.946670651435852, -2.655489683151245, 4.6060638427734375, -1.8981828689575195, 11.409975051879883, -3.9227781295776367, -2.9799914360046387, -4.62102746963501, 2.507988452911377, -3.710573196411133, 11.93026065826416, 5.841949939727783, 12.39297866821289, 11.887123107910156, 5.560994625091553, 8.584495544433594, 5.402570724487305, 2.9368321895599365, 6.851924419403076, 10.378117561340332, 12.375515937805176, 13.989715576171875, 2.2522149085998535, 0.6855866312980652, 11.463232040405273, 2.317412853240967, 12.067163467407227, 2.5860273838043213, 14.271506309509277, 8.32420825958252, 12.112401962280273, 2.0636370182037354, 12.346169471740723, 6.9191694259643555, 11.678781509399414, 3.246685743331909, 13.599839210510254, -3.21303653717041, -3.0538153648376465, -1.774174451828003, -0.9332130551338196, 1.879010558128357, 11.694589614868164, 9.417755126953125, 2.1522557735443115, 9.770064353942871, 1.8138108253479004, 11.454432487487793, -3.3442914485931396, 0.6136472225189209, 7.419713020324707, 2.140169382095337, 4.414796829223633, 0.7003990411758423, 11.89823055267334, 8.127034187316895, 2.0819127559661865, 14.167423248291016, 4.370806694030762, -0.2552829682826996, -0.9131763577461243, -3.597010374069214, 5.6167683601379395, 9.00833511352539, -4.673018932342529, 4.570630073547363, -3.2714478969573975, 1.5100511312484741, 6.921148300170898, 2.064321279525757, -2.919764995574951, 9.317259788513184, -1.2514408826828003, 4.088587760925293, 11.364526748657227, 0.15710453689098358, 12.23621654510498, -2.3582770824432373, 0.39727094769477844, 7.827367782592773, 3.014108419418335, 7.511122703552246, 1.8510165214538574, 14.083560943603516, 11.71816349029541, 11.828963279724121, -0.6652919054031372, 10.840496063232422, 10.386894226074219, 8.734593391418457, 14.132689476013184, 12.320621490478516, -3.8063955307006836, 2.8000142574310303, 4.060948371887207, 0.30151376128196716, 1.5878454446792603, 9.040647506713867, 6.604503631591797, 11.743492126464844, 0.10020335018634796, 12.324056625366211, 5.0508880615234375, 9.81335163116455, 14.028108596801758, 7.538222789764404, -2.0703837871551514, 1.4692624807357788, 9.546916961669922, 7.621303081512451, -5.052279472351074, 1.556942105293274, 13.070982933044434, 7.4090657234191895, 6.532253265380859, 13.977337837219238, 11.110856056213379, -2.59814715385437, 8.214011192321777, 1.9774278402328491, 7.7785325050354, 13.88142204284668, 9.736809730529785, 7.336533546447754, -3.0141875743865967, 0.7938602566719055, -1.0306249856948853, 1.9328038692474365, 9.070601463317871, -0.7810046076774597, 11.967672348022461, 3.4697883129119873, 1.5296941995620728, 5.329381465911865, -0.650465190410614, -2.766879081726074, -4.276838302612305, 7.842123985290527, 3.7467005252838135, 5.473390102386475, 10.690170288085938, 3.567380666732788, 8.01014232635498, 13.988785743713379, 2.307100296020508, 11.083877563476562, 0.967905580997467, 10.488112449645996, -0.33523881435394287, 1.9256548881530762, 1.0432305335998535, 13.683815956115723, -2.9582717418670654, -0.5294989943504333, -4.777034282684326, -3.3096306324005127, 13.022266387939453, 4.007913112640381, 1.9635521173477173, 11.26611614227295, 9.379643440246582, 11.020591735839844, 12.340666770935059, -4.221828460693359, -4.612948894500732, 8.660806655883789, 8.73247241973877, 6.071346282958984, 9.570302963256836, 1.6731042861938477, -2.9040591716766357, 1.065993070602417, 7.749038219451904, 3.9635586738586426, 6.027663230895996, 8.876245498657227, 1.6838665008544922, 9.887694358825684, 5.031320095062256, 12.96401596069336, 12.234868049621582, 4.770328521728516, 8.876705169677734, 2.7184953689575195, -2.2431302070617676, 1.9469237327575684, 7.6930389404296875, 2.264388084411621, -2.201432943344116, -2.1371517181396484, 6.615559101104736, -4.822299480438232, 1.2250820398330688, 7.583452224731445, 0.3986106812953949, -1.9589002132415771, 0.9493147730827332, 3.1229333877563477, 3.621062755584717, 9.233474731445312, 5.127937316894531]}, {\"hoverlabel\": {\"namelength\": 0}, \"hovertemplate\": \"Dominant_Topic=Topic 2<br>0=%{x}<br>1=%{y}<br>2=%{z}\", \"legendgroup\": \"Dominant_Topic=Topic 2\", \"marker\": {\"color\": \"#00cc96\", \"opacity\": 0.7, \"symbol\": \"circle\"}, \"mode\": \"markers\", \"name\": \"Dominant_Topic=Topic 2\", \"scene\": \"scene\", \"showlegend\": true, \"type\": \"scatter3d\", \"x\": [5.4125542640686035, 5.501795768737793, 5.803729057312012, 6.0325493812561035, 5.394687652587891, 3.185553789138794, 5.637722015380859, 5.814875602722168, 4.805591106414795, 5.777103424072266, 6.648129940032959, 6.284611701965332, 3.899244785308838, 4.629558563232422, 4.100362777709961, 5.548309326171875, 5.975069999694824, 8.061765670776367, 3.874056816101074, 4.403064250946045, 3.891920328140259, 2.455425500869751, 5.474453449249268, 5.048116683959961, 7.145053863525391, 4.088202953338623, 6.730199337005615, 3.8804421424865723, 5.353918075561523, 3.5670855045318604, 7.35764741897583, 4.896750450134277, 5.166223049163818, 7.623707294464111, 3.919271945953369, 5.180717468261719, 6.359649658203125, 5.4746551513671875, 5.75717830657959, 4.832006454467773, 4.150080680847168, 3.585963010787964, 4.3737640380859375, 2.6888225078582764, 6.393637657165527, 6.79024600982666, 5.233519554138184, 5.263079643249512, 6.359477996826172, 2.7369730472564697, 6.2031097412109375, 6.347782135009766, 7.201359748840332, 5.515544891357422, 5.343245983123779, 6.401059627532959, 6.361448764801025, 2.033440351486206, 7.359278678894043, 6.3394775390625, 5.354890823364258, 6.077844619750977, 6.2594499588012695, 8.07328987121582, 6.016289710998535, 1.2047462463378906, 8.088194847106934, 6.23814582824707, 2.214874029159546, 7.867898464202881, 3.3638226985931396, 4.786289691925049, 4.303988456726074, 8.004347801208496, 4.0360822677612305, 7.0792236328125, 4.01107931137085, 3.9233322143554688, 7.230298042297363, 3.73776912689209, 7.88956880569458, 4.8081278800964355, 3.2604880332946777, 3.44722580909729, 5.6405768394470215, 1.9722795486450195, 8.007019996643066, 3.943809747695923, 3.902315139770508, 3.608628988265991, 2.512746572494507, 1.3736567497253418, 7.993075847625732, 2.7185540199279785, 6.865923881530762, 4.5590314865112305, 7.752211570739746, 3.1535892486572266, 4.857433319091797, 7.993401050567627, 2.9885811805725098, 6.37470006942749, 2.5390713214874268, 5.197343349456787, 3.852205753326416, 7.943045616149902, 5.887686252593994, 6.344337463378906, 6.117660999298096, 1.3798109292984009, 4.3358540534973145, 6.214015007019043], \"y\": [0.17899522185325623, 2.555490732192993, 2.0649216175079346, 2.225717544555664, 0.744823157787323, 3.634270668029785, 1.9810988903045654, 2.0892815589904785, 2.9451980590820312, -0.4573909640312195, 1.7415939569473267, 1.486371636390686, 3.2082223892211914, 1.4576890468597412, 3.470621347427368, 1.7874369621276855, 2.1922836303710938, 0.4589904546737671, 3.4393794536590576, 2.749263048171997, 3.4985849857330322, 3.8341848850250244, 2.0936520099639893, 2.285029172897339, 1.2362971305847168, 3.441801071166992, 1.6603305339813232, 3.4268267154693604, 1.8433728218078613, 3.044308662414551, 1.143481731414795, 2.8692591190338135, 2.8602302074432373, 0.621613085269928, 3.4374923706054688, 0.8094902634620667, 1.9954499006271362, 2.2749276161193848, 1.7907966375350952, 2.6810011863708496, 3.395730495452881, 3.773646593093872, 3.386367082595825, 4.1200432777404785, -1.4984850883483887, 1.1941301822662354, 2.4728198051452637, 2.656148672103882, 1.8832019567489624, 3.8517777919769287, 1.91761314868927, -0.9508970379829407, 1.3301252126693726, 1.8002331256866455, -0.11322739720344543, -1.5017704963684082, -1.3677538633346558, 2.3415122032165527, 1.20681893825531, 1.5693368911743164, 0.09343639761209488, -1.2312827110290527, -0.4331918954849243, 0.5743573904037476, -0.642778217792511, -2.447835922241211, 0.5916662812232971, -1.6708194017410278, 3.520176649093628, 0.6453173160552979, 1.359628677368164, 2.319434404373169, 1.382465124130249, 0.4962940216064453, 0.9247923493385315, 1.2683755159378052, 1.6874868869781494, 1.8584482669830322, 1.2356141805648804, 1.1382888555526733, 0.6868155002593994, 1.413409948348999, 1.7039304971694946, 3.192599296569824, 1.2672699689865112, 3.4090332984924316, -0.06225993484258652, 0.8481340408325195, 1.8543379306793213, 1.3555537462234497, 3.780069589614868, -2.131110429763794, 0.6582186222076416, 1.8377314805984497, 1.599725365638733, 1.1693661212921143, 0.5890508890151978, 3.448404550552368, 2.4768929481506348, 0.1634351909160614, 2.0207972526550293, -1.377608060836792, 1.8935014009475708, -1.3333332538604736, 1.4303890466690063, 0.2908804416656494, -0.8153297901153564, -1.3196941614151, -0.540854275226593, -2.4559435844421387, 1.6219799518585205, 1.6699432134628296], \"z\": [-6.670490741729736, -11.844782829284668, -11.446235656738281, -12.355788230895996, -7.78692626953125, -9.398998260498047, -10.881556510925293, -11.530183792114258, -11.134605407714844, -6.03377103805542, -12.763080596923828, -11.324502944946289, -9.841586112976074, -7.7227325439453125, -10.768144607543945, -10.274720191955566, -12.137617111206055, -13.52641487121582, -10.25712776184082, -9.884848594665527, -10.410815238952637, -8.562599182128906, -10.7490873336792, -10.238056182861328, -12.884129524230957, -10.681239128112793, -12.785571098327637, -10.24392032623291, -9.967660903930664, -8.910628318786621, -13.21546745300293, -11.168442726135254, -11.759601593017578, -12.73904037475586, -10.338984489440918, -7.540699005126953, -12.629016876220703, -11.14845085144043, -10.74729061126709, -10.613335609436035, -10.712214469909668, -10.393620491027832, -11.166311264038086, -9.463231086730957, -5.23414421081543, -11.911508560180664, -11.037293434143066, -11.517379760742188, -12.376455307006836, -9.04539680480957, -12.07373046875, -6.095889568328857, -13.234379768371582, -10.225611686706543, -5.895089149475098, -5.251626014709473, -5.468122959136963, -5.313077449798584, -13.362211227416992, -11.637036323547363, -6.358573913574219, -5.707404136657715, -6.972416877746582, -13.833109855651855, -6.149738788604736, -3.8014819622039795, -13.915307998657227, -5.283992290496826, -7.65568208694458, -13.427457809448242, -5.498758792877197, -9.773877143859863, -6.9762067794799805, -13.458332061767578, -5.6630048751831055, -12.796257972717285, -7.053255081176758, -7.223342418670654, -13.09397029876709, -5.491550445556641, -13.594080924987793, -7.979496002197266, -5.920526504516602, -8.991999626159668, -9.396668434143066, -7.092550277709961, -12.21420955657959, -5.218882083892822, -7.184687614440918, -5.758209705352783, -8.558989524841309, -3.905593156814575, -13.80731201171875, -5.398953437805176, -12.98786449432373, -7.022781848907471, -13.00113296508789, -8.986607551574707, -10.238283157348633, -12.67901611328125, -6.093287467956543, -5.248109340667725, -5.199965000152588, -6.733340740203857, -6.30181360244751, -12.830506324768066, -5.398927688598633, -5.619389057159424, -6.563779830932617, -3.832113265991211, -7.497661590576172, -11.556632995605469]}, {\"hoverlabel\": {\"namelength\": 0}, \"hovertemplate\": \"Dominant_Topic=Topic 3<br>0=%{x}<br>1=%{y}<br>2=%{z}\", \"legendgroup\": \"Dominant_Topic=Topic 3\", \"marker\": {\"color\": \"#ab63fa\", \"opacity\": 0.7, \"symbol\": \"circle\"}, \"mode\": \"markers\", \"name\": \"Dominant_Topic=Topic 3\", \"scene\": \"scene\", \"showlegend\": true, \"type\": \"scatter3d\", \"x\": [0.8548039793968201, 0.9128249287605286], \"y\": [-3.0253186225891113, -2.746624231338501], \"z\": [-3.5739858150482178, -3.66487717628479]}],\n",
       "                        {\"height\": 800, \"legend\": {\"tracegroupgap\": 0}, \"scene\": {\"domain\": {\"x\": [0.0, 1.0], \"y\": [0.0, 1.0]}, \"xaxis\": {\"title\": {\"text\": \"0\"}}, \"yaxis\": {\"title\": {\"text\": \"1\"}}, \"zaxis\": {\"title\": {\"text\": \"2\"}}}, \"template\": {\"data\": {\"bar\": [{\"error_x\": {\"color\": \"#2a3f5f\"}, \"error_y\": {\"color\": \"#2a3f5f\"}, \"marker\": {\"line\": {\"color\": \"#E5ECF6\", \"width\": 0.5}}, \"type\": \"bar\"}], \"barpolar\": [{\"marker\": {\"line\": {\"color\": \"#E5ECF6\", \"width\": 0.5}}, \"type\": \"barpolar\"}], \"carpet\": [{\"aaxis\": {\"endlinecolor\": \"#2a3f5f\", \"gridcolor\": \"white\", \"linecolor\": \"white\", \"minorgridcolor\": \"white\", \"startlinecolor\": \"#2a3f5f\"}, \"baxis\": {\"endlinecolor\": \"#2a3f5f\", \"gridcolor\": \"white\", \"linecolor\": \"white\", \"minorgridcolor\": \"white\", \"startlinecolor\": \"#2a3f5f\"}, \"type\": \"carpet\"}], \"choropleth\": [{\"colorbar\": {\"outlinewidth\": 0, \"ticks\": \"\"}, \"type\": \"choropleth\"}], \"contour\": [{\"colorbar\": {\"outlinewidth\": 0, \"ticks\": \"\"}, \"colorscale\": [[0.0, \"#0d0887\"], [0.1111111111111111, \"#46039f\"], [0.2222222222222222, \"#7201a8\"], [0.3333333333333333, \"#9c179e\"], [0.4444444444444444, \"#bd3786\"], [0.5555555555555556, \"#d8576b\"], [0.6666666666666666, \"#ed7953\"], [0.7777777777777778, \"#fb9f3a\"], [0.8888888888888888, \"#fdca26\"], [1.0, \"#f0f921\"]], \"type\": \"contour\"}], \"contourcarpet\": [{\"colorbar\": {\"outlinewidth\": 0, \"ticks\": \"\"}, \"type\": \"contourcarpet\"}], \"heatmap\": [{\"colorbar\": {\"outlinewidth\": 0, \"ticks\": \"\"}, \"colorscale\": [[0.0, \"#0d0887\"], [0.1111111111111111, \"#46039f\"], [0.2222222222222222, \"#7201a8\"], [0.3333333333333333, \"#9c179e\"], [0.4444444444444444, \"#bd3786\"], [0.5555555555555556, \"#d8576b\"], [0.6666666666666666, \"#ed7953\"], [0.7777777777777778, \"#fb9f3a\"], [0.8888888888888888, \"#fdca26\"], [1.0, \"#f0f921\"]], \"type\": \"heatmap\"}], \"heatmapgl\": [{\"colorbar\": {\"outlinewidth\": 0, \"ticks\": \"\"}, \"colorscale\": [[0.0, \"#0d0887\"], [0.1111111111111111, \"#46039f\"], [0.2222222222222222, \"#7201a8\"], [0.3333333333333333, \"#9c179e\"], [0.4444444444444444, \"#bd3786\"], [0.5555555555555556, \"#d8576b\"], [0.6666666666666666, \"#ed7953\"], [0.7777777777777778, \"#fb9f3a\"], [0.8888888888888888, \"#fdca26\"], [1.0, \"#f0f921\"]], \"type\": \"heatmapgl\"}], \"histogram\": [{\"marker\": {\"colorbar\": {\"outlinewidth\": 0, \"ticks\": \"\"}}, \"type\": \"histogram\"}], \"histogram2d\": [{\"colorbar\": {\"outlinewidth\": 0, \"ticks\": \"\"}, \"colorscale\": [[0.0, \"#0d0887\"], [0.1111111111111111, \"#46039f\"], [0.2222222222222222, \"#7201a8\"], [0.3333333333333333, \"#9c179e\"], [0.4444444444444444, \"#bd3786\"], [0.5555555555555556, \"#d8576b\"], [0.6666666666666666, \"#ed7953\"], [0.7777777777777778, \"#fb9f3a\"], [0.8888888888888888, \"#fdca26\"], [1.0, \"#f0f921\"]], \"type\": \"histogram2d\"}], \"histogram2dcontour\": [{\"colorbar\": {\"outlinewidth\": 0, \"ticks\": \"\"}, \"colorscale\": [[0.0, \"#0d0887\"], [0.1111111111111111, \"#46039f\"], [0.2222222222222222, \"#7201a8\"], [0.3333333333333333, \"#9c179e\"], [0.4444444444444444, \"#bd3786\"], [0.5555555555555556, \"#d8576b\"], [0.6666666666666666, \"#ed7953\"], [0.7777777777777778, \"#fb9f3a\"], [0.8888888888888888, \"#fdca26\"], [1.0, \"#f0f921\"]], \"type\": \"histogram2dcontour\"}], \"mesh3d\": [{\"colorbar\": {\"outlinewidth\": 0, \"ticks\": \"\"}, \"type\": \"mesh3d\"}], \"parcoords\": [{\"line\": {\"colorbar\": {\"outlinewidth\": 0, \"ticks\": \"\"}}, \"type\": \"parcoords\"}], \"pie\": [{\"automargin\": true, \"type\": \"pie\"}], \"scatter\": [{\"marker\": {\"colorbar\": {\"outlinewidth\": 0, \"ticks\": \"\"}}, \"type\": \"scatter\"}], \"scatter3d\": [{\"line\": {\"colorbar\": {\"outlinewidth\": 0, \"ticks\": \"\"}}, \"marker\": {\"colorbar\": {\"outlinewidth\": 0, \"ticks\": \"\"}}, \"type\": \"scatter3d\"}], \"scattercarpet\": [{\"marker\": {\"colorbar\": {\"outlinewidth\": 0, \"ticks\": \"\"}}, \"type\": \"scattercarpet\"}], \"scattergeo\": [{\"marker\": {\"colorbar\": {\"outlinewidth\": 0, \"ticks\": \"\"}}, \"type\": \"scattergeo\"}], \"scattergl\": [{\"marker\": {\"colorbar\": {\"outlinewidth\": 0, \"ticks\": \"\"}}, \"type\": \"scattergl\"}], \"scattermapbox\": [{\"marker\": {\"colorbar\": {\"outlinewidth\": 0, \"ticks\": \"\"}}, \"type\": \"scattermapbox\"}], \"scatterpolar\": [{\"marker\": {\"colorbar\": {\"outlinewidth\": 0, \"ticks\": \"\"}}, \"type\": \"scatterpolar\"}], \"scatterpolargl\": [{\"marker\": {\"colorbar\": {\"outlinewidth\": 0, \"ticks\": \"\"}}, \"type\": \"scatterpolargl\"}], \"scatterternary\": [{\"marker\": {\"colorbar\": {\"outlinewidth\": 0, \"ticks\": \"\"}}, \"type\": \"scatterternary\"}], \"surface\": [{\"colorbar\": {\"outlinewidth\": 0, \"ticks\": \"\"}, \"colorscale\": [[0.0, \"#0d0887\"], [0.1111111111111111, \"#46039f\"], [0.2222222222222222, \"#7201a8\"], [0.3333333333333333, \"#9c179e\"], [0.4444444444444444, \"#bd3786\"], [0.5555555555555556, \"#d8576b\"], [0.6666666666666666, \"#ed7953\"], [0.7777777777777778, \"#fb9f3a\"], [0.8888888888888888, \"#fdca26\"], [1.0, \"#f0f921\"]], \"type\": \"surface\"}], \"table\": [{\"cells\": {\"fill\": {\"color\": \"#EBF0F8\"}, \"line\": {\"color\": \"white\"}}, \"header\": {\"fill\": {\"color\": \"#C8D4E3\"}, \"line\": {\"color\": \"white\"}}, \"type\": \"table\"}]}, \"layout\": {\"annotationdefaults\": {\"arrowcolor\": \"#2a3f5f\", \"arrowhead\": 0, \"arrowwidth\": 1}, \"coloraxis\": {\"colorbar\": {\"outlinewidth\": 0, \"ticks\": \"\"}}, \"colorscale\": {\"diverging\": [[0, \"#8e0152\"], [0.1, \"#c51b7d\"], [0.2, \"#de77ae\"], [0.3, \"#f1b6da\"], [0.4, \"#fde0ef\"], [0.5, \"#f7f7f7\"], [0.6, \"#e6f5d0\"], [0.7, \"#b8e186\"], [0.8, \"#7fbc41\"], [0.9, \"#4d9221\"], [1, \"#276419\"]], \"sequential\": [[0.0, \"#0d0887\"], [0.1111111111111111, \"#46039f\"], [0.2222222222222222, \"#7201a8\"], [0.3333333333333333, \"#9c179e\"], [0.4444444444444444, \"#bd3786\"], [0.5555555555555556, \"#d8576b\"], [0.6666666666666666, \"#ed7953\"], [0.7777777777777778, \"#fb9f3a\"], [0.8888888888888888, \"#fdca26\"], [1.0, \"#f0f921\"]], \"sequentialminus\": [[0.0, \"#0d0887\"], [0.1111111111111111, \"#46039f\"], [0.2222222222222222, \"#7201a8\"], [0.3333333333333333, \"#9c179e\"], [0.4444444444444444, \"#bd3786\"], [0.5555555555555556, \"#d8576b\"], [0.6666666666666666, \"#ed7953\"], [0.7777777777777778, \"#fb9f3a\"], [0.8888888888888888, \"#fdca26\"], [1.0, \"#f0f921\"]]}, \"colorway\": [\"#636efa\", \"#EF553B\", \"#00cc96\", \"#ab63fa\", \"#FFA15A\", \"#19d3f3\", \"#FF6692\", \"#B6E880\", \"#FF97FF\", \"#FECB52\"], \"font\": {\"color\": \"#2a3f5f\"}, \"geo\": {\"bgcolor\": \"white\", \"lakecolor\": \"white\", \"landcolor\": \"#E5ECF6\", \"showlakes\": true, \"showland\": true, \"subunitcolor\": \"white\"}, \"hoverlabel\": {\"align\": \"left\"}, \"hovermode\": \"closest\", \"mapbox\": {\"style\": \"light\"}, \"paper_bgcolor\": \"white\", \"plot_bgcolor\": \"#E5ECF6\", \"polar\": {\"angularaxis\": {\"gridcolor\": \"white\", \"linecolor\": \"white\", \"ticks\": \"\"}, \"bgcolor\": \"#E5ECF6\", \"radialaxis\": {\"gridcolor\": \"white\", \"linecolor\": \"white\", \"ticks\": \"\"}}, \"scene\": {\"xaxis\": {\"backgroundcolor\": \"#E5ECF6\", \"gridcolor\": \"white\", \"gridwidth\": 2, \"linecolor\": \"white\", \"showbackground\": true, \"ticks\": \"\", \"zerolinecolor\": \"white\"}, \"yaxis\": {\"backgroundcolor\": \"#E5ECF6\", \"gridcolor\": \"white\", \"gridwidth\": 2, \"linecolor\": \"white\", \"showbackground\": true, \"ticks\": \"\", \"zerolinecolor\": \"white\"}, \"zaxis\": {\"backgroundcolor\": \"#E5ECF6\", \"gridcolor\": \"white\", \"gridwidth\": 2, \"linecolor\": \"white\", \"showbackground\": true, \"ticks\": \"\", \"zerolinecolor\": \"white\"}}, \"shapedefaults\": {\"line\": {\"color\": \"#2a3f5f\"}}, \"ternary\": {\"aaxis\": {\"gridcolor\": \"white\", \"linecolor\": \"white\", \"ticks\": \"\"}, \"baxis\": {\"gridcolor\": \"white\", \"linecolor\": \"white\", \"ticks\": \"\"}, \"bgcolor\": \"#E5ECF6\", \"caxis\": {\"gridcolor\": \"white\", \"linecolor\": \"white\", \"ticks\": \"\"}}, \"title\": {\"x\": 0.05}, \"xaxis\": {\"automargin\": true, \"gridcolor\": \"white\", \"linecolor\": \"white\", \"ticks\": \"\", \"title\": {\"standoff\": 15}, \"zerolinecolor\": \"white\", \"zerolinewidth\": 2}, \"yaxis\": {\"automargin\": true, \"gridcolor\": \"white\", \"linecolor\": \"white\", \"ticks\": \"\", \"title\": {\"standoff\": 15}, \"zerolinecolor\": \"white\", \"zerolinewidth\": 2}}}, \"title\": {\"text\": \"3d TSNE Plot for Topic Model\"}, \"width\": 900},\n",
       "                        {\"responsive\": true}\n",
       "                    ).then(function(){\n",
       "                            \n",
       "var gd = document.getElementById('3a63d646-9d12-4170-b778-d847d9ab04e1');\n",
       "var x = new MutationObserver(function (mutations, observer) {{\n",
       "        var display = window.getComputedStyle(gd).display;\n",
       "        if (!display || display === 'none') {{\n",
       "            console.log([gd, 'removed!']);\n",
       "            Plotly.purge(gd);\n",
       "            observer.disconnect();\n",
       "        }}\n",
       "}});\n",
       "\n",
       "// Listen for the removal of the full notebook cells\n",
       "var notebookContainer = gd.closest('#notebook-container');\n",
       "if (notebookContainer) {{\n",
       "    x.observe(notebookContainer, {childList: true});\n",
       "}}\n",
       "\n",
       "// Listen for the clearing of the current output cell\n",
       "var outputEl = gd.closest('.output');\n",
       "if (outputEl) {{\n",
       "    x.observe(outputEl, {childList: true});\n",
       "}}\n",
       "\n",
       "                        })\n",
       "                };\n",
       "                });\n",
       "            </script>\n",
       "        </div>"
      ]
     },
     "metadata": {},
     "output_type": "display_data"
    }
   ],
   "source": [
    "plot_model(lda, plot = 'tsne')"
   ]
  },
  {
   "cell_type": "code",
   "execution_count": 14,
   "metadata": {},
   "outputs": [
    {
     "data": {
      "text/html": [
       "        <script type=\"text/javascript\">\n",
       "        window.PlotlyConfig = {MathJaxConfig: 'local'};\n",
       "        if (window.MathJax) {MathJax.Hub.Config({SVG: {font: \"STIX-Web\"}});}\n",
       "        if (typeof require !== 'undefined') {\n",
       "        require.undef(\"plotly\");\n",
       "        requirejs.config({\n",
       "            paths: {\n",
       "                'plotly': ['https://cdn.plot.ly/plotly-latest.min']\n",
       "            }\n",
       "        });\n",
       "        require(['plotly'], function(Plotly) {\n",
       "            window._Plotly = Plotly;\n",
       "        });\n",
       "        }\n",
       "        </script>\n",
       "        "
      ]
     },
     "metadata": {},
     "output_type": "display_data"
    },
    {
     "data": {
      "application/vnd.plotly.v1+json": {
       "config": {
        "plotlyServerURL": "https://plot.ly"
       },
       "data": [
        {
         "hoverlabel": {
          "namelength": 0
         },
         "hovertemplate": "Dominant_Topic=Topic 0<br>0=%{x}<br>1=%{y}<br>2=%{z}",
         "legendgroup": "Dominant_Topic=Topic 0",
         "marker": {
          "color": "#636efa",
          "opacity": 0.7,
          "symbol": "circle"
         },
         "mode": "markers",
         "name": "Dominant_Topic=Topic 0",
         "scene": "scene",
         "showlegend": true,
         "type": "scatter3d",
         "x": [
          2.924149513244629,
          6.5791096687316895,
          4.426705360412598,
          9.498432159423828,
          2.330653190612793,
          0.11346618831157684,
          3.6366448402404785,
          2.783801317214966,
          -0.9034495949745178,
          5.497885227203369,
          5.871323108673096,
          12.17456340789795,
          8.7636079788208,
          2.7679355144500732,
          1.5219064950942993,
          12.03288459777832,
          5.779691696166992,
          3.8223156929016113,
          0.2855471670627594,
          1.3151346445083618,
          2.218839406967163,
          4.075464248657227,
          11.2481689453125,
          -1.1484822034835815,
          5.720709323883057,
          7.381229877471924,
          11.500654220581055,
          8.581682205200195,
          5.3779754638671875,
          9.143722534179688,
          13.566597938537598,
          -0.2202109396457672,
          9.181315422058105,
          2.720320701599121,
          9.427434921264648,
          6.9767961502075195,
          10.346193313598633,
          5.733582973480225,
          4.044712066650391,
          7.735772609710693,
          -3.1142780780792236,
          8.078425407409668,
          5.697082042694092,
          10.694849014282227,
          2.9618215560913086,
          0.11259887367486954,
          3.949828624725342,
          3.647914171218872,
          3.76068377494812,
          11.666571617126465,
          3.4059460163116455,
          2.273874521255493,
          7.188249111175537,
          4.133622169494629,
          -0.2064162790775299,
          7.053069591522217,
          12.477938652038574,
          5.8907999992370605,
          5.9729719161987305,
          8.745854377746582,
          7.94342041015625,
          10.458194732666016,
          3.268876075744629,
          4.309574127197266,
          4.717058181762695,
          7.281536102294922,
          4.0152201652526855,
          11.429353713989258,
          -3.231684923171997,
          5.946254253387451,
          3.9735140800476074,
          5.862866401672363,
          3.1959307193756104,
          0.9394063353538513,
          8.831700325012207,
          6.223906517028809,
          13.540155410766602,
          10.769222259521484,
          0.506442129611969,
          0.28265249729156494,
          4.563218593597412,
          8.806747436523438,
          6.613532543182373,
          12.34334659576416,
          10.893423080444336,
          0.6922410726547241,
          6.2732415199279785,
          5.99125862121582,
          0.8801255822181702,
          6.358326435089111,
          1.6962627172470093,
          4.927495002746582,
          6.058498382568359,
          11.869422912597656,
          6.250514030456543,
          2.2471771240234375,
          9.958321571350098,
          3.582998514175415,
          0.5930299758911133,
          2.1846394538879395,
          3.833906888961792,
          6.099994659423828,
          1.2579059600830078,
          9.63654613494873,
          3.19573712348938,
          10.51305103302002,
          1.2013239860534668,
          12.608428955078125,
          6.450929641723633,
          4.213449001312256,
          1.4171481132507324,
          0.5575747489929199,
          2.2315592765808105,
          2.1138477325439453,
          10.694387435913086,
          0.6690338253974915,
          -1.1946284770965576,
          9.882760047912598,
          6.299295425415039,
          0.5858306288719177,
          0.6154242157936096,
          3.0650124549865723,
          6.672187328338623,
          1.846750020980835,
          5.772757053375244,
          8.542502403259277,
          6.419938087463379,
          4.175921440124512,
          9.14666748046875,
          -0.09529794007539749,
          3.4854767322540283,
          10.574295997619629,
          5.246662139892578,
          0.01017548143863678,
          11.002857208251953,
          11.293316841125488,
          11.016701698303223,
          5.5945940017700195,
          5.300809383392334,
          3.7335216999053955,
          3.2949845790863037,
          8.914148330688477,
          4.229237079620361,
          -0.8688203692436218,
          3.5286691188812256,
          10.424745559692383,
          5.763815402984619,
          2.885153293609619,
          10.1327543258667,
          3.485560655593872,
          5.672754287719727,
          4.758670806884766,
          0.6188334822654724,
          -1.090254545211792,
          6.035045146942139,
          11.746524810791016,
          11.135058403015137,
          10.75916862487793,
          6.6450042724609375,
          8.53007698059082,
          12.167036056518555,
          3.9902188777923584,
          0.8113991022109985,
          -1.267347812652588,
          6.432982921600342,
          2.9258053302764893,
          12.414711952209473,
          4.439131259918213,
          11.053730010986328,
          3.4744508266448975,
          5.615332126617432,
          4.3439178466796875,
          6.571547031402588,
          6.0262532234191895,
          11.042582511901855,
          6.06210994720459,
          3.8321664333343506,
          5.891896724700928,
          0.035606831312179565,
          4.2024245262146,
          6.532363414764404,
          7.937811851501465,
          8.873852729797363,
          4.250617027282715,
          5.687241077423096,
          10.390719413757324,
          0.8971083760261536,
          2.4560418128967285,
          13.791449546813965,
          12.24927043914795,
          9.755167961120605,
          11.23624038696289,
          4.011798858642578,
          3.126492977142334,
          -1.1579086780548096,
          7.052200794219971,
          5.407296657562256,
          8.228330612182617,
          2.3867363929748535,
          8.845892906188965,
          13.765523910522461,
          3.3247673511505127,
          -0.8076857328414917,
          0.12398919463157654,
          9.467306137084961,
          9.000802040100098,
          6.894750595092773,
          6.541562080383301,
          13.565629959106445,
          4.829086780548096,
          2.1379001140594482,
          0.36716416478157043,
          11.7653169631958,
          8.792174339294434,
          1.6114870309829712,
          9.66880989074707,
          10.186151504516602,
          6.304932594299316,
          3.2786240577697754,
          4.535951137542725,
          5.003407955169678,
          9.445765495300293,
          13.279126167297363,
          -0.49116790294647217,
          7.3042120933532715,
          5.778632640838623,
          8.16064167022705,
          5.808445453643799,
          4.421020030975342,
          5.626537799835205,
          5.724120140075684,
          12.776774406433105,
          12.736102104187012,
          5.760043144226074,
          11.976677894592285,
          2.0887715816497803,
          5.9422993659973145,
          2.522576093673706,
          -0.5586361289024353,
          9.220532417297363,
          6.899405002593994,
          5.2604265213012695,
          7.136453628540039,
          5.959970951080322,
          12.10608959197998,
          8.650750160217285,
          2.914156913757324,
          12.339195251464844,
          8.551199913024902,
          2.7240207195281982,
          9.858687400817871,
          5.788954734802246,
          3.9095072746276855,
          -1.4323599338531494,
          6.4900054931640625,
          0.2463923543691635,
          9.547542572021484,
          2.510556221008301,
          0.7622657418251038,
          1.2345311641693115,
          -1.1210720539093018,
          0.7309021949768066,
          13.780464172363281,
          8.435203552246094,
          2.491299629211426,
          5.393370628356934,
          -4.850029945373535,
          0.7045109868049622,
          2.075066089630127,
          12.441147804260254,
          0.10341589152812958,
          6.447052001953125,
          0.2422908991575241,
          13.143694877624512,
          -0.46106424927711487,
          -1.0037822723388672,
          -3.8921592235565186,
          3.3099539279937744,
          8.177752494812012,
          7.347938060760498,
          6.730344295501709,
          1.535109519958496,
          3.307309865951538,
          1.2378803491592407,
          3.3907454013824463,
          3.070831298828125,
          2.1825063228607178,
          9.005127906799316,
          12.28636360168457,
          1.802485704421997,
          8.15174674987793,
          4.769837379455566,
          10.666032791137695,
          13.754764556884766,
          -0.822788655757904,
          7.687121868133545,
          5.476434707641602,
          6.308082103729248,
          4.423614501953125,
          -1.8015483617782593,
          4.997809886932373,
          5.916806221008301,
          7.527360439300537,
          13.668251991271973,
          9.148695945739746,
          0.07331091910600662,
          7.375505447387695,
          4.889716148376465,
          1.7640855312347412,
          7.472964286804199,
          13.764820098876953,
          10.504273414611816,
          3.950950860977173,
          0.11560576409101486,
          -0.34824731945991516,
          -4.806930065155029,
          7.801887512207031,
          2.466653347015381,
          3.9111077785491943,
          -1.016758680343628,
          4.318794250488281,
          -4.103257656097412,
          9.632744789123535,
          -2.6444408893585205,
          0.5229061841964722,
          10.441878318786621,
          6.597180366516113,
          -2.5458877086639404,
          1.474703073501587,
          13.01128101348877,
          4.448286056518555,
          -4.817180156707764,
          12.478178024291992,
          8.652961730957031,
          10.561503410339355,
          0.7274731397628784,
          10.305723190307617,
          10.663826942443848,
          3.275580883026123,
          8.475460052490234,
          -1.0348082780838013,
          0.2851206064224243,
          7.375470161437988,
          0.5761685967445374,
          -4.79069185256958,
          3.6634554862976074,
          0.5996978878974915,
          0.7744029760360718,
          3.6621334552764893,
          0.09794028848409653,
          12.449198722839355,
          1.1720645427703857,
          0.7285606861114502,
          12.615979194641113,
          12.283170700073242,
          5.687201023101807,
          4.784981727600098,
          7.529970169067383,
          -0.7055768370628357,
          -3.447361946105957,
          0.32091668248176575,
          10.52147102355957,
          10.811981201171875,
          5.012310981750488,
          3.595684051513672,
          4.281727313995361,
          11.22433853149414,
          3.999096632003784,
          10.735249519348145,
          6.021363258361816,
          9.806681632995605,
          7.722879886627197,
          1.9603066444396973,
          7.86786413192749,
          4.577940464019775,
          10.456283569335938,
          2.964754819869995,
          5.121676921844482,
          8.368907928466797,
          0.5021755695343018,
          -1.0704697370529175,
          6.404984951019287,
          5.643735885620117,
          2.931563377380371,
          2.6384475231170654,
          5.740081787109375,
          5.020986557006836,
          2.709306478500366,
          3.5160505771636963,
          -0.8569321036338806,
          5.749109745025635,
          2.362661123275757,
          4.397751808166504,
          0.5210533142089844,
          5.847713947296143,
          0.44890761375427246,
          4.867587566375732,
          4.822894096374512,
          9.524909019470215,
          4.652685642242432,
          2.594663381576538,
          7.8092875480651855,
          7.615537166595459,
          1.8290441036224365,
          -1.7591792345046997,
          3.001922130584717,
          1.661511778831482,
          0.7618017196655273,
          11.831268310546875,
          6.026833534240723,
          5.548003196716309,
          5.939216136932373,
          -3.065506935119629,
          7.867839336395264,
          -0.7216232419013977,
          10.127256393432617,
          1.364660620689392,
          -0.45332780480384827,
          11.05894660949707,
          3.010089159011841,
          -0.2592450976371765,
          -0.49917271733283997,
          3.3468658924102783,
          10.682347297668457,
          11.738319396972656,
          13.296419143676758,
          4.25667142868042,
          2.7813918590545654,
          0.4906851351261139,
          4.248611927032471,
          1.8978097438812256,
          -3.158081531524658,
          12.32321548461914,
          4.835245609283447,
          4.570443630218506,
          7.891765117645264,
          4.932776927947998,
          2.7588207721710205,
          3.865992546081543,
          13.310654640197754,
          2.0798137187957764,
          3.1437976360321045,
          -0.4037637710571289,
          5.110975742340088,
          0.07108016312122345,
          9.820611000061035,
          3.1744093894958496,
          2.099918842315674,
          2.950286865234375,
          8.759941101074219,
          10.663163185119629,
          6.78906774520874
         ],
         "y": [
          -2.147104024887085,
          -0.4521680176258087,
          -2.6350507736206055,
          -2.750185251235962,
          -6.569881439208984,
          -0.14662893116474152,
          -0.8701449632644653,
          -3.433821201324463,
          -2.146103620529175,
          -1.9425431489944458,
          -1.623334527015686,
          -2.8018417358398438,
          -0.493179053068161,
          -5.004976749420166,
          -1.0968267917633057,
          -1.1221535205841064,
          -6.485976219177246,
          -1.6096792221069336,
          -2.09430193901062,
          -2.4688096046447754,
          -1.738737940788269,
          0.5095663070678711,
          -1.0563935041427612,
          -3.4012413024902344,
          -4.157871246337891,
          -5.006953716278076,
          -2.1966238021850586,
          -2.4936904907226562,
          -0.4907279908657074,
          -7.00425386428833,
          0.28750157356262207,
          -5.53486442565918,
          -5.8374552726745605,
          1.1812821626663208,
          -6.940545558929443,
          -4.160945415496826,
          -3.937739372253418,
          -6.8386149406433105,
          -2.7565600872039795,
          -0.05207616463303566,
          -2.395242214202881,
          -6.415493011474609,
          -3.9526467323303223,
          -3.5875139236450195,
          -2.5037429332733154,
          -6.747677803039551,
          0.409830778837204,
          -2.479562997817993,
          -4.063354015350342,
          -2.5341904163360596,
          1.214874267578125,
          -3.2065556049346924,
          -5.863867282867432,
          0.6092535257339478,
          -5.663308620452881,
          0.2334183305501938,
          -0.8174448013305664,
          -1.578749656677246,
          0.40732356905937195,
          -6.211832046508789,
          -6.102911472320557,
          -4.773932456970215,
          -0.8959099054336548,
          -3.513075351715088,
          -4.372707843780518,
          -4.823115348815918,
          -5.476895332336426,
          -3.8911077976226807,
          -2.2427926063537598,
          -0.4112023711204529,
          -1.8137534856796265,
          -6.8403706550598145,
          -4.481630802154541,
          0.2997884452342987,
          -0.0632108673453331,
          -1.0912033319473267,
          0.7318201661109924,
          -1.343000054359436,
          -3.5521137714385986,
          -9.583406448364258,
          -4.182881832122803,
          -2.465564250946045,
          -4.957807540893555,
          -2.3629825115203857,
          -1.5546472072601318,
          -1.662280797958374,
          -2.3315391540527344,
          -0.9155187606811523,
          -2.3346545696258545,
          -1.175405740737915,
          0.5816689729690552,
          -4.2401957511901855,
          -6.04688835144043,
          -0.4891520142555237,
          -4.232539176940918,
          -3.5633904933929443,
          -6.579051971435547,
          -0.9308189749717712,
          -7.290958404541016,
          -6.456089019775391,
          -0.1569714993238449,
          -4.0301833152771,
          -1.8113512992858887,
          -2.6129863262176514,
          -1.0461267232894897,
          -2.362807035446167,
          -1.6481789350509644,
          -1.555279016494751,
          -5.519623756408691,
          -2.2957212924957275,
          1.3900014162063599,
          -8.039831161499023,
          0.6038729548454285,
          -0.872040331363678,
          -1.5031795501708984,
          -10.023565292358398,
          -3.5400867462158203,
          -2.4484903812408447,
          -6.26602840423584,
          0.12199759483337402,
          -9.72878646850586,
          -4.792572021484375,
          -1.0066545009613037,
          -6.148825168609619,
          -0.6258885860443115,
          -2.393083333969116,
          -5.119171142578125,
          -6.0755534172058105,
          -7.1949663162231445,
          -0.19702254235744476,
          -3.3973777294158936,
          -3.743647813796997,
          -4.61330509185791,
          -3.721665620803833,
          -3.893264055252075,
          -4.065767288208008,
          -1.4947004318237305,
          -5.574740886688232,
          -5.479109764099121,
          -3.106320858001709,
          1.391544222831726,
          -7.163380146026611,
          -6.379187107086182,
          -0.18053585290908813,
          -5.184450149536133,
          -1.3729223012924194,
          -0.8375449180603027,
          -0.45694082975387573,
          -1.9335155487060547,
          -0.7361969351768494,
          -4.406735420227051,
          -6.870312213897705,
          -9.571489334106445,
          -3.539060115814209,
          -1.914814829826355,
          -2.748488664627075,
          -1.224482536315918,
          -4.601290702819824,
          -1.9970178604125977,
          -6.1675944328308105,
          -0.2990070581436157,
          0.3383675813674927,
          -10.41542911529541,
          -1.4038679599761963,
          -2.1443986892700195,
          -5.158210754394531,
          -1.750322937965393,
          -4.517300605773926,
          -4.335652828216553,
          -1.232923150062561,
          -6.578913688659668,
          -0.5857903361320496,
          -2.1084303855895996,
          -1.3039076328277588,
          -1.121472954750061,
          -1.413833737373352,
          0.7289854884147644,
          -5.457760810852051,
          -1.880456566810608,
          -5.265742778778076,
          -6.060884952545166,
          -2.359790325164795,
          -2.381070613861084,
          -4.316973686218262,
          -2.5811774730682373,
          -4.120843887329102,
          -1.7879879474639893,
          -5.3360137939453125,
          0.7297731637954712,
          -2.231874465942383,
          -2.3793866634368896,
          -0.9751948118209839,
          -5.290894508361816,
          -1.4669650793075562,
          -3.3072049617767334,
          -1.446560025215149,
          -4.667618751525879,
          -5.821042060852051,
          -0.5798336863517761,
          -2.2015488147735596,
          0.6849031448364258,
          -4.337003231048584,
          -3.253143548965454,
          -6.4078593254089355,
          -0.6547937393188477,
          -7.25106143951416,
          -6.132959842681885,
          -1.9569123983383179,
          0.28576532006263733,
          -1.7783944606781006,
          -1.14106285572052,
          -8.205735206604004,
          -1.8176426887512207,
          -4.333813190460205,
          0.6509983539581299,
          -4.518471717834473,
          -3.3784079551696777,
          -4.677259922027588,
          -5.1393914222717285,
          -1.74709951877594,
          -1.5714424848556519,
          -7.035991668701172,
          -0.49584755301475525,
          -3.5562174320220947,
          -6.824105739593506,
          -4.363731861114502,
          -1.0915677547454834,
          -1.2850044965744019,
          -2.7867603302001953,
          -6.64430046081543,
          -3.979161262512207,
          -1.1255017518997192,
          -0.5614076256752014,
          -6.503449440002441,
          -2.598745346069336,
          1.7829586267471313,
          -1.1501946449279785,
          -4.249606132507324,
          -0.9441664814949036,
          -7.013731956481934,
          -1.8106387853622437,
          -0.6135194897651672,
          -6.845008373260498,
          -1.5374536514282227,
          -2.864297866821289,
          0.25042596459388733,
          1.2683240175247192,
          -0.9471126198768616,
          -2.1479897499084473,
          -1.938868761062622,
          -1.6694395542144775,
          -6.827116966247559,
          -1.5382133722305298,
          -1.04262113571167,
          -1.3157436847686768,
          -8.973864555358887,
          -4.852217674255371,
          -3.4730427265167236,
          -1.51546049118042,
          -0.2646839916706085,
          -2.9850003719329834,
          -3.3474934101104736,
          0.7123684883117676,
          -0.09012342989444733,
          1.1583863496780396,
          -1.620782732963562,
          -4.723327159881592,
          -0.0960017666220665,
          -2.549180269241333,
          -1.472377061843872,
          -3.342245101928711,
          -1.1545487642288208,
          -7.771337032318115,
          -0.4161771237850189,
          -1.325679898262024,
          -4.567303657531738,
          -2.5216410160064697,
          -5.047513008117676,
          -1.056084156036377,
          -5.606360912322998,
          -1.8972283601760864,
          -1.8050297498703003,
          0.7538097500801086,
          1.6826670169830322,
          -5.829748630523682,
          -4.098836421966553,
          -0.8711247444152832,
          -0.17211879789829254,
          -0.13936729729175568,
          -2.4980409145355225,
          -4.649204730987549,
          -2.5068907737731934,
          -4.094549179077148,
          0.65251225233078,
          -4.101734161376953,
          -5.799522876739502,
          -0.7632067799568176,
          -0.2919124662876129,
          -0.1066301167011261,
          -3.622352361679077,
          -0.477054625749588,
          -3.10298228263855,
          -0.5695165395736694,
          0.47047558426856995,
          -7.290979385375977,
          -7.937945365905762,
          -1.403839349746704,
          -4.333928108215332,
          -5.951256275177002,
          -4.91814661026001,
          0.6753481030464172,
          -0.46399733424186707,
          -0.7792614698410034,
          -7.767572402954102,
          -5.63041877746582,
          -4.742316246032715,
          -6.239366054534912,
          0.06646818667650223,
          -3.3192858695983887,
          -5.265952110290527,
          -6.274420261383057,
          -2.981285810470581,
          -0.5716832280158997,
          -2.8516669273376465,
          -8.558485984802246,
          -5.77815580368042,
          -6.343496799468994,
          -3.460537910461426,
          -2.103624105453491,
          -1.0221630334854126,
          -0.8258422017097473,
          -4.34958553314209,
          -1.971155047416687,
          -1.4888553619384766,
          -4.754898548126221,
          -9.82685661315918,
          -0.23069465160369873,
          -0.6237896680831909,
          -3.7985589504241943,
          -7.378785610198975,
          -3.660062551498413,
          -6.528970241546631,
          -4.722387313842773,
          -0.1213412955403328,
          -2.566126823425293,
          -0.9596298933029175,
          -9.851691246032715,
          -2.184499740600586,
          -2.399393320083618,
          -6.384443283081055,
          -2.0498201847076416,
          1.481356143951416,
          0.10949521511793137,
          -2.1144137382507324,
          -2.5141232013702393,
          -4.982481479644775,
          -0.7538110017776489,
          -0.5551801919937134,
          0.2675046920776367,
          -3.9101195335388184,
          -8.121524810791016,
          -4.066190719604492,
          -2.3187384605407715,
          -0.39948657155036926,
          1.469970703125,
          -0.41329288482666016,
          -4.063050270080566,
          -4.8942060470581055,
          -3.6083052158355713,
          -1.3296279907226562,
          -0.8049690127372742,
          0.338516503572464,
          1.6445121765136719,
          -6.6423139572143555,
          -5.690432548522949,
          -1.682011365890503,
          -4.982901573181152,
          -5.703177452087402,
          -6.414835453033447,
          -9.620477676391602,
          -2.3806676864624023,
          -6.815803050994873,
          -1.1468126773834229,
          -3.9443929195404053,
          -3.5738532543182373,
          -5.25740909576416,
          -0.7096689939498901,
          -0.8180765509605408,
          -1.3572723865509033,
          -4.9065446853637695,
          -1.281059980392456,
          -3.3722965717315674,
          -6.641091346740723,
          -7.112029075622559,
          -1.1869933605194092,
          -8.67401123046875,
          -2.020250082015991,
          -0.69451504945755,
          -6.924674034118652,
          -0.2892613112926483,
          -1.8608518838882446,
          -6.733516216278076,
          -1.1531503200531006,
          1.144091248512268,
          -3.514906644821167,
          -1.4344569444656372,
          -5.4879231452941895,
          -2.2879297733306885,
          -3.300948143005371,
          -5.000508785247803,
          -0.7384172081947327,
          -5.242031097412109,
          -3.240187168121338,
          -6.642362594604492,
          0.487099289894104,
          -1.9665807485580444,
          1.2835774421691895,
          -9.391907691955566,
          -4.2251434326171875,
          -4.869835376739502,
          -0.3279379606246948,
          -3.6059629917144775,
          -4.326132297515869,
          -4.546057224273682,
          -1.6487007141113281,
          -0.159043088555336,
          -1.7948527336120605,
          -3.263420820236206,
          -3.6861348152160645,
          -1.5607812404632568,
          -2.028003215789795,
          -4.219298839569092,
          -2.415785074234009,
          -0.35295534133911133,
          -4.328249454498291,
          -5.326300621032715,
          -4.631257057189941,
          -2.2512974739074707,
          -0.9398269057273865,
          0.05019222944974899,
          -0.43961596488952637,
          -3.6228227615356445,
          -0.4907497465610504,
          -1.0054166316986084,
          -1.3145471811294556,
          -4.123445510864258,
          -2.93145489692688,
          -1.6828253269195557,
          -3.4045984745025635,
          -2.0535500049591064,
          -4.678167343139648,
          -1.1345043182373047
         ],
         "z": [
          5.9998040199279785,
          7.457396984100342,
          6.402692794799805,
          1.1728675365447998,
          4.217759609222412,
          6.005934238433838,
          3.5058984756469727,
          4.715201377868652,
          4.574728012084961,
          2.453991174697876,
          2.178269624710083,
          5.5236496925354,
          6.834634304046631,
          0.6059775948524475,
          4.601207256317139,
          3.5627644062042236,
          2.1030771732330322,
          6.386187553405762,
          4.18742561340332,
          4.216541767120361,
          1.5109999179840088,
          0.938207745552063,
          6.456940650939941,
          0.8887268304824829,
          -1.6900814771652222,
          4.607424259185791,
          3.7876949310302734,
          6.448749542236328,
          -3.2265822887420654,
          5.792311668395996,
          4.96677827835083,
          3.921919107437134,
          4.133965015411377,
          6.638258934020996,
          6.404507637023926,
          -0.40731361508369446,
          3.4616963863372803,
          2.981456995010376,
          2.7138707637786865,
          6.4680070877075195,
          0.6631104350090027,
          3.9917497634887695,
          -1.5898687839508057,
          3.969681739807129,
          1.704096794128418,
          5.078606605529785,
          0.8020467162132263,
          2.5764849185943604,
          5.071406841278076,
          4.26652717590332,
          0.27341392636299133,
          4.5946526527404785,
          4.162402629852295,
          0.8536749482154846,
          3.7742652893066406,
          7.827120780944824,
          4.104185104370117,
          0.8799926042556763,
          7.840576171875,
          4.076356887817383,
          6.145515441894531,
          4.937079429626465,
          0.9001241326332092,
          5.848249912261963,
          5.436126708984375,
          5.198965549468994,
          3.2364325523376465,
          4.946846008300781,
          1.185336947441101,
          1.9946625232696533,
          0.07124406844377518,
          2.6860592365264893,
          3.7344722747802734,
          6.354410648345947,
          5.973512649536133,
          -1.265580654144287,
          4.0806474685668945,
          1.9460870027542114,
          4.215060234069824,
          3.4526798725128174,
          -0.7751051187515259,
          6.824428081512451,
          3.4080159664154053,
          5.414481163024902,
          2.3347105979919434,
          3.2544803619384766,
          -0.42247337102890015,
          -1.4176294803619385,
          2.5333802700042725,
          5.249567985534668,
          7.313141822814941,
          0.2938190996646881,
          2.1274900436401367,
          2.5565149784088135,
          -0.6313774585723877,
          3.9691731929779053,
          6.392589092254639,
          3.291274070739746,
          3.3111703395843506,
          4.1675615310668945,
          3.7337772846221924,
          -0.41368672251701355,
          3.885322093963623,
          1.3435039520263672,
          6.799392223358154,
          2.6288816928863525,
          4.4793243408203125,
          5.453649997711182,
          4.448070526123047,
          6.3047895431518555,
          0.06953518837690353,
          3.6246776580810547,
          7.566613674163818,
          -1.2450350522994995,
          2.020761489868164,
          4.224459648132324,
          0.8348604440689087,
          1.907383680343628,
          2.1432700157165527,
          6.124252796173096,
          3.6520187854766846,
          -0.17103759944438934,
          5.920138359069824,
          4.013858795166016,
          6.087000846862793,
          6.841714382171631,
          5.294445991516113,
          3.3435418605804443,
          6.024408340454102,
          5.625371932983398,
          5.838373184204102,
          3.5796351432800293,
          0.15197336673736572,
          0.934950053691864,
          4.272409439086914,
          4.878668308258057,
          2.436034917831421,
          1.0310124158859253,
          4.411940097808838,
          2.6305253505706787,
          -0.7271679043769836,
          5.637746810913086,
          2.265030860900879,
          2.8801143169403076,
          0.8991100192070007,
          6.922109127044678,
          -1.8736727237701416,
          7.106184005737305,
          3.6252543926239014,
          7.080465316772461,
          -0.3616022765636444,
          2.9281511306762695,
          3.663071632385254,
          0.8909493684768677,
          0.010935161262750626,
          5.6508469581604,
          6.456124782562256,
          4.676517486572266,
          0.21454386413097382,
          4.066266059875488,
          2.8085381984710693,
          1.02611243724823,
          3.540583372116089,
          3.1721742153167725,
          3.2545835971832275,
          2.102461338043213,
          5.139555931091309,
          5.313396453857422,
          4.773307800292969,
          -0.8429725170135498,
          2.179692029953003,
          7.319242000579834,
          6.630702495574951,
          -2.3955342769622803,
          6.558004856109619,
          0.8841368556022644,
          6.975057601928711,
          4.8749494552612305,
          4.22733736038208,
          -1.1575539112091064,
          2.1275136470794678,
          6.797765731811523,
          6.859894275665283,
          -0.39846333861351013,
          6.384378910064697,
          3.672848701477051,
          3.3433566093444824,
          0.9359535574913025,
          4.813864707946777,
          5.119865417480469,
          1.5213145017623901,
          2.167518138885498,
          3.622493267059326,
          1.6907095909118652,
          3.517483949661255,
          0.6860567927360535,
          5.512231826782227,
          5.819339275360107,
          -0.34859591722488403,
          6.919257164001465,
          4.739793300628662,
          5.544552326202393,
          1.1810307502746582,
          3.5528194904327393,
          7.206650733947754,
          5.8784284591674805,
          4.263258457183838,
          0.17382586002349854,
          4.967537879943848,
          7.708683013916016,
          4.019054889678955,
          3.8571624755859375,
          3.847529888153076,
          5.6292314529418945,
          7.334456920623779,
          3.4409801959991455,
          2.8637709617614746,
          5.5459794998168945,
          0.8415089845657349,
          0.22277574241161346,
          0.1727849543094635,
          6.270629405975342,
          5.582623481750488,
          3.9769997596740723,
          3.5251808166503906,
          5.764634609222412,
          7.210468769073486,
          -3.1606366634368896,
          6.199232578277588,
          2.9681756496429443,
          -2.251174211502075,
          5.374507904052734,
          4.3511881828308105,
          2.1194417476654053,
          5.557173728942871,
          0.8338852524757385,
          2.2073614597320557,
          -0.12484198808670044,
          2.3338191509246826,
          5.9092020988464355,
          0.24552665650844574,
          -2.1591637134552,
          3.4310238361358643,
          1.6982332468032837,
          5.299565315246582,
          7.868585586547852,
          6.635184288024902,
          3.963991165161133,
          6.9224467277526855,
          5.997775554656982,
          3.5694942474365234,
          2.798107624053955,
          5.89021635055542,
          4.042389869689941,
          5.185207366943359,
          3.214249849319458,
          4.945104122161865,
          -0.3960571587085724,
          2.7036631107330322,
          1.0658769607543945,
          1.3549985885620117,
          1.3432471752166748,
          4.686426639556885,
          6.164781093597412,
          6.812641143798828,
          5.7609663009643555,
          -0.6633065342903137,
          6.193088531494141,
          -1.2800593376159668,
          5.685947895050049,
          4.214476585388184,
          3.2345821857452393,
          3.4858109951019287,
          5.17703914642334,
          3.406705141067505,
          3.300445556640625,
          0.9783205389976501,
          3.2041966915130615,
          6.637382507324219,
          2.6485042572021484,
          0.20934057235717773,
          3.4760568141937256,
          0.3281911313533783,
          0.13227859139442444,
          1.5883675813674927,
          3.1364119052886963,
          0.1313410848379135,
          7.528615474700928,
          2.8187994956970215,
          2.0145459175109863,
          3.92260479927063,
          6.3587422370910645,
          6.300164699554443,
          4.737185955047607,
          3.700925350189209,
          6.0225443840026855,
          -1.8681855201721191,
          6.384215831756592,
          -3.148493528366089,
          0.5165181159973145,
          -2.4517874717712402,
          -1.9736016988754272,
          7.402822971343994,
          4.867150783538818,
          6.139930725097656,
          2.857607126235962,
          7.0424485206604,
          5.541357517242432,
          4.177943706512451,
          4.740119457244873,
          4.718593120574951,
          0.8177573680877686,
          3.470247745513916,
          4.156999111175537,
          3.710981607437134,
          -0.7180523872375488,
          6.428049564361572,
          7.315737724304199,
          1.1057406663894653,
          2.6878104209899902,
          3.4139976501464844,
          0.2510082721710205,
          7.221251010894775,
          0.18378150463104248,
          3.502498149871826,
          6.587160110473633,
          2.4599366188049316,
          -1.3694120645523071,
          4.251135349273682,
          5.818727970123291,
          7.406172275543213,
          -0.7271887063980103,
          5.462254047393799,
          7.00970458984375,
          4.623128890991211,
          3.670422077178955,
          0.3677169382572174,
          1.139358401298523,
          3.11531662940979,
          4.936135768890381,
          0.8255971074104309,
          5.125962257385254,
          4.1854472160339355,
          6.15869140625,
          0.6178007125854492,
          3.2582716941833496,
          3.5119524002075195,
          4.461029052734375,
          2.5239360332489014,
          5.234255313873291,
          5.458525657653809,
          0.4100680351257324,
          6.237063407897949,
          6.51632022857666,
          5.444612503051758,
          5.328667163848877,
          7.370008945465088,
          7.4088287353515625,
          2.5393190383911133,
          -0.4477117657661438,
          3.1447577476501465,
          3.7738561630249023,
          3.2341229915618896,
          -2.805752754211426,
          7.008115768432617,
          7.3835062980651855,
          4.777989864349365,
          4.2149858474731445,
          6.611872673034668,
          5.515978813171387,
          7.0961012840271,
          7.9191460609436035,
          1.4285553693771362,
          3.7566537857055664,
          4.240754127502441,
          6.8292236328125,
          3.1357779502868652,
          4.198728084564209,
          3.9054555892944336,
          3.4075026512145996,
          4.554261684417725,
          2.918644428253174,
          4.226694107055664,
          0.3486100733280182,
          3.5653483867645264,
          5.065181255340576,
          7.32625150680542,
          -0.8689641952514648,
          0.894794762134552,
          3.255129814147949,
          5.576205730438232,
          -0.5207539200782776,
          3.397355318069458,
          3.2387096881866455,
          2.9404165744781494,
          3.363651990890503,
          6.5797905921936035,
          -1.9110709428787231,
          6.05780553817749,
          -2.8734054565429688,
          1.865067958831787,
          3.796123743057251,
          1.9397364854812622,
          -0.18678149580955505,
          0.2808353900909424,
          2.9411098957061768,
          4.059103012084961,
          4.374462127685547,
          5.168571472167969,
          5.3416242599487305,
          -1.9885904788970947,
          0.618684709072113,
          -1.1424651145935059,
          3.7566800117492676,
          2.619523286819458,
          2.0360372066497803,
          0.17776621878147125,
          2.3630998134613037,
          6.325810432434082,
          0.768460214138031,
          5.404636383056641,
          0.888023853302002,
          -0.2689673900604248,
          4.519041061401367,
          3.6270155906677246,
          5.115739345550537,
          6.386877059936523,
          -0.6691293120384216,
          0.9198786020278931,
          6.3399763107299805,
          2.1100046634674072,
          -0.42961132526397705,
          5.403988361358643,
          -2.8898138999938965,
          -0.8558717966079712,
          5.453335762023926,
          -0.7944615483283997,
          -0.2786180078983307,
          6.0099921226501465,
          5.21427059173584,
          -0.6041761636734009,
          2.6926252841949463,
          5.298187732696533,
          7.175472259521484,
          3.343541145324707,
          3.1697704792022705,
          5.640183925628662,
          2.0034751892089844,
          4.9836554527282715,
          6.956782817840576,
          4.650627136230469,
          3.1251449584960938
         ]
        },
        {
         "hoverlabel": {
          "namelength": 0
         },
         "hovertemplate": "Dominant_Topic=Topic 1<br>0=%{x}<br>1=%{y}<br>2=%{z}",
         "legendgroup": "Dominant_Topic=Topic 1",
         "marker": {
          "color": "#EF553B",
          "opacity": 0.7,
          "symbol": "circle"
         },
         "mode": "markers",
         "name": "Dominant_Topic=Topic 1",
         "scene": "scene",
         "showlegend": true,
         "type": "scatter3d",
         "x": [
          -6.4629926681518555,
          -4.508347034454346,
          -5.397622585296631,
          -6.547844886779785,
          -5.931416988372803,
          -5.3612141609191895,
          -10.613239288330078,
          -5.293278694152832,
          -8.783531188964844,
          -7.425076007843018,
          1.6188938617706299,
          -4.972887992858887,
          -2.1090586185455322,
          -8.607057571411133,
          -7.314849853515625,
          -5.312957763671875,
          -4.464206695556641,
          -2.6580421924591064,
          -3.179628372192383,
          -5.251195430755615,
          -5.665773868560791,
          -8.199211120605469,
          -7.985060214996338,
          -3.2899465560913086,
          -8.598357200622559,
          -8.312161445617676,
          -8.47355842590332,
          -9.69538688659668,
          -8.902099609375,
          -7.194107532501221,
          -8.114176750183105,
          -3.7539021968841553,
          -8.644231796264648,
          -8.735461235046387,
          -9.75159740447998,
          -5.284688949584961,
          0.11280801892280579,
          -4.826731204986572,
          -6.366042613983154,
          -9.839028358459473,
          -7.951038837432861,
          -5.10105037689209,
          -7.699377059936523,
          -2.39102840423584,
          -6.386178016662598,
          0.31167832016944885,
          -4.819620132446289,
          -5.3407464027404785,
          -9.61017894744873,
          -5.395806312561035,
          -5.433243751525879,
          -9.643009185791016,
          -2.397027015686035,
          -10.618371963500977,
          -4.116227626800537,
          -7.382595539093018,
          -3.2189013957977295,
          -5.539754867553711,
          -1.283136248588562,
          -2.1778316497802734,
          1.2393951416015625,
          -5.735774040222168,
          -7.920584201812744,
          -5.437498092651367,
          -6.218712329864502,
          -6.62637996673584,
          -3.5206291675567627,
          -6.801629543304443,
          -4.753647804260254,
          -8.070798873901367,
          -3.2686760425567627,
          -8.8447265625,
          -9.34848690032959,
          -7.919663429260254,
          0.991711437702179,
          -7.990340232849121,
          -7.653343677520752,
          -4.723275184631348,
          -2.9884872436523438,
          -8.353528022766113,
          -2.8490095138549805,
          -4.819339752197266,
          -6.386720180511475,
          -7.914607524871826,
          -8.583300590515137,
          -7.322948932647705,
          -12.302267074584961,
          -8.612560272216797,
          -11.337450981140137,
          -4.053780555725098,
          -2.657940149307251,
          0.1963442713022232,
          -4.971603870391846,
          -6.318251609802246,
          -3.0449516773223877,
          -2.133894205093384,
          -9.10949993133545,
          -10.9650239944458,
          -8.025618553161621,
          1.3228026628494263,
          -5.848683834075928,
          -7.974814414978027,
          0.8737183809280396,
          -4.796360015869141,
          -6.491573810577393,
          -9.641357421875,
          -4.620622634887695,
          -5.8836469650268555,
          -4.351050853729248,
          -11.846766471862793,
          -4.773961544036865,
          0.09074264019727707,
          -12.987712860107422,
          -9.135119438171387,
          -8.51094913482666,
          -10.283295631408691,
          -8.187541007995605,
          -6.381687641143799,
          -0.7264277935028076,
          -8.506649017333984,
          -9.97536563873291,
          -7.375272750854492,
          -13.216039657592773,
          -5.762639999389648,
          -12.93311882019043,
          -11.576616287231445,
          -9.964435577392578,
          -8.435221672058105,
          -1.0524086952209473,
          -9.186419486999512,
          -3.060337543487549,
          -10.49406909942627,
          -7.846834182739258,
          -9.208718299865723,
          -4.636124134063721,
          -1.2853730916976929,
          0.9659881591796875,
          -8.503196716308594,
          -13.150155067443848,
          -8.709169387817383,
          -5.440104961395264,
          -8.561190605163574,
          -10.303903579711914,
          -1.7823686599731445,
          -7.019654273986816,
          -5.438990116119385,
          -12.982137680053711,
          -5.226712226867676,
          -4.8908586502075195,
          -0.6428043246269226,
          -3.80349063873291,
          -11.928559303283691,
          -7.917068004608154,
          -5.242257595062256,
          -10.110502243041992,
          -8.07706356048584,
          -7.593774795532227,
          -10.819042205810547,
          -5.664822101593018,
          -14.0579195022583,
          -8.59935474395752,
          -5.641238212585449,
          -14.141256332397461,
          -10.66339111328125,
          -5.555308818817139,
          -6.129258155822754,
          0.6393378376960754,
          -4.934845447540283,
          -6.103621006011963,
          -13.283476829528809,
          -7.547811985015869,
          -12.272378921508789,
          -13.782493591308594,
          -8.335040092468262,
          -13.796161651611328,
          -4.599380970001221,
          -12.55091381072998,
          -10.810446739196777,
          -10.846352577209473,
          -10.532954216003418,
          -10.615674018859863,
          -1.46415114402771,
          -10.843230247497559,
          -7.42126989364624,
          -12.90858268737793,
          -13.346746444702148,
          -6.355636119842529,
          -7.570242404937744,
          -1.5759484767913818,
          0.9553093910217285,
          -6.631156921386719,
          -9.925647735595703,
          -8.879886627197266,
          -8.518763542175293,
          -14.266373634338379,
          -2.166987895965576,
          -11.52641773223877,
          -7.533313751220703,
          -10.220961570739746,
          -11.336042404174805,
          -10.089546203613281,
          -3.055288314819336,
          -10.621517181396484,
          -9.26589298248291,
          -7.8616132736206055,
          -13.082141876220703,
          0.3243642747402191,
          -11.77363109588623,
          -10.231751441955566,
          -6.591089725494385,
          -9.588174819946289,
          -14.000322341918945,
          -11.333123207092285,
          -8.892584800720215,
          -10.52408504486084,
          -9.248566627502441,
          -4.587044715881348,
          -9.114855766296387,
          -13.677225112915039,
          -11.03425407409668,
          -13.325042724609375,
          -9.307186126708984,
          -10.948431968688965,
          -10.751487731933594,
          -4.86426305770874,
          -10.520515441894531,
          -8.05223560333252,
          -12.554120063781738,
          -12.613992691040039,
          -12.750014305114746,
          -4.435124397277832,
          -13.211039543151855,
          -8.89686107635498,
          -9.921417236328125
         ],
         "y": [
          0.7745959758758545,
          3.7169463634490967,
          0.11468899995088577,
          1.1408882141113281,
          0.23045583069324493,
          0.8877406716346741,
          6.042324542999268,
          0.21877960860729218,
          8.855712890625,
          -1.1712208986282349,
          1.4041272401809692,
          3.846255302429199,
          -1.1318488121032715,
          6.003143310546875,
          4.809328079223633,
          2.5885510444641113,
          -0.609539270401001,
          -1.7381025552749634,
          0.09110841900110245,
          2.3095521926879883,
          1.7494763135910034,
          1.8294634819030762,
          2.881965398788452,
          -1.5027481317520142,
          2.24715256690979,
          8.56965446472168,
          5.849952697753906,
          8.469379425048828,
          6.386704921722412,
          4.7151336669921875,
          1.4811663627624512,
          0.1837640404701233,
          3.8202426433563232,
          4.130147933959961,
          7.046986103057861,
          -2.0356199741363525,
          3.2086377143859863,
          0.24025137722492218,
          1.056963562965393,
          7.595522403717041,
          1.8181573152542114,
          3.6750380992889404,
          -0.9635255932807922,
          -0.2687782943248749,
          -1.3705673217773438,
          2.7997138500213623,
          3.5640854835510254,
          1.0683374404907227,
          6.293396949768066,
          1.7363221645355225,
          2.1115822792053223,
          6.969570159912109,
          -1.230791687965393,
          7.940908432006836,
          -2.8610410690307617,
          2.543123722076416,
          -1.3504585027694702,
          3.363142728805542,
          0.16389861702919006,
          -0.5740852952003479,
          0.6964125633239746,
          1.3071706295013428,
          3.746966600418091,
          0.9849141240119934,
          3.0209097862243652,
          -1.2110675573349,
          -0.3595477044582367,
          -1.5356831550598145,
          3.6403677463531494,
          2.4184305667877197,
          -1.793157696723938,
          9.061786651611328,
          2.5588202476501465,
          1.5937319993972778,
          0.9438034296035767,
          3.916166067123413,
          3.7912824153900146,
          4.241278648376465,
          -1.4503858089447021,
          4.347589492797852,
          0.18290992081165314,
          -1.400593876838684,
          2.479459524154663,
          2.0212950706481934,
          -1.1563441753387451,
          4.765949249267578,
          8.938910484313965,
          2.0355117321014404,
          8.330986976623535,
          -1.36817467212677,
          -1.4288668632507324,
          1.6846098899841309,
          3.9129836559295654,
          3.1484463214874268,
          -0.6163533329963684,
          -2.050400972366333,
          6.3581719398498535,
          6.190230369567871,
          3.930978536605835,
          1.1379942893981934,
          -0.0704997107386589,
          1.7373268604278564,
          1.987878680229187,
          3.9152114391326904,
          2.975691556930542,
          9.124845504760742,
          4.286438941955566,
          2.51637601852417,
          3.5512535572052,
          8.844707489013672,
          -2.293896198272705,
          3.3128883838653564,
          8.267041206359863,
          6.573459625244141,
          8.930421829223633,
          6.188150405883789,
          1.8948596715927124,
          0.2468130886554718,
          0.632058322429657,
          -1.2083011865615845,
          6.500831127166748,
          4.803319931030273,
          9.223607063293457,
          3.159633159637451,
          9.203234672546387,
          8.125152587890625,
          7.8888421058654785,
          4.237995624542236,
          0.41470858454704285,
          6.5065741539001465,
          -0.30466797947883606,
          5.083623886108398,
          5.269198894500732,
          2.4655182361602783,
          0.10780017077922821,
          3.8511648178100586,
          0.5814027786254883,
          3.9874470233917236,
          8.582158088684082,
          -0.7232816815376282,
          0.05857278034090996,
          8.057896614074707,
          6.72421407699585,
          0.5922394394874573,
          1.6990588903427124,
          4.142939567565918,
          9.396806716918945,
          3.1036696434020996,
          4.620432376861572,
          0.6194242835044861,
          -0.07864166796207428,
          8.55407428741455,
          3.8411519527435303,
          4.384365558624268,
          7.640713691711426,
          5.472841739654541,
          5.540910720825195,
          6.276573181152344,
          -0.10102004557847977,
          9.825373649597168,
          5.974720001220703,
          -0.09912499040365219,
          9.909159660339355,
          7.789846897125244,
          2.779283285140991,
          0.5807597041130066,
          0.2874465882778168,
          3.9296438694000244,
          -1.7226629257202148,
          8.48651123046875,
          -0.9233762621879578,
          8.480278968811035,
          9.438886642456055,
          5.256175994873047,
          9.665818214416504,
          3.7013230323791504,
          8.742417335510254,
          5.713852882385254,
          5.819576740264893,
          7.043333530426025,
          4.958018779754639,
          -0.842947781085968,
          5.762566566467285,
          1.9183926582336426,
          8.235267639160156,
          9.472835540771484,
          3.2717361450195312,
          5.51836633682251,
          0.3867722451686859,
          1.4131709337234497,
          4.645453929901123,
          7.340456485748291,
          6.250654697418213,
          3.9016335010528564,
          9.740193367004395,
          -1.8699121475219727,
          7.925168991088867,
          5.057783603668213,
          8.293097496032715,
          7.843907833099365,
          6.213271617889404,
          0.08673401176929474,
          6.367300033569336,
          6.242162227630615,
          1.785133719444275,
          8.495169639587402,
          1.581117033958435,
          8.410470008850098,
          6.370170593261719,
          3.279367446899414,
          7.135237693786621,
          9.7520751953125,
          6.966960430145264,
          6.299400806427002,
          7.896749019622803,
          8.776850700378418,
          3.4666664600372314,
          5.823444843292236,
          9.571491241455078,
          6.488061904907227,
          9.383337020874023,
          8.684493064880371,
          8.175514221191406,
          6.224292278289795,
          3.217555046081543,
          6.494120121002197,
          3.6018457412719727,
          8.887470245361328,
          9.103211402893066,
          9.196883201599121,
          4.868520736694336,
          8.449860572814941,
          8.334297180175781,
          7.195924758911133
         ],
         "z": [
          0.5784777402877808,
          3.8008909225463867,
          1.9548969268798828,
          0.5264760255813599,
          1.0865769386291504,
          2.190295457839966,
          -0.7699334025382996,
          -0.11382389068603516,
          1.0838055610656738,
          0.6303461194038391,
          6.432671070098877,
          0.7533061504364014,
          3.4300129413604736,
          3.6331686973571777,
          3.5764694213867188,
          0.3438948392868042,
          1.9878506660461426,
          1.894405484199524,
          2.68569278717041,
          0.15053080022335052,
          2.3056890964508057,
          -1.424430251121521,
          1.5319409370422363,
          1.9078056812286377,
          -0.13860464096069336,
          0.6002708673477173,
          4.040095806121826,
          1.5459774732589722,
          3.3428239822387695,
          3.392453908920288,
          -1.8602668046951294,
          1.613054633140564,
          -0.0668824091553688,
          0.06613221019506454,
          2.950092315673828,
          1.0784587860107422,
          -1.1162759065628052,
          -0.2762756943702698,
          0.21879027783870697,
          2.3839669227600098,
          1.0774996280670166,
          2.600419521331787,
          1.4699127674102783,
          3.7493348121643066,
          0.1198827475309372,
          -0.7139195799827576,
          3.934131145477295,
          1.9262473583221436,
          -1.956411600112915,
          3.2285258769989014,
          3.8309414386749268,
          3.107128143310547,
          2.5779061317443848,
          2.42866849899292,
          -0.3552115559577942,
          1.9185868501663208,
          -1.5138951539993286,
          3.126242160797119,
          2.978571653366089,
          3.8961715698242188,
          7.184913158416748,
          2.9831950664520264,
          2.706295967102051,
          2.548884391784668,
          3.9967312812805176,
          0.9065861105918884,
          1.418432354927063,
          0.15950094163417816,
          1.4103636741638184,
          -1.495574712753296,
          0.9829574823379517,
          1.0781543254852295,
          -2.751967191696167,
          -1.9616639614105225,
          -0.25409427285194397,
          1.8374783992767334,
          1.5062410831451416,
          3.478099822998047,
          2.0543007850646973,
          2.007800340652466,
          3.506141424179077,
          0.35245007276535034,
          2.9214584827423096,
          0.34317904710769653,
          0.2684510350227356,
          3.6600663661956787,
          1.8860371112823486,
          -0.17365404963493347,
          2.1456046104431152,
          1.076621174812317,
          2.887277841567993,
          8.285067558288574,
          2.5879523754119873,
          3.852762222290039,
          3.159125328063965,
          1.3123756647109985,
          2.341240882873535,
          -0.7027233242988586,
          1.0655652284622192,
          6.46238899230957,
          2.1717119216918945,
          1.078750491142273,
          -0.060923922806978226,
          1.3270235061645508,
          2.5692853927612305,
          1.8809882402420044,
          3.6805365085601807,
          3.9450793266296387,
          3.9721579551696777,
          1.9373359680175781,
          1.0585867166519165,
          -1.1248517036437988,
          0.11419672518968582,
          2.9236199855804443,
          0.8993700742721558,
          0.40498238801956177,
          -1.8043559789657593,
          0.9810231924057007,
          -1.7249538898468018,
          0.25131335854530334,
          1.5180003643035889,
          3.1108837127685547,
          1.3695372343063354,
          3.8487746715545654,
          1.6223891973495483,
          1.3645325899124146,
          0.8748015761375427,
          1.7318239212036133,
          2.716649055480957,
          3.2827160358428955,
          2.8685762882232666,
          -1.507108211517334,
          3.785463809967041,
          -2.5509774684906006,
          -0.376861035823822,
          -3.391439437866211,
          6.603736877441406,
          -0.1833447515964508,
          0.4424181878566742,
          0.14169465005397797,
          0.6370720267295837,
          0.4240145683288574,
          1.0785104036331177,
          3.1893415451049805,
          0.09772530943155289,
          -0.21318550407886505,
          1.8702083826065063,
          4.079014778137207,
          1.4511195421218872,
          -1.7172091007232666,
          1.425358533859253,
          1.60176682472229,
          1.0357249975204468,
          1.7165460586547852,
          3.0870859622955322,
          3.3753793239593506,
          3.229978084564209,
          -0.3979629576206207,
          0.7884891629219055,
          1.425920844078064,
          4.195928573608398,
          0.4367798864841461,
          1.4386531114578247,
          2.389472723007202,
          3.5303232669830322,
          1.2924424409866333,
          6.527312278747559,
          1.9185128211975098,
          0.25349679589271545,
          0.1622815728187561,
          1.310951828956604,
          1.0925209522247314,
          1.1288222074508667,
          3.294295310974121,
          1.46250319480896,
          1.6721941232681274,
          1.2623454332351685,
          -1.2626309394836426,
          -1.0601425170898438,
          1.2755399942398071,
          -1.7957550287246704,
          4.281264781951904,
          -1.1232054233551025,
          0.13555686175823212,
          0.14154866337776184,
          1.6207292079925537,
          3.9827969074249268,
          3.271751642227173,
          2.952270030975342,
          5.786495208740234,
          3.0393831729888916,
          3.270522117614746,
          3.2922399044036865,
          -0.30654722452163696,
          1.0895353555679321,
          1.7935739755630493,
          1.088649868965149,
          3.5543198585510254,
          2.333176374435425,
          0.7604631185531616,
          -1.5197666883468628,
          2.990581512451172,
          0.03531819209456444,
          3.047805070877075,
          1.0684568881988525,
          0.37395673990249634,
          8.18290901184082,
          1.6325503587722778,
          -1.230377197265625,
          2.0923054218292236,
          2.796907424926758,
          1.3824032545089722,
          -0.6734957098960876,
          3.493091583251953,
          1.3031693696975708,
          1.0169726610183716,
          1.800714135169983,
          1.9910207986831665,
          1.440155267715454,
          -0.35901153087615967,
          1.5018563270568848,
          1.7378544807434082,
          2.524129629135132,
          -0.37757328152656555,
          2.308253526687622,
          -0.31748121976852417,
          1.5235285758972168,
          1.5213109254837036,
          1.797978401184082,
          1.763242483139038,
          1.7053227424621582,
          0.17651867866516113,
          0.6077556610107422,
          2.8479723930358887
         ]
        },
        {
         "hoverlabel": {
          "namelength": 0
         },
         "hovertemplate": "Dominant_Topic=Topic 2<br>0=%{x}<br>1=%{y}<br>2=%{z}",
         "legendgroup": "Dominant_Topic=Topic 2",
         "marker": {
          "color": "#00cc96",
          "opacity": 0.7,
          "symbol": "circle"
         },
         "mode": "markers",
         "name": "Dominant_Topic=Topic 2",
         "scene": "scene",
         "showlegend": true,
         "type": "scatter3d",
         "x": [
          -6.718160152435303,
          -6.8113322257995605,
          -7.428412437438965,
          -7.22767448425293,
          -7.385968208312988,
          -4.129029273986816,
          -9.071972846984863,
          -6.208846092224121,
          -9.117298126220703,
          -7.868119239807129,
          -7.5422210693359375,
          -4.408711910247803,
          -9.421335220336914,
          -7.180689334869385,
          -7.424013137817383,
          -6.540610313415527,
          -7.672586441040039,
          -5.349473476409912,
          -8.1337890625,
          -5.7852325439453125,
          -6.804910659790039,
          -7.1950812339782715,
          -7.937877655029297,
          -6.307921886444092,
          -3.4548120498657227,
          -7.824169635772705,
          -5.566713809967041,
          -7.4443793296813965,
          -8.804543495178223,
          -5.9808807373046875,
          -6.263774871826172,
          -7.255300521850586,
          -7.371266841888428,
          -8.508848190307617,
          -8.685054779052734,
          -7.11555814743042,
          -6.272402286529541,
          -7.148232460021973,
          -7.914595603942871,
          -3.8398163318634033,
          -8.507732391357422,
          -7.3634138107299805,
          -5.923618793487549,
          -7.072675704956055,
          -6.315865516662598,
          -3.1008880138397217,
          -8.702884674072266,
          -6.355726718902588,
          -7.377096176147461,
          -7.114567756652832,
          -6.922635078430176,
          -6.9118242263793945,
          -7.1674275398254395,
          -6.933737277984619,
          -8.97628116607666,
          -8.268067359924316,
          -4.844676494598389,
          -6.22514009475708,
          -6.078062534332275,
          -7.881260871887207,
          -6.645650386810303,
          -8.127033233642578,
          -7.745126247406006,
          -8.003183364868164,
          -6.8305463790893555,
          -6.660019874572754,
          -8.86039924621582,
          -8.457777976989746,
          -6.901139736175537,
          -6.722564220428467,
          -5.741636276245117,
          -8.570843696594238,
          -7.911405086517334,
          -6.0334367752075195,
          -4.017875671386719,
          -6.478062629699707,
          -7.382157802581787,
          -6.1577301025390625,
          -6.494828701019287,
          -7.398429870605469,
          -3.3363211154937744,
          -6.720986843109131,
          -7.181452751159668,
          -7.474523544311523,
          -7.359871864318848,
          -6.8816046714782715,
          -8.806859016418457,
          -7.6351318359375,
          -4.095786094665527,
          -7.650257587432861,
          -7.6943278312683105,
          -8.681344032287598,
          -6.328419208526611,
          -7.008563995361328,
          -4.135788440704346,
          -7.196815013885498,
          -6.540257453918457,
          -6.347798824310303,
          -7.414079189300537,
          -7.778887748718262,
          -7.696069240570068,
          -5.070091247558594,
          -8.258597373962402,
          -7.03288459777832,
          -7.565670490264893,
          -8.07541561126709,
          -5.449618339538574,
          -7.761106014251709,
          -7.870832920074463,
          -6.345514297485352,
          -8.474908828735352,
          -7.113654136657715,
          -7.667150974273682,
          -8.156384468078613,
          -4.657941818237305,
          -7.030876636505127,
          -6.098906517028809,
          -9.254721641540527,
          -4.193727016448975,
          -4.949980735778809,
          -8.601714134216309,
          -3.9096450805664062,
          -8.299310684204102,
          -2.9248321056365967,
          -4.115571022033691,
          -6.287154674530029,
          -4.01786994934082,
          -7.386499881744385,
          -8.578118324279785,
          -9.668904304504395,
          -8.34687328338623,
          -6.399180889129639,
          -8.047280311584473,
          -7.571525573730469,
          -9.127279281616211,
          -8.081151008605957,
          -8.184328079223633,
          -8.367633819580078,
          -8.702052116394043,
          -7.751809120178223,
          -2.385801076889038,
          -7.717281341552734,
          -6.299222469329834,
          -8.103981018066406,
          -4.69918155670166,
          -8.060518264770508,
          -8.293341636657715,
          -7.418348789215088,
          -6.068563938140869,
          -6.504982948303223,
          -5.815123081207275,
          -5.53762149810791,
          -7.801424503326416,
          -5.296968460083008,
          -7.432297229766846,
          -9.768430709838867,
          -8.895012855529785,
          -2.0860533714294434,
          -7.113306522369385,
          -4.13534688949585,
          -8.523663520812988,
          -6.304184913635254,
          -6.457614421844482,
          -7.158562183380127,
          -8.388801574707031,
          -8.30548095703125,
          -6.74350643157959,
          -7.034759521484375,
          -8.017049789428711,
          -4.0281572341918945,
          -8.351370811462402,
          -7.325042247772217,
          -6.3223466873168945,
          -8.34422492980957,
          -6.193496227264404,
          -7.896117210388184,
          -8.155858993530273,
          -8.927345275878906,
          -3.7078351974487305,
          -7.6668291091918945,
          -8.452049255371094,
          -7.022779941558838
         ],
         "y": [
          -1.583156704902649,
          -0.8197460174560547,
          -1.0132287740707397,
          -1.1183780431747437,
          -1.6454999446868896,
          0.13470736145973206,
          -1.4601242542266846,
          -0.6226727962493896,
          -1.5614588260650635,
          -1.8777425289154053,
          -1.322982668876648,
          -3.2421634197235107,
          2.548203468322754,
          -1.327660083770752,
          -2.0564773082733154,
          -2.752605676651001,
          -1.7503355741500854,
          0.1944247931241989,
          -1.839263677597046,
          0.35555657744407654,
          -0.9464109539985657,
          -1.3536516427993774,
          -1.6242294311523438,
          -1.5675076246261597,
          -0.23322200775146484,
          -3.3021955490112305,
          -1.6867475509643555,
          -1.387518048286438,
          0.03930564969778061,
          -0.5590004920959473,
          -3.1703813076019287,
          -2.4185869693756104,
          -2.2799954414367676,
          -0.3015177547931671,
          -1.5792611837387085,
          -2.448385238647461,
          -1.8819104433059692,
          -1.27549409866333,
          -1.0991729497909546,
          0.12110530585050583,
          -1.2465609312057495,
          -2.003425121307373,
          -1.7302026748657227,
          -1.1358835697174072,
          -0.1428484320640564,
          -1.9113110303878784,
          -0.05632798373699188,
          -1.9695931673049927,
          -1.7053574323654175,
          -1.212445616722107,
          -0.6465674638748169,
          -1.2813655138015747,
          -1.051233172416687,
          -2.8713138103485107,
          -1.679764986038208,
          1.5255099534988403,
          -0.09612097591161728,
          -0.6618740558624268,
          0.4391798675060272,
          -1.1145586967468262,
          -0.8813819289207458,
          -1.5580590963363647,
          -1.9240412712097168,
          0.15557734668254852,
          0.49792471528053284,
          -2.1628150939941406,
          0.996030330657959,
          -1.0370005369186401,
          0.5987057685852051,
          -0.27303850650787354,
          -0.38731852173805237,
          -1.4384410381317139,
          -0.5781077146530151,
          -3.1040842533111572,
          0.16325221955776215,
          -1.630448818206787,
          -1.6659249067306519,
          -2.906308889389038,
          -1.0022677183151245,
          -2.3063552379608154,
          -1.2138522863388062,
          -3.403505563735962,
          -1.3620449304580688,
          -0.9363895058631897,
          -0.9896254539489746,
          -0.981283962726593,
          0.535886287689209,
          -1.8218740224838257,
          -0.885796070098877,
          -2.0600759983062744,
          -1.6868761777877808,
          -1.7132868766784668,
          -2.7679290771484375,
          0.715523362159729,
          0.12153004109859467,
          -2.6317145824432373,
          -0.4798775911331177,
          -1.034276008605957,
          -1.683935284614563,
          1.4122737646102905,
          -2.086024284362793,
          -0.15801741182804108,
          -0.3869006037712097,
          -1.1454041004180908,
          -1.393286943435669,
          -1.6553853750228882,
          -2.3550567626953125,
          -3.5406744480133057,
          -0.6865022778511047,
          -3.8569087982177734,
          -1.5594044923782349,
          -1.2104270458221436,
          -1.3232895135879517,
          -3.7865476608276367,
          0.13336046040058136,
          -1.2375001907348633,
          -2.476116180419922,
          -0.5255178213119507,
          -3.2528910636901855,
          0.3742806613445282,
          -0.24507522583007812,
          -0.5821176767349243,
          -3.147505044937134,
          -3.0451722145080566,
          -2.279423713684082,
          -3.1427438259124756,
          0.16325415670871735,
          -1.5683938264846802,
          1.3924481868743896,
          2.7635960578918457,
          -4.324472427368164,
          -2.828540086746216,
          -1.5930380821228027,
          -0.0032238189596682787,
          -0.9144162535667419,
          0.9480410814285278,
          -1.9850536584854126,
          -4.387494087219238,
          -1.253097414970398,
          -0.84700608253479,
          -3.524738073348999,
          -1.540799856185913,
          -3.0565335750579834,
          1.524741768836975,
          -0.3316735625267029,
          1.439063549041748,
          -0.9605455994606018,
          -1.200878620147705,
          0.5088810324668884,
          0.590640664100647,
          -0.31386685371398926,
          -1.440245270729065,
          -1.908333420753479,
          -0.6645700931549072,
          -2.222799301147461,
          2.959336996078491,
          0.10525345057249069,
          -2.779778480529785,
          -1.3264117240905762,
          -3.4534637928009033,
          1.317454218864441,
          0.002222141483798623,
          0.9880679845809937,
          -1.378976583480835,
          -1.4063559770584106,
          -0.6001076698303223,
          -0.4981904625892639,
          0.767325758934021,
          -1.5116329193115234,
          -1.088810682296753,
          -1.436693549156189,
          -1.5379496812820435,
          -0.47531065344810486,
          -4.364412307739258,
          -4.09405517578125,
          -2.896432638168335,
          9.171088458970189e-05,
          0.21085761487483978,
          -1.1004544496536255,
          -1.8591499328613281,
          -1.7842049598693848,
          -1.0672508478164673
         ],
         "z": [
          -0.3194507658481598,
          -12.977967262268066,
          -10.973305702209473,
          -13.390652656555176,
          -9.337187767028809,
          -8.662673950195312,
          -3.5339515209198,
          -10.357462882995605,
          -3.359419584274292,
          -5.7429704666137695,
          -10.07712173461914,
          -1.2079048156738281,
          -2.902984619140625,
          -12.809014320373535,
          -0.2608668804168701,
          -1.024316430091858,
          -1.9945098161697388,
          -5.9454450607299805,
          -5.301647186279297,
          -5.451732635498047,
          -13.62724494934082,
          -12.57409954071045,
          -10.10986042022705,
          -0.1409282684326172,
          -5.7466912269592285,
          -5.798196315765381,
          -1.7025095224380493,
          -11.480205535888672,
          -11.161221504211426,
          -10.561371803283691,
          -3.9865598678588867,
          -5.2477803230285645,
          -6.904009819030762,
          -11.015113830566406,
          -4.500829219818115,
          -5.7756147384643555,
          -6.729769706726074,
          -13.144787788391113,
          -8.668725967407227,
          -7.559751510620117,
          -9.119495391845703,
          -7.230401992797852,
          -6.465941905975342,
          -13.84331226348877,
          -7.3260416984558105,
          -1.7217563390731812,
          -11.379860877990723,
          -2.734123706817627,
          -7.783155918121338,
          -13.474440574645996,
          -11.157702445983887,
          -9.75105094909668,
          -13.829164505004883,
          -5.255955219268799,
          -2.9006104469299316,
          -2.455890655517578,
          -8.063529968261719,
          -11.001619338989258,
          -5.594786167144775,
          -3.841539144515991,
          -0.6459629535675049,
          -5.3674397468566895,
          -8.46381664276123,
          -2.606142520904541,
          -5.679136753082275,
          -2.5837576389312744,
          -4.131208419799805,
          -4.830931186676025,
          -5.241368293762207,
          -7.010917663574219,
          -8.5497465133667,
          -9.554032325744629,
          -12.447369575500488,
          -2.326509714126587,
          -8.383132934570312,
          -2.6846306324005127,
          -10.306636810302734,
          -4.558827877044678,
          -2.3825604915618896,
          -7.45233678817749,
          -4.022075176239014,
          -4.785192966461182,
          -12.775535583496094,
          -3.379936695098877,
          -13.382746696472168,
          -14.034968376159668,
          -3.9474244117736816,
          -8.855802536010742,
          -5.3557209968566895,
          -6.458072185516357,
          -8.240206718444824,
          -2.1208291053771973,
          -4.856499671936035,
          -5.261242866516113,
          -8.32696533203125,
          -2.929083824157715,
          -1.2766588926315308,
          -7.309511661529541,
          -10.185017585754395,
          -3.4616827964782715,
          -6.754875183105469,
          -8.044332504272461,
          -12.055166244506836,
          -12.772635459899902,
          -0.8772280812263489,
          -5.2528533935546875,
          -4.616461753845215,
          -5.493582725524902,
          -3.254877805709839,
          -2.6330103874206543,
          -0.6703022718429565,
          -13.483184814453125,
          -8.141646385192871,
          -5.897899627685547,
          -5.144744396209717,
          -2.240732192993164,
          -2.547231435775757,
          -1.8613903522491455,
          -1.4593933820724487,
          -3.8352770805358887,
          -10.944969177246094,
          -5.570871829986572,
          -8.867389678955078,
          -0.935920000076294,
          0.7032827138900757,
          -4.591461658477783,
          -8.383122444152832,
          -2.8281753063201904,
          -2.9135794639587402,
          -3.240758180618286,
          -5.688973903656006,
          -1.772229552268982,
          -9.314173698425293,
          -10.662038803100586,
          -3.042076826095581,
          -2.7400243282318115,
          -5.374821186065674,
          -5.640776634216309,
          -0.9578602313995361,
          -3.1374869346618652,
          -1.3136181831359863,
          -9.961158752441406,
          -2.2632195949554443,
          -2.0566506385803223,
          -5.8662214279174805,
          -2.589298725128174,
          -8.44415283203125,
          -10.80058479309082,
          -3.505864381790161,
          -5.221526145935059,
          -8.136088371276855,
          -2.6559271812438965,
          -7.101155757904053,
          -3.0747249126434326,
          -5.372829437255859,
          -3.1955130100250244,
          -11.049349784851074,
          0.01944001577794552,
          -8.061817169189453,
          -1.2481424808502197,
          -4.274444103240967,
          -6.2643723487854,
          -3.9787230491638184,
          -11.7129545211792,
          -9.583364486694336,
          -10.79887580871582,
          -1.6507954597473145,
          -4.840306282043457,
          -8.642264366149902,
          -3.64337420463562,
          -11.057141304016113,
          -11.4944429397583,
          -0.8448002338409424,
          -5.634214401245117,
          -2.525394916534424,
          -7.1743597984313965,
          -2.6229946613311768,
          -3.603665590286255,
          -4.152456760406494,
          -9.785761833190918,
          -5.364429473876953,
          -14.092166900634766
         ]
        },
        {
         "hoverlabel": {
          "namelength": 0
         },
         "hovertemplate": "Dominant_Topic=Topic 3<br>0=%{x}<br>1=%{y}<br>2=%{z}",
         "legendgroup": "Dominant_Topic=Topic 3",
         "marker": {
          "color": "#ab63fa",
          "opacity": 0.7,
          "symbol": "circle"
         },
         "mode": "markers",
         "name": "Dominant_Topic=Topic 3",
         "scene": "scene",
         "showlegend": true,
         "type": "scatter3d",
         "x": [
          2.2507879734039307,
          1.4812806844711304,
          1.5660181045532227,
          1.9069690704345703,
          0.8040499091148376,
          0.5295159816741943,
          0.7777236700057983,
          2.9673657417297363,
          3.8970160484313965,
          -1.017398476600647,
          1.7440871000289917,
          2.4224629402160645,
          1.189751148223877,
          0.3354857563972473,
          -0.24257929623126984,
          1.374556064605713,
          0.6035372614860535,
          3.5667548179626465,
          1.3667842149734497,
          0.790145754814148,
          1.9999287128448486,
          1.3838036060333252,
          -0.9669457077980042,
          0.7575790882110596,
          -0.8175422549247742,
          1.3598299026489258,
          3.345294952392578,
          1.9880344867706299,
          -1.2744743824005127,
          1.492316484451294,
          1.968389630317688,
          3.6175577640533447,
          -3.315580129623413,
          2.4240217208862305,
          -1.3875495195388794,
          3.0125510692596436,
          0.9663301110267639,
          0.9015180468559265,
          1.7238531112670898,
          3.804182529449463,
          1.433717966079712,
          1.059337854385376,
          -2.671022891998291,
          3.7017407417297363,
          3.710346221923828,
          2.143685817718506,
          0.7166174650192261,
          1.5824594497680664,
          0.3944992125034332,
          2.210202217102051,
          2.2565650939941406,
          -0.5318309664726257,
          2.329057216644287,
          1.5458827018737793,
          2.9825150966644287,
          1.6329044103622437,
          1.397127628326416,
          0.882851779460907,
          1.0193276405334473,
          2.6247634887695312,
          1.5002880096435547,
          2.3582568168640137,
          3.3993945121765137,
          1.0882724523544312,
          1.9545232057571411,
          -2.586681842803955,
          1.319161295890808,
          -0.7551950216293335,
          -1.3915882110595703,
          1.7947241067886353,
          -0.9189247488975525,
          1.7841793298721313,
          -0.5141303539276123,
          2.741602659225464,
          1.6022467613220215,
          1.7524430751800537,
          -3.0668699741363525,
          4.0618085861206055,
          -2.647763967514038,
          1.2781440019607544,
          2.6579408645629883,
          1.1400703191757202,
          -0.6239348649978638,
          -0.13962668180465698,
          2.1528432369232178,
          -2.807831287384033,
          -1.0250493288040161,
          -1.3755509853363037,
          0.9896154999732971,
          1.0341969728469849,
          0.8793603181838989,
          0.905689537525177,
          1.2476848363876343,
          -0.7007946372032166,
          -3.008835792541504,
          2.447627305984497,
          1.5755048990249634,
          0.7555230259895325,
          2.6632308959960938,
          1.470489740371704,
          4.087279796600342,
          2.134143114089966,
          3.8475828170776367,
          -1.0050982236862183,
          4.186020374298096,
          -0.37664592266082764,
          1.6322441101074219,
          -2.598937511444092,
          2.2504234313964844,
          1.8023351430892944,
          3.3375518321990967,
          1.0952757596969604,
          1.4874745607376099,
          4.379820823669434,
          0.9106731414794922,
          1.6749590635299683,
          2.5582244396209717,
          1.6555653810501099,
          -0.5331341028213501,
          4.717949867248535,
          0.850662112236023,
          4.211422443389893,
          -0.7715738415718079,
          1.1482521295547485,
          0.7097667455673218,
          3.557075262069702,
          1.146161675453186,
          -0.9766346216201782,
          -0.3436225652694702,
          1.9639891386032104,
          0.8581699728965759,
          1.6994142532348633
         ],
         "y": [
          -0.23013561964035034,
          0.048706840723752975,
          1.5111539363861084,
          1.6973594427108765,
          3.3026511669158936,
          0.12251918762922287,
          3.327867269515991,
          0.7498472332954407,
          -0.017340173944830894,
          2.596423387527466,
          -1.1238040924072266,
          0.880898654460907,
          2.438166618347168,
          -0.4821997582912445,
          3.0161991119384766,
          0.38690492510795593,
          2.9198460578918457,
          0.41642242670059204,
          2.1542856693267822,
          2.3545942306518555,
          -0.2141580432653427,
          0.18644733726978302,
          2.849592685699463,
          2.065279006958008,
          2.7545242309570312,
          2.6478822231292725,
          1.2242538928985596,
          2.1594645977020264,
          1.3729805946350098,
          2.4749631881713867,
          1.8526438474655151,
          0.12502005696296692,
          -0.14830487966537476,
          1.5627779960632324,
          2.468033790588379,
          0.5117435455322266,
          3.1506311893463135,
          3.1879055500030518,
          4.069744110107422,
          0.976482093334198,
          0.9845256805419922,
          1.2986509799957275,
          0.47103554010391235,
          0.35322558879852295,
          1.0755009651184082,
          2.2996463775634766,
          3.3902993202209473,
          2.379816770553589,
          2.6179771423339844,
          2.69073224067688,
          1.726676106452942,
          0.7372652888298035,
          2.8083322048187256,
          1.8240039348602295,
          0.4672987461090088,
          3.1717867851257324,
          -0.45897388458251953,
          -1.9625905752182007,
          2.366888999938965,
          1.752976417541504,
          2.1386475563049316,
          1.0887250900268555,
          0.5198970437049866,
          2.259415864944458,
          2.2804460525512695,
          0.4045698940753937,
          1.9777699708938599,
          1.4837442636489868,
          0.22115330398082733,
          2.0276620388031006,
          2.776085376739502,
          1.9598181247711182,
          2.9908695220947266,
          1.783617377281189,
          2.754230260848999,
          -2.086603879928589,
          -2.148664951324463,
          -0.2413678765296936,
          0.48233896493911743,
          3.0918543338775635,
          1.000866413116455,
          2.957369089126587,
          3.026660919189453,
          0.4197852313518524,
          -1.703411340713501,
          0.19947242736816406,
          0.1402563750743866,
          1.2527583837509155,
          2.2507524490356445,
          2.9640443325042725,
          3.2013192176818848,
          2.6656389236450195,
          2.8507080078125,
          1.5746068954467773,
          -2.092925786972046,
          -0.23093849420547485,
          2.59991717338562,
          -1.9966076612472534,
          0.9146674871444702,
          2.4092328548431396,
          0.15360349416732788,
          3.3617465496063232,
          1.0517053604125977,
          2.627704620361328,
          0.3205083906650543,
          1.6405242681503296,
          0.6164219975471497,
          0.37132149934768677,
          1.60535728931427,
          1.0161398649215698,
          1.444544792175293,
          3.371703863143921,
          0.23887751996517181,
          0.14735251665115356,
          2.971984624862671,
          2.4240951538085938,
          -0.2866378724575043,
          2.3918704986572266,
          1.5288536548614502,
          -0.0049458714202046394,
          2.6118667125701904,
          0.25176316499710083,
          3.0731611251831055,
          3.6757941246032715,
          0.3465084731578827,
          0.608253002166748,
          2.8698372840881348,
          2.6346840858459473,
          0.8111974000930786,
          1.770658254623413,
          -0.07751729339361191,
          2.2146081924438477
         ],
         "z": [
          -6.2680864334106445,
          -5.8515944480896,
          -6.3331685066223145,
          -6.666818141937256,
          -12.054347038269043,
          -3.1487972736358643,
          -12.134769439697266,
          -4.385547161102295,
          -3.3927087783813477,
          -3.0797836780548096,
          -1.4900761842727661,
          -4.934662818908691,
          -10.057514190673828,
          -3.940279722213745,
          -1.871627926826477,
          -2.3934133052825928,
          -8.453521728515625,
          -3.959362745285034,
          -3.9717938899993896,
          -4.08851957321167,
          -6.1775007247924805,
          -2.063837766647339,
          -3.729278326034546,
          -8.71877670288086,
          -2.4118459224700928,
          -10.617548942565918,
          -6.756166458129883,
          -9.241257667541504,
          -8.938745498657227,
          -7.998815536499023,
          -6.523221969604492,
          -3.5716748237609863,
          -5.720097541809082,
          -6.457125186920166,
          -3.805671453475952,
          -4.138692855834961,
          -11.433531761169434,
          -11.74638557434082,
          -9.50117015838623,
          -6.2459187507629395,
          -2.564903736114502,
          -5.055958271026611,
          -6.033895015716553,
          -6.07070779800415,
          -4.930410861968994,
          -9.0089111328125,
          -12.339829444885254,
          -9.978022575378418,
          -7.655904769897461,
          -4.276271820068359,
          -6.891653060913086,
          -3.7943873405456543,
          -4.473827362060547,
          -6.849101543426514,
          -3.8425533771514893,
          -10.54353141784668,
          -1.702040672302246,
          -2.5626637935638428,
          -8.706319808959961,
          -8.544015884399414,
          -7.411645889282227,
          -5.416389465332031,
          -4.159807205200195,
          -3.7787864208221436,
          -8.90428638458252,
          -6.249468803405762,
          -8.611796379089355,
          -8.475791931152344,
          -3.8735671043395996,
          -9.044872283935547,
          -3.1366026401519775,
          -7.221529006958008,
          -3.5601415634155273,
          -8.319192886352539,
          -10.953103065490723,
          -1.7973911762237549,
          -1.4694701433181763,
          -3.015552043914795,
          -5.968191623687744,
          -9.284858703613281,
          -7.904627799987793,
          -10.08186149597168,
          -4.249014854431152,
          -2.2239456176757812,
          -1.7727391719818115,
          -6.119841575622559,
          -4.023905277252197,
          -8.613150596618652,
          -8.893163681030273,
          -11.185587882995605,
          -11.492700576782227,
          -9.741642951965332,
          -8.843001365661621,
          -4.007641792297363,
          -1.3379112482070923,
          -6.82615852355957,
          -10.563821792602539,
          -2.648165225982666,
          -5.122917652130127,
          -10.04890251159668,
          -3.8036532402038574,
          -9.380502700805664,
          -6.483368873596191,
          -2.8527848720550537,
          -4.250966548919678,
          -7.059682846069336,
          -1.009337067604065,
          -6.882636547088623,
          -6.4965620040893555,
          -4.674641132354736,
          -7.416666030883789,
          -10.363006591796875,
          -1.487073302268982,
          -3.853222608566284,
          -10.633479118347168,
          -3.9868643283843994,
          -6.094912528991699,
          -9.431658744812012,
          -7.104949951171875,
          -3.732356309890747,
          -8.893424034118652,
          -4.044247150421143,
          -4.351287841796875,
          -9.999847412109375,
          -2.7778987884521484,
          -4.894273281097412,
          -11.01230239868164,
          -3.3270692825317383,
          -3.915891170501709,
          -6.821393013000488,
          -2.5227930545806885,
          -3.564626932144165
         ]
        }
       ],
       "layout": {
        "height": 800,
        "legend": {
         "tracegroupgap": 0
        },
        "scene": {
         "domain": {
          "x": [
           0,
           1
          ],
          "y": [
           0,
           1
          ]
         },
         "xaxis": {
          "title": {
           "text": "0"
          }
         },
         "yaxis": {
          "title": {
           "text": "1"
          }
         },
         "zaxis": {
          "title": {
           "text": "2"
          }
         }
        },
        "template": {
         "data": {
          "bar": [
           {
            "error_x": {
             "color": "#2a3f5f"
            },
            "error_y": {
             "color": "#2a3f5f"
            },
            "marker": {
             "line": {
              "color": "#E5ECF6",
              "width": 0.5
             }
            },
            "type": "bar"
           }
          ],
          "barpolar": [
           {
            "marker": {
             "line": {
              "color": "#E5ECF6",
              "width": 0.5
             }
            },
            "type": "barpolar"
           }
          ],
          "carpet": [
           {
            "aaxis": {
             "endlinecolor": "#2a3f5f",
             "gridcolor": "white",
             "linecolor": "white",
             "minorgridcolor": "white",
             "startlinecolor": "#2a3f5f"
            },
            "baxis": {
             "endlinecolor": "#2a3f5f",
             "gridcolor": "white",
             "linecolor": "white",
             "minorgridcolor": "white",
             "startlinecolor": "#2a3f5f"
            },
            "type": "carpet"
           }
          ],
          "choropleth": [
           {
            "colorbar": {
             "outlinewidth": 0,
             "ticks": ""
            },
            "type": "choropleth"
           }
          ],
          "contour": [
           {
            "colorbar": {
             "outlinewidth": 0,
             "ticks": ""
            },
            "colorscale": [
             [
              0,
              "#0d0887"
             ],
             [
              0.1111111111111111,
              "#46039f"
             ],
             [
              0.2222222222222222,
              "#7201a8"
             ],
             [
              0.3333333333333333,
              "#9c179e"
             ],
             [
              0.4444444444444444,
              "#bd3786"
             ],
             [
              0.5555555555555556,
              "#d8576b"
             ],
             [
              0.6666666666666666,
              "#ed7953"
             ],
             [
              0.7777777777777778,
              "#fb9f3a"
             ],
             [
              0.8888888888888888,
              "#fdca26"
             ],
             [
              1,
              "#f0f921"
             ]
            ],
            "type": "contour"
           }
          ],
          "contourcarpet": [
           {
            "colorbar": {
             "outlinewidth": 0,
             "ticks": ""
            },
            "type": "contourcarpet"
           }
          ],
          "heatmap": [
           {
            "colorbar": {
             "outlinewidth": 0,
             "ticks": ""
            },
            "colorscale": [
             [
              0,
              "#0d0887"
             ],
             [
              0.1111111111111111,
              "#46039f"
             ],
             [
              0.2222222222222222,
              "#7201a8"
             ],
             [
              0.3333333333333333,
              "#9c179e"
             ],
             [
              0.4444444444444444,
              "#bd3786"
             ],
             [
              0.5555555555555556,
              "#d8576b"
             ],
             [
              0.6666666666666666,
              "#ed7953"
             ],
             [
              0.7777777777777778,
              "#fb9f3a"
             ],
             [
              0.8888888888888888,
              "#fdca26"
             ],
             [
              1,
              "#f0f921"
             ]
            ],
            "type": "heatmap"
           }
          ],
          "heatmapgl": [
           {
            "colorbar": {
             "outlinewidth": 0,
             "ticks": ""
            },
            "colorscale": [
             [
              0,
              "#0d0887"
             ],
             [
              0.1111111111111111,
              "#46039f"
             ],
             [
              0.2222222222222222,
              "#7201a8"
             ],
             [
              0.3333333333333333,
              "#9c179e"
             ],
             [
              0.4444444444444444,
              "#bd3786"
             ],
             [
              0.5555555555555556,
              "#d8576b"
             ],
             [
              0.6666666666666666,
              "#ed7953"
             ],
             [
              0.7777777777777778,
              "#fb9f3a"
             ],
             [
              0.8888888888888888,
              "#fdca26"
             ],
             [
              1,
              "#f0f921"
             ]
            ],
            "type": "heatmapgl"
           }
          ],
          "histogram": [
           {
            "marker": {
             "colorbar": {
              "outlinewidth": 0,
              "ticks": ""
             }
            },
            "type": "histogram"
           }
          ],
          "histogram2d": [
           {
            "colorbar": {
             "outlinewidth": 0,
             "ticks": ""
            },
            "colorscale": [
             [
              0,
              "#0d0887"
             ],
             [
              0.1111111111111111,
              "#46039f"
             ],
             [
              0.2222222222222222,
              "#7201a8"
             ],
             [
              0.3333333333333333,
              "#9c179e"
             ],
             [
              0.4444444444444444,
              "#bd3786"
             ],
             [
              0.5555555555555556,
              "#d8576b"
             ],
             [
              0.6666666666666666,
              "#ed7953"
             ],
             [
              0.7777777777777778,
              "#fb9f3a"
             ],
             [
              0.8888888888888888,
              "#fdca26"
             ],
             [
              1,
              "#f0f921"
             ]
            ],
            "type": "histogram2d"
           }
          ],
          "histogram2dcontour": [
           {
            "colorbar": {
             "outlinewidth": 0,
             "ticks": ""
            },
            "colorscale": [
             [
              0,
              "#0d0887"
             ],
             [
              0.1111111111111111,
              "#46039f"
             ],
             [
              0.2222222222222222,
              "#7201a8"
             ],
             [
              0.3333333333333333,
              "#9c179e"
             ],
             [
              0.4444444444444444,
              "#bd3786"
             ],
             [
              0.5555555555555556,
              "#d8576b"
             ],
             [
              0.6666666666666666,
              "#ed7953"
             ],
             [
              0.7777777777777778,
              "#fb9f3a"
             ],
             [
              0.8888888888888888,
              "#fdca26"
             ],
             [
              1,
              "#f0f921"
             ]
            ],
            "type": "histogram2dcontour"
           }
          ],
          "mesh3d": [
           {
            "colorbar": {
             "outlinewidth": 0,
             "ticks": ""
            },
            "type": "mesh3d"
           }
          ],
          "parcoords": [
           {
            "line": {
             "colorbar": {
              "outlinewidth": 0,
              "ticks": ""
             }
            },
            "type": "parcoords"
           }
          ],
          "pie": [
           {
            "automargin": true,
            "type": "pie"
           }
          ],
          "scatter": [
           {
            "marker": {
             "colorbar": {
              "outlinewidth": 0,
              "ticks": ""
             }
            },
            "type": "scatter"
           }
          ],
          "scatter3d": [
           {
            "line": {
             "colorbar": {
              "outlinewidth": 0,
              "ticks": ""
             }
            },
            "marker": {
             "colorbar": {
              "outlinewidth": 0,
              "ticks": ""
             }
            },
            "type": "scatter3d"
           }
          ],
          "scattercarpet": [
           {
            "marker": {
             "colorbar": {
              "outlinewidth": 0,
              "ticks": ""
             }
            },
            "type": "scattercarpet"
           }
          ],
          "scattergeo": [
           {
            "marker": {
             "colorbar": {
              "outlinewidth": 0,
              "ticks": ""
             }
            },
            "type": "scattergeo"
           }
          ],
          "scattergl": [
           {
            "marker": {
             "colorbar": {
              "outlinewidth": 0,
              "ticks": ""
             }
            },
            "type": "scattergl"
           }
          ],
          "scattermapbox": [
           {
            "marker": {
             "colorbar": {
              "outlinewidth": 0,
              "ticks": ""
             }
            },
            "type": "scattermapbox"
           }
          ],
          "scatterpolar": [
           {
            "marker": {
             "colorbar": {
              "outlinewidth": 0,
              "ticks": ""
             }
            },
            "type": "scatterpolar"
           }
          ],
          "scatterpolargl": [
           {
            "marker": {
             "colorbar": {
              "outlinewidth": 0,
              "ticks": ""
             }
            },
            "type": "scatterpolargl"
           }
          ],
          "scatterternary": [
           {
            "marker": {
             "colorbar": {
              "outlinewidth": 0,
              "ticks": ""
             }
            },
            "type": "scatterternary"
           }
          ],
          "surface": [
           {
            "colorbar": {
             "outlinewidth": 0,
             "ticks": ""
            },
            "colorscale": [
             [
              0,
              "#0d0887"
             ],
             [
              0.1111111111111111,
              "#46039f"
             ],
             [
              0.2222222222222222,
              "#7201a8"
             ],
             [
              0.3333333333333333,
              "#9c179e"
             ],
             [
              0.4444444444444444,
              "#bd3786"
             ],
             [
              0.5555555555555556,
              "#d8576b"
             ],
             [
              0.6666666666666666,
              "#ed7953"
             ],
             [
              0.7777777777777778,
              "#fb9f3a"
             ],
             [
              0.8888888888888888,
              "#fdca26"
             ],
             [
              1,
              "#f0f921"
             ]
            ],
            "type": "surface"
           }
          ],
          "table": [
           {
            "cells": {
             "fill": {
              "color": "#EBF0F8"
             },
             "line": {
              "color": "white"
             }
            },
            "header": {
             "fill": {
              "color": "#C8D4E3"
             },
             "line": {
              "color": "white"
             }
            },
            "type": "table"
           }
          ]
         },
         "layout": {
          "annotationdefaults": {
           "arrowcolor": "#2a3f5f",
           "arrowhead": 0,
           "arrowwidth": 1
          },
          "coloraxis": {
           "colorbar": {
            "outlinewidth": 0,
            "ticks": ""
           }
          },
          "colorscale": {
           "diverging": [
            [
             0,
             "#8e0152"
            ],
            [
             0.1,
             "#c51b7d"
            ],
            [
             0.2,
             "#de77ae"
            ],
            [
             0.3,
             "#f1b6da"
            ],
            [
             0.4,
             "#fde0ef"
            ],
            [
             0.5,
             "#f7f7f7"
            ],
            [
             0.6,
             "#e6f5d0"
            ],
            [
             0.7,
             "#b8e186"
            ],
            [
             0.8,
             "#7fbc41"
            ],
            [
             0.9,
             "#4d9221"
            ],
            [
             1,
             "#276419"
            ]
           ],
           "sequential": [
            [
             0,
             "#0d0887"
            ],
            [
             0.1111111111111111,
             "#46039f"
            ],
            [
             0.2222222222222222,
             "#7201a8"
            ],
            [
             0.3333333333333333,
             "#9c179e"
            ],
            [
             0.4444444444444444,
             "#bd3786"
            ],
            [
             0.5555555555555556,
             "#d8576b"
            ],
            [
             0.6666666666666666,
             "#ed7953"
            ],
            [
             0.7777777777777778,
             "#fb9f3a"
            ],
            [
             0.8888888888888888,
             "#fdca26"
            ],
            [
             1,
             "#f0f921"
            ]
           ],
           "sequentialminus": [
            [
             0,
             "#0d0887"
            ],
            [
             0.1111111111111111,
             "#46039f"
            ],
            [
             0.2222222222222222,
             "#7201a8"
            ],
            [
             0.3333333333333333,
             "#9c179e"
            ],
            [
             0.4444444444444444,
             "#bd3786"
            ],
            [
             0.5555555555555556,
             "#d8576b"
            ],
            [
             0.6666666666666666,
             "#ed7953"
            ],
            [
             0.7777777777777778,
             "#fb9f3a"
            ],
            [
             0.8888888888888888,
             "#fdca26"
            ],
            [
             1,
             "#f0f921"
            ]
           ]
          },
          "colorway": [
           "#636efa",
           "#EF553B",
           "#00cc96",
           "#ab63fa",
           "#FFA15A",
           "#19d3f3",
           "#FF6692",
           "#B6E880",
           "#FF97FF",
           "#FECB52"
          ],
          "font": {
           "color": "#2a3f5f"
          },
          "geo": {
           "bgcolor": "white",
           "lakecolor": "white",
           "landcolor": "#E5ECF6",
           "showlakes": true,
           "showland": true,
           "subunitcolor": "white"
          },
          "hoverlabel": {
           "align": "left"
          },
          "hovermode": "closest",
          "mapbox": {
           "style": "light"
          },
          "paper_bgcolor": "white",
          "plot_bgcolor": "#E5ECF6",
          "polar": {
           "angularaxis": {
            "gridcolor": "white",
            "linecolor": "white",
            "ticks": ""
           },
           "bgcolor": "#E5ECF6",
           "radialaxis": {
            "gridcolor": "white",
            "linecolor": "white",
            "ticks": ""
           }
          },
          "scene": {
           "xaxis": {
            "backgroundcolor": "#E5ECF6",
            "gridcolor": "white",
            "gridwidth": 2,
            "linecolor": "white",
            "showbackground": true,
            "ticks": "",
            "zerolinecolor": "white"
           },
           "yaxis": {
            "backgroundcolor": "#E5ECF6",
            "gridcolor": "white",
            "gridwidth": 2,
            "linecolor": "white",
            "showbackground": true,
            "ticks": "",
            "zerolinecolor": "white"
           },
           "zaxis": {
            "backgroundcolor": "#E5ECF6",
            "gridcolor": "white",
            "gridwidth": 2,
            "linecolor": "white",
            "showbackground": true,
            "ticks": "",
            "zerolinecolor": "white"
           }
          },
          "shapedefaults": {
           "line": {
            "color": "#2a3f5f"
           }
          },
          "ternary": {
           "aaxis": {
            "gridcolor": "white",
            "linecolor": "white",
            "ticks": ""
           },
           "baxis": {
            "gridcolor": "white",
            "linecolor": "white",
            "ticks": ""
           },
           "bgcolor": "#E5ECF6",
           "caxis": {
            "gridcolor": "white",
            "linecolor": "white",
            "ticks": ""
           }
          },
          "title": {
           "x": 0.05
          },
          "xaxis": {
           "automargin": true,
           "gridcolor": "white",
           "linecolor": "white",
           "ticks": "",
           "title": {
            "standoff": 15
           },
           "zerolinecolor": "white",
           "zerolinewidth": 2
          },
          "yaxis": {
           "automargin": true,
           "gridcolor": "white",
           "linecolor": "white",
           "ticks": "",
           "title": {
            "standoff": 15
           },
           "zerolinecolor": "white",
           "zerolinewidth": 2
          }
         }
        },
        "title": {
         "text": "3d TSNE Plot for Topic Model"
        },
        "width": 900
       }
      },
      "text/html": [
       "<div>\n",
       "        \n",
       "        \n",
       "            <div id=\"4d16ac3a-9e4f-4a3c-91d2-acc31a7ddc33\" class=\"plotly-graph-div\" style=\"height:800px; width:900px;\"></div>\n",
       "            <script type=\"text/javascript\">\n",
       "                require([\"plotly\"], function(Plotly) {\n",
       "                    window.PLOTLYENV=window.PLOTLYENV || {};\n",
       "                    \n",
       "                if (document.getElementById(\"4d16ac3a-9e4f-4a3c-91d2-acc31a7ddc33\")) {\n",
       "                    Plotly.newPlot(\n",
       "                        '4d16ac3a-9e4f-4a3c-91d2-acc31a7ddc33',\n",
       "                        [{\"hoverlabel\": {\"namelength\": 0}, \"hovertemplate\": \"Dominant_Topic=Topic 0<br>0=%{x}<br>1=%{y}<br>2=%{z}\", \"legendgroup\": \"Dominant_Topic=Topic 0\", \"marker\": {\"color\": \"#636efa\", \"opacity\": 0.7, \"symbol\": \"circle\"}, \"mode\": \"markers\", \"name\": \"Dominant_Topic=Topic 0\", \"scene\": \"scene\", \"showlegend\": true, \"type\": \"scatter3d\", \"x\": [2.924149513244629, 6.5791096687316895, 4.426705360412598, 9.498432159423828, 2.330653190612793, 0.11346618831157684, 3.6366448402404785, 2.783801317214966, -0.9034495949745178, 5.497885227203369, 5.871323108673096, 12.17456340789795, 8.7636079788208, 2.7679355144500732, 1.5219064950942993, 12.03288459777832, 5.779691696166992, 3.8223156929016113, 0.2855471670627594, 1.3151346445083618, 2.218839406967163, 4.075464248657227, 11.2481689453125, -1.1484822034835815, 5.720709323883057, 7.381229877471924, 11.500654220581055, 8.581682205200195, 5.3779754638671875, 9.143722534179688, 13.566597938537598, -0.2202109396457672, 9.181315422058105, 2.720320701599121, 9.427434921264648, 6.9767961502075195, 10.346193313598633, 5.733582973480225, 4.044712066650391, 7.735772609710693, -3.1142780780792236, 8.078425407409668, 5.697082042694092, 10.694849014282227, 2.9618215560913086, 0.11259887367486954, 3.949828624725342, 3.647914171218872, 3.76068377494812, 11.666571617126465, 3.4059460163116455, 2.273874521255493, 7.188249111175537, 4.133622169494629, -0.2064162790775299, 7.053069591522217, 12.477938652038574, 5.8907999992370605, 5.9729719161987305, 8.745854377746582, 7.94342041015625, 10.458194732666016, 3.268876075744629, 4.309574127197266, 4.717058181762695, 7.281536102294922, 4.0152201652526855, 11.429353713989258, -3.231684923171997, 5.946254253387451, 3.9735140800476074, 5.862866401672363, 3.1959307193756104, 0.9394063353538513, 8.831700325012207, 6.223906517028809, 13.540155410766602, 10.769222259521484, 0.506442129611969, 0.28265249729156494, 4.563218593597412, 8.806747436523438, 6.613532543182373, 12.34334659576416, 10.893423080444336, 0.6922410726547241, 6.2732415199279785, 5.99125862121582, 0.8801255822181702, 6.358326435089111, 1.6962627172470093, 4.927495002746582, 6.058498382568359, 11.869422912597656, 6.250514030456543, 2.2471771240234375, 9.958321571350098, 3.582998514175415, 0.5930299758911133, 2.1846394538879395, 3.833906888961792, 6.099994659423828, 1.2579059600830078, 9.63654613494873, 3.19573712348938, 10.51305103302002, 1.2013239860534668, 12.608428955078125, 6.450929641723633, 4.213449001312256, 1.4171481132507324, 0.5575747489929199, 2.2315592765808105, 2.1138477325439453, 10.694387435913086, 0.6690338253974915, -1.1946284770965576, 9.882760047912598, 6.299295425415039, 0.5858306288719177, 0.6154242157936096, 3.0650124549865723, 6.672187328338623, 1.846750020980835, 5.772757053375244, 8.542502403259277, 6.419938087463379, 4.175921440124512, 9.14666748046875, -0.09529794007539749, 3.4854767322540283, 10.574295997619629, 5.246662139892578, 0.01017548143863678, 11.002857208251953, 11.293316841125488, 11.016701698303223, 5.5945940017700195, 5.300809383392334, 3.7335216999053955, 3.2949845790863037, 8.914148330688477, 4.229237079620361, -0.8688203692436218, 3.5286691188812256, 10.424745559692383, 5.763815402984619, 2.885153293609619, 10.1327543258667, 3.485560655593872, 5.672754287719727, 4.758670806884766, 0.6188334822654724, -1.090254545211792, 6.035045146942139, 11.746524810791016, 11.135058403015137, 10.75916862487793, 6.6450042724609375, 8.53007698059082, 12.167036056518555, 3.9902188777923584, 0.8113991022109985, -1.267347812652588, 6.432982921600342, 2.9258053302764893, 12.414711952209473, 4.439131259918213, 11.053730010986328, 3.4744508266448975, 5.615332126617432, 4.3439178466796875, 6.571547031402588, 6.0262532234191895, 11.042582511901855, 6.06210994720459, 3.8321664333343506, 5.891896724700928, 0.035606831312179565, 4.2024245262146, 6.532363414764404, 7.937811851501465, 8.873852729797363, 4.250617027282715, 5.687241077423096, 10.390719413757324, 0.8971083760261536, 2.4560418128967285, 13.791449546813965, 12.24927043914795, 9.755167961120605, 11.23624038696289, 4.011798858642578, 3.126492977142334, -1.1579086780548096, 7.052200794219971, 5.407296657562256, 8.228330612182617, 2.3867363929748535, 8.845892906188965, 13.765523910522461, 3.3247673511505127, -0.8076857328414917, 0.12398919463157654, 9.467306137084961, 9.000802040100098, 6.894750595092773, 6.541562080383301, 13.565629959106445, 4.829086780548096, 2.1379001140594482, 0.36716416478157043, 11.7653169631958, 8.792174339294434, 1.6114870309829712, 9.66880989074707, 10.186151504516602, 6.304932594299316, 3.2786240577697754, 4.535951137542725, 5.003407955169678, 9.445765495300293, 13.279126167297363, -0.49116790294647217, 7.3042120933532715, 5.778632640838623, 8.16064167022705, 5.808445453643799, 4.421020030975342, 5.626537799835205, 5.724120140075684, 12.776774406433105, 12.736102104187012, 5.760043144226074, 11.976677894592285, 2.0887715816497803, 5.9422993659973145, 2.522576093673706, -0.5586361289024353, 9.220532417297363, 6.899405002593994, 5.2604265213012695, 7.136453628540039, 5.959970951080322, 12.10608959197998, 8.650750160217285, 2.914156913757324, 12.339195251464844, 8.551199913024902, 2.7240207195281982, 9.858687400817871, 5.788954734802246, 3.9095072746276855, -1.4323599338531494, 6.4900054931640625, 0.2463923543691635, 9.547542572021484, 2.510556221008301, 0.7622657418251038, 1.2345311641693115, -1.1210720539093018, 0.7309021949768066, 13.780464172363281, 8.435203552246094, 2.491299629211426, 5.393370628356934, -4.850029945373535, 0.7045109868049622, 2.075066089630127, 12.441147804260254, 0.10341589152812958, 6.447052001953125, 0.2422908991575241, 13.143694877624512, -0.46106424927711487, -1.0037822723388672, -3.8921592235565186, 3.3099539279937744, 8.177752494812012, 7.347938060760498, 6.730344295501709, 1.535109519958496, 3.307309865951538, 1.2378803491592407, 3.3907454013824463, 3.070831298828125, 2.1825063228607178, 9.005127906799316, 12.28636360168457, 1.802485704421997, 8.15174674987793, 4.769837379455566, 10.666032791137695, 13.754764556884766, -0.822788655757904, 7.687121868133545, 5.476434707641602, 6.308082103729248, 4.423614501953125, -1.8015483617782593, 4.997809886932373, 5.916806221008301, 7.527360439300537, 13.668251991271973, 9.148695945739746, 0.07331091910600662, 7.375505447387695, 4.889716148376465, 1.7640855312347412, 7.472964286804199, 13.764820098876953, 10.504273414611816, 3.950950860977173, 0.11560576409101486, -0.34824731945991516, -4.806930065155029, 7.801887512207031, 2.466653347015381, 3.9111077785491943, -1.016758680343628, 4.318794250488281, -4.103257656097412, 9.632744789123535, -2.6444408893585205, 0.5229061841964722, 10.441878318786621, 6.597180366516113, -2.5458877086639404, 1.474703073501587, 13.01128101348877, 4.448286056518555, -4.817180156707764, 12.478178024291992, 8.652961730957031, 10.561503410339355, 0.7274731397628784, 10.305723190307617, 10.663826942443848, 3.275580883026123, 8.475460052490234, -1.0348082780838013, 0.2851206064224243, 7.375470161437988, 0.5761685967445374, -4.79069185256958, 3.6634554862976074, 0.5996978878974915, 0.7744029760360718, 3.6621334552764893, 0.09794028848409653, 12.449198722839355, 1.1720645427703857, 0.7285606861114502, 12.615979194641113, 12.283170700073242, 5.687201023101807, 4.784981727600098, 7.529970169067383, -0.7055768370628357, -3.447361946105957, 0.32091668248176575, 10.52147102355957, 10.811981201171875, 5.012310981750488, 3.595684051513672, 4.281727313995361, 11.22433853149414, 3.999096632003784, 10.735249519348145, 6.021363258361816, 9.806681632995605, 7.722879886627197, 1.9603066444396973, 7.86786413192749, 4.577940464019775, 10.456283569335938, 2.964754819869995, 5.121676921844482, 8.368907928466797, 0.5021755695343018, -1.0704697370529175, 6.404984951019287, 5.643735885620117, 2.931563377380371, 2.6384475231170654, 5.740081787109375, 5.020986557006836, 2.709306478500366, 3.5160505771636963, -0.8569321036338806, 5.749109745025635, 2.362661123275757, 4.397751808166504, 0.5210533142089844, 5.847713947296143, 0.44890761375427246, 4.867587566375732, 4.822894096374512, 9.524909019470215, 4.652685642242432, 2.594663381576538, 7.8092875480651855, 7.615537166595459, 1.8290441036224365, -1.7591792345046997, 3.001922130584717, 1.661511778831482, 0.7618017196655273, 11.831268310546875, 6.026833534240723, 5.548003196716309, 5.939216136932373, -3.065506935119629, 7.867839336395264, -0.7216232419013977, 10.127256393432617, 1.364660620689392, -0.45332780480384827, 11.05894660949707, 3.010089159011841, -0.2592450976371765, -0.49917271733283997, 3.3468658924102783, 10.682347297668457, 11.738319396972656, 13.296419143676758, 4.25667142868042, 2.7813918590545654, 0.4906851351261139, 4.248611927032471, 1.8978097438812256, -3.158081531524658, 12.32321548461914, 4.835245609283447, 4.570443630218506, 7.891765117645264, 4.932776927947998, 2.7588207721710205, 3.865992546081543, 13.310654640197754, 2.0798137187957764, 3.1437976360321045, -0.4037637710571289, 5.110975742340088, 0.07108016312122345, 9.820611000061035, 3.1744093894958496, 2.099918842315674, 2.950286865234375, 8.759941101074219, 10.663163185119629, 6.78906774520874], \"y\": [-2.147104024887085, -0.4521680176258087, -2.6350507736206055, -2.750185251235962, -6.569881439208984, -0.14662893116474152, -0.8701449632644653, -3.433821201324463, -2.146103620529175, -1.9425431489944458, -1.623334527015686, -2.8018417358398438, -0.493179053068161, -5.004976749420166, -1.0968267917633057, -1.1221535205841064, -6.485976219177246, -1.6096792221069336, -2.09430193901062, -2.4688096046447754, -1.738737940788269, 0.5095663070678711, -1.0563935041427612, -3.4012413024902344, -4.157871246337891, -5.006953716278076, -2.1966238021850586, -2.4936904907226562, -0.4907279908657074, -7.00425386428833, 0.28750157356262207, -5.53486442565918, -5.8374552726745605, 1.1812821626663208, -6.940545558929443, -4.160945415496826, -3.937739372253418, -6.8386149406433105, -2.7565600872039795, -0.05207616463303566, -2.395242214202881, -6.415493011474609, -3.9526467323303223, -3.5875139236450195, -2.5037429332733154, -6.747677803039551, 0.409830778837204, -2.479562997817993, -4.063354015350342, -2.5341904163360596, 1.214874267578125, -3.2065556049346924, -5.863867282867432, 0.6092535257339478, -5.663308620452881, 0.2334183305501938, -0.8174448013305664, -1.578749656677246, 0.40732356905937195, -6.211832046508789, -6.102911472320557, -4.773932456970215, -0.8959099054336548, -3.513075351715088, -4.372707843780518, -4.823115348815918, -5.476895332336426, -3.8911077976226807, -2.2427926063537598, -0.4112023711204529, -1.8137534856796265, -6.8403706550598145, -4.481630802154541, 0.2997884452342987, -0.0632108673453331, -1.0912033319473267, 0.7318201661109924, -1.343000054359436, -3.5521137714385986, -9.583406448364258, -4.182881832122803, -2.465564250946045, -4.957807540893555, -2.3629825115203857, -1.5546472072601318, -1.662280797958374, -2.3315391540527344, -0.9155187606811523, -2.3346545696258545, -1.175405740737915, 0.5816689729690552, -4.2401957511901855, -6.04688835144043, -0.4891520142555237, -4.232539176940918, -3.5633904933929443, -6.579051971435547, -0.9308189749717712, -7.290958404541016, -6.456089019775391, -0.1569714993238449, -4.0301833152771, -1.8113512992858887, -2.6129863262176514, -1.0461267232894897, -2.362807035446167, -1.6481789350509644, -1.555279016494751, -5.519623756408691, -2.2957212924957275, 1.3900014162063599, -8.039831161499023, 0.6038729548454285, -0.872040331363678, -1.5031795501708984, -10.023565292358398, -3.5400867462158203, -2.4484903812408447, -6.26602840423584, 0.12199759483337402, -9.72878646850586, -4.792572021484375, -1.0066545009613037, -6.148825168609619, -0.6258885860443115, -2.393083333969116, -5.119171142578125, -6.0755534172058105, -7.1949663162231445, -0.19702254235744476, -3.3973777294158936, -3.743647813796997, -4.61330509185791, -3.721665620803833, -3.893264055252075, -4.065767288208008, -1.4947004318237305, -5.574740886688232, -5.479109764099121, -3.106320858001709, 1.391544222831726, -7.163380146026611, -6.379187107086182, -0.18053585290908813, -5.184450149536133, -1.3729223012924194, -0.8375449180603027, -0.45694082975387573, -1.9335155487060547, -0.7361969351768494, -4.406735420227051, -6.870312213897705, -9.571489334106445, -3.539060115814209, -1.914814829826355, -2.748488664627075, -1.224482536315918, -4.601290702819824, -1.9970178604125977, -6.1675944328308105, -0.2990070581436157, 0.3383675813674927, -10.41542911529541, -1.4038679599761963, -2.1443986892700195, -5.158210754394531, -1.750322937965393, -4.517300605773926, -4.335652828216553, -1.232923150062561, -6.578913688659668, -0.5857903361320496, -2.1084303855895996, -1.3039076328277588, -1.121472954750061, -1.413833737373352, 0.7289854884147644, -5.457760810852051, -1.880456566810608, -5.265742778778076, -6.060884952545166, -2.359790325164795, -2.381070613861084, -4.316973686218262, -2.5811774730682373, -4.120843887329102, -1.7879879474639893, -5.3360137939453125, 0.7297731637954712, -2.231874465942383, -2.3793866634368896, -0.9751948118209839, -5.290894508361816, -1.4669650793075562, -3.3072049617767334, -1.446560025215149, -4.667618751525879, -5.821042060852051, -0.5798336863517761, -2.2015488147735596, 0.6849031448364258, -4.337003231048584, -3.253143548965454, -6.4078593254089355, -0.6547937393188477, -7.25106143951416, -6.132959842681885, -1.9569123983383179, 0.28576532006263733, -1.7783944606781006, -1.14106285572052, -8.205735206604004, -1.8176426887512207, -4.333813190460205, 0.6509983539581299, -4.518471717834473, -3.3784079551696777, -4.677259922027588, -5.1393914222717285, -1.74709951877594, -1.5714424848556519, -7.035991668701172, -0.49584755301475525, -3.5562174320220947, -6.824105739593506, -4.363731861114502, -1.0915677547454834, -1.2850044965744019, -2.7867603302001953, -6.64430046081543, -3.979161262512207, -1.1255017518997192, -0.5614076256752014, -6.503449440002441, -2.598745346069336, 1.7829586267471313, -1.1501946449279785, -4.249606132507324, -0.9441664814949036, -7.013731956481934, -1.8106387853622437, -0.6135194897651672, -6.845008373260498, -1.5374536514282227, -2.864297866821289, 0.25042596459388733, 1.2683240175247192, -0.9471126198768616, -2.1479897499084473, -1.938868761062622, -1.6694395542144775, -6.827116966247559, -1.5382133722305298, -1.04262113571167, -1.3157436847686768, -8.973864555358887, -4.852217674255371, -3.4730427265167236, -1.51546049118042, -0.2646839916706085, -2.9850003719329834, -3.3474934101104736, 0.7123684883117676, -0.09012342989444733, 1.1583863496780396, -1.620782732963562, -4.723327159881592, -0.0960017666220665, -2.549180269241333, -1.472377061843872, -3.342245101928711, -1.1545487642288208, -7.771337032318115, -0.4161771237850189, -1.325679898262024, -4.567303657531738, -2.5216410160064697, -5.047513008117676, -1.056084156036377, -5.606360912322998, -1.8972283601760864, -1.8050297498703003, 0.7538097500801086, 1.6826670169830322, -5.829748630523682, -4.098836421966553, -0.8711247444152832, -0.17211879789829254, -0.13936729729175568, -2.4980409145355225, -4.649204730987549, -2.5068907737731934, -4.094549179077148, 0.65251225233078, -4.101734161376953, -5.799522876739502, -0.7632067799568176, -0.2919124662876129, -0.1066301167011261, -3.622352361679077, -0.477054625749588, -3.10298228263855, -0.5695165395736694, 0.47047558426856995, -7.290979385375977, -7.937945365905762, -1.403839349746704, -4.333928108215332, -5.951256275177002, -4.91814661026001, 0.6753481030464172, -0.46399733424186707, -0.7792614698410034, -7.767572402954102, -5.63041877746582, -4.742316246032715, -6.239366054534912, 0.06646818667650223, -3.3192858695983887, -5.265952110290527, -6.274420261383057, -2.981285810470581, -0.5716832280158997, -2.8516669273376465, -8.558485984802246, -5.77815580368042, -6.343496799468994, -3.460537910461426, -2.103624105453491, -1.0221630334854126, -0.8258422017097473, -4.34958553314209, -1.971155047416687, -1.4888553619384766, -4.754898548126221, -9.82685661315918, -0.23069465160369873, -0.6237896680831909, -3.7985589504241943, -7.378785610198975, -3.660062551498413, -6.528970241546631, -4.722387313842773, -0.1213412955403328, -2.566126823425293, -0.9596298933029175, -9.851691246032715, -2.184499740600586, -2.399393320083618, -6.384443283081055, -2.0498201847076416, 1.481356143951416, 0.10949521511793137, -2.1144137382507324, -2.5141232013702393, -4.982481479644775, -0.7538110017776489, -0.5551801919937134, 0.2675046920776367, -3.9101195335388184, -8.121524810791016, -4.066190719604492, -2.3187384605407715, -0.39948657155036926, 1.469970703125, -0.41329288482666016, -4.063050270080566, -4.8942060470581055, -3.6083052158355713, -1.3296279907226562, -0.8049690127372742, 0.338516503572464, 1.6445121765136719, -6.6423139572143555, -5.690432548522949, -1.682011365890503, -4.982901573181152, -5.703177452087402, -6.414835453033447, -9.620477676391602, -2.3806676864624023, -6.815803050994873, -1.1468126773834229, -3.9443929195404053, -3.5738532543182373, -5.25740909576416, -0.7096689939498901, -0.8180765509605408, -1.3572723865509033, -4.9065446853637695, -1.281059980392456, -3.3722965717315674, -6.641091346740723, -7.112029075622559, -1.1869933605194092, -8.67401123046875, -2.020250082015991, -0.69451504945755, -6.924674034118652, -0.2892613112926483, -1.8608518838882446, -6.733516216278076, -1.1531503200531006, 1.144091248512268, -3.514906644821167, -1.4344569444656372, -5.4879231452941895, -2.2879297733306885, -3.300948143005371, -5.000508785247803, -0.7384172081947327, -5.242031097412109, -3.240187168121338, -6.642362594604492, 0.487099289894104, -1.9665807485580444, 1.2835774421691895, -9.391907691955566, -4.2251434326171875, -4.869835376739502, -0.3279379606246948, -3.6059629917144775, -4.326132297515869, -4.546057224273682, -1.6487007141113281, -0.159043088555336, -1.7948527336120605, -3.263420820236206, -3.6861348152160645, -1.5607812404632568, -2.028003215789795, -4.219298839569092, -2.415785074234009, -0.35295534133911133, -4.328249454498291, -5.326300621032715, -4.631257057189941, -2.2512974739074707, -0.9398269057273865, 0.05019222944974899, -0.43961596488952637, -3.6228227615356445, -0.4907497465610504, -1.0054166316986084, -1.3145471811294556, -4.123445510864258, -2.93145489692688, -1.6828253269195557, -3.4045984745025635, -2.0535500049591064, -4.678167343139648, -1.1345043182373047], \"z\": [5.9998040199279785, 7.457396984100342, 6.402692794799805, 1.1728675365447998, 4.217759609222412, 6.005934238433838, 3.5058984756469727, 4.715201377868652, 4.574728012084961, 2.453991174697876, 2.178269624710083, 5.5236496925354, 6.834634304046631, 0.6059775948524475, 4.601207256317139, 3.5627644062042236, 2.1030771732330322, 6.386187553405762, 4.18742561340332, 4.216541767120361, 1.5109999179840088, 0.938207745552063, 6.456940650939941, 0.8887268304824829, -1.6900814771652222, 4.607424259185791, 3.7876949310302734, 6.448749542236328, -3.2265822887420654, 5.792311668395996, 4.96677827835083, 3.921919107437134, 4.133965015411377, 6.638258934020996, 6.404507637023926, -0.40731361508369446, 3.4616963863372803, 2.981456995010376, 2.7138707637786865, 6.4680070877075195, 0.6631104350090027, 3.9917497634887695, -1.5898687839508057, 3.969681739807129, 1.704096794128418, 5.078606605529785, 0.8020467162132263, 2.5764849185943604, 5.071406841278076, 4.26652717590332, 0.27341392636299133, 4.5946526527404785, 4.162402629852295, 0.8536749482154846, 3.7742652893066406, 7.827120780944824, 4.104185104370117, 0.8799926042556763, 7.840576171875, 4.076356887817383, 6.145515441894531, 4.937079429626465, 0.9001241326332092, 5.848249912261963, 5.436126708984375, 5.198965549468994, 3.2364325523376465, 4.946846008300781, 1.185336947441101, 1.9946625232696533, 0.07124406844377518, 2.6860592365264893, 3.7344722747802734, 6.354410648345947, 5.973512649536133, -1.265580654144287, 4.0806474685668945, 1.9460870027542114, 4.215060234069824, 3.4526798725128174, -0.7751051187515259, 6.824428081512451, 3.4080159664154053, 5.414481163024902, 2.3347105979919434, 3.2544803619384766, -0.42247337102890015, -1.4176294803619385, 2.5333802700042725, 5.249567985534668, 7.313141822814941, 0.2938190996646881, 2.1274900436401367, 2.5565149784088135, -0.6313774585723877, 3.9691731929779053, 6.392589092254639, 3.291274070739746, 3.3111703395843506, 4.1675615310668945, 3.7337772846221924, -0.41368672251701355, 3.885322093963623, 1.3435039520263672, 6.799392223358154, 2.6288816928863525, 4.4793243408203125, 5.453649997711182, 4.448070526123047, 6.3047895431518555, 0.06953518837690353, 3.6246776580810547, 7.566613674163818, -1.2450350522994995, 2.020761489868164, 4.224459648132324, 0.8348604440689087, 1.907383680343628, 2.1432700157165527, 6.124252796173096, 3.6520187854766846, -0.17103759944438934, 5.920138359069824, 4.013858795166016, 6.087000846862793, 6.841714382171631, 5.294445991516113, 3.3435418605804443, 6.024408340454102, 5.625371932983398, 5.838373184204102, 3.5796351432800293, 0.15197336673736572, 0.934950053691864, 4.272409439086914, 4.878668308258057, 2.436034917831421, 1.0310124158859253, 4.411940097808838, 2.6305253505706787, -0.7271679043769836, 5.637746810913086, 2.265030860900879, 2.8801143169403076, 0.8991100192070007, 6.922109127044678, -1.8736727237701416, 7.106184005737305, 3.6252543926239014, 7.080465316772461, -0.3616022765636444, 2.9281511306762695, 3.663071632385254, 0.8909493684768677, 0.010935161262750626, 5.6508469581604, 6.456124782562256, 4.676517486572266, 0.21454386413097382, 4.066266059875488, 2.8085381984710693, 1.02611243724823, 3.540583372116089, 3.1721742153167725, 3.2545835971832275, 2.102461338043213, 5.139555931091309, 5.313396453857422, 4.773307800292969, -0.8429725170135498, 2.179692029953003, 7.319242000579834, 6.630702495574951, -2.3955342769622803, 6.558004856109619, 0.8841368556022644, 6.975057601928711, 4.8749494552612305, 4.22733736038208, -1.1575539112091064, 2.1275136470794678, 6.797765731811523, 6.859894275665283, -0.39846333861351013, 6.384378910064697, 3.672848701477051, 3.3433566093444824, 0.9359535574913025, 4.813864707946777, 5.119865417480469, 1.5213145017623901, 2.167518138885498, 3.622493267059326, 1.6907095909118652, 3.517483949661255, 0.6860567927360535, 5.512231826782227, 5.819339275360107, -0.34859591722488403, 6.919257164001465, 4.739793300628662, 5.544552326202393, 1.1810307502746582, 3.5528194904327393, 7.206650733947754, 5.8784284591674805, 4.263258457183838, 0.17382586002349854, 4.967537879943848, 7.708683013916016, 4.019054889678955, 3.8571624755859375, 3.847529888153076, 5.6292314529418945, 7.334456920623779, 3.4409801959991455, 2.8637709617614746, 5.5459794998168945, 0.8415089845657349, 0.22277574241161346, 0.1727849543094635, 6.270629405975342, 5.582623481750488, 3.9769997596740723, 3.5251808166503906, 5.764634609222412, 7.210468769073486, -3.1606366634368896, 6.199232578277588, 2.9681756496429443, -2.251174211502075, 5.374507904052734, 4.3511881828308105, 2.1194417476654053, 5.557173728942871, 0.8338852524757385, 2.2073614597320557, -0.12484198808670044, 2.3338191509246826, 5.9092020988464355, 0.24552665650844574, -2.1591637134552, 3.4310238361358643, 1.6982332468032837, 5.299565315246582, 7.868585586547852, 6.635184288024902, 3.963991165161133, 6.9224467277526855, 5.997775554656982, 3.5694942474365234, 2.798107624053955, 5.89021635055542, 4.042389869689941, 5.185207366943359, 3.214249849319458, 4.945104122161865, -0.3960571587085724, 2.7036631107330322, 1.0658769607543945, 1.3549985885620117, 1.3432471752166748, 4.686426639556885, 6.164781093597412, 6.812641143798828, 5.7609663009643555, -0.6633065342903137, 6.193088531494141, -1.2800593376159668, 5.685947895050049, 4.214476585388184, 3.2345821857452393, 3.4858109951019287, 5.17703914642334, 3.406705141067505, 3.300445556640625, 0.9783205389976501, 3.2041966915130615, 6.637382507324219, 2.6485042572021484, 0.20934057235717773, 3.4760568141937256, 0.3281911313533783, 0.13227859139442444, 1.5883675813674927, 3.1364119052886963, 0.1313410848379135, 7.528615474700928, 2.8187994956970215, 2.0145459175109863, 3.92260479927063, 6.3587422370910645, 6.300164699554443, 4.737185955047607, 3.700925350189209, 6.0225443840026855, -1.8681855201721191, 6.384215831756592, -3.148493528366089, 0.5165181159973145, -2.4517874717712402, -1.9736016988754272, 7.402822971343994, 4.867150783538818, 6.139930725097656, 2.857607126235962, 7.0424485206604, 5.541357517242432, 4.177943706512451, 4.740119457244873, 4.718593120574951, 0.8177573680877686, 3.470247745513916, 4.156999111175537, 3.710981607437134, -0.7180523872375488, 6.428049564361572, 7.315737724304199, 1.1057406663894653, 2.6878104209899902, 3.4139976501464844, 0.2510082721710205, 7.221251010894775, 0.18378150463104248, 3.502498149871826, 6.587160110473633, 2.4599366188049316, -1.3694120645523071, 4.251135349273682, 5.818727970123291, 7.406172275543213, -0.7271887063980103, 5.462254047393799, 7.00970458984375, 4.623128890991211, 3.670422077178955, 0.3677169382572174, 1.139358401298523, 3.11531662940979, 4.936135768890381, 0.8255971074104309, 5.125962257385254, 4.1854472160339355, 6.15869140625, 0.6178007125854492, 3.2582716941833496, 3.5119524002075195, 4.461029052734375, 2.5239360332489014, 5.234255313873291, 5.458525657653809, 0.4100680351257324, 6.237063407897949, 6.51632022857666, 5.444612503051758, 5.328667163848877, 7.370008945465088, 7.4088287353515625, 2.5393190383911133, -0.4477117657661438, 3.1447577476501465, 3.7738561630249023, 3.2341229915618896, -2.805752754211426, 7.008115768432617, 7.3835062980651855, 4.777989864349365, 4.2149858474731445, 6.611872673034668, 5.515978813171387, 7.0961012840271, 7.9191460609436035, 1.4285553693771362, 3.7566537857055664, 4.240754127502441, 6.8292236328125, 3.1357779502868652, 4.198728084564209, 3.9054555892944336, 3.4075026512145996, 4.554261684417725, 2.918644428253174, 4.226694107055664, 0.3486100733280182, 3.5653483867645264, 5.065181255340576, 7.32625150680542, -0.8689641952514648, 0.894794762134552, 3.255129814147949, 5.576205730438232, -0.5207539200782776, 3.397355318069458, 3.2387096881866455, 2.9404165744781494, 3.363651990890503, 6.5797905921936035, -1.9110709428787231, 6.05780553817749, -2.8734054565429688, 1.865067958831787, 3.796123743057251, 1.9397364854812622, -0.18678149580955505, 0.2808353900909424, 2.9411098957061768, 4.059103012084961, 4.374462127685547, 5.168571472167969, 5.3416242599487305, -1.9885904788970947, 0.618684709072113, -1.1424651145935059, 3.7566800117492676, 2.619523286819458, 2.0360372066497803, 0.17776621878147125, 2.3630998134613037, 6.325810432434082, 0.768460214138031, 5.404636383056641, 0.888023853302002, -0.2689673900604248, 4.519041061401367, 3.6270155906677246, 5.115739345550537, 6.386877059936523, -0.6691293120384216, 0.9198786020278931, 6.3399763107299805, 2.1100046634674072, -0.42961132526397705, 5.403988361358643, -2.8898138999938965, -0.8558717966079712, 5.453335762023926, -0.7944615483283997, -0.2786180078983307, 6.0099921226501465, 5.21427059173584, -0.6041761636734009, 2.6926252841949463, 5.298187732696533, 7.175472259521484, 3.343541145324707, 3.1697704792022705, 5.640183925628662, 2.0034751892089844, 4.9836554527282715, 6.956782817840576, 4.650627136230469, 3.1251449584960938]}, {\"hoverlabel\": {\"namelength\": 0}, \"hovertemplate\": \"Dominant_Topic=Topic 1<br>0=%{x}<br>1=%{y}<br>2=%{z}\", \"legendgroup\": \"Dominant_Topic=Topic 1\", \"marker\": {\"color\": \"#EF553B\", \"opacity\": 0.7, \"symbol\": \"circle\"}, \"mode\": \"markers\", \"name\": \"Dominant_Topic=Topic 1\", \"scene\": \"scene\", \"showlegend\": true, \"type\": \"scatter3d\", \"x\": [-6.4629926681518555, -4.508347034454346, -5.397622585296631, -6.547844886779785, -5.931416988372803, -5.3612141609191895, -10.613239288330078, -5.293278694152832, -8.783531188964844, -7.425076007843018, 1.6188938617706299, -4.972887992858887, -2.1090586185455322, -8.607057571411133, -7.314849853515625, -5.312957763671875, -4.464206695556641, -2.6580421924591064, -3.179628372192383, -5.251195430755615, -5.665773868560791, -8.199211120605469, -7.985060214996338, -3.2899465560913086, -8.598357200622559, -8.312161445617676, -8.47355842590332, -9.69538688659668, -8.902099609375, -7.194107532501221, -8.114176750183105, -3.7539021968841553, -8.644231796264648, -8.735461235046387, -9.75159740447998, -5.284688949584961, 0.11280801892280579, -4.826731204986572, -6.366042613983154, -9.839028358459473, -7.951038837432861, -5.10105037689209, -7.699377059936523, -2.39102840423584, -6.386178016662598, 0.31167832016944885, -4.819620132446289, -5.3407464027404785, -9.61017894744873, -5.395806312561035, -5.433243751525879, -9.643009185791016, -2.397027015686035, -10.618371963500977, -4.116227626800537, -7.382595539093018, -3.2189013957977295, -5.539754867553711, -1.283136248588562, -2.1778316497802734, 1.2393951416015625, -5.735774040222168, -7.920584201812744, -5.437498092651367, -6.218712329864502, -6.62637996673584, -3.5206291675567627, -6.801629543304443, -4.753647804260254, -8.070798873901367, -3.2686760425567627, -8.8447265625, -9.34848690032959, -7.919663429260254, 0.991711437702179, -7.990340232849121, -7.653343677520752, -4.723275184631348, -2.9884872436523438, -8.353528022766113, -2.8490095138549805, -4.819339752197266, -6.386720180511475, -7.914607524871826, -8.583300590515137, -7.322948932647705, -12.302267074584961, -8.612560272216797, -11.337450981140137, -4.053780555725098, -2.657940149307251, 0.1963442713022232, -4.971603870391846, -6.318251609802246, -3.0449516773223877, -2.133894205093384, -9.10949993133545, -10.9650239944458, -8.025618553161621, 1.3228026628494263, -5.848683834075928, -7.974814414978027, 0.8737183809280396, -4.796360015869141, -6.491573810577393, -9.641357421875, -4.620622634887695, -5.8836469650268555, -4.351050853729248, -11.846766471862793, -4.773961544036865, 0.09074264019727707, -12.987712860107422, -9.135119438171387, -8.51094913482666, -10.283295631408691, -8.187541007995605, -6.381687641143799, -0.7264277935028076, -8.506649017333984, -9.97536563873291, -7.375272750854492, -13.216039657592773, -5.762639999389648, -12.93311882019043, -11.576616287231445, -9.964435577392578, -8.435221672058105, -1.0524086952209473, -9.186419486999512, -3.060337543487549, -10.49406909942627, -7.846834182739258, -9.208718299865723, -4.636124134063721, -1.2853730916976929, 0.9659881591796875, -8.503196716308594, -13.150155067443848, -8.709169387817383, -5.440104961395264, -8.561190605163574, -10.303903579711914, -1.7823686599731445, -7.019654273986816, -5.438990116119385, -12.982137680053711, -5.226712226867676, -4.8908586502075195, -0.6428043246269226, -3.80349063873291, -11.928559303283691, -7.917068004608154, -5.242257595062256, -10.110502243041992, -8.07706356048584, -7.593774795532227, -10.819042205810547, -5.664822101593018, -14.0579195022583, -8.59935474395752, -5.641238212585449, -14.141256332397461, -10.66339111328125, -5.555308818817139, -6.129258155822754, 0.6393378376960754, -4.934845447540283, -6.103621006011963, -13.283476829528809, -7.547811985015869, -12.272378921508789, -13.782493591308594, -8.335040092468262, -13.796161651611328, -4.599380970001221, -12.55091381072998, -10.810446739196777, -10.846352577209473, -10.532954216003418, -10.615674018859863, -1.46415114402771, -10.843230247497559, -7.42126989364624, -12.90858268737793, -13.346746444702148, -6.355636119842529, -7.570242404937744, -1.5759484767913818, 0.9553093910217285, -6.631156921386719, -9.925647735595703, -8.879886627197266, -8.518763542175293, -14.266373634338379, -2.166987895965576, -11.52641773223877, -7.533313751220703, -10.220961570739746, -11.336042404174805, -10.089546203613281, -3.055288314819336, -10.621517181396484, -9.26589298248291, -7.8616132736206055, -13.082141876220703, 0.3243642747402191, -11.77363109588623, -10.231751441955566, -6.591089725494385, -9.588174819946289, -14.000322341918945, -11.333123207092285, -8.892584800720215, -10.52408504486084, -9.248566627502441, -4.587044715881348, -9.114855766296387, -13.677225112915039, -11.03425407409668, -13.325042724609375, -9.307186126708984, -10.948431968688965, -10.751487731933594, -4.86426305770874, -10.520515441894531, -8.05223560333252, -12.554120063781738, -12.613992691040039, -12.750014305114746, -4.435124397277832, -13.211039543151855, -8.89686107635498, -9.921417236328125], \"y\": [0.7745959758758545, 3.7169463634490967, 0.11468899995088577, 1.1408882141113281, 0.23045583069324493, 0.8877406716346741, 6.042324542999268, 0.21877960860729218, 8.855712890625, -1.1712208986282349, 1.4041272401809692, 3.846255302429199, -1.1318488121032715, 6.003143310546875, 4.809328079223633, 2.5885510444641113, -0.609539270401001, -1.7381025552749634, 0.09110841900110245, 2.3095521926879883, 1.7494763135910034, 1.8294634819030762, 2.881965398788452, -1.5027481317520142, 2.24715256690979, 8.56965446472168, 5.849952697753906, 8.469379425048828, 6.386704921722412, 4.7151336669921875, 1.4811663627624512, 0.1837640404701233, 3.8202426433563232, 4.130147933959961, 7.046986103057861, -2.0356199741363525, 3.2086377143859863, 0.24025137722492218, 1.056963562965393, 7.595522403717041, 1.8181573152542114, 3.6750380992889404, -0.9635255932807922, -0.2687782943248749, -1.3705673217773438, 2.7997138500213623, 3.5640854835510254, 1.0683374404907227, 6.293396949768066, 1.7363221645355225, 2.1115822792053223, 6.969570159912109, -1.230791687965393, 7.940908432006836, -2.8610410690307617, 2.543123722076416, -1.3504585027694702, 3.363142728805542, 0.16389861702919006, -0.5740852952003479, 0.6964125633239746, 1.3071706295013428, 3.746966600418091, 0.9849141240119934, 3.0209097862243652, -1.2110675573349, -0.3595477044582367, -1.5356831550598145, 3.6403677463531494, 2.4184305667877197, -1.793157696723938, 9.061786651611328, 2.5588202476501465, 1.5937319993972778, 0.9438034296035767, 3.916166067123413, 3.7912824153900146, 4.241278648376465, -1.4503858089447021, 4.347589492797852, 0.18290992081165314, -1.400593876838684, 2.479459524154663, 2.0212950706481934, -1.1563441753387451, 4.765949249267578, 8.938910484313965, 2.0355117321014404, 8.330986976623535, -1.36817467212677, -1.4288668632507324, 1.6846098899841309, 3.9129836559295654, 3.1484463214874268, -0.6163533329963684, -2.050400972366333, 6.3581719398498535, 6.190230369567871, 3.930978536605835, 1.1379942893981934, -0.0704997107386589, 1.7373268604278564, 1.987878680229187, 3.9152114391326904, 2.975691556930542, 9.124845504760742, 4.286438941955566, 2.51637601852417, 3.5512535572052, 8.844707489013672, -2.293896198272705, 3.3128883838653564, 8.267041206359863, 6.573459625244141, 8.930421829223633, 6.188150405883789, 1.8948596715927124, 0.2468130886554718, 0.632058322429657, -1.2083011865615845, 6.500831127166748, 4.803319931030273, 9.223607063293457, 3.159633159637451, 9.203234672546387, 8.125152587890625, 7.8888421058654785, 4.237995624542236, 0.41470858454704285, 6.5065741539001465, -0.30466797947883606, 5.083623886108398, 5.269198894500732, 2.4655182361602783, 0.10780017077922821, 3.8511648178100586, 0.5814027786254883, 3.9874470233917236, 8.582158088684082, -0.7232816815376282, 0.05857278034090996, 8.057896614074707, 6.72421407699585, 0.5922394394874573, 1.6990588903427124, 4.142939567565918, 9.396806716918945, 3.1036696434020996, 4.620432376861572, 0.6194242835044861, -0.07864166796207428, 8.55407428741455, 3.8411519527435303, 4.384365558624268, 7.640713691711426, 5.472841739654541, 5.540910720825195, 6.276573181152344, -0.10102004557847977, 9.825373649597168, 5.974720001220703, -0.09912499040365219, 9.909159660339355, 7.789846897125244, 2.779283285140991, 0.5807597041130066, 0.2874465882778168, 3.9296438694000244, -1.7226629257202148, 8.48651123046875, -0.9233762621879578, 8.480278968811035, 9.438886642456055, 5.256175994873047, 9.665818214416504, 3.7013230323791504, 8.742417335510254, 5.713852882385254, 5.819576740264893, 7.043333530426025, 4.958018779754639, -0.842947781085968, 5.762566566467285, 1.9183926582336426, 8.235267639160156, 9.472835540771484, 3.2717361450195312, 5.51836633682251, 0.3867722451686859, 1.4131709337234497, 4.645453929901123, 7.340456485748291, 6.250654697418213, 3.9016335010528564, 9.740193367004395, -1.8699121475219727, 7.925168991088867, 5.057783603668213, 8.293097496032715, 7.843907833099365, 6.213271617889404, 0.08673401176929474, 6.367300033569336, 6.242162227630615, 1.785133719444275, 8.495169639587402, 1.581117033958435, 8.410470008850098, 6.370170593261719, 3.279367446899414, 7.135237693786621, 9.7520751953125, 6.966960430145264, 6.299400806427002, 7.896749019622803, 8.776850700378418, 3.4666664600372314, 5.823444843292236, 9.571491241455078, 6.488061904907227, 9.383337020874023, 8.684493064880371, 8.175514221191406, 6.224292278289795, 3.217555046081543, 6.494120121002197, 3.6018457412719727, 8.887470245361328, 9.103211402893066, 9.196883201599121, 4.868520736694336, 8.449860572814941, 8.334297180175781, 7.195924758911133], \"z\": [0.5784777402877808, 3.8008909225463867, 1.9548969268798828, 0.5264760255813599, 1.0865769386291504, 2.190295457839966, -0.7699334025382996, -0.11382389068603516, 1.0838055610656738, 0.6303461194038391, 6.432671070098877, 0.7533061504364014, 3.4300129413604736, 3.6331686973571777, 3.5764694213867188, 0.3438948392868042, 1.9878506660461426, 1.894405484199524, 2.68569278717041, 0.15053080022335052, 2.3056890964508057, -1.424430251121521, 1.5319409370422363, 1.9078056812286377, -0.13860464096069336, 0.6002708673477173, 4.040095806121826, 1.5459774732589722, 3.3428239822387695, 3.392453908920288, -1.8602668046951294, 1.613054633140564, -0.0668824091553688, 0.06613221019506454, 2.950092315673828, 1.0784587860107422, -1.1162759065628052, -0.2762756943702698, 0.21879027783870697, 2.3839669227600098, 1.0774996280670166, 2.600419521331787, 1.4699127674102783, 3.7493348121643066, 0.1198827475309372, -0.7139195799827576, 3.934131145477295, 1.9262473583221436, -1.956411600112915, 3.2285258769989014, 3.8309414386749268, 3.107128143310547, 2.5779061317443848, 2.42866849899292, -0.3552115559577942, 1.9185868501663208, -1.5138951539993286, 3.126242160797119, 2.978571653366089, 3.8961715698242188, 7.184913158416748, 2.9831950664520264, 2.706295967102051, 2.548884391784668, 3.9967312812805176, 0.9065861105918884, 1.418432354927063, 0.15950094163417816, 1.4103636741638184, -1.495574712753296, 0.9829574823379517, 1.0781543254852295, -2.751967191696167, -1.9616639614105225, -0.25409427285194397, 1.8374783992767334, 1.5062410831451416, 3.478099822998047, 2.0543007850646973, 2.007800340652466, 3.506141424179077, 0.35245007276535034, 2.9214584827423096, 0.34317904710769653, 0.2684510350227356, 3.6600663661956787, 1.8860371112823486, -0.17365404963493347, 2.1456046104431152, 1.076621174812317, 2.887277841567993, 8.285067558288574, 2.5879523754119873, 3.852762222290039, 3.159125328063965, 1.3123756647109985, 2.341240882873535, -0.7027233242988586, 1.0655652284622192, 6.46238899230957, 2.1717119216918945, 1.078750491142273, -0.060923922806978226, 1.3270235061645508, 2.5692853927612305, 1.8809882402420044, 3.6805365085601807, 3.9450793266296387, 3.9721579551696777, 1.9373359680175781, 1.0585867166519165, -1.1248517036437988, 0.11419672518968582, 2.9236199855804443, 0.8993700742721558, 0.40498238801956177, -1.8043559789657593, 0.9810231924057007, -1.7249538898468018, 0.25131335854530334, 1.5180003643035889, 3.1108837127685547, 1.3695372343063354, 3.8487746715545654, 1.6223891973495483, 1.3645325899124146, 0.8748015761375427, 1.7318239212036133, 2.716649055480957, 3.2827160358428955, 2.8685762882232666, -1.507108211517334, 3.785463809967041, -2.5509774684906006, -0.376861035823822, -3.391439437866211, 6.603736877441406, -0.1833447515964508, 0.4424181878566742, 0.14169465005397797, 0.6370720267295837, 0.4240145683288574, 1.0785104036331177, 3.1893415451049805, 0.09772530943155289, -0.21318550407886505, 1.8702083826065063, 4.079014778137207, 1.4511195421218872, -1.7172091007232666, 1.425358533859253, 1.60176682472229, 1.0357249975204468, 1.7165460586547852, 3.0870859622955322, 3.3753793239593506, 3.229978084564209, -0.3979629576206207, 0.7884891629219055, 1.425920844078064, 4.195928573608398, 0.4367798864841461, 1.4386531114578247, 2.389472723007202, 3.5303232669830322, 1.2924424409866333, 6.527312278747559, 1.9185128211975098, 0.25349679589271545, 0.1622815728187561, 1.310951828956604, 1.0925209522247314, 1.1288222074508667, 3.294295310974121, 1.46250319480896, 1.6721941232681274, 1.2623454332351685, -1.2626309394836426, -1.0601425170898438, 1.2755399942398071, -1.7957550287246704, 4.281264781951904, -1.1232054233551025, 0.13555686175823212, 0.14154866337776184, 1.6207292079925537, 3.9827969074249268, 3.271751642227173, 2.952270030975342, 5.786495208740234, 3.0393831729888916, 3.270522117614746, 3.2922399044036865, -0.30654722452163696, 1.0895353555679321, 1.7935739755630493, 1.088649868965149, 3.5543198585510254, 2.333176374435425, 0.7604631185531616, -1.5197666883468628, 2.990581512451172, 0.03531819209456444, 3.047805070877075, 1.0684568881988525, 0.37395673990249634, 8.18290901184082, 1.6325503587722778, -1.230377197265625, 2.0923054218292236, 2.796907424926758, 1.3824032545089722, -0.6734957098960876, 3.493091583251953, 1.3031693696975708, 1.0169726610183716, 1.800714135169983, 1.9910207986831665, 1.440155267715454, -0.35901153087615967, 1.5018563270568848, 1.7378544807434082, 2.524129629135132, -0.37757328152656555, 2.308253526687622, -0.31748121976852417, 1.5235285758972168, 1.5213109254837036, 1.797978401184082, 1.763242483139038, 1.7053227424621582, 0.17651867866516113, 0.6077556610107422, 2.8479723930358887]}, {\"hoverlabel\": {\"namelength\": 0}, \"hovertemplate\": \"Dominant_Topic=Topic 2<br>0=%{x}<br>1=%{y}<br>2=%{z}\", \"legendgroup\": \"Dominant_Topic=Topic 2\", \"marker\": {\"color\": \"#00cc96\", \"opacity\": 0.7, \"symbol\": \"circle\"}, \"mode\": \"markers\", \"name\": \"Dominant_Topic=Topic 2\", \"scene\": \"scene\", \"showlegend\": true, \"type\": \"scatter3d\", \"x\": [-6.718160152435303, -6.8113322257995605, -7.428412437438965, -7.22767448425293, -7.385968208312988, -4.129029273986816, -9.071972846984863, -6.208846092224121, -9.117298126220703, -7.868119239807129, -7.5422210693359375, -4.408711910247803, -9.421335220336914, -7.180689334869385, -7.424013137817383, -6.540610313415527, -7.672586441040039, -5.349473476409912, -8.1337890625, -5.7852325439453125, -6.804910659790039, -7.1950812339782715, -7.937877655029297, -6.307921886444092, -3.4548120498657227, -7.824169635772705, -5.566713809967041, -7.4443793296813965, -8.804543495178223, -5.9808807373046875, -6.263774871826172, -7.255300521850586, -7.371266841888428, -8.508848190307617, -8.685054779052734, -7.11555814743042, -6.272402286529541, -7.148232460021973, -7.914595603942871, -3.8398163318634033, -8.507732391357422, -7.3634138107299805, -5.923618793487549, -7.072675704956055, -6.315865516662598, -3.1008880138397217, -8.702884674072266, -6.355726718902588, -7.377096176147461, -7.114567756652832, -6.922635078430176, -6.9118242263793945, -7.1674275398254395, -6.933737277984619, -8.97628116607666, -8.268067359924316, -4.844676494598389, -6.22514009475708, -6.078062534332275, -7.881260871887207, -6.645650386810303, -8.127033233642578, -7.745126247406006, -8.003183364868164, -6.8305463790893555, -6.660019874572754, -8.86039924621582, -8.457777976989746, -6.901139736175537, -6.722564220428467, -5.741636276245117, -8.570843696594238, -7.911405086517334, -6.0334367752075195, -4.017875671386719, -6.478062629699707, -7.382157802581787, -6.1577301025390625, -6.494828701019287, -7.398429870605469, -3.3363211154937744, -6.720986843109131, -7.181452751159668, -7.474523544311523, -7.359871864318848, -6.8816046714782715, -8.806859016418457, -7.6351318359375, -4.095786094665527, -7.650257587432861, -7.6943278312683105, -8.681344032287598, -6.328419208526611, -7.008563995361328, -4.135788440704346, -7.196815013885498, -6.540257453918457, -6.347798824310303, -7.414079189300537, -7.778887748718262, -7.696069240570068, -5.070091247558594, -8.258597373962402, -7.03288459777832, -7.565670490264893, -8.07541561126709, -5.449618339538574, -7.761106014251709, -7.870832920074463, -6.345514297485352, -8.474908828735352, -7.113654136657715, -7.667150974273682, -8.156384468078613, -4.657941818237305, -7.030876636505127, -6.098906517028809, -9.254721641540527, -4.193727016448975, -4.949980735778809, -8.601714134216309, -3.9096450805664062, -8.299310684204102, -2.9248321056365967, -4.115571022033691, -6.287154674530029, -4.01786994934082, -7.386499881744385, -8.578118324279785, -9.668904304504395, -8.34687328338623, -6.399180889129639, -8.047280311584473, -7.571525573730469, -9.127279281616211, -8.081151008605957, -8.184328079223633, -8.367633819580078, -8.702052116394043, -7.751809120178223, -2.385801076889038, -7.717281341552734, -6.299222469329834, -8.103981018066406, -4.69918155670166, -8.060518264770508, -8.293341636657715, -7.418348789215088, -6.068563938140869, -6.504982948303223, -5.815123081207275, -5.53762149810791, -7.801424503326416, -5.296968460083008, -7.432297229766846, -9.768430709838867, -8.895012855529785, -2.0860533714294434, -7.113306522369385, -4.13534688949585, -8.523663520812988, -6.304184913635254, -6.457614421844482, -7.158562183380127, -8.388801574707031, -8.30548095703125, -6.74350643157959, -7.034759521484375, -8.017049789428711, -4.0281572341918945, -8.351370811462402, -7.325042247772217, -6.3223466873168945, -8.34422492980957, -6.193496227264404, -7.896117210388184, -8.155858993530273, -8.927345275878906, -3.7078351974487305, -7.6668291091918945, -8.452049255371094, -7.022779941558838], \"y\": [-1.583156704902649, -0.8197460174560547, -1.0132287740707397, -1.1183780431747437, -1.6454999446868896, 0.13470736145973206, -1.4601242542266846, -0.6226727962493896, -1.5614588260650635, -1.8777425289154053, -1.322982668876648, -3.2421634197235107, 2.548203468322754, -1.327660083770752, -2.0564773082733154, -2.752605676651001, -1.7503355741500854, 0.1944247931241989, -1.839263677597046, 0.35555657744407654, -0.9464109539985657, -1.3536516427993774, -1.6242294311523438, -1.5675076246261597, -0.23322200775146484, -3.3021955490112305, -1.6867475509643555, -1.387518048286438, 0.03930564969778061, -0.5590004920959473, -3.1703813076019287, -2.4185869693756104, -2.2799954414367676, -0.3015177547931671, -1.5792611837387085, -2.448385238647461, -1.8819104433059692, -1.27549409866333, -1.0991729497909546, 0.12110530585050583, -1.2465609312057495, -2.003425121307373, -1.7302026748657227, -1.1358835697174072, -0.1428484320640564, -1.9113110303878784, -0.05632798373699188, -1.9695931673049927, -1.7053574323654175, -1.212445616722107, -0.6465674638748169, -1.2813655138015747, -1.051233172416687, -2.8713138103485107, -1.679764986038208, 1.5255099534988403, -0.09612097591161728, -0.6618740558624268, 0.4391798675060272, -1.1145586967468262, -0.8813819289207458, -1.5580590963363647, -1.9240412712097168, 0.15557734668254852, 0.49792471528053284, -2.1628150939941406, 0.996030330657959, -1.0370005369186401, 0.5987057685852051, -0.27303850650787354, -0.38731852173805237, -1.4384410381317139, -0.5781077146530151, -3.1040842533111572, 0.16325221955776215, -1.630448818206787, -1.6659249067306519, -2.906308889389038, -1.0022677183151245, -2.3063552379608154, -1.2138522863388062, -3.403505563735962, -1.3620449304580688, -0.9363895058631897, -0.9896254539489746, -0.981283962726593, 0.535886287689209, -1.8218740224838257, -0.885796070098877, -2.0600759983062744, -1.6868761777877808, -1.7132868766784668, -2.7679290771484375, 0.715523362159729, 0.12153004109859467, -2.6317145824432373, -0.4798775911331177, -1.034276008605957, -1.683935284614563, 1.4122737646102905, -2.086024284362793, -0.15801741182804108, -0.3869006037712097, -1.1454041004180908, -1.393286943435669, -1.6553853750228882, -2.3550567626953125, -3.5406744480133057, -0.6865022778511047, -3.8569087982177734, -1.5594044923782349, -1.2104270458221436, -1.3232895135879517, -3.7865476608276367, 0.13336046040058136, -1.2375001907348633, -2.476116180419922, -0.5255178213119507, -3.2528910636901855, 0.3742806613445282, -0.24507522583007812, -0.5821176767349243, -3.147505044937134, -3.0451722145080566, -2.279423713684082, -3.1427438259124756, 0.16325415670871735, -1.5683938264846802, 1.3924481868743896, 2.7635960578918457, -4.324472427368164, -2.828540086746216, -1.5930380821228027, -0.0032238189596682787, -0.9144162535667419, 0.9480410814285278, -1.9850536584854126, -4.387494087219238, -1.253097414970398, -0.84700608253479, -3.524738073348999, -1.540799856185913, -3.0565335750579834, 1.524741768836975, -0.3316735625267029, 1.439063549041748, -0.9605455994606018, -1.200878620147705, 0.5088810324668884, 0.590640664100647, -0.31386685371398926, -1.440245270729065, -1.908333420753479, -0.6645700931549072, -2.222799301147461, 2.959336996078491, 0.10525345057249069, -2.779778480529785, -1.3264117240905762, -3.4534637928009033, 1.317454218864441, 0.002222141483798623, 0.9880679845809937, -1.378976583480835, -1.4063559770584106, -0.6001076698303223, -0.4981904625892639, 0.767325758934021, -1.5116329193115234, -1.088810682296753, -1.436693549156189, -1.5379496812820435, -0.47531065344810486, -4.364412307739258, -4.09405517578125, -2.896432638168335, 9.171088458970189e-05, 0.21085761487483978, -1.1004544496536255, -1.8591499328613281, -1.7842049598693848, -1.0672508478164673], \"z\": [-0.3194507658481598, -12.977967262268066, -10.973305702209473, -13.390652656555176, -9.337187767028809, -8.662673950195312, -3.5339515209198, -10.357462882995605, -3.359419584274292, -5.7429704666137695, -10.07712173461914, -1.2079048156738281, -2.902984619140625, -12.809014320373535, -0.2608668804168701, -1.024316430091858, -1.9945098161697388, -5.9454450607299805, -5.301647186279297, -5.451732635498047, -13.62724494934082, -12.57409954071045, -10.10986042022705, -0.1409282684326172, -5.7466912269592285, -5.798196315765381, -1.7025095224380493, -11.480205535888672, -11.161221504211426, -10.561371803283691, -3.9865598678588867, -5.2477803230285645, -6.904009819030762, -11.015113830566406, -4.500829219818115, -5.7756147384643555, -6.729769706726074, -13.144787788391113, -8.668725967407227, -7.559751510620117, -9.119495391845703, -7.230401992797852, -6.465941905975342, -13.84331226348877, -7.3260416984558105, -1.7217563390731812, -11.379860877990723, -2.734123706817627, -7.783155918121338, -13.474440574645996, -11.157702445983887, -9.75105094909668, -13.829164505004883, -5.255955219268799, -2.9006104469299316, -2.455890655517578, -8.063529968261719, -11.001619338989258, -5.594786167144775, -3.841539144515991, -0.6459629535675049, -5.3674397468566895, -8.46381664276123, -2.606142520904541, -5.679136753082275, -2.5837576389312744, -4.131208419799805, -4.830931186676025, -5.241368293762207, -7.010917663574219, -8.5497465133667, -9.554032325744629, -12.447369575500488, -2.326509714126587, -8.383132934570312, -2.6846306324005127, -10.306636810302734, -4.558827877044678, -2.3825604915618896, -7.45233678817749, -4.022075176239014, -4.785192966461182, -12.775535583496094, -3.379936695098877, -13.382746696472168, -14.034968376159668, -3.9474244117736816, -8.855802536010742, -5.3557209968566895, -6.458072185516357, -8.240206718444824, -2.1208291053771973, -4.856499671936035, -5.261242866516113, -8.32696533203125, -2.929083824157715, -1.2766588926315308, -7.309511661529541, -10.185017585754395, -3.4616827964782715, -6.754875183105469, -8.044332504272461, -12.055166244506836, -12.772635459899902, -0.8772280812263489, -5.2528533935546875, -4.616461753845215, -5.493582725524902, -3.254877805709839, -2.6330103874206543, -0.6703022718429565, -13.483184814453125, -8.141646385192871, -5.897899627685547, -5.144744396209717, -2.240732192993164, -2.547231435775757, -1.8613903522491455, -1.4593933820724487, -3.8352770805358887, -10.944969177246094, -5.570871829986572, -8.867389678955078, -0.935920000076294, 0.7032827138900757, -4.591461658477783, -8.383122444152832, -2.8281753063201904, -2.9135794639587402, -3.240758180618286, -5.688973903656006, -1.772229552268982, -9.314173698425293, -10.662038803100586, -3.042076826095581, -2.7400243282318115, -5.374821186065674, -5.640776634216309, -0.9578602313995361, -3.1374869346618652, -1.3136181831359863, -9.961158752441406, -2.2632195949554443, -2.0566506385803223, -5.8662214279174805, -2.589298725128174, -8.44415283203125, -10.80058479309082, -3.505864381790161, -5.221526145935059, -8.136088371276855, -2.6559271812438965, -7.101155757904053, -3.0747249126434326, -5.372829437255859, -3.1955130100250244, -11.049349784851074, 0.01944001577794552, -8.061817169189453, -1.2481424808502197, -4.274444103240967, -6.2643723487854, -3.9787230491638184, -11.7129545211792, -9.583364486694336, -10.79887580871582, -1.6507954597473145, -4.840306282043457, -8.642264366149902, -3.64337420463562, -11.057141304016113, -11.4944429397583, -0.8448002338409424, -5.634214401245117, -2.525394916534424, -7.1743597984313965, -2.6229946613311768, -3.603665590286255, -4.152456760406494, -9.785761833190918, -5.364429473876953, -14.092166900634766]}, {\"hoverlabel\": {\"namelength\": 0}, \"hovertemplate\": \"Dominant_Topic=Topic 3<br>0=%{x}<br>1=%{y}<br>2=%{z}\", \"legendgroup\": \"Dominant_Topic=Topic 3\", \"marker\": {\"color\": \"#ab63fa\", \"opacity\": 0.7, \"symbol\": \"circle\"}, \"mode\": \"markers\", \"name\": \"Dominant_Topic=Topic 3\", \"scene\": \"scene\", \"showlegend\": true, \"type\": \"scatter3d\", \"x\": [2.2507879734039307, 1.4812806844711304, 1.5660181045532227, 1.9069690704345703, 0.8040499091148376, 0.5295159816741943, 0.7777236700057983, 2.9673657417297363, 3.8970160484313965, -1.017398476600647, 1.7440871000289917, 2.4224629402160645, 1.189751148223877, 0.3354857563972473, -0.24257929623126984, 1.374556064605713, 0.6035372614860535, 3.5667548179626465, 1.3667842149734497, 0.790145754814148, 1.9999287128448486, 1.3838036060333252, -0.9669457077980042, 0.7575790882110596, -0.8175422549247742, 1.3598299026489258, 3.345294952392578, 1.9880344867706299, -1.2744743824005127, 1.492316484451294, 1.968389630317688, 3.6175577640533447, -3.315580129623413, 2.4240217208862305, -1.3875495195388794, 3.0125510692596436, 0.9663301110267639, 0.9015180468559265, 1.7238531112670898, 3.804182529449463, 1.433717966079712, 1.059337854385376, -2.671022891998291, 3.7017407417297363, 3.710346221923828, 2.143685817718506, 0.7166174650192261, 1.5824594497680664, 0.3944992125034332, 2.210202217102051, 2.2565650939941406, -0.5318309664726257, 2.329057216644287, 1.5458827018737793, 2.9825150966644287, 1.6329044103622437, 1.397127628326416, 0.882851779460907, 1.0193276405334473, 2.6247634887695312, 1.5002880096435547, 2.3582568168640137, 3.3993945121765137, 1.0882724523544312, 1.9545232057571411, -2.586681842803955, 1.319161295890808, -0.7551950216293335, -1.3915882110595703, 1.7947241067886353, -0.9189247488975525, 1.7841793298721313, -0.5141303539276123, 2.741602659225464, 1.6022467613220215, 1.7524430751800537, -3.0668699741363525, 4.0618085861206055, -2.647763967514038, 1.2781440019607544, 2.6579408645629883, 1.1400703191757202, -0.6239348649978638, -0.13962668180465698, 2.1528432369232178, -2.807831287384033, -1.0250493288040161, -1.3755509853363037, 0.9896154999732971, 1.0341969728469849, 0.8793603181838989, 0.905689537525177, 1.2476848363876343, -0.7007946372032166, -3.008835792541504, 2.447627305984497, 1.5755048990249634, 0.7555230259895325, 2.6632308959960938, 1.470489740371704, 4.087279796600342, 2.134143114089966, 3.8475828170776367, -1.0050982236862183, 4.186020374298096, -0.37664592266082764, 1.6322441101074219, -2.598937511444092, 2.2504234313964844, 1.8023351430892944, 3.3375518321990967, 1.0952757596969604, 1.4874745607376099, 4.379820823669434, 0.9106731414794922, 1.6749590635299683, 2.5582244396209717, 1.6555653810501099, -0.5331341028213501, 4.717949867248535, 0.850662112236023, 4.211422443389893, -0.7715738415718079, 1.1482521295547485, 0.7097667455673218, 3.557075262069702, 1.146161675453186, -0.9766346216201782, -0.3436225652694702, 1.9639891386032104, 0.8581699728965759, 1.6994142532348633], \"y\": [-0.23013561964035034, 0.048706840723752975, 1.5111539363861084, 1.6973594427108765, 3.3026511669158936, 0.12251918762922287, 3.327867269515991, 0.7498472332954407, -0.017340173944830894, 2.596423387527466, -1.1238040924072266, 0.880898654460907, 2.438166618347168, -0.4821997582912445, 3.0161991119384766, 0.38690492510795593, 2.9198460578918457, 0.41642242670059204, 2.1542856693267822, 2.3545942306518555, -0.2141580432653427, 0.18644733726978302, 2.849592685699463, 2.065279006958008, 2.7545242309570312, 2.6478822231292725, 1.2242538928985596, 2.1594645977020264, 1.3729805946350098, 2.4749631881713867, 1.8526438474655151, 0.12502005696296692, -0.14830487966537476, 1.5627779960632324, 2.468033790588379, 0.5117435455322266, 3.1506311893463135, 3.1879055500030518, 4.069744110107422, 0.976482093334198, 0.9845256805419922, 1.2986509799957275, 0.47103554010391235, 0.35322558879852295, 1.0755009651184082, 2.2996463775634766, 3.3902993202209473, 2.379816770553589, 2.6179771423339844, 2.69073224067688, 1.726676106452942, 0.7372652888298035, 2.8083322048187256, 1.8240039348602295, 0.4672987461090088, 3.1717867851257324, -0.45897388458251953, -1.9625905752182007, 2.366888999938965, 1.752976417541504, 2.1386475563049316, 1.0887250900268555, 0.5198970437049866, 2.259415864944458, 2.2804460525512695, 0.4045698940753937, 1.9777699708938599, 1.4837442636489868, 0.22115330398082733, 2.0276620388031006, 2.776085376739502, 1.9598181247711182, 2.9908695220947266, 1.783617377281189, 2.754230260848999, -2.086603879928589, -2.148664951324463, -0.2413678765296936, 0.48233896493911743, 3.0918543338775635, 1.000866413116455, 2.957369089126587, 3.026660919189453, 0.4197852313518524, -1.703411340713501, 0.19947242736816406, 0.1402563750743866, 1.2527583837509155, 2.2507524490356445, 2.9640443325042725, 3.2013192176818848, 2.6656389236450195, 2.8507080078125, 1.5746068954467773, -2.092925786972046, -0.23093849420547485, 2.59991717338562, -1.9966076612472534, 0.9146674871444702, 2.4092328548431396, 0.15360349416732788, 3.3617465496063232, 1.0517053604125977, 2.627704620361328, 0.3205083906650543, 1.6405242681503296, 0.6164219975471497, 0.37132149934768677, 1.60535728931427, 1.0161398649215698, 1.444544792175293, 3.371703863143921, 0.23887751996517181, 0.14735251665115356, 2.971984624862671, 2.4240951538085938, -0.2866378724575043, 2.3918704986572266, 1.5288536548614502, -0.0049458714202046394, 2.6118667125701904, 0.25176316499710083, 3.0731611251831055, 3.6757941246032715, 0.3465084731578827, 0.608253002166748, 2.8698372840881348, 2.6346840858459473, 0.8111974000930786, 1.770658254623413, -0.07751729339361191, 2.2146081924438477], \"z\": [-6.2680864334106445, -5.8515944480896, -6.3331685066223145, -6.666818141937256, -12.054347038269043, -3.1487972736358643, -12.134769439697266, -4.385547161102295, -3.3927087783813477, -3.0797836780548096, -1.4900761842727661, -4.934662818908691, -10.057514190673828, -3.940279722213745, -1.871627926826477, -2.3934133052825928, -8.453521728515625, -3.959362745285034, -3.9717938899993896, -4.08851957321167, -6.1775007247924805, -2.063837766647339, -3.729278326034546, -8.71877670288086, -2.4118459224700928, -10.617548942565918, -6.756166458129883, -9.241257667541504, -8.938745498657227, -7.998815536499023, -6.523221969604492, -3.5716748237609863, -5.720097541809082, -6.457125186920166, -3.805671453475952, -4.138692855834961, -11.433531761169434, -11.74638557434082, -9.50117015838623, -6.2459187507629395, -2.564903736114502, -5.055958271026611, -6.033895015716553, -6.07070779800415, -4.930410861968994, -9.0089111328125, -12.339829444885254, -9.978022575378418, -7.655904769897461, -4.276271820068359, -6.891653060913086, -3.7943873405456543, -4.473827362060547, -6.849101543426514, -3.8425533771514893, -10.54353141784668, -1.702040672302246, -2.5626637935638428, -8.706319808959961, -8.544015884399414, -7.411645889282227, -5.416389465332031, -4.159807205200195, -3.7787864208221436, -8.90428638458252, -6.249468803405762, -8.611796379089355, -8.475791931152344, -3.8735671043395996, -9.044872283935547, -3.1366026401519775, -7.221529006958008, -3.5601415634155273, -8.319192886352539, -10.953103065490723, -1.7973911762237549, -1.4694701433181763, -3.015552043914795, -5.968191623687744, -9.284858703613281, -7.904627799987793, -10.08186149597168, -4.249014854431152, -2.2239456176757812, -1.7727391719818115, -6.119841575622559, -4.023905277252197, -8.613150596618652, -8.893163681030273, -11.185587882995605, -11.492700576782227, -9.741642951965332, -8.843001365661621, -4.007641792297363, -1.3379112482070923, -6.82615852355957, -10.563821792602539, -2.648165225982666, -5.122917652130127, -10.04890251159668, -3.8036532402038574, -9.380502700805664, -6.483368873596191, -2.8527848720550537, -4.250966548919678, -7.059682846069336, -1.009337067604065, -6.882636547088623, -6.4965620040893555, -4.674641132354736, -7.416666030883789, -10.363006591796875, -1.487073302268982, -3.853222608566284, -10.633479118347168, -3.9868643283843994, -6.094912528991699, -9.431658744812012, -7.104949951171875, -3.732356309890747, -8.893424034118652, -4.044247150421143, -4.351287841796875, -9.999847412109375, -2.7778987884521484, -4.894273281097412, -11.01230239868164, -3.3270692825317383, -3.915891170501709, -6.821393013000488, -2.5227930545806885, -3.564626932144165]}],\n",
       "                        {\"height\": 800, \"legend\": {\"tracegroupgap\": 0}, \"scene\": {\"domain\": {\"x\": [0.0, 1.0], \"y\": [0.0, 1.0]}, \"xaxis\": {\"title\": {\"text\": \"0\"}}, \"yaxis\": {\"title\": {\"text\": \"1\"}}, \"zaxis\": {\"title\": {\"text\": \"2\"}}}, \"template\": {\"data\": {\"bar\": [{\"error_x\": {\"color\": \"#2a3f5f\"}, \"error_y\": {\"color\": \"#2a3f5f\"}, \"marker\": {\"line\": {\"color\": \"#E5ECF6\", \"width\": 0.5}}, \"type\": \"bar\"}], \"barpolar\": [{\"marker\": {\"line\": {\"color\": \"#E5ECF6\", \"width\": 0.5}}, \"type\": \"barpolar\"}], \"carpet\": [{\"aaxis\": {\"endlinecolor\": \"#2a3f5f\", \"gridcolor\": \"white\", \"linecolor\": \"white\", \"minorgridcolor\": \"white\", \"startlinecolor\": \"#2a3f5f\"}, \"baxis\": {\"endlinecolor\": \"#2a3f5f\", \"gridcolor\": \"white\", \"linecolor\": \"white\", \"minorgridcolor\": \"white\", \"startlinecolor\": \"#2a3f5f\"}, \"type\": \"carpet\"}], \"choropleth\": [{\"colorbar\": {\"outlinewidth\": 0, \"ticks\": \"\"}, \"type\": \"choropleth\"}], \"contour\": [{\"colorbar\": {\"outlinewidth\": 0, \"ticks\": \"\"}, \"colorscale\": [[0.0, \"#0d0887\"], [0.1111111111111111, \"#46039f\"], [0.2222222222222222, \"#7201a8\"], [0.3333333333333333, \"#9c179e\"], [0.4444444444444444, \"#bd3786\"], [0.5555555555555556, \"#d8576b\"], [0.6666666666666666, \"#ed7953\"], [0.7777777777777778, \"#fb9f3a\"], [0.8888888888888888, \"#fdca26\"], [1.0, \"#f0f921\"]], \"type\": \"contour\"}], \"contourcarpet\": [{\"colorbar\": {\"outlinewidth\": 0, \"ticks\": \"\"}, \"type\": \"contourcarpet\"}], \"heatmap\": [{\"colorbar\": {\"outlinewidth\": 0, \"ticks\": \"\"}, \"colorscale\": [[0.0, \"#0d0887\"], [0.1111111111111111, \"#46039f\"], [0.2222222222222222, \"#7201a8\"], [0.3333333333333333, \"#9c179e\"], [0.4444444444444444, \"#bd3786\"], [0.5555555555555556, \"#d8576b\"], [0.6666666666666666, \"#ed7953\"], [0.7777777777777778, \"#fb9f3a\"], [0.8888888888888888, \"#fdca26\"], [1.0, \"#f0f921\"]], \"type\": \"heatmap\"}], \"heatmapgl\": [{\"colorbar\": {\"outlinewidth\": 0, \"ticks\": \"\"}, \"colorscale\": [[0.0, \"#0d0887\"], [0.1111111111111111, \"#46039f\"], [0.2222222222222222, \"#7201a8\"], [0.3333333333333333, \"#9c179e\"], [0.4444444444444444, \"#bd3786\"], [0.5555555555555556, \"#d8576b\"], [0.6666666666666666, \"#ed7953\"], [0.7777777777777778, \"#fb9f3a\"], [0.8888888888888888, \"#fdca26\"], [1.0, \"#f0f921\"]], \"type\": \"heatmapgl\"}], \"histogram\": [{\"marker\": {\"colorbar\": {\"outlinewidth\": 0, \"ticks\": \"\"}}, \"type\": \"histogram\"}], \"histogram2d\": [{\"colorbar\": {\"outlinewidth\": 0, \"ticks\": \"\"}, \"colorscale\": [[0.0, \"#0d0887\"], [0.1111111111111111, \"#46039f\"], [0.2222222222222222, \"#7201a8\"], [0.3333333333333333, \"#9c179e\"], [0.4444444444444444, \"#bd3786\"], [0.5555555555555556, \"#d8576b\"], [0.6666666666666666, \"#ed7953\"], [0.7777777777777778, \"#fb9f3a\"], [0.8888888888888888, \"#fdca26\"], [1.0, \"#f0f921\"]], \"type\": \"histogram2d\"}], \"histogram2dcontour\": [{\"colorbar\": {\"outlinewidth\": 0, \"ticks\": \"\"}, \"colorscale\": [[0.0, \"#0d0887\"], [0.1111111111111111, \"#46039f\"], [0.2222222222222222, \"#7201a8\"], [0.3333333333333333, \"#9c179e\"], [0.4444444444444444, \"#bd3786\"], [0.5555555555555556, \"#d8576b\"], [0.6666666666666666, \"#ed7953\"], [0.7777777777777778, \"#fb9f3a\"], [0.8888888888888888, \"#fdca26\"], [1.0, \"#f0f921\"]], \"type\": \"histogram2dcontour\"}], \"mesh3d\": [{\"colorbar\": {\"outlinewidth\": 0, \"ticks\": \"\"}, \"type\": \"mesh3d\"}], \"parcoords\": [{\"line\": {\"colorbar\": {\"outlinewidth\": 0, \"ticks\": \"\"}}, \"type\": \"parcoords\"}], \"pie\": [{\"automargin\": true, \"type\": \"pie\"}], \"scatter\": [{\"marker\": {\"colorbar\": {\"outlinewidth\": 0, \"ticks\": \"\"}}, \"type\": \"scatter\"}], \"scatter3d\": [{\"line\": {\"colorbar\": {\"outlinewidth\": 0, \"ticks\": \"\"}}, \"marker\": {\"colorbar\": {\"outlinewidth\": 0, \"ticks\": \"\"}}, \"type\": \"scatter3d\"}], \"scattercarpet\": [{\"marker\": {\"colorbar\": {\"outlinewidth\": 0, \"ticks\": \"\"}}, \"type\": \"scattercarpet\"}], \"scattergeo\": [{\"marker\": {\"colorbar\": {\"outlinewidth\": 0, \"ticks\": \"\"}}, \"type\": \"scattergeo\"}], \"scattergl\": [{\"marker\": {\"colorbar\": {\"outlinewidth\": 0, \"ticks\": \"\"}}, \"type\": \"scattergl\"}], \"scattermapbox\": [{\"marker\": {\"colorbar\": {\"outlinewidth\": 0, \"ticks\": \"\"}}, \"type\": \"scattermapbox\"}], \"scatterpolar\": [{\"marker\": {\"colorbar\": {\"outlinewidth\": 0, \"ticks\": \"\"}}, \"type\": \"scatterpolar\"}], \"scatterpolargl\": [{\"marker\": {\"colorbar\": {\"outlinewidth\": 0, \"ticks\": \"\"}}, \"type\": \"scatterpolargl\"}], \"scatterternary\": [{\"marker\": {\"colorbar\": {\"outlinewidth\": 0, \"ticks\": \"\"}}, \"type\": \"scatterternary\"}], \"surface\": [{\"colorbar\": {\"outlinewidth\": 0, \"ticks\": \"\"}, \"colorscale\": [[0.0, \"#0d0887\"], [0.1111111111111111, \"#46039f\"], [0.2222222222222222, \"#7201a8\"], [0.3333333333333333, \"#9c179e\"], [0.4444444444444444, \"#bd3786\"], [0.5555555555555556, \"#d8576b\"], [0.6666666666666666, \"#ed7953\"], [0.7777777777777778, \"#fb9f3a\"], [0.8888888888888888, \"#fdca26\"], [1.0, \"#f0f921\"]], \"type\": \"surface\"}], \"table\": [{\"cells\": {\"fill\": {\"color\": \"#EBF0F8\"}, \"line\": {\"color\": \"white\"}}, \"header\": {\"fill\": {\"color\": \"#C8D4E3\"}, \"line\": {\"color\": \"white\"}}, \"type\": \"table\"}]}, \"layout\": {\"annotationdefaults\": {\"arrowcolor\": \"#2a3f5f\", \"arrowhead\": 0, \"arrowwidth\": 1}, \"coloraxis\": {\"colorbar\": {\"outlinewidth\": 0, \"ticks\": \"\"}}, \"colorscale\": {\"diverging\": [[0, \"#8e0152\"], [0.1, \"#c51b7d\"], [0.2, \"#de77ae\"], [0.3, \"#f1b6da\"], [0.4, \"#fde0ef\"], [0.5, \"#f7f7f7\"], [0.6, \"#e6f5d0\"], [0.7, \"#b8e186\"], [0.8, \"#7fbc41\"], [0.9, \"#4d9221\"], [1, \"#276419\"]], \"sequential\": [[0.0, \"#0d0887\"], [0.1111111111111111, \"#46039f\"], [0.2222222222222222, \"#7201a8\"], [0.3333333333333333, \"#9c179e\"], [0.4444444444444444, \"#bd3786\"], [0.5555555555555556, \"#d8576b\"], [0.6666666666666666, \"#ed7953\"], [0.7777777777777778, \"#fb9f3a\"], [0.8888888888888888, \"#fdca26\"], [1.0, \"#f0f921\"]], \"sequentialminus\": [[0.0, \"#0d0887\"], [0.1111111111111111, \"#46039f\"], [0.2222222222222222, \"#7201a8\"], [0.3333333333333333, \"#9c179e\"], [0.4444444444444444, \"#bd3786\"], [0.5555555555555556, \"#d8576b\"], [0.6666666666666666, \"#ed7953\"], [0.7777777777777778, \"#fb9f3a\"], [0.8888888888888888, \"#fdca26\"], [1.0, \"#f0f921\"]]}, \"colorway\": [\"#636efa\", \"#EF553B\", \"#00cc96\", \"#ab63fa\", \"#FFA15A\", \"#19d3f3\", \"#FF6692\", \"#B6E880\", \"#FF97FF\", \"#FECB52\"], \"font\": {\"color\": \"#2a3f5f\"}, \"geo\": {\"bgcolor\": \"white\", \"lakecolor\": \"white\", \"landcolor\": \"#E5ECF6\", \"showlakes\": true, \"showland\": true, \"subunitcolor\": \"white\"}, \"hoverlabel\": {\"align\": \"left\"}, \"hovermode\": \"closest\", \"mapbox\": {\"style\": \"light\"}, \"paper_bgcolor\": \"white\", \"plot_bgcolor\": \"#E5ECF6\", \"polar\": {\"angularaxis\": {\"gridcolor\": \"white\", \"linecolor\": \"white\", \"ticks\": \"\"}, \"bgcolor\": \"#E5ECF6\", \"radialaxis\": {\"gridcolor\": \"white\", \"linecolor\": \"white\", \"ticks\": \"\"}}, \"scene\": {\"xaxis\": {\"backgroundcolor\": \"#E5ECF6\", \"gridcolor\": \"white\", \"gridwidth\": 2, \"linecolor\": \"white\", \"showbackground\": true, \"ticks\": \"\", \"zerolinecolor\": \"white\"}, \"yaxis\": {\"backgroundcolor\": \"#E5ECF6\", \"gridcolor\": \"white\", \"gridwidth\": 2, \"linecolor\": \"white\", \"showbackground\": true, \"ticks\": \"\", \"zerolinecolor\": \"white\"}, \"zaxis\": {\"backgroundcolor\": \"#E5ECF6\", \"gridcolor\": \"white\", \"gridwidth\": 2, \"linecolor\": \"white\", \"showbackground\": true, \"ticks\": \"\", \"zerolinecolor\": \"white\"}}, \"shapedefaults\": {\"line\": {\"color\": \"#2a3f5f\"}}, \"ternary\": {\"aaxis\": {\"gridcolor\": \"white\", \"linecolor\": \"white\", \"ticks\": \"\"}, \"baxis\": {\"gridcolor\": \"white\", \"linecolor\": \"white\", \"ticks\": \"\"}, \"bgcolor\": \"#E5ECF6\", \"caxis\": {\"gridcolor\": \"white\", \"linecolor\": \"white\", \"ticks\": \"\"}}, \"title\": {\"x\": 0.05}, \"xaxis\": {\"automargin\": true, \"gridcolor\": \"white\", \"linecolor\": \"white\", \"ticks\": \"\", \"title\": {\"standoff\": 15}, \"zerolinecolor\": \"white\", \"zerolinewidth\": 2}, \"yaxis\": {\"automargin\": true, \"gridcolor\": \"white\", \"linecolor\": \"white\", \"ticks\": \"\", \"title\": {\"standoff\": 15}, \"zerolinecolor\": \"white\", \"zerolinewidth\": 2}}}, \"title\": {\"text\": \"3d TSNE Plot for Topic Model\"}, \"width\": 900},\n",
       "                        {\"responsive\": true}\n",
       "                    ).then(function(){\n",
       "                            \n",
       "var gd = document.getElementById('4d16ac3a-9e4f-4a3c-91d2-acc31a7ddc33');\n",
       "var x = new MutationObserver(function (mutations, observer) {{\n",
       "        var display = window.getComputedStyle(gd).display;\n",
       "        if (!display || display === 'none') {{\n",
       "            console.log([gd, 'removed!']);\n",
       "            Plotly.purge(gd);\n",
       "            observer.disconnect();\n",
       "        }}\n",
       "}});\n",
       "\n",
       "// Listen for the removal of the full notebook cells\n",
       "var notebookContainer = gd.closest('#notebook-container');\n",
       "if (notebookContainer) {{\n",
       "    x.observe(notebookContainer, {childList: true});\n",
       "}}\n",
       "\n",
       "// Listen for the clearing of the current output cell\n",
       "var outputEl = gd.closest('.output');\n",
       "if (outputEl) {{\n",
       "    x.observe(outputEl, {childList: true});\n",
       "}}\n",
       "\n",
       "                        })\n",
       "                };\n",
       "                });\n",
       "            </script>\n",
       "        </div>"
      ]
     },
     "metadata": {},
     "output_type": "display_data"
    }
   ],
   "source": [
    "plot_model(nmf, plot = 'tsne')"
   ]
  },
  {
   "cell_type": "code",
   "execution_count": 15,
   "metadata": {},
   "outputs": [
    {
     "data": {
      "application/vnd.jupyter.widget-view+json": {
       "model_id": "a38e10c490f4460498d76c5a20cd275a",
       "version_major": 2,
       "version_minor": 0
      },
      "text/plain": [
       "interactive(children=(ToggleButtons(description='Plot Type:', icons=('',), options=(('Frequency Plot', 'freque…"
      ]
     },
     "metadata": {},
     "output_type": "display_data"
    }
   ],
   "source": [
    "evaluate_model(lda)"
   ]
  },
  {
   "cell_type": "markdown",
   "metadata": {},
   "source": [
    "# 5. Assign Labels / Predict on new data"
   ]
  },
  {
   "cell_type": "code",
   "execution_count": 16,
   "metadata": {},
   "outputs": [
    {
     "data": {
      "text/html": [
       "<div>\n",
       "<style scoped>\n",
       "    .dataframe tbody tr th:only-of-type {\n",
       "        vertical-align: middle;\n",
       "    }\n",
       "\n",
       "    .dataframe tbody tr th {\n",
       "        vertical-align: top;\n",
       "    }\n",
       "\n",
       "    .dataframe thead th {\n",
       "        text-align: right;\n",
       "    }\n",
       "</style>\n",
       "<table border=\"1\" class=\"dataframe\">\n",
       "  <thead>\n",
       "    <tr style=\"text-align: right;\">\n",
       "      <th></th>\n",
       "      <th>country</th>\n",
       "      <th>en</th>\n",
       "      <th>gender</th>\n",
       "      <th>loan_amount</th>\n",
       "      <th>nonpayment</th>\n",
       "      <th>sector</th>\n",
       "      <th>status</th>\n",
       "      <th>Topic_0</th>\n",
       "      <th>Topic_1</th>\n",
       "      <th>Topic_2</th>\n",
       "      <th>Topic_3</th>\n",
       "      <th>Dominant_Topic</th>\n",
       "      <th>Perc_Dominant_Topic</th>\n",
       "    </tr>\n",
       "  </thead>\n",
       "  <tbody>\n",
       "    <tr>\n",
       "      <td>0</td>\n",
       "      <td>Dominican Republic</td>\n",
       "      <td>group woman look receive small loan take small...</td>\n",
       "      <td>F</td>\n",
       "      <td>1225</td>\n",
       "      <td>partner</td>\n",
       "      <td>Retail</td>\n",
       "      <td>0</td>\n",
       "      <td>0.255099</td>\n",
       "      <td>0.114688</td>\n",
       "      <td>0.627855</td>\n",
       "      <td>0.002357</td>\n",
       "      <td>Topic 2</td>\n",
       "      <td>0.63</td>\n",
       "    </tr>\n",
       "    <tr>\n",
       "      <td>1</td>\n",
       "      <td>Dominican Republic</td>\n",
       "      <td>walk forward group entrepreneur seek second lo...</td>\n",
       "      <td>F</td>\n",
       "      <td>1975</td>\n",
       "      <td>lender</td>\n",
       "      <td>Clothing</td>\n",
       "      <td>0</td>\n",
       "      <td>0.570879</td>\n",
       "      <td>0.332298</td>\n",
       "      <td>0.094765</td>\n",
       "      <td>0.002057</td>\n",
       "      <td>Topic 0</td>\n",
       "      <td>0.57</td>\n",
       "    </tr>\n",
       "    <tr>\n",
       "      <td>2</td>\n",
       "      <td>Dominican Republic</td>\n",
       "      <td>group people hope start business group look re...</td>\n",
       "      <td>F</td>\n",
       "      <td>2175</td>\n",
       "      <td>partner</td>\n",
       "      <td>Clothing</td>\n",
       "      <td>0</td>\n",
       "      <td>0.165143</td>\n",
       "      <td>0.044879</td>\n",
       "      <td>0.786949</td>\n",
       "      <td>0.003029</td>\n",
       "      <td>Topic 2</td>\n",
       "      <td>0.79</td>\n",
       "    </tr>\n",
       "    <tr>\n",
       "      <td>3</td>\n",
       "      <td>Dominican Republic</td>\n",
       "      <td>live group woman look receive first loan young...</td>\n",
       "      <td>F</td>\n",
       "      <td>1425</td>\n",
       "      <td>partner</td>\n",
       "      <td>Clothing</td>\n",
       "      <td>0</td>\n",
       "      <td>0.324295</td>\n",
       "      <td>0.075030</td>\n",
       "      <td>0.598388</td>\n",
       "      <td>0.002287</td>\n",
       "      <td>Topic 2</td>\n",
       "      <td>0.60</td>\n",
       "    </tr>\n",
       "    <tr>\n",
       "      <td>4</td>\n",
       "      <td>Dominican Republic</td>\n",
       "      <td>vive large group people hope take loan many se...</td>\n",
       "      <td>F</td>\n",
       "      <td>4025</td>\n",
       "      <td>partner</td>\n",
       "      <td>Food</td>\n",
       "      <td>0</td>\n",
       "      <td>0.212557</td>\n",
       "      <td>0.152464</td>\n",
       "      <td>0.632609</td>\n",
       "      <td>0.002369</td>\n",
       "      <td>Topic 2</td>\n",
       "      <td>0.63</td>\n",
       "    </tr>\n",
       "  </tbody>\n",
       "</table>\n",
       "</div>"
      ],
      "text/plain": [
       "              country                                                 en  \\\n",
       "0  Dominican Republic  group woman look receive small loan take small...   \n",
       "1  Dominican Republic  walk forward group entrepreneur seek second lo...   \n",
       "2  Dominican Republic  group people hope start business group look re...   \n",
       "3  Dominican Republic  live group woman look receive first loan young...   \n",
       "4  Dominican Republic  vive large group people hope take loan many se...   \n",
       "\n",
       "  gender  loan_amount nonpayment    sector  status   Topic_0   Topic_1  \\\n",
       "0      F         1225    partner    Retail       0  0.255099  0.114688   \n",
       "1      F         1975     lender  Clothing       0  0.570879  0.332298   \n",
       "2      F         2175    partner  Clothing       0  0.165143  0.044879   \n",
       "3      F         1425    partner  Clothing       0  0.324295  0.075030   \n",
       "4      F         4025    partner      Food       0  0.212557  0.152464   \n",
       "\n",
       "    Topic_2   Topic_3 Dominant_Topic  Perc_Dominant_Topic  \n",
       "0  0.627855  0.002357        Topic 2                 0.63  \n",
       "1  0.094765  0.002057        Topic 0                 0.57  \n",
       "2  0.786949  0.003029        Topic 2                 0.79  \n",
       "3  0.598388  0.002287        Topic 2                 0.60  \n",
       "4  0.632609  0.002369        Topic 2                 0.63  "
      ]
     },
     "execution_count": 16,
     "metadata": {},
     "output_type": "execute_result"
    }
   ],
   "source": [
    "results = assign_model(lda)\n",
    "results.head()"
   ]
  },
  {
   "cell_type": "markdown",
   "metadata": {},
   "source": [
    "# Learning Resources:\n",
    "- PyCaret NLP Module : https://www.pycaret.org/nlp\n",
    "- NLP Tutorial (Level Beginner) : https://www.pycaret.org/nlp101\n",
    "- NLP Tutorial (Level Intermediate) : https://www.pycaret.org/nlp102\n",
    "- Topic Modeling in PyCaret (Video Tutorial) : https://www.youtube.com/watch?v=G6ShuoM3T1M"
   ]
  }
 ],
 "metadata": {
  "kernelspec": {
   "display_name": "Python 3",
   "language": "python",
   "name": "python3"
  },
  "language_info": {
   "codemirror_mode": {
    "name": "ipython",
    "version": 3
   },
   "file_extension": ".py",
   "mimetype": "text/x-python",
   "name": "python",
   "nbconvert_exporter": "python",
   "pygments_lexer": "ipython3",
   "version": "3.7.4"
  }
 },
 "nbformat": 4,
 "nbformat_minor": 2
}
